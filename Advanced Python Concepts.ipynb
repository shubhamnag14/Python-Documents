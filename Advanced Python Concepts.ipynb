{
 "cells": [
  {
   "cell_type": "markdown",
   "metadata": {},
   "source": [
    "## Property Decorator"
   ]
  },
  {
   "cell_type": "code",
   "execution_count": 1,
   "metadata": {},
   "outputs": [],
   "source": [
    "class test(object):\n",
    "    \n",
    "    def __init__(self, name):\n",
    "        self.name = name\n",
    "    \n",
    "    def f_name(self):\n",
    "        fname = []\n",
    "        for i in self.name:\n",
    "            if(i != ' '):\n",
    "                fname.append(i)\n",
    "            else:\n",
    "                break\n",
    "        return ''.join(fname)\n",
    "    \n",
    "    def l_name(self):\n",
    "        l_name = [self.name[i] for i in range(len(self.f_name())+1, len(self.name))]\n",
    "        return ''.join(l_name)\n",
    "        \n",
    "    @property\n",
    "    def email(self):\n",
    "        return f\"{self.f_name()}.{self.l_name()}@gmail.com\"\n",
    "    \n",
    "    @email.setter\n",
    "    def email(self, fullname):\n",
    "        self.name = fullname\n",
    "        \n",
    "    @email.deleter\n",
    "    def email(self, name):\n",
    "        self.name = None"
   ]
  },
  {
   "cell_type": "code",
   "execution_count": 2,
   "metadata": {},
   "outputs": [
    {
     "name": "stdout",
     "output_type": "stream",
     "text": [
      "Subhadeep\n"
     ]
    }
   ],
   "source": [
    "print(test(\"Subhadeep Banerjee\").f_name())"
   ]
  },
  {
   "cell_type": "code",
   "execution_count": 3,
   "metadata": {},
   "outputs": [
    {
     "data": {
      "text/plain": [
       "'Banerjee'"
      ]
     },
     "execution_count": 3,
     "metadata": {},
     "output_type": "execute_result"
    }
   ],
   "source": [
    "obj = test(\"Subhadeep Banerjee\")\n",
    "obj.l_name()"
   ]
  },
  {
   "cell_type": "code",
   "execution_count": 4,
   "metadata": {},
   "outputs": [
    {
     "data": {
      "text/plain": [
       "'Subhadeep.Banerjee@gmail.com'"
      ]
     },
     "execution_count": 4,
     "metadata": {},
     "output_type": "execute_result"
    }
   ],
   "source": [
    "obj.email"
   ]
  },
  {
   "cell_type": "code",
   "execution_count": 5,
   "metadata": {},
   "outputs": [],
   "source": [
    "obj.email = \"Soumya Mitra\""
   ]
  },
  {
   "cell_type": "code",
   "execution_count": 6,
   "metadata": {},
   "outputs": [
    {
     "data": {
      "text/plain": [
       "'Soumya.Mitra@gmail.com'"
      ]
     },
     "execution_count": 6,
     "metadata": {},
     "output_type": "execute_result"
    }
   ],
   "source": [
    "obj.email"
   ]
  },
  {
   "cell_type": "code",
   "execution_count": 7,
   "metadata": {},
   "outputs": [
    {
     "data": {
      "text/plain": [
       "'Soumya Mitra'"
      ]
     },
     "execution_count": 7,
     "metadata": {},
     "output_type": "execute_result"
    }
   ],
   "source": [
    "obj.name"
   ]
  },
  {
   "cell_type": "code",
   "execution_count": 8,
   "metadata": {},
   "outputs": [
    {
     "data": {
      "text/plain": [
       "'Mitra'"
      ]
     },
     "execution_count": 8,
     "metadata": {},
     "output_type": "execute_result"
    }
   ],
   "source": [
    "obj.l_name()"
   ]
  },
  {
   "cell_type": "markdown",
   "metadata": {},
   "source": [
    "## Class Method and Static Method"
   ]
  },
  {
   "cell_type": "code",
   "execution_count": 153,
   "metadata": {},
   "outputs": [],
   "source": [
    "class InsufficientError(Exception):\n",
    "    pass\n",
    "\n",
    "class NameThing(object):\n",
    "    \n",
    "    def __init__(self, name):\n",
    "        self.name = name\n",
    "    \n",
    "    def f_name(self):\n",
    "        fname = []\n",
    "        for i in self.name:\n",
    "            if(i != ' '):\n",
    "                fname.append(i)\n",
    "            else:\n",
    "                break\n",
    "        return ''.join(fname)\n",
    "    \n",
    "    def l_name(self):\n",
    "        l_name = [self.name[i] for i in range(len(self.f_name())+1, len(self.name))]\n",
    "        return ''.join(l_name)\n",
    "        \n",
    "    @property\n",
    "    def email(self):\n",
    "        return f\"{self.f_name()}.{self.l_name()}@gmail.com\"\n",
    "    \n",
    "    @email.setter\n",
    "    def email(self, fullname):\n",
    "        self.name = fullname\n",
    "        \n",
    "    @email.deleter\n",
    "    def email(self, name):\n",
    "        self.name = None\n",
    "        \n",
    "class MoreDetails(NameThing):\n",
    "    \n",
    "    city = None\n",
    "    area = None\n",
    "    pincode = None\n",
    "    \n",
    "    def __init__(self, name, house_no, floor_no, road_name):\n",
    "        super().__init__(name)\n",
    "        self.house_no = house_no\n",
    "        self.floor_no = floor_no\n",
    "        self.road_name = road_name\n",
    "    \n",
    "    @classmethod\n",
    "    def region(cls):\n",
    "        cls.city = input(\"Enter Your City: \")\n",
    "        cls.area = input(\"Enter The Name of Your Area: \")\n",
    "        cls.pincode = int(input(\"Enter Your PinCode: \"))\n",
    "        \n",
    "    @property\n",
    "    def address(self):\n",
    "        try:\n",
    "            for i in [{self.area}, {self.city}, {self.pincode}]:\n",
    "                if(i==None):\n",
    "                    raise InsufficientError         \n",
    "                \n",
    "        except InsufficientError as e:\n",
    "            print(\"City, Area and Pincode is missing\\nFill the region thing first 'duh!!'\")\n",
    "        \n",
    "        else:\n",
    "            return f\"{self.house_no}, {self.floor_no}, {self.road_name}, {self.area}, {self.city} - {self.pincode}\"\n",
    "        \n",
    "    @staticmethod\n",
    "    def isFun(name = \"Richard\"):\n",
    "        if (name != \"Richard\"):\n",
    "            for i in ['a', 'e', 'i', 'o', 'u']:\n",
    "                if name[0].lower() == i:\n",
    "                    print(\"You gotta Nice Name Buddy!!\")\n",
    "                    print(\"Yeah Baby!!\")\n",
    "                    break\n",
    "            else:\n",
    "                print(\"Not That Funny I believe\")"
   ]
  },
  {
   "cell_type": "code",
   "execution_count": 154,
   "metadata": {},
   "outputs": [],
   "source": [
    "obj = MoreDetails(\"Subhadeep Banerjee\", \n",
    "                  '86/11', \n",
    "                  '1', \n",
    "                  \"K. K. RoyChowdhury Road\")"
   ]
  },
  {
   "cell_type": "code",
   "execution_count": 88,
   "metadata": {},
   "outputs": [
    {
     "name": "stdout",
     "output_type": "stream",
     "text": [
      "Enter Your City: K\n",
      "Enter The Name of Your Area: B\n",
      "Enter Your PinCode: 1\n"
     ]
    }
   ],
   "source": [
    "obj.region()"
   ]
  },
  {
   "cell_type": "code",
   "execution_count": 89,
   "metadata": {},
   "outputs": [
    {
     "data": {
      "text/plain": [
       "'86/11, 1, K. K. RoyChowdhury Road, B, K - 1'"
      ]
     },
     "execution_count": 89,
     "metadata": {},
     "output_type": "execute_result"
    }
   ],
   "source": [
    "obj.address"
   ]
  },
  {
   "cell_type": "code",
   "execution_count": 90,
   "metadata": {},
   "outputs": [
    {
     "name": "stdout",
     "output_type": "stream",
     "text": [
      "1\n"
     ]
    }
   ],
   "source": [
    "print(obj.pincode)"
   ]
  },
  {
   "cell_type": "code",
   "execution_count": 111,
   "metadata": {},
   "outputs": [
    {
     "name": "stdout",
     "output_type": "stream",
     "text": [
      "YOYO\n",
      "None\n"
     ]
    }
   ],
   "source": [
    "print(obj.isFun())"
   ]
  },
  {
   "cell_type": "code",
   "execution_count": 157,
   "metadata": {},
   "outputs": [
    {
     "name": "stdout",
     "output_type": "stream",
     "text": [
      "Not That Funny I believe\n"
     ]
    }
   ],
   "source": [
    "obj.isFun(\"WhiteMice\")"
   ]
  },
  {
   "cell_type": "code",
   "execution_count": 125,
   "metadata": {},
   "outputs": [
    {
     "data": {
      "text/plain": [
       "'A'"
      ]
     },
     "execution_count": 125,
     "metadata": {},
     "output_type": "execute_result"
    }
   ],
   "source": [
    "a = \"Aichard\"\n",
    "a[0]"
   ]
  },
  {
   "cell_type": "code",
   "execution_count": 136,
   "metadata": {},
   "outputs": [
    {
     "name": "stdout",
     "output_type": "stream",
     "text": [
      "a\n"
     ]
    }
   ],
   "source": [
    "a = \"Aichard\"\n",
    "for i in ['a', 'e', 'i', 'o', 'u']:\n",
    "    if(a[0].lower() == i):\n",
    "        print(i)"
   ]
  },
  {
   "cell_type": "markdown",
   "metadata": {},
   "source": [
    "## Metaclasses"
   ]
  },
  {
   "cell_type": "code",
   "execution_count": 16,
   "metadata": {},
   "outputs": [
    {
     "name": "stdout",
     "output_type": "stream",
     "text": [
      "<class 'type'>\n",
      "<class 'type'>\n"
     ]
    }
   ],
   "source": [
    "class Test:\n",
    "    pass\n",
    "\n",
    "test = Test\n",
    "print(type(Test))\n",
    "print(type(test))"
   ]
  },
  {
   "cell_type": "code",
   "execution_count": 15,
   "metadata": {},
   "outputs": [
    {
     "name": "stdout",
     "output_type": "stream",
     "text": [
      "<class '__main__.DataCamp'>\n",
      "<__main__.DataCamp object at 0x000001E097819070>\n"
     ]
    }
   ],
   "source": [
    "class DataCamp():\n",
    "    pass\n",
    "DataCampClass = type('DataCamp', (), {})\n",
    "print(DataCampClass)\n",
    "print(DataCamp())"
   ]
  },
  {
   "cell_type": "code",
   "execution_count": 17,
   "metadata": {},
   "outputs": [
    {
     "name": "stdout",
     "output_type": "stream",
     "text": [
      "August 2018 John Doe\n",
      "<class '__main__.PythonClass'>\n"
     ]
    }
   ],
   "source": [
    "PythonClass = type('PythonClass', (), {'start_date': 'August 2018', 'instructor': 'John Doe'} )\n",
    "print(PythonClass.start_date, PythonClass.instructor)\n",
    "print(PythonClass)"
   ]
  },
  {
   "cell_type": "code",
   "execution_count": 19,
   "metadata": {},
   "outputs": [
    {
     "name": "stdout",
     "output_type": "stream",
     "text": [
      "<class '__main__.PythonClass'>\n"
     ]
    }
   ],
   "source": [
    "PythonClass = type('PythonClass', (DataCamp,), {'start_date': 'August 2018', 'instructor': 'John Doe'} )\n",
    "print(PythonClass)"
   ]
  },
  {
   "cell_type": "markdown",
   "metadata": {},
   "source": [
    "Now that those two concepts are out of the way, we realize that Python creates the classes using a metaclass. We have seen that everything in Python is an object, these objects are created by metaclasses. Whenever we call class to create a class, there is a metaclass that does the magic of creating the class behind the scenes. We've already seen type do this in practice above. It is similar to str that creates strings and int that creates integers. In Python, the `___class__`\n",
    "attribute enables us to check the type of the current instance. Let's create a string below and check its type."
   ]
  },
  {
   "cell_type": "code",
   "execution_count": 22,
   "metadata": {},
   "outputs": [
    {
     "name": "stdout",
     "output_type": "stream",
     "text": [
      "<class 'type'>\n",
      "<class '__main__.MyMeta'>\n",
      "<class '__main__.MyMeta'>\n"
     ]
    }
   ],
   "source": [
    "class MyMeta(type):\n",
    "    pass\n",
    "\n",
    "class MyClass(metaclass=MyMeta):\n",
    "    pass\n",
    "\n",
    "class MySubclass(MyClass):\n",
    "    pass\n",
    "\n",
    "print(type(MyMeta))\n",
    "print(type(MyClass))\n",
    "print(type(MySubclass))"
   ]
  },
  {
   "cell_type": "code",
   "execution_count": 5,
   "metadata": {},
   "outputs": [
    {
     "name": "stdout",
     "output_type": "stream",
     "text": [
      "{'__module__': '__main__', '__qualname__': 'Dog', 'x': 10, 'y': 11, 'hello': <function Dog.hello at 0x000001E097821D30>}\n"
     ]
    }
   ],
   "source": [
    "class Meta(type):\n",
    "    def __new__(self, class_name, bases, attrs):\n",
    "        print(attrs)\n",
    "        return type(class_name, bases, attrs)\n",
    "    \n",
    "class Dog(metaclass = Meta):\n",
    "    x=10\n",
    "    y=11\n",
    "    \n",
    "    def hello(self):\n",
    "        print(\"Hi!!\")"
   ]
  },
  {
   "cell_type": "code",
   "execution_count": 14,
   "metadata": {},
   "outputs": [
    {
     "name": "stdout",
     "output_type": "stream",
     "text": [
      "{'__module__': '__main__', '__qualname__': 'Dog', 'x': 10, 'y': 11, 'hello': <function Dog.hello at 0x000001E097821C10>}\n",
      "{'__module__': '__main__', '__qualname__': 'Dog', 'X': 10, 'Y': 11, 'HELLO': <function Dog.hello at 0x000001E097821C10>}\n",
      "10\n"
     ]
    }
   ],
   "source": [
    "class Meta(type):\n",
    "    def __new__(self, class_name, bases, attrs):\n",
    "        print(attrs)\n",
    "        \n",
    "        a = {}\n",
    "        for name, value in attrs.items():\n",
    "            if name.startswith(\"_\"):\n",
    "                a[name] = value\n",
    "            else:\n",
    "                a[name.upper()] = value\n",
    "        print(a)\n",
    "        \n",
    "        return type(class_name, bases, attrs)\n",
    "    \n",
    "class Dog(metaclass = Meta):\n",
    "    x=10\n",
    "    y=11\n",
    "    \n",
    "    def hello(self):\n",
    "        print(\"Hi!!\")\n",
    "        \n",
    "d = Dog()\n",
    "print(d.X)"
   ]
  },
  {
   "cell_type": "code",
   "execution_count": 23,
   "metadata": {},
   "outputs": [],
   "source": [
    "class SingletonMeta(type):\n",
    "    _instances = {}\n",
    "    def __call__(cls, *args, **kwargs):\n",
    "        if cls not in cls._instances:\n",
    "            cls._instances[cls] = super(SingletonMeta,cls).__call__(*args, **kwargs)\n",
    "        return cls._instances[cls]\n",
    "\n",
    "class SingletonClass(metaclass=SingletonMeta):\n",
    "    pass"
   ]
  },
  {
   "cell_type": "code",
   "execution_count": null,
   "metadata": {},
   "outputs": [],
   "source": []
  }
 ],
 "metadata": {
  "kernelspec": {
   "display_name": "Python 3",
   "language": "python",
   "name": "python3"
  },
  "language_info": {
   "codemirror_mode": {
    "name": "ipython",
    "version": 3
   },
   "file_extension": ".py",
   "mimetype": "text/x-python",
   "name": "python",
   "nbconvert_exporter": "python",
   "pygments_lexer": "ipython3",
   "version": "3.8.5"
  }
 },
 "nbformat": 4,
 "nbformat_minor": 4
}
