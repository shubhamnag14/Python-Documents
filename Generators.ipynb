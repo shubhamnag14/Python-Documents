{
 "cells": [
  {
   "cell_type": "markdown",
   "metadata": {},
   "source": [
    "## 1 "
   ]
  },
  {
   "cell_type": "code",
   "execution_count": 5,
   "metadata": {},
   "outputs": [
    {
     "name": "stdout",
     "output_type": "stream",
     "text": [
      "1 2 3 4 5 6 7 8 9 10 11 12 13 14 15 16 17 18 19 20 21 22 23 24 25 26 27 28 29 30 31 32 33 34 35 36 37 38 39 40 41 42 43 44 45 46 47 48 49 50 51 52 53 54 55 56 57 58 59 60 61 62 63 64 65 66 67 68 69 70 71 72 73 74 75 76 77 78 79 80 81 82 83 84 85 86 87 88 89 90 91 92 93 94 95 96 97 98 99 100\n"
     ]
    }
   ],
   "source": [
    "def count_to(max):\n",
    "    count = 1\n",
    "    while count <= max:\n",
    "        yield count\n",
    "        count += 1\n",
    "print(*count_to(100))"
   ]
  },
  {
   "cell_type": "markdown",
   "metadata": {},
   "source": [
    "## 2"
   ]
  },
  {
   "cell_type": "code",
   "execution_count": 13,
   "metadata": {
    "collapsed": true
   },
   "outputs": [
    {
     "name": "stdout",
     "output_type": "stream",
     "text": [
      "1 2 3 4 1 2 3 4 1 2 3 4 1 2 3 4 1 2 3 4 1 2 3 4 1 2 3 4 1 2 3 4 1 2 3 4 1 2 3 4 1 2 3 4 1 2 3 4 1 2 3 4 1 2 3 4 1 2 3 4 1 2 3 4 1 2 3 4 1 2 3 4 1 2 3 4 1 2 3 4 1 2 3 4 1 2 3 4 1 2 3 4 1 2 3 4 1 2 3 4\n"
     ]
    }
   ],
   "source": [
    "# Using Lists\n",
    "def current_beat():\n",
    "    maxval = 100\n",
    "    nums = (1,2,3,4)\n",
    "    i = 0\n",
    "    result = []\n",
    "    while len(result) < maxval:\n",
    "        if i  >= len(nums):\n",
    "            i = 0\n",
    "        result.append(nums[i])\n",
    "        i += 1\n",
    "    return result\n",
    "\n",
    "# Using Generators\n",
    "def current_beat_gen():\n",
    "    maxval = 0\n",
    "    beats = (1,2,3,4)\n",
    "    i = 0\n",
    "    while (maxval != 100):\n",
    "        if i >= len(beats):\n",
    "            i = 0\n",
    "        yield beats[i]\n",
    "        i += 1\n",
    "        maxval += 1\n",
    "# print(current_beat())\n",
    "print(*current_beat_gen())"
   ]
  },
  {
   "cell_type": "markdown",
   "metadata": {},
   "source": [
    "## 3"
   ]
  },
  {
   "cell_type": "code",
   "execution_count": 19,
   "metadata": {},
   "outputs": [
    {
     "name": "stdout",
     "output_type": "stream",
     "text": [
      "[1, 1, 2, 3, 5, 8, 13, 21, 34, 55]\n",
      "1 1 2 3 5 8 13 21 34 55 89 144 233 377 610 987 1597 2584 4181 6765\n"
     ]
    }
   ],
   "source": [
    "def fib_list(maxvaluse):\n",
    "    nums = []\n",
    "    a,b = 0,1\n",
    "    while len(nums) < maxvaluse:\n",
    "        nums.append(b)\n",
    "        a, b = b, a+b\n",
    "    return nums\n",
    "\n",
    "def fib_gen(max):\n",
    "    x = 0\n",
    "    y = 1\n",
    "    count = 0\n",
    "    while count < max:\n",
    "        x, y = y, x+y\n",
    "        yield x\n",
    "        count += 1\n",
    "        \n",
    "print(fib_list(10))\n",
    "print(*fib_gen(20))"
   ]
  },
  {
   "cell_type": "code",
   "execution_count": null,
   "metadata": {},
   "outputs": [],
   "source": []
  }
 ],
 "metadata": {
  "kernelspec": {
   "display_name": "Python 3",
   "language": "python",
   "name": "python3"
  },
  "language_info": {
   "codemirror_mode": {
    "name": "ipython",
    "version": 3
   },
   "file_extension": ".py",
   "mimetype": "text/x-python",
   "name": "python",
   "nbconvert_exporter": "python",
   "pygments_lexer": "ipython3",
   "version": "3.8.5"
  }
 },
 "nbformat": 4,
 "nbformat_minor": 4
}
