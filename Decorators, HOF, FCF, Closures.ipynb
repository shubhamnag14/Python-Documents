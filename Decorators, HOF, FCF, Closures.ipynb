{
 "cells": [
  {
   "cell_type": "markdown",
   "metadata": {},
   "source": [
    "## 1"
   ]
  },
  {
   "cell_type": "code",
   "execution_count": 2,
   "metadata": {},
   "outputs": [
    {
     "name": "stdout",
     "output_type": "stream",
     "text": [
      "285\n",
      "45\n"
     ]
    }
   ],
   "source": [
    "def sum(n, func):\n",
    "    total = 0\n",
    "    for num in range(0, n):\n",
    "        total += func(num)\n",
    "    return total\n",
    "\n",
    "def single(x):\n",
    "    return x\n",
    "\n",
    "def square(x):\n",
    "    return x*x\n",
    "\n",
    "def cube(x):\n",
    "    return x*x*x\n",
    "\n",
    "print(sum(10, square))\n",
    "print(sum(10, single))"
   ]
  },
  {
   "cell_type": "markdown",
   "metadata": {},
   "source": [
    "## 2 "
   ]
  },
  {
   "cell_type": "code",
   "execution_count": 10,
   "metadata": {},
   "outputs": [
    {
     "name": "stdout",
     "output_type": "stream",
     "text": [
      "I love You \n",
      "Subhadeep\n"
     ]
    }
   ],
   "source": [
    "import random\n",
    "\n",
    "def greet(person):\n",
    "    def get_mood():\n",
    "        msg = random.choice(('Hello There ', 'Go Away ', 'I love You '))\n",
    "        return f\"{msg}\\n\"\n",
    "    return get_mood()+person\n",
    "\n",
    "print(greet('Subhadeep'))"
   ]
  },
  {
   "cell_type": "markdown",
   "metadata": {},
   "source": [
    "## 3"
   ]
  },
  {
   "cell_type": "code",
   "execution_count": 8,
   "metadata": {},
   "outputs": [
    {
     "data": {
      "text/plain": [
       "'TEHEHE  Subhadeep'"
      ]
     },
     "execution_count": 8,
     "metadata": {},
     "output_type": "execute_result"
    }
   ],
   "source": [
    "from random import choice\n",
    "\n",
    "def outer(person):\n",
    "    def inner():\n",
    "        laugh = choice(('HAHAHA ', 'LOL ', \"TEHEHE \"))\n",
    "        return f\"{laugh} {person}\"\n",
    "    return inner\n",
    "\n",
    "\n",
    "yo = outer(\"Subhadeep\")\n",
    "print(yo())\n",
    "print(yo())\n",
    "print(yo())\n",
    "print(yo())\n",
    "print(yo())"
   ]
  },
  {
   "cell_type": "markdown",
   "metadata": {},
   "source": [
    "## 4"
   ]
  },
  {
   "cell_type": "code",
   "execution_count": 17,
   "metadata": {},
   "outputs": [
    {
     "name": "stdout",
     "output_type": "stream",
     "text": [
      "It Got Executed Before the Function Call\n",
      "I Love You\n",
      "It Got Executed After the Function Call\n",
      "It Got Executed Before the Function Call\n",
      "I Hate You\n",
      "It Got Executed After the Function Call\n"
     ]
    }
   ],
   "source": [
    "def be_polite(func, string=\"Subhadeep\"):\n",
    "    def wrapper():\n",
    "        print(\"It Got Executed Before the Function Call\")\n",
    "        func()\n",
    "        print(\"It Got Executed After the Function Call\")\n",
    "    return wrapper\n",
    "\n",
    "@be_polite\n",
    "def test1():\n",
    "    print(\"I Love You\")\n",
    "\n",
    "@be_polite\n",
    "def test2():\n",
    "    print(\"I Hate You\")\n",
    "\n",
    "# a = be_polite(test1)\n",
    "# a()\n",
    "test1()\n",
    "\n",
    "test2()"
   ]
  },
  {
   "cell_type": "markdown",
   "metadata": {},
   "source": [
    "## 5"
   ]
  },
  {
   "cell_type": "code",
   "execution_count": 19,
   "metadata": {},
   "outputs": [
    {
     "name": "stdout",
     "output_type": "stream",
     "text": [
      "HI, I'M SUBHADEEP\n",
      "HI, I'D LIKE THE PIZZA, WITH A SIDE OF MAC&CHEESE, PLEASE\n",
      "LOL\n"
     ]
    }
   ],
   "source": [
    "def shout(fn):\n",
    "    def wrapper(*args, **kwargs):\n",
    "        return fn(*args, **kwargs).upper()\n",
    "    return wrapper\n",
    "\n",
    "@shout\n",
    "def greet(name):\n",
    "    return f\"Hi, I'm {name}\"\n",
    "\n",
    "@shout\n",
    "def order(main, side):\n",
    "    return f\"Hi, I'd like the {main}, with a side of {side}, Please\"\n",
    "\n",
    "@shout\n",
    "def lol():\n",
    "    return \"lol\"\n",
    "\n",
    "print(greet(\"Subhadeep\"))\n",
    "print(order(\"Pizza\", \"Mac&Cheese\"))\n",
    "print(lol())"
   ]
  },
  {
   "cell_type": "markdown",
   "metadata": {},
   "source": [
    "## 6"
   ]
  },
  {
   "cell_type": "code",
   "execution_count": 26,
   "metadata": {},
   "outputs": [
    {
     "name": "stdout",
     "output_type": "stream",
     "text": [
      "wrapper\n",
      "\n",
      "        I AM A WRAPPER FUNCTION\n",
      "        \n",
      "You are about to call add\n",
      "Here's the documentation Adds two numbers together.\n",
      "3\n"
     ]
    }
   ],
   "source": [
    "# Preserving Metadata\n",
    "def log_function_data(fn):\n",
    "    def wrapper(*args, **kwargs):\n",
    "        \"\"\"\n",
    "        I AM A WRAPPER FUNCTION\n",
    "        \"\"\"\n",
    "        print(f\"You are about to call {fn.__name__}\")\n",
    "        print(f\"Here's the documentation {fn.__doc__}\")\n",
    "        return fn(*args, **kwargs)\n",
    "    return wrapper\n",
    "\n",
    "\n",
    "@log_function_data\n",
    "def add(x, y):\n",
    "    \"\"\"Adds two numbers together.\"\"\"\n",
    "    return x + y\n",
    "\n",
    "\n",
    "print(add.__name__)\n",
    "print(add.__doc__)\n",
    "print(add(1,2))\n",
    "\n",
    "# >>wrapper\n",
    "# >>I AM A WRAPPER FUNCTION\n",
    "# The output is the problem as it clearly seems\n",
    "# so we have functools.wraps to the rescue\n",
    "# print(add(5, 5))"
   ]
  },
  {
   "cell_type": "code",
   "execution_count": 28,
   "metadata": {},
   "outputs": [
    {
     "name": "stdout",
     "output_type": "stream",
     "text": [
      "add\n",
      "Adds two numbers together.\n",
      "You are about to call add\n",
      "Here's the documentation Adds two numbers together.\n",
      "3\n"
     ]
    }
   ],
   "source": [
    "# Preserving Metadata\n",
    "from functools import wraps\n",
    "def log_function_data(fn):\n",
    "    @wraps(fn)\n",
    "    def wrapper(*args, **kwargs):\n",
    "        \"\"\"\n",
    "        I AM A WRAPPER FUNCTION\n",
    "        \"\"\"\n",
    "        print(f\"You are about to call {fn.__name__}\")\n",
    "        print(f\"Here's the documentation {fn.__doc__}\")\n",
    "        return fn(*args, **kwargs)\n",
    "    return wrapper\n",
    "\n",
    "\n",
    "@log_function_data\n",
    "def add(x, y):\n",
    "    \"\"\"Adds two numbers together.\"\"\"\n",
    "    return x + y\n",
    "\n",
    "\n",
    "print(add.__name__)\n",
    "print(add.__doc__)\n",
    "print(add(1,2))\n"
   ]
  },
  {
   "cell_type": "markdown",
   "metadata": {},
   "source": [
    "## 7"
   ]
  },
  {
   "cell_type": "code",
   "execution_count": 33,
   "metadata": {},
   "outputs": [
    {
     "name": "stdout",
     "output_type": "stream",
     "text": [
      "Executing: gen_speed_test\n",
      "Time Taken: 6.889636993408203\n",
      "Executing: list_speed_test\n",
      "Time Taken: 10.640258073806763\n"
     ]
    }
   ],
   "source": [
    "from functools import wraps\n",
    "from time import time\n",
    "\n",
    "def outer(fucn):\n",
    "    @wraps(fucn)\n",
    "    def inner(*args, **kwargs):\n",
    "        start = time()\n",
    "        fucn(*args, **kwargs)\n",
    "        end = time()\n",
    "        print(f\"Executing: {fucn.__name__}\")\n",
    "        print(f\"Time Taken: {end - start}\")\n",
    "    return inner\n",
    "\n",
    "@outer\n",
    "def gen_speed_test():\n",
    "    return sum(x for x in range(50000000))\n",
    "\n",
    "@outer\n",
    "def list_speed_test():\n",
    "    return sum([x for x in range(50000000)])\n",
    "\n",
    "gen_speed_test()\n",
    "list_speed_test()"
   ]
  },
  {
   "cell_type": "markdown",
   "metadata": {},
   "source": [
    "## 8"
   ]
  },
  {
   "cell_type": "code",
   "execution_count": 35,
   "metadata": {},
   "outputs": [
    {
     "name": "stdout",
     "output_type": "stream",
     "text": [
      "Hi, I'm Subhadeep\n"
     ]
    },
    {
     "ename": "ValueError",
     "evalue": "No Kwargs allowed! SORRY :(",
     "output_type": "error",
     "traceback": [
      "\u001b[1;31m---------------------------------------------------------------------------\u001b[0m",
      "\u001b[1;31mValueError\u001b[0m                                Traceback (most recent call last)",
      "\u001b[1;32m<ipython-input-35-ffb2068c355c>\u001b[0m in \u001b[0;36m<module>\u001b[1;34m\u001b[0m\n\u001b[0;32m     14\u001b[0m \u001b[1;33m\u001b[0m\u001b[0m\n\u001b[0;32m     15\u001b[0m \u001b[0mgreet\u001b[0m\u001b[1;33m(\u001b[0m\u001b[1;34m\"Subhadeep\"\u001b[0m\u001b[1;33m)\u001b[0m\u001b[1;33m\u001b[0m\u001b[1;33m\u001b[0m\u001b[0m\n\u001b[1;32m---> 16\u001b[1;33m \u001b[0mgreet\u001b[0m\u001b[1;33m(\u001b[0m\u001b[0mname\u001b[0m \u001b[1;33m=\u001b[0m \u001b[1;34m\"Subhadeep\"\u001b[0m\u001b[1;33m)\u001b[0m\u001b[1;33m\u001b[0m\u001b[1;33m\u001b[0m\u001b[0m\n\u001b[0m",
      "\u001b[1;32m<ipython-input-35-ffb2068c355c>\u001b[0m in \u001b[0;36minner\u001b[1;34m(*args, **kwargs)\u001b[0m\n\u001b[0;32m      5\u001b[0m     \u001b[1;32mdef\u001b[0m \u001b[0minner\u001b[0m\u001b[1;33m(\u001b[0m\u001b[1;33m*\u001b[0m\u001b[0margs\u001b[0m\u001b[1;33m,\u001b[0m \u001b[1;33m**\u001b[0m\u001b[0mkwargs\u001b[0m\u001b[1;33m)\u001b[0m\u001b[1;33m:\u001b[0m\u001b[1;33m\u001b[0m\u001b[1;33m\u001b[0m\u001b[0m\n\u001b[0;32m      6\u001b[0m         \u001b[1;32mif\u001b[0m \u001b[0mkwargs\u001b[0m\u001b[1;33m:\u001b[0m\u001b[1;33m\u001b[0m\u001b[1;33m\u001b[0m\u001b[0m\n\u001b[1;32m----> 7\u001b[1;33m             \u001b[1;32mraise\u001b[0m \u001b[0mValueError\u001b[0m\u001b[1;33m(\u001b[0m\u001b[1;34m\"No Kwargs allowed! SORRY :(\"\u001b[0m\u001b[1;33m)\u001b[0m\u001b[1;33m\u001b[0m\u001b[1;33m\u001b[0m\u001b[0m\n\u001b[0m\u001b[0;32m      8\u001b[0m         \u001b[1;32mreturn\u001b[0m \u001b[0mfn\u001b[0m\u001b[1;33m(\u001b[0m\u001b[1;33m*\u001b[0m\u001b[0margs\u001b[0m\u001b[1;33m,\u001b[0m \u001b[1;33m**\u001b[0m\u001b[0mkwargs\u001b[0m\u001b[1;33m)\u001b[0m\u001b[1;33m\u001b[0m\u001b[1;33m\u001b[0m\u001b[0m\n\u001b[0;32m      9\u001b[0m     \u001b[1;32mreturn\u001b[0m \u001b[0minner\u001b[0m\u001b[1;33m\u001b[0m\u001b[1;33m\u001b[0m\u001b[0m\n",
      "\u001b[1;31mValueError\u001b[0m: No Kwargs allowed! SORRY :("
     ]
    }
   ],
   "source": [
    "from functools import wraps\n",
    "\n",
    "def outer(fn):\n",
    "    @wraps(fn)\n",
    "    def inner(*args, **kwargs):\n",
    "        if kwargs:\n",
    "            raise ValueError(\"No Kwargs allowed! SORRY :(\")\n",
    "        return fn(*args, **kwargs)\n",
    "    return inner\n",
    "\n",
    "@outer\n",
    "def greet(name):\n",
    "    print(f\"Hi, I'm {name}\")   \n",
    "    \n",
    "greet(\"Subhadeep\")\n",
    "greet(name = \"Subhadeep\")"
   ]
  },
  {
   "cell_type": "markdown",
   "metadata": {},
   "source": [
    "## 9"
   ]
  },
  {
   "cell_type": "code",
   "execution_count": 41,
   "metadata": {},
   "outputs": [
    {
     "name": "stdout",
     "output_type": "stream",
     "text": [
      "First arg needs to be Mac&Cheese\n",
      "('A', 'B', 'C')\n",
      "('Mac&Cheese', 'B', 'C')\n",
      "30\n"
     ]
    }
   ],
   "source": [
    "from functools import wraps\n",
    "\n",
    "def ensure_first_args_is(value):\n",
    "    # Ensure First Argument accepts the given argument\n",
    "    def inner(fn):\n",
    "        #Inner Accepts the Function\n",
    "        @wraps(fn)\n",
    "        def wrapper(*args, **kwargs):\n",
    "            #Wrapper Function\n",
    "            if args and args[0] != value:\n",
    "                print(f\"First arg needs to be {value}\")\n",
    "            return fn(*args, **kwargs)\n",
    "        return wrapper\n",
    "    return inner\n",
    "\n",
    "@ensure_first_args_is(\"Mac&Cheese\")\n",
    "def fav_foods(*foods):\n",
    "    print(foods)\n",
    "    \n",
    "@ensure_first_args_is(10)\n",
    "def add_to_ten(num1, num2):\n",
    "    print(num1 + num2)\n",
    "\n",
    "fav_foods('A', 'B', 'C')\n",
    "fav_foods('Mac&Cheese', 'B', 'C')\n",
    "add_to_ten(10,20)"
   ]
  },
  {
   "cell_type": "markdown",
   "metadata": {},
   "source": [
    "## 10"
   ]
  },
  {
   "cell_type": "code",
   "execution_count": 42,
   "metadata": {},
   "outputs": [
    {
     "name": "stdout",
     "output_type": "stream",
     "text": [
      "Hello\n",
      "Hello\n",
      "Hello\n",
      "Hello\n",
      "Hello\n",
      "Hello\n",
      "Hello\n",
      "Hello\n",
      "Hello\n",
      "Hello\n"
     ]
    }
   ],
   "source": [
    "def enforce(*types):\n",
    "    def decorator(fn):\n",
    "        def new_func(*args, **kwargs):\n",
    "            # Convertes Arguments into Mutable\n",
    "            newargs = []\n",
    "            for (a,t) in zip(args, types):\n",
    "                newargs.append(t(a))\n",
    "            return fn(*newargs, **kwargs)\n",
    "        return new_func\n",
    "    return decorator\n",
    "\n",
    "@enforce(str, int)\n",
    "def repeat_msg(msg, times):\n",
    "    for _ in range(times):\n",
    "        print(msg)\n",
    "        \n",
    "repeat_msg('Hello', '10')"
   ]
  },
  {
   "cell_type": "code",
   "execution_count": null,
   "metadata": {},
   "outputs": [],
   "source": []
  }
 ],
 "metadata": {
  "kernelspec": {
   "display_name": "Python 3",
   "language": "python",
   "name": "python3"
  },
  "language_info": {
   "codemirror_mode": {
    "name": "ipython",
    "version": 3
   },
   "file_extension": ".py",
   "mimetype": "text/x-python",
   "name": "python",
   "nbconvert_exporter": "python",
   "pygments_lexer": "ipython3",
   "version": "3.8.5"
  }
 },
 "nbformat": 4,
 "nbformat_minor": 4
}
