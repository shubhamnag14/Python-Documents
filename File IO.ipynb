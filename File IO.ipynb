{
 "cells": [
  {
   "cell_type": "code",
   "execution_count": 35,
   "metadata": {},
   "outputs": [],
   "source": [
    "f = open('TODO.txt', 'r')\n",
    "# a = apped\n",
    "# r = read\n",
    "# w = write\n",
    "# r+ = read + write\n",
    "# rb = read binary\n",
    "# wb = write binary"
   ]
  },
  {
   "cell_type": "code",
   "execution_count": 2,
   "metadata": {},
   "outputs": [
    {
     "name": "stdout",
     "output_type": "stream",
     "text": [
      "TODO.txt\n"
     ]
    }
   ],
   "source": [
    "print(f.name)"
   ]
  },
  {
   "cell_type": "code",
   "execution_count": 3,
   "metadata": {},
   "outputs": [
    {
     "name": "stdout",
     "output_type": "stream",
     "text": [
      "r\n"
     ]
    }
   ],
   "source": [
    "print(f.mode)"
   ]
  },
  {
   "cell_type": "code",
   "execution_count": 4,
   "metadata": {},
   "outputs": [],
   "source": [
    "f.close()"
   ]
  },
  {
   "cell_type": "code",
   "execution_count": 5,
   "metadata": {},
   "outputs": [
    {
     "name": "stdout",
     "output_type": "stream",
     "text": [
      "TODO.txt\n",
      "r\n",
      "False\n",
      "True\n"
     ]
    }
   ],
   "source": [
    "##With Context manager\n",
    "with open('TODO.txt', 'r') as f:\n",
    "    print(f.name)\n",
    "    print(f.mode)\n",
    "    print(f.closed)\n",
    "    \n",
    "print(f.closed) # It will give true"
   ]
  },
  {
   "cell_type": "code",
   "execution_count": 6,
   "metadata": {},
   "outputs": [
    {
     "name": "stdout",
     "output_type": "stream",
     "text": [
      "How to write proper markdown\n",
      "https://github.com/freeCodeCamp/how-to-contribute-to-open-source/pulls\n",
      "install ms office\n",
      "instal gitkraken\n",
      "download codeiwithmash git\n",
      "\n",
      "\n",
      "https://stackoverflow.com/questions/37770467/why-do-i-have-to-git-push-set-upstream-origin-branch\n",
      "\n",
      "\n"
     ]
    }
   ],
   "source": [
    "with open('TODO.txt', 'r') as f:\n",
    "    f_contents = f.read()\n",
    "    print(f_contents)"
   ]
  },
  {
   "cell_type": "code",
   "execution_count": 7,
   "metadata": {},
   "outputs": [
    {
     "name": "stdout",
     "output_type": "stream",
     "text": [
      "['How to write proper markdown\\n',\n",
      " 'https://github.com/freeCodeCamp/how-to-contribute-to-open-source/pulls\\n',\n",
      " 'install ms office\\n',\n",
      " 'instal gitkraken\\n',\n",
      " 'download codeiwithmash git\\n',\n",
      " '\\n',\n",
      " '\\n',\n",
      " 'https://stackoverflow.com/questions/37770467/why-do-i-have-to-git-push-set-upstream-origin-branch\\n',\n",
      " '\\n']\n"
     ]
    }
   ],
   "source": [
    "from pprint import pprint\n",
    "with open('TODO.txt', 'r') as f:\n",
    "    f_contents = f.readlines()\n",
    "    pprint(f_contents)"
   ]
  },
  {
   "cell_type": "code",
   "execution_count": 8,
   "metadata": {},
   "outputs": [
    {
     "name": "stdout",
     "output_type": "stream",
     "text": [
      "How to write proper markdown\n",
      "\n",
      "https://github.com/freeCodeCamp/how-to-contribute-to-open-source/pulls\n",
      "\n"
     ]
    }
   ],
   "source": [
    "#every Time I do readline it goes to a new line\n",
    "with open('TODO.txt', 'r') as f:\n",
    "    f_contents = f.readline()\n",
    "    print(f_contents)\n",
    "    f_contents = f.readline()\n",
    "    print(f_contents)"
   ]
  },
  {
   "cell_type": "code",
   "execution_count": 9,
   "metadata": {},
   "outputs": [
    {
     "name": "stdout",
     "output_type": "stream",
     "text": [
      "How to write proper markdown\n",
      "https://github.com/freeCodeCamp/how-to-contribute-to-open-source/pulls\n",
      "install ms office\n",
      "instal gitkraken\n",
      "download codeiwithmash git\n",
      "\n",
      "\n",
      "https://stackoverflow.com/questions/37770467/why-do-i-have-to-git-push-set-upstream-origin-branch\n",
      "\n"
     ]
    }
   ],
   "source": [
    "with open('TODO.txt', 'r') as f:\n",
    "    for line in f:\n",
    "        print(line, end='')"
   ]
  },
  {
   "cell_type": "code",
   "execution_count": 16,
   "metadata": {},
   "outputs": [
    {
     "name": "stdout",
     "output_type": "stream",
     "text": [
      "How to write proper markdown\n",
      "https://github.com/freeCodeCamp/how-to-contribute-to-open-source/pulls\n",
      "\n",
      "install ms office\n",
      "instal gitkraken\n",
      "download codeiwithmash git\n",
      "\n",
      "\n",
      "https://stackoverflow.com/questions/37770467/why-do-i-have-to-git-push-set-upstream-origin-branch\n",
      "\n",
      "\n"
     ]
    }
   ],
   "source": [
    "#100 here is the no of characters we want to print\n",
    "with open('TODO.txt', 'r') as f:\n",
    "    read = f.read(100)\n",
    "    print(read)\n",
    "    #for the rest of the text\n",
    "    read = f.read()\n",
    "    print(read)"
   ]
  },
  {
   "cell_type": "code",
   "execution_count": 20,
   "metadata": {},
   "outputs": [
    {
     "name": "stdout",
     "output_type": "stream",
     "text": [
      "How to wri*te proper *markdown\n",
      "h*ttps://git*hub.com/fr*eeCodeCamp*/how-to-co*ntribute-t*o-open-sou*rce/pulls\n",
      "*install ms* office\n",
      "in*stal gitkr*aken\n",
      "downl*oad codeiw*ithmash gi*t\n",
      "\n",
      "\n",
      "https:*//stackove*rflow.com/*questions/*37770467/w*hy-do-i-ha*ve-to-git-*push-set-u*pstream-or*igin-branc*h\n",
      "\n",
      "*"
     ]
    }
   ],
   "source": [
    "#how to loop thought a specific set of characters at a time\n",
    "with open(\"TODO.txt\", 'r') as f:\n",
    "    size_to_read = 10\n",
    "    read = f.read(size_to_read)\n",
    "    \n",
    "    while len(read) > 0:\n",
    "        print(read, end='*')\n",
    "        read = f.read(size_to_read)"
   ]
  },
  {
   "cell_type": "code",
   "execution_count": 22,
   "metadata": {},
   "outputs": [
    {
     "name": "stdout",
     "output_type": "stream",
     "text": [
      "10\n"
     ]
    }
   ],
   "source": [
    "#Current position of the cursor in the file\n",
    "with open(\"TODO.txt\", 'r') as f:\n",
    "    size_to_read = 10\n",
    "    read = f.read(size_to_read)\n",
    "    print(f.tell())"
   ]
  },
  {
   "cell_type": "code",
   "execution_count": 27,
   "metadata": {},
   "outputs": [
    {
     "name": "stdout",
     "output_type": "stream",
     "text": [
      "10\n",
      "How to wri\n",
      "20\n",
      "te proper \n",
      "10\n",
      "How to wri\n"
     ]
    }
   ],
   "source": [
    "# we can manipulate the cursor position usinf f.seek()\n",
    "with open(\"TODO.txt\", 'r') as f:\n",
    "    size_to_read = 10\n",
    "    read = f.read(size_to_read)\n",
    "    print(f.tell())\n",
    "    print(read)\n",
    "    read = f.read(size_to_read)\n",
    "    print(f.tell())\n",
    "    print(read)\n",
    "    # We can can change the cursor pos\n",
    "    f.seek(0)\n",
    "    read = f.read(size_to_read)\n",
    "    print(f.tell())\n",
    "    print(read)"
   ]
  },
  {
   "cell_type": "code",
   "execution_count": 29,
   "metadata": {},
   "outputs": [],
   "source": [
    "# Write Mode\n",
    "with open('TEST.txt', 'w') as f:\n",
    "    f.write(\"Hey baby!!\")\n",
    "    f.seek(0)\n",
    "    f.write('S')"
   ]
  },
  {
   "cell_type": "code",
   "execution_count": 30,
   "metadata": {},
   "outputs": [],
   "source": [
    "with open('TEST.txt', 'r') as rf: \n",
    "    with open('TEST_copy.txt', 'w') as wf:\n",
    "        for line in rf:\n",
    "            wf.write(line)"
   ]
  },
  {
   "cell_type": "code",
   "execution_count": 34,
   "metadata": {},
   "outputs": [],
   "source": [
    "#Binary Mode\n",
    "with open('DSC.png', 'rb') as rf:\n",
    "    with open('DSC_copy.png', 'wb') as wf:\n",
    "        for line in rf:\n",
    "            wf.write(line)"
   ]
  },
  {
   "cell_type": "code",
   "execution_count": 36,
   "metadata": {},
   "outputs": [],
   "source": [
    "# chunk Size\n",
    "#Binary Mode\n",
    "with open('DSC.png', 'rb') as rf:\n",
    "    with open('DSC_copy.png', 'wb') as wf:\n",
    "        chunk_size = 4096\n",
    "        rf_chunk = rf.read(chunk_size) \n",
    "        while len(rf_chunk) > 0:\n",
    "            wf.write(rf_chunk)\n",
    "            rf_chunk = rf.read(chunk_size) "
   ]
  },
  {
   "cell_type": "code",
   "execution_count": null,
   "metadata": {},
   "outputs": [],
   "source": []
  }
 ],
 "metadata": {
  "kernelspec": {
   "display_name": "Python 3",
   "language": "python",
   "name": "python3"
  }
 },
 "nbformat": 4,
 "nbformat_minor": 4
}
