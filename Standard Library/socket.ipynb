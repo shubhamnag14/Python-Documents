{
 "cells": [
  {
   "cell_type": "markdown",
   "id": "bigger-bottle",
   "metadata": {},
   "source": [
    "This module provides access to the BSD socket interface. It is available on all modern Unix systems, Windows, MacOS and probably additional platforms.\n",
    "\n",
    "The Python interfave is a straightforward transliteration of the Unix system call and Library interface for sockets to Python's object-oriented style the socket() function returns a socket object whose methods implement the various  socket system calls. Paramater types are somewhat higher-level that in the C interface as with read() and write() operations on Python files, buttef allocation on receive operations is automatic and buffer length is implict on send operations."
   ]
  },
  {
   "cell_type": "code",
   "execution_count": 21,
   "id": "personal-produce",
   "metadata": {},
   "outputs": [
    {
     "name": "stdout",
     "output_type": "stream",
     "text": [
      "None\n"
     ]
    }
   ],
   "source": [
    "import socket\n",
    "print(socket.getdefaulttimeout())\n",
    "google = '172.217.160.142'\n",
    "me = '172.21.80.1'"
   ]
  },
  {
   "cell_type": "code",
   "execution_count": 2,
   "id": "aquatic-metropolitan",
   "metadata": {},
   "outputs": [
    {
     "name": "stdout",
     "output_type": "stream",
     "text": [
      "True\n"
     ]
    }
   ],
   "source": [
    "print(socket.has_dualstack_ipv6())"
   ]
  },
  {
   "cell_type": "code",
   "execution_count": 6,
   "id": "advised-webcam",
   "metadata": {},
   "outputs": [
    {
     "name": "stdout",
     "output_type": "stream",
     "text": [
      "AddressFamily.AF_INET\n",
      "0\n",
      "0\n",
      "\n",
      "('172.21.80.1', 9999)\n"
     ]
    }
   ],
   "source": [
    "for i in socket.getaddrinfo(socket.gethostbyname(socket.gethostname()), 9999):\n",
    "    for j in i:\n",
    "        print(j)"
   ]
  },
  {
   "cell_type": "code",
   "execution_count": 10,
   "id": "particular-allocation",
   "metadata": {},
   "outputs": [
    {
     "data": {
      "text/plain": [
       "(('172.21.80.1', 9999),)"
      ]
     },
     "execution_count": 10,
     "metadata": {},
     "output_type": "execute_result"
    }
   ],
   "source": [
    "socket.getaddrinfo(socket.gethostbyname(socket.gethostname()), 9999)[0][-1:]"
   ]
  },
  {
   "cell_type": "code",
   "execution_count": 13,
   "id": "applicable-collection",
   "metadata": {},
   "outputs": [
    {
     "data": {
      "text/plain": [
       "'maa03s29-in-f14.1e100.net'"
      ]
     },
     "execution_count": 13,
     "metadata": {},
     "output_type": "execute_result"
    }
   ],
   "source": [
    "# The return type is the hostname of the passed IP address\n",
    "socket.getfqdn(\"172.217.160.142\")"
   ]
  },
  {
   "cell_type": "code",
   "execution_count": 14,
   "id": "chinese-suite",
   "metadata": {},
   "outputs": [
    {
     "data": {
      "text/plain": [
       "'DESKTOP-5RH3QJS'"
      ]
     },
     "execution_count": 14,
     "metadata": {},
     "output_type": "execute_result"
    }
   ],
   "source": [
    "socket.getfqdn()"
   ]
  },
  {
   "cell_type": "code",
   "execution_count": 16,
   "id": "loaded-experiment",
   "metadata": {},
   "outputs": [
    {
     "data": {
      "text/plain": [
       "'172.21.80.1'"
      ]
     },
     "execution_count": 16,
     "metadata": {},
     "output_type": "execute_result"
    }
   ],
   "source": [
    "socket.gethostbyname(socket.getfqdn())"
   ]
  },
  {
   "cell_type": "code",
   "execution_count": 18,
   "id": "amazing-whole",
   "metadata": {},
   "outputs": [
    {
     "data": {
      "text/plain": [
       "'172.217.160.142'"
      ]
     },
     "execution_count": 18,
     "metadata": {},
     "output_type": "execute_result"
    }
   ],
   "source": [
    "socket.gethostbyname(\"maa03s29-in-f14.1e100.net\")"
   ]
  },
  {
   "cell_type": "code",
   "execution_count": 19,
   "id": "historical-mixer",
   "metadata": {},
   "outputs": [
    {
     "data": {
      "text/plain": [
       "('maa03s29-in-f14.1e100.net', [], ['172.217.160.142'])"
      ]
     },
     "execution_count": 19,
     "metadata": {},
     "output_type": "execute_result"
    }
   ],
   "source": [
    "socket.gethostbyname_ex('maa03s29-in-f14.1e100.net')"
   ]
  },
  {
   "cell_type": "code",
   "execution_count": 20,
   "id": "compliant-negative",
   "metadata": {},
   "outputs": [
    {
     "data": {
      "text/plain": [
       "'DESKTOP-5RH3QJS'"
      ]
     },
     "execution_count": 20,
     "metadata": {},
     "output_type": "execute_result"
    }
   ],
   "source": [
    "socket.gethostname()"
   ]
  },
  {
   "cell_type": "code",
   "execution_count": 22,
   "id": "tropical-content",
   "metadata": {},
   "outputs": [
    {
     "data": {
      "text/plain": [
       "('maa03s29-in-f14.1e100.net', [], ['172.217.160.142'])"
      ]
     },
     "execution_count": 22,
     "metadata": {},
     "output_type": "execute_result"
    }
   ],
   "source": [
    "socket.gethostbyaddr(google)"
   ]
  },
  {
   "cell_type": "code",
   "execution_count": 23,
   "id": "located-product",
   "metadata": {},
   "outputs": [
    {
     "data": {
      "text/plain": [
       "('DESKTOP-5RH3QJS.mshome.net', [], ['172.21.80.1'])"
      ]
     },
     "execution_count": 23,
     "metadata": {},
     "output_type": "execute_result"
    }
   ],
   "source": [
    "socket.gethostbyaddr(me)"
   ]
  },
  {
   "cell_type": "code",
   "execution_count": 24,
   "id": "genetic-canadian",
   "metadata": {},
   "outputs": [
    {
     "data": {
      "text/plain": [
       "[(24, 'ethernet_0'),\n",
       " (25, 'ethernet_1'),\n",
       " (26, 'ethernet_2'),\n",
       " (52, 'ethernet_3'),\n",
       " (28, 'ethernet_4'),\n",
       " (29, 'ethernet_5'),\n",
       " (30, 'ethernet_6'),\n",
       " (31, 'ethernet_7'),\n",
       " (54, 'ethernet_8'),\n",
       " (55, 'ethernet_9'),\n",
       " (56, 'ethernet_10'),\n",
       " (57, 'ethernet_11'),\n",
       " (42, 'ethernet_12'),\n",
       " (43, 'ethernet_13'),\n",
       " (44, 'ethernet_14'),\n",
       " (45, 'ethernet_15'),\n",
       " (46, 'ethernet_16'),\n",
       " (47, 'ethernet_17'),\n",
       " (10, 'ethernet_32768'),\n",
       " (19, 'ethernet_32769'),\n",
       " (5, 'ethernet_32770'),\n",
       " (20, 'ethernet_32771'),\n",
       " (9, 'ethernet_32772'),\n",
       " (4, 'ethernet_32773'),\n",
       " (3, 'ethernet_32774'),\n",
       " (22, 'ethernet_32775'),\n",
       " (51, 'ethernet_32776'),\n",
       " (53, 'ethernet_32777'),\n",
       " (8, 'ppp_32768'),\n",
       " (13, 'ppp_32769'),\n",
       " (1, 'loopback_0'),\n",
       " (36, 'wireless_0'),\n",
       " (37, 'wireless_1'),\n",
       " (38, 'wireless_2'),\n",
       " (39, 'wireless_3'),\n",
       " (40, 'wireless_4'),\n",
       " (41, 'wireless_5'),\n",
       " (17, 'wireless_6'),\n",
       " (27, 'wireless_7'),\n",
       " (48, 'wireless_8'),\n",
       " (49, 'wireless_9'),\n",
       " (50, 'wireless_10'),\n",
       " (11, 'wireless_11'),\n",
       " (32, 'wireless_12'),\n",
       " (33, 'wireless_13'),\n",
       " (34, 'wireless_14'),\n",
       " (35, 'wireless_15'),\n",
       " (12, 'wireless_32768'),\n",
       " (15, 'wireless_32769'),\n",
       " (6, 'wireless_32770'),\n",
       " (18, 'tunnel_32512'),\n",
       " (7, 'tunnel_32513'),\n",
       " (2, 'tunnel_32514'),\n",
       " (16, 'tunnel_32768'),\n",
       " (14, 'tunnel_32769'),\n",
       " (23, 'tunnel_32770'),\n",
       " (21, 'tunnel_32771')]"
      ]
     },
     "execution_count": 24,
     "metadata": {},
     "output_type": "execute_result"
    }
   ],
   "source": [
    "socket.if_nameindex()"
   ]
  },
  {
   "cell_type": "code",
   "execution_count": 27,
   "id": "driven-party",
   "metadata": {},
   "outputs": [
    {
     "ename": "AttributeError",
     "evalue": "module 'socket' has no attribute 'type'",
     "output_type": "error",
     "traceback": [
      "\u001b[1;31m---------------------------------------------------------------------------\u001b[0m",
      "\u001b[1;31mAttributeError\u001b[0m                            Traceback (most recent call last)",
      "\u001b[1;32m<ipython-input-27-6f40c45551fb>\u001b[0m in \u001b[0;36m<module>\u001b[1;34m\u001b[0m\n\u001b[1;32m----> 1\u001b[1;33m \u001b[0msocket\u001b[0m\u001b[1;33m.\u001b[0m\u001b[0mtype\u001b[0m\u001b[1;33m\u001b[0m\u001b[1;33m\u001b[0m\u001b[0m\n\u001b[0m",
      "\u001b[1;31mAttributeError\u001b[0m: module 'socket' has no attribute 'type'"
     ]
    }
   ],
   "source": [
    "socket.type"
   ]
  },
  {
   "cell_type": "code",
   "execution_count": 32,
   "id": "optional-expert",
   "metadata": {},
   "outputs": [
    {
     "name": "stdout",
     "output_type": "stream",
     "text": [
      "No error 0\n",
      "Operation not permitted 1\n",
      "No such file or directory 2\n",
      "No such process 3\n",
      "Interrupted function call 4\n",
      "Input/output error 5\n",
      "No such device or address 6\n",
      "Arg list too long 7\n",
      "Exec format error 8\n",
      "Bad file descriptor 9\n",
      "No child processes 10\n",
      "Resource temporarily unavailable 11\n",
      "Not enough space 12\n",
      "Permission denied 13\n",
      "Bad address 14\n",
      "Unknown error 15\n"
     ]
    }
   ],
   "source": [
    "import os\n",
    "for i in range(1000):\n",
    "    resp = os.strerror(i)\n",
    "    print(resp, i)\n",
    "    if resp == \"Unknown error\":\n",
    "        break"
   ]
  },
  {
   "cell_type": "code",
   "execution_count": 35,
   "id": "cubic-update",
   "metadata": {},
   "outputs": [
    {
     "name": "stdout",
     "output_type": "stream",
     "text": [
      "Exec format error\n"
     ]
    }
   ],
   "source": [
    "import errno\n",
    "\n",
    "if errno.ENOEXEC == 8:\n",
    "    print(os.strerror(errno.ENOEXEC))\n",
    "else:\n",
    "    print(errno.ENOEXEC)"
   ]
  },
  {
   "cell_type": "code",
   "execution_count": null,
   "id": "center-bouquet",
   "metadata": {},
   "outputs": [],
   "source": []
  }
 ],
 "metadata": {
  "kernelspec": {
   "display_name": "Python 3",
   "language": "python",
   "name": "python3"
  },
  "language_info": {
   "codemirror_mode": {
    "name": "ipython",
    "version": 3
   },
   "file_extension": ".py",
   "mimetype": "text/x-python",
   "name": "python",
   "nbconvert_exporter": "python",
   "pygments_lexer": "ipython3",
   "version": "3.8.7"
  }
 },
 "nbformat": 4,
 "nbformat_minor": 5
}
