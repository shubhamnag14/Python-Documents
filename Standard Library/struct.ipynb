{
 "cells": [
  {
   "cell_type": "markdown",
   "id": "painful-ethiopia",
   "metadata": {},
   "source": [
    "This module performs conversions between python values and C structs represented as Python bytes objects. This can be used in handling binary data stored in files or from network connections among other sources. It uses Format Strings as compact descriptions of the layout of the C structs and the intended conversion to/from python values"
   ]
  },
  {
   "cell_type": "code",
   "execution_count": 1,
   "id": "criminal-niagara",
   "metadata": {},
   "outputs": [
    {
     "name": "stdout",
     "output_type": "stream",
     "text": [
      "b'\\x01\\x00\\x02\\x00\\x03\\x00\\x00\\x00'\n"
     ]
    }
   ],
   "source": [
    "import struct\n",
    "var = struct.pack('hhl',1,2,3)\n",
    "print(var)"
   ]
  },
  {
   "cell_type": "code",
   "execution_count": 2,
   "id": "altered-hungarian",
   "metadata": {},
   "outputs": [
    {
     "name": "stdout",
     "output_type": "stream",
     "text": [
      "b'\\x01\\x00\\x00\\x00\\x02\\x00\\x00\\x00\\x03\\x00\\x00\\x00'\n"
     ]
    }
   ],
   "source": [
    "var = struct.pack('iii',1,2,3)\n",
    "print(var)"
   ]
  },
  {
   "cell_type": "code",
   "execution_count": 5,
   "id": "hundred-withdrawal",
   "metadata": {},
   "outputs": [
    {
     "name": "stdout",
     "output_type": "stream",
     "text": [
      "(1, 2, 3)\n"
     ]
    }
   ],
   "source": [
    "print(struct.unpack('iii', var))"
   ]
  },
  {
   "cell_type": "code",
   "execution_count": 7,
   "id": "frequent-grenada",
   "metadata": {},
   "outputs": [
    {
     "name": "stdout",
     "output_type": "stream",
     "text": [
      "b'\\x01\\x00\\x02\\x00\\x05\\x00\\x00\\x00\\xbd\\x01\\x00\\x00'\n"
     ]
    }
   ],
   "source": [
    "import struct\n",
    "var = struct.pack('?hil', True, 2,5,445) \n",
    "print(var)"
   ]
  },
  {
   "cell_type": "code",
   "execution_count": 8,
   "id": "compact-noise",
   "metadata": {},
   "outputs": [
    {
     "name": "stdout",
     "output_type": "stream",
     "text": [
      "(True, 2, 5, 445)\n"
     ]
    }
   ],
   "source": [
    "tup = struct.unpack('?hil', var)\n",
    "print(tup)"
   ]
  },
  {
   "cell_type": "code",
   "execution_count": 10,
   "id": "proud-remains",
   "metadata": {},
   "outputs": [
    {
     "ename": "error",
     "evalue": "unpack requires a buffer of 12 bytes",
     "output_type": "error",
     "traceback": [
      "\u001b[1;31m---------------------------------------------------------------------------\u001b[0m",
      "\u001b[1;31merror\u001b[0m                                     Traceback (most recent call last)",
      "\u001b[1;32m<ipython-input-10-09efd5fa2dc9>\u001b[0m in \u001b[0;36m<module>\u001b[1;34m\u001b[0m\n\u001b[1;32m----> 1\u001b[1;33m \u001b[0mstruct\u001b[0m\u001b[1;33m.\u001b[0m\u001b[0munpack\u001b[0m\u001b[1;33m(\u001b[0m\u001b[1;34m'?hil'\u001b[0m\u001b[1;33m,\u001b[0m \u001b[1;34mb'\\x01\\x00\\x02\\x00\\x05\\x00\\x00\\x00\\xbd\\x01\\x00\\x00\\x00\\x00\\x00\\x00'\u001b[0m\u001b[1;33m)\u001b[0m\u001b[1;33m\u001b[0m\u001b[1;33m\u001b[0m\u001b[0m\n\u001b[0m",
      "\u001b[1;31merror\u001b[0m: unpack requires a buffer of 12 bytes"
     ]
    }
   ],
   "source": [
    "struct.unpack('?hil', b'\\x01\\x00\\x02\\x00\\x05\\x00\\x00\\x00\\xbd\\x01\\x00\\x00\\x00\\x00\\x00\\x00')"
   ]
  },
  {
   "cell_type": "code",
   "execution_count": 11,
   "id": "streaming-priest",
   "metadata": {},
   "outputs": [
    {
     "name": "stdout",
     "output_type": "stream",
     "text": [
      "b'\\x05\\x00\\x00\\x00\\x00\\x00\\x00\\x0033\\x13@'\n",
      "(5, 2.299999952316284)\n"
     ]
    }
   ],
   "source": [
    "var = struct.pack('qf', 5, 2.3)\n",
    "print(var)\n",
    "tup = struct.unpack('qf', var)\n",
    "print(tup)"
   ]
  },
  {
   "cell_type": "code",
   "execution_count": 12,
   "id": "valuable-robinson",
   "metadata": {},
   "outputs": [
    {
     "name": "stdout",
     "output_type": "stream",
     "text": [
      "b'\\x01\\x00\\x02\\x00\\x05\\x00\\x00\\x00\\xbd\\x01\\x00\\x00'\n",
      "12\n",
      "12\n"
     ]
    }
   ],
   "source": [
    "import struct \n",
    "var = struct.pack('?hil', True, 2, 5, 445) \n",
    "print(var) \n",
    "# Returns the size of the structure \n",
    "print(struct.calcsize('?hil')) \n",
    "print(struct.calcsize('qf')) "
   ]
  },
  {
   "cell_type": "code",
   "execution_count": 14,
   "id": "infrared-reaction",
   "metadata": {},
   "outputs": [
    {
     "name": "stdout",
     "output_type": "stream",
     "text": [
      "b'\\x00\\x00'\n",
      "b'\\x01\\x00'\n",
      "b'\\x02\\x00'\n",
      "b'\\x03\\x00'\n",
      "b'\\x04\\x00'\n",
      "b'\\x05\\x00'\n",
      "b'\\x06\\x00'\n",
      "b'\\x07\\x00'\n",
      "b'\\x08\\x00'\n",
      "b'\\t\\x00'\n"
     ]
    }
   ],
   "source": [
    "for i in range(10):\n",
    "    print(struct.pack('h', i))"
   ]
  },
  {
   "cell_type": "code",
   "execution_count": 16,
   "id": "mental-white",
   "metadata": {},
   "outputs": [
    {
     "ename": "SyntaxError",
     "evalue": "leading zeros in decimal integer literals are not permitted; use an 0o prefix for octal integers (<ipython-input-16-913db56ab6c6>, line 1)",
     "output_type": "error",
     "traceback": [
      "\u001b[1;36m  File \u001b[1;32m\"<ipython-input-16-913db56ab6c6>\"\u001b[1;36m, line \u001b[1;32m1\u001b[0m\n\u001b[1;33m    bytes(001)\u001b[0m\n\u001b[1;37m            ^\u001b[0m\n\u001b[1;31mSyntaxError\u001b[0m\u001b[1;31m:\u001b[0m leading zeros in decimal integer literals are not permitted; use an 0o prefix for octal integers\n"
     ]
    }
   ],
   "source": [
    "bytes(1)"
   ]
  },
  {
   "cell_type": "code",
   "execution_count": 17,
   "id": "homeless-georgia",
   "metadata": {},
   "outputs": [],
   "source": [
    "# https://docs.python.org/3/library/struct.html"
   ]
  },
  {
   "cell_type": "code",
   "execution_count": null,
   "id": "distant-basement",
   "metadata": {},
   "outputs": [],
   "source": []
  }
 ],
 "metadata": {
  "kernelspec": {
   "display_name": "Python 3",
   "language": "python",
   "name": "python3"
  },
  "language_info": {
   "codemirror_mode": {
    "name": "ipython",
    "version": 3
   },
   "file_extension": ".py",
   "mimetype": "text/x-python",
   "name": "python",
   "nbconvert_exporter": "python",
   "pygments_lexer": "ipython3",
   "version": "3.8.7"
  }
 },
 "nbformat": 4,
 "nbformat_minor": 5
}
