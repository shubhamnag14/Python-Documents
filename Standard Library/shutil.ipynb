{
 "cells": [
  {
   "cell_type": "markdown",
   "id": "environmental-pittsburgh",
   "metadata": {},
   "source": [
    "The shutil module offers a number of high-level operations on files and collections of files. In particular, functions are provided which support file copying and removal. For operations on individual files."
   ]
  },
  {
   "cell_type": "code",
   "execution_count": 1,
   "id": "recognized-contribution",
   "metadata": {},
   "outputs": [],
   "source": [
    "import shutil"
   ]
  },
  {
   "cell_type": "code",
   "execution_count": 2,
   "id": "canadian-nightmare",
   "metadata": {},
   "outputs": [
    {
     "name": "stdout",
     "output_type": "stream",
     "text": [
      "['COPY_BUFSIZE', 'Error', 'ExecError', 'ReadError', 'RegistryError', 'SameFileError', 'SpecialFileError', '_ARCHIVE_FORMATS', '_BZ2_SUPPORTED', '_GiveupOnFastCopy', '_HAS_FCOPYFILE', '_LZMA_SUPPORTED', '_UNPACK_FORMATS', '_USE_CP_SENDFILE', '_WINDOWS', '_WIN_DEFAULT_PATHEXT', '_ZLIB_SUPPORTED', '__all__', '__builtins__', '__cached__', '__doc__', '__file__', '__loader__', '__name__', '__package__', '__spec__', '_access_check', '_basename', '_check_unpack_options', '_copyfileobj_readinto', '_copytree', '_copyxattr', '_destinsrc', '_ensure_directory', '_fastcopy_fcopyfile', '_fastcopy_sendfile', '_find_unpack_format', '_get_gid', '_get_uid', '_islink', '_make_tarball', '_make_zipfile', '_ntuple_diskusage', '_rmtree_isdir', '_rmtree_islink', '_rmtree_safe_fd', '_rmtree_unsafe', '_samefile', '_stat', '_unpack_tarfile', '_unpack_zipfile', '_use_fd_functions', 'chown', 'collections', 'copy', 'copy2', 'copyfile', 'copyfileobj', 'copymode', 'copystat', 'copytree', 'disk_usage', 'errno', 'fnmatch', 'get_archive_formats', 'get_terminal_size', 'get_unpack_formats', 'getgrnam', 'getpwnam', 'ignore_patterns', 'make_archive', 'move', 'nt', 'os', 'posix', 'register_archive_format', 'register_unpack_format', 'rmtree', 'stat', 'sys', 'unpack_archive', 'unregister_archive_format', 'unregister_unpack_format', 'which']\n"
     ]
    }
   ],
   "source": [
    "print(dir(shutil))"
   ]
  },
  {
   "cell_type": "markdown",
   "id": "exciting-satellite",
   "metadata": {},
   "source": [
    "**shutil.copyfileobj(fsrc, fdst[, length])** - method in Python is used to copy the contents of a file-like object to antoher file-like object. By default this method copy data in chunks and if want we can also specify the buffer size through length parameter.\n",
    "This method copies the content of the file from the current file position to the end of the file"
   ]
  },
  {
   "cell_type": "code",
   "execution_count": 6,
   "id": "atomic-tourist",
   "metadata": {},
   "outputs": [
    {
     "name": "stdout",
     "output_type": "stream",
     "text": [
      "Contents of the file object copied sucessfully\n"
     ]
    }
   ],
   "source": [
    "import shutil\n",
    "source = 'file.txt'\n",
    "fsrc = open(source, 'r')\n",
    "dest = 'file_copy.txt'\n",
    "fdst = open(dest, 'w')\n",
    "shutil.copyfileobj(fsrc, fdst)\n",
    "print(\"Contents of the file object copied sucessfully\")\n",
    "fsrc.close()\n",
    "fdst.close()"
   ]
  },
  {
   "cell_type": "markdown",
   "id": "controlled-volunteer",
   "metadata": {},
   "source": [
    "**shutil.copyfile(src, dst, *, follow_symlinks=True)** - Copy the contents (no metadata) of the file named src to a file named dst and return dst in the most efficient way possible. src and dst are path-like objects or path names given as strings"
   ]
  },
  {
   "cell_type": "code",
   "execution_count": 9,
   "id": "great-dallas",
   "metadata": {},
   "outputs": [
    {
     "name": "stdout",
     "output_type": "stream",
     "text": [
      "['.ipynb_checkpoints', 'asyncio.ipynb', 'file.txt', 'file_copy.txt', 'file_copy_2.txt', 'shutil.ipynb']\n",
      "The response is - file2.txt\n",
      "['.ipynb_checkpoints', 'asyncio.ipynb', 'file.txt', 'file2.txt', 'file_copy.txt', 'file_copy_2.txt', 'shutil.ipynb']\n"
     ]
    }
   ],
   "source": [
    "import shutil\n",
    "import os\n",
    "import glob\n",
    "print(os.listdir())\n",
    "resp = shutil.copyfile('file.txt', 'file2.txt')\n",
    "print(f\"The response is - {resp}\")\n",
    "print(os.listdir())"
   ]
  },
  {
   "cell_type": "markdown",
   "id": "brutal-stack",
   "metadata": {},
   "source": [
    "**shutil.copymode()** - It is used to copy the permission bits from the given source path to given destination path. The shutil.copymode() method does not affect the file content or owner and group information"
   ]
  },
  {
   "cell_type": "code",
   "execution_count": 26,
   "id": "earlier-stock",
   "metadata": {},
   "outputs": [
    {
     "name": "stdout",
     "output_type": "stream",
     "text": [
      "['app.py', 'asyncio.ipynb', 'file.txt', 'file2.txt', 'file_copy.txt', 'shutil.ipynb']\n",
      "Permission bits of source: 666\n",
      "Permission bits of source: 666\n"
     ]
    }
   ],
   "source": [
    "print(glob.glob('*'))\n",
    "src = 'app.py'\n",
    "dest = 'file.txt'\n",
    "print(f\"Permission bits of source: {oct(os.stat(src).st_mode)[-3:]}\")\n",
    "print(f\"Permission bits of source: {oct(os.stat(dest).st_mode)[-3:]}\")\n",
    "# shutil.copymode(src, dest)\n",
    "# print(f\"Permission bits of source: {oct(os.stat(dest).st_mode)[-3:]}\")"
   ]
  },
  {
   "cell_type": "markdown",
   "id": "italic-hurricane",
   "metadata": {},
   "source": [
    "**shutil.copystat(source, destination, *, follow_symlinks = True)** - It is used to copy the permission bits, last access time, last modification time and flags value from the given source path to given destination. This method does not affect the file content and owner and group info"
   ]
  },
  {
   "cell_type": "code",
   "execution_count": 32,
   "id": "loaded-stick",
   "metadata": {
    "scrolled": true
   },
   "outputs": [
    {
     "name": "stdout",
     "output_type": "stream",
     "text": [
      "Before using shutil.copystat() method:\n",
      "Source metadata:\n",
      "Permission bits: 666\n",
      "Last access time: Sat Feb 13 01:37:46 2021\n",
      "Last modification time: Sat Jan 16 02:12:51 2021\n",
      "--------------------------------------------------------------\n",
      "\n",
      "Destination metadata:\n",
      "Permission bits: 666\n",
      "Last access time: Sat Feb 13 01:37:40 2021\n",
      "Last modification time: Sat Feb 13 01:16:39 2021\n",
      "\n",
      "Destination metadata:\n",
      "Permission bits: 666\n",
      "Last access time: Sat Feb 13 01:37:46 2021\n",
      "Last modification time: Sat Jan 16 02:12:51 2021\n"
     ]
    }
   ],
   "source": [
    "import time\n",
    "src = 'basicLogging.py'\n",
    "dest = 'file2.txt'\n",
    "print(\"Before using shutil.copystat() method:\") \n",
    "print(\"Source metadata:\") \n",
    "print(\"Permission bits:\", oct(os.stat(src).st_mode)[-3:]) \n",
    "print(\"Last access time:\", time.ctime(os.stat(src).st_atime)) \n",
    "print(\"Last modification time:\", time.ctime(os.stat(src).st_mtime)) \n",
    "print(\"--------------------------------------------------------------\")\n",
    "print(\"\\nDestination metadata:\") \n",
    "print(\"Permission bits:\", oct(os.stat(dest).st_mode)[-3:]) \n",
    "print(\"Last access time:\", time.ctime(os.stat(dest).st_atime)) \n",
    "print(\"Last modification time:\", time.ctime(os.stat(dest).st_mtime))\n",
    "\n",
    "\n",
    "\n",
    "shutil.copystat(src, dest)\n",
    "print(\"\\nDestination metadata:\") \n",
    "print(\"Permission bits:\", oct(os.stat(dest).st_mode)[-3:]) \n",
    "print(\"Last access time:\", time.ctime(os.stat(dest).st_atime)) \n",
    "print(\"Last modification time:\", time.ctime(os.stat(dest).st_mtime))\n"
   ]
  },
  {
   "cell_type": "markdown",
   "id": "monetary-possible",
   "metadata": {},
   "source": [
    "**shutil.copy(src,dst, *, follow_symlinks=True)** - Copies the file src to the file or directory dst. src and dst should be path-like objects or strings. If dst specifies a directory, the file will be copied into dst using the base filename from src. Returns the path to the newly created file."
   ]
  },
  {
   "cell_type": "code",
   "execution_count": 3,
   "id": "later-ready",
   "metadata": {},
   "outputs": [
    {
     "data": {
      "text/plain": [
       "['app.py',\n",
       " 'asyncio.ipynb',\n",
       " 'basicLogging.py',\n",
       " 'file.txt',\n",
       " 'file2.txt',\n",
       " 'file_copy.txt',\n",
       " 'shutil.ipynb']"
      ]
     },
     "execution_count": 3,
     "metadata": {},
     "output_type": "execute_result"
    }
   ],
   "source": [
    "import glob\n",
    "glob.glob('*')"
   ]
  },
  {
   "cell_type": "code",
   "execution_count": 4,
   "id": "cloudy-exchange",
   "metadata": {},
   "outputs": [],
   "source": [
    "import os\n",
    "os.mkdir('Test')"
   ]
  },
  {
   "cell_type": "code",
   "execution_count": 6,
   "id": "advance-hotel",
   "metadata": {},
   "outputs": [
    {
     "data": {
      "text/plain": [
       "'Test\\\\app.py'"
      ]
     },
     "execution_count": 6,
     "metadata": {},
     "output_type": "execute_result"
    }
   ],
   "source": [
    "import shutil\n",
    "shutil.copy('app.py', 'Test')"
   ]
  },
  {
   "cell_type": "code",
   "execution_count": 9,
   "id": "intermediate-hands",
   "metadata": {},
   "outputs": [
    {
     "data": {
      "text/plain": [
       "'yoyo.txt'"
      ]
     },
     "execution_count": 9,
     "metadata": {},
     "output_type": "execute_result"
    }
   ],
   "source": [
    "shutil.copy('app.py', 'yoyo.txt')"
   ]
  },
  {
   "cell_type": "markdown",
   "id": "stretch-green",
   "metadata": {},
   "source": [
    "**shutil.copy2(src, dst, *, follow_symlinks=True)** - Identical to copy except that copy2() also attempts to preserve file metadata."
   ]
  },
  {
   "cell_type": "code",
   "execution_count": 8,
   "id": "tutorial-filename",
   "metadata": {},
   "outputs": [
    {
     "data": {
      "text/plain": [
       "'yoyoyo.txt'"
      ]
     },
     "execution_count": 8,
     "metadata": {},
     "output_type": "execute_result"
    }
   ],
   "source": [
    "shutil.copy2('app.py', 'yoyoyo.txt')"
   ]
  },
  {
   "cell_type": "code",
   "execution_count": 10,
   "id": "great-ground",
   "metadata": {},
   "outputs": [
    {
     "data": {
      "text/plain": [
       "['copyfileobj',\n",
       " 'copyfile',\n",
       " 'copymode',\n",
       " 'copystat',\n",
       " 'copy',\n",
       " 'copy2',\n",
       " 'copytree',\n",
       " 'move',\n",
       " 'rmtree',\n",
       " 'Error',\n",
       " 'SpecialFileError',\n",
       " 'ExecError',\n",
       " 'make_archive',\n",
       " 'get_archive_formats',\n",
       " 'register_archive_format',\n",
       " 'unregister_archive_format',\n",
       " 'get_unpack_formats',\n",
       " 'register_unpack_format',\n",
       " 'unregister_unpack_format',\n",
       " 'unpack_archive',\n",
       " 'ignore_patterns',\n",
       " 'chown',\n",
       " 'which',\n",
       " 'get_terminal_size',\n",
       " 'SameFileError',\n",
       " 'disk_usage']"
      ]
     },
     "execution_count": 10,
     "metadata": {},
     "output_type": "execute_result"
    }
   ],
   "source": [
    "shutil.__all__"
   ]
  },
  {
   "cell_type": "markdown",
   "id": "introductory-investigation",
   "metadata": {},
   "source": [
    "**shutil.ignore_patterns(*patterns)** - This factory function creates a function that can be used as a callable for copytree()'s ignore argument, ignoring files and directories that match one of the glob-style patterns provided"
   ]
  },
  {
   "cell_type": "markdown",
   "id": "twenty-wedding",
   "metadata": {},
   "source": [
    "**shutil.copytree(src, dst, symlinks=False, ignore=None, copy_function=copy2, ignore_dangling_symlinks=False, dirs_exist_ok=False)** - Recursively copy an entire directory tree rooted at src to a directory named dst and returned the destination directory. dir_exists_ok dictates whether to raise an exception in case dst or any missing parent directory already exists."
   ]
  },
  {
   "cell_type": "code",
   "execution_count": 22,
   "id": "unlimited-thunder",
   "metadata": {},
   "outputs": [
    {
     "data": {
      "text/plain": [
       "'C:\\\\Users\\\\Subhadeep Banerjee\\\\Standard Library\\\\ToTest'"
      ]
     },
     "execution_count": 22,
     "metadata": {},
     "output_type": "execute_result"
    }
   ],
   "source": [
    "import os\n",
    "import glob\n",
    "import shutil\n",
    "if os.path.isdir('ToTest'):\n",
    "    os.rmdir('ToTest')\n",
    "else:\n",
    "    os.mkdir(\"ToTest\")\n",
    "shutil.copytree(os.path.abspath(''), os.path.abspath('ToTest'), ignore=shutil.ignore_patterns('.ipynb_checkpoints'))"
   ]
  },
  {
   "cell_type": "code",
   "execution_count": 16,
   "id": "ahead-disease",
   "metadata": {},
   "outputs": [
    {
     "data": {
      "text/plain": [
       "'C:\\\\Users\\\\Subhadeep Banerjee\\\\Standard Library'"
      ]
     },
     "execution_count": 16,
     "metadata": {},
     "output_type": "execute_result"
    }
   ],
   "source": [
    "os.path.abspath('')"
   ]
  },
  {
   "cell_type": "code",
   "execution_count": 31,
   "id": "extreme-punch",
   "metadata": {},
   "outputs": [
    {
     "data": {
      "text/plain": [
       "['.ipynb_checkpoints',\n",
       " 'app.py',\n",
       " 'asyncio.ipynb',\n",
       " 'basicLogging.py',\n",
       " 'file.txt',\n",
       " 'file2.txt',\n",
       " 'file_copy.txt',\n",
       " 'shutil.ipynb',\n",
       " 'Test',\n",
       " 'ToTest',\n",
       " 'yoyo.txt',\n",
       " 'yoyoyo.txt']"
      ]
     },
     "execution_count": 31,
     "metadata": {},
     "output_type": "execute_result"
    }
   ],
   "source": [
    "os.listdir()"
   ]
  },
  {
   "cell_type": "markdown",
   "id": "positive-flooring",
   "metadata": {},
   "source": [
    "**shutil.rmtree(path, ignore_errors=False, onerror=None)** - Delete an entire directory tree; path must point to a directory (but not a symbolic link to a directory)"
   ]
  },
  {
   "cell_type": "code",
   "execution_count": 35,
   "id": "royal-estate",
   "metadata": {},
   "outputs": [
    {
     "name": "stdout",
     "output_type": "stream",
     "text": [
      ".ipynb_checkpoints\n",
      "Test\n"
     ]
    }
   ],
   "source": [
    "for i in os.listdir():\n",
    "    if os.path.isdir(i):\n",
    "        print(i)"
   ]
  },
  {
   "cell_type": "code",
   "execution_count": 33,
   "id": "structured-conspiracy",
   "metadata": {},
   "outputs": [
    {
     "ename": "OSError",
     "evalue": "[WinError 145] The directory is not empty: 'ToTest'",
     "output_type": "error",
     "traceback": [
      "\u001b[1;31m---------------------------------------------------------------------------\u001b[0m",
      "\u001b[1;31mOSError\u001b[0m                                   Traceback (most recent call last)",
      "\u001b[1;32m<ipython-input-33-62fc995e19e4>\u001b[0m in \u001b[0;36m<module>\u001b[1;34m\u001b[0m\n\u001b[1;32m----> 1\u001b[1;33m \u001b[0mos\u001b[0m\u001b[1;33m.\u001b[0m\u001b[0mrmdir\u001b[0m\u001b[1;33m(\u001b[0m\u001b[1;34m'ToTest'\u001b[0m\u001b[1;33m)\u001b[0m\u001b[1;33m\u001b[0m\u001b[1;33m\u001b[0m\u001b[0m\n\u001b[0m",
      "\u001b[1;31mOSError\u001b[0m: [WinError 145] The directory is not empty: 'ToTest'"
     ]
    }
   ],
   "source": [
    "os.rmdir('ToTest')"
   ]
  },
  {
   "cell_type": "code",
   "execution_count": 34,
   "id": "boolean-revolution",
   "metadata": {},
   "outputs": [],
   "source": [
    "shutil.rmtree('ToTest')"
   ]
  },
  {
   "cell_type": "markdown",
   "id": "municipal-marketplace",
   "metadata": {},
   "source": [
    "**shutil.move(src, dst, copy_function=copy2)** - Recursively move a file or directory (src) to another location (dst) and return the destination."
   ]
  },
  {
   "cell_type": "code",
   "execution_count": 50,
   "id": "focused-confirmation",
   "metadata": {},
   "outputs": [
    {
     "data": {
      "text/plain": [
       "'C:\\\\Users\\\\Subhadeep Banerjee\\\\Test'"
      ]
     },
     "execution_count": 50,
     "metadata": {},
     "output_type": "execute_result"
    }
   ],
   "source": [
    "src = glob.glob('*')\n",
    "dst = os.path.split(os.path.abspath(''))[0]\n",
    "shutil.move(os.path.abspath('Test'), os.path.split(os.path.abspath(''))[0])"
   ]
  },
  {
   "cell_type": "code",
   "execution_count": 49,
   "id": "greenhouse-violence",
   "metadata": {},
   "outputs": [
    {
     "data": {
      "text/plain": [
       "'C:\\\\Users\\\\Subhadeep Banerjee\\\\Standard Library\\\\Test'"
      ]
     },
     "execution_count": 49,
     "metadata": {},
     "output_type": "execute_result"
    }
   ],
   "source": [
    "os.path.abspath('Test')"
   ]
  },
  {
   "cell_type": "code",
   "execution_count": 44,
   "id": "characteristic-forward",
   "metadata": {},
   "outputs": [],
   "source": [
    "os.mkdir(f\"{os.path.split(os.path.abspath(''))[0]}\\\\TOTESTYO\")"
   ]
  },
  {
   "cell_type": "code",
   "execution_count": 51,
   "id": "confused-mystery",
   "metadata": {},
   "outputs": [
    {
     "data": {
      "text/plain": [
       "'C:\\\\Users\\\\Subhadeep Banerjee'"
      ]
     },
     "execution_count": 51,
     "metadata": {},
     "output_type": "execute_result"
    }
   ],
   "source": [
    "os.path.split(os.path.abspath(''))[0]"
   ]
  },
  {
   "cell_type": "markdown",
   "id": "norwegian-veteran",
   "metadata": {},
   "source": [
    "**shutil.disk_usage(path)** - Return disk usage statistics about the given path as a named tuple with the attributes total, used and free, which are the amount of total, used and free space, in bytes. Path may be a file or a directory"
   ]
  },
  {
   "cell_type": "code",
   "execution_count": 54,
   "id": "stretch-replica",
   "metadata": {},
   "outputs": [
    {
     "data": {
      "text/plain": [
       "usage(total=429517697024, used=179633143808, free=249884553216)"
      ]
     },
     "execution_count": 54,
     "metadata": {},
     "output_type": "execute_result"
    }
   ],
   "source": [
    "shutil.disk_usage('C:')"
   ]
  },
  {
   "cell_type": "markdown",
   "id": "ultimate-hygiene",
   "metadata": {},
   "source": [
    "**shutil.chown(path, user=None, group=None)** - Change owner user and/or group of the given path"
   ]
  },
  {
   "cell_type": "code",
   "execution_count": 7,
   "id": "other-cabin",
   "metadata": {},
   "outputs": [],
   "source": [
    "import os\n",
    "import glob\n",
    "import shutil\n",
    "from pathlib import Path"
   ]
  },
  {
   "cell_type": "code",
   "execution_count": 2,
   "id": "changed-warehouse",
   "metadata": {},
   "outputs": [
    {
     "data": {
      "text/plain": [
       "['.ipynb_checkpoints',\n",
       " 'app.py',\n",
       " 'asyncio.ipynb',\n",
       " 'basicLogging.py',\n",
       " 'file.txt',\n",
       " 'file2.txt',\n",
       " 'file_copy.txt',\n",
       " 'FORTESTYO',\n",
       " 'shutil.ipynb',\n",
       " 'yoyo.txt',\n",
       " 'yoyoyo.txt']"
      ]
     },
     "execution_count": 2,
     "metadata": {},
     "output_type": "execute_result"
    }
   ],
   "source": [
    "os.listdir()"
   ]
  },
  {
   "cell_type": "code",
   "execution_count": 8,
   "id": "pointed-appraisal",
   "metadata": {},
   "outputs": [
    {
     "ename": "NotImplementedError",
     "evalue": "Path.owner() is unsupported on this system",
     "output_type": "error",
     "traceback": [
      "\u001b[1;31m---------------------------------------------------------------------------\u001b[0m",
      "\u001b[1;31mNotImplementedError\u001b[0m                       Traceback (most recent call last)",
      "\u001b[1;32m<ipython-input-8-613760339d10>\u001b[0m in \u001b[0;36m<module>\u001b[1;34m\u001b[0m\n\u001b[0;32m      2\u001b[0m \u001b[1;33m\u001b[0m\u001b[0m\n\u001b[0;32m      3\u001b[0m \u001b[0minfo\u001b[0m \u001b[1;33m=\u001b[0m \u001b[0mPath\u001b[0m\u001b[1;33m(\u001b[0m\u001b[0mpath\u001b[0m\u001b[1;33m)\u001b[0m\u001b[1;33m\u001b[0m\u001b[1;33m\u001b[0m\u001b[0m\n\u001b[1;32m----> 4\u001b[1;33m \u001b[0muser\u001b[0m \u001b[1;33m=\u001b[0m \u001b[0minfo\u001b[0m\u001b[1;33m.\u001b[0m\u001b[0mowner\u001b[0m\u001b[1;33m(\u001b[0m\u001b[1;33m)\u001b[0m\u001b[1;33m\u001b[0m\u001b[1;33m\u001b[0m\u001b[0m\n\u001b[0m\u001b[0;32m      5\u001b[0m \u001b[0mgroup\u001b[0m \u001b[1;33m=\u001b[0m \u001b[0minfo\u001b[0m\u001b[1;33m.\u001b[0m\u001b[0mgroup\u001b[0m\u001b[1;33m(\u001b[0m\u001b[1;33m)\u001b[0m\u001b[1;33m\u001b[0m\u001b[1;33m\u001b[0m\u001b[0m\n\u001b[0;32m      6\u001b[0m \u001b[1;33m\u001b[0m\u001b[0m\n",
      "\u001b[1;32mc:\\users\\subhadeep banerjee\\appdata\\local\\programs\\python\\python38\\lib\\pathlib.py\u001b[0m in \u001b[0;36mowner\u001b[1;34m(self)\u001b[0m\n\u001b[0;32m   1568\u001b[0m \u001b[1;33m\u001b[0m\u001b[0m\n\u001b[0;32m   1569\u001b[0m     \u001b[1;32mdef\u001b[0m \u001b[0mowner\u001b[0m\u001b[1;33m(\u001b[0m\u001b[0mself\u001b[0m\u001b[1;33m)\u001b[0m\u001b[1;33m:\u001b[0m\u001b[1;33m\u001b[0m\u001b[1;33m\u001b[0m\u001b[0m\n\u001b[1;32m-> 1570\u001b[1;33m         \u001b[1;32mraise\u001b[0m \u001b[0mNotImplementedError\u001b[0m\u001b[1;33m(\u001b[0m\u001b[1;34m\"Path.owner() is unsupported on this system\"\u001b[0m\u001b[1;33m)\u001b[0m\u001b[1;33m\u001b[0m\u001b[1;33m\u001b[0m\u001b[0m\n\u001b[0m\u001b[0;32m   1571\u001b[0m \u001b[1;33m\u001b[0m\u001b[0m\n\u001b[0;32m   1572\u001b[0m     \u001b[1;32mdef\u001b[0m \u001b[0mgroup\u001b[0m\u001b[1;33m(\u001b[0m\u001b[0mself\u001b[0m\u001b[1;33m)\u001b[0m\u001b[1;33m:\u001b[0m\u001b[1;33m\u001b[0m\u001b[1;33m\u001b[0m\u001b[0m\n",
      "\u001b[1;31mNotImplementedError\u001b[0m: Path.owner() is unsupported on this system"
     ]
    }
   ],
   "source": [
    "path = 'app.py'\n",
    "\n",
    "info = Path(path)\n",
    "user = info.owner()\n",
    "group = info.group()\n",
    "\n",
    "print(\"Current owner and group of the specified path\")  \n",
    "print(\"Owner:\", user) \n",
    "print(\"Group:\", group) "
   ]
  },
  {
   "cell_type": "markdown",
   "id": "monetary-illustration",
   "metadata": {},
   "source": [
    "**shutil.which(cmd, mode=os.F_OK | os.X_OK, path=None)** - Return the path to an executable which would be run if the given cmd was called. If no cmd would be called, return None."
   ]
  },
  {
   "cell_type": "code",
   "execution_count": 17,
   "id": "ahead-newcastle",
   "metadata": {},
   "outputs": [
    {
     "name": "stdout",
     "output_type": "stream",
     "text": [
      "C:\\Users\\Subhadeep Banerjee\\AppData\\Local\\Programs\\Python\\Python38\\python.EXE\n",
      "C:\\MinGW\\bin\\gcc.EXE\n",
      "C:\\Program Files\\Git\\cmd\\git.EXE\n"
     ]
    }
   ],
   "source": [
    "print(shutil.which('python'))\n",
    "print(shutil.which('gcc'))\n",
    "print(shutil.which('git'))"
   ]
  },
  {
   "cell_type": "markdown",
   "id": "russian-haven",
   "metadata": {},
   "source": [
    "**exception shutil.Error** - This exception collects exception that are raised during a multi-line operation. FOr copytree() the exception argument is a list of 3-tuples (srcname, dstname, exception)"
   ]
  },
  {
   "cell_type": "markdown",
   "id": "voluntary-invalid",
   "metadata": {},
   "source": [
    "# Archiving Operations\n",
    "\n",
    "**shutil.make_archive(base_name, format[, root_dir[, base_dir[, verbose[, dry_run[, owner[, group[, logger]]]]]]])** - Create an archive file (such as zip or tar) and return its name"
   ]
  },
  {
   "cell_type": "code",
   "execution_count": 26,
   "id": "auburn-somewhere",
   "metadata": {},
   "outputs": [
    {
     "data": {
      "text/plain": [
       "'Archive_Test.zip'"
      ]
     },
     "execution_count": 26,
     "metadata": {},
     "output_type": "execute_result"
    }
   ],
   "source": [
    "shutil.make_archive('Archive_Test', 'zip')"
   ]
  },
  {
   "cell_type": "code",
   "execution_count": 19,
   "id": "iraqi-shell",
   "metadata": {},
   "outputs": [],
   "source": [
    "archive_name = os.path.expanduser(os.path.join('~', 'myarchive'))"
   ]
  },
  {
   "cell_type": "code",
   "execution_count": 20,
   "id": "accepting-momentum",
   "metadata": {},
   "outputs": [
    {
     "data": {
      "text/plain": [
       "'C:\\\\Users\\\\Subhadeep Banerjee\\\\myarchive'"
      ]
     },
     "execution_count": 20,
     "metadata": {},
     "output_type": "execute_result"
    }
   ],
   "source": [
    "archive_name"
   ]
  },
  {
   "cell_type": "code",
   "execution_count": 22,
   "id": "bright-airline",
   "metadata": {},
   "outputs": [
    {
     "data": {
      "text/plain": [
       "'C:\\\\Users\\\\Subhadeep Banerjee\\\\.ssh'"
      ]
     },
     "execution_count": 22,
     "metadata": {},
     "output_type": "execute_result"
    }
   ],
   "source": [
    "os.path.expanduser(os.path.join('~', '.ssh'))"
   ]
  },
  {
   "cell_type": "markdown",
   "id": "sharp-punishment",
   "metadata": {},
   "source": [
    "**shutil.get_archive_formats()** - Return a list of supported formats for archivomg. Each elements of the returned sequence is a tuple (name, description)"
   ]
  },
  {
   "cell_type": "code",
   "execution_count": 38,
   "id": "electronic-hospital",
   "metadata": {},
   "outputs": [
    {
     "data": {
      "text/plain": [
       "['.ipynb_checkpoints',\n",
       " 'app.py',\n",
       " 'Archive_Test.zip',\n",
       " 'asyncio.ipynb',\n",
       " 'basicLogging.py',\n",
       " 'file.txt',\n",
       " 'file.zip',\n",
       " 'file2.txt',\n",
       " 'file_copy.txt',\n",
       " 'FORTESTYO',\n",
       " 'shutil.ipynb',\n",
       " 'yoyo.txt',\n",
       " 'yoyoyo.txt']"
      ]
     },
     "execution_count": 38,
     "metadata": {},
     "output_type": "execute_result"
    }
   ],
   "source": [
    "import os\n",
    "import glob\n",
    "import shutil\n",
    "os.listdir()"
   ]
  },
  {
   "cell_type": "code",
   "execution_count": 5,
   "id": "respective-louisiana",
   "metadata": {},
   "outputs": [
    {
     "data": {
      "text/plain": [
       "[('bztar', \"bzip2'ed tar-file\"),\n",
       " ('gztar', \"gzip'ed tar-file\"),\n",
       " ('tar', 'uncompressed tar file'),\n",
       " ('xztar', \"xz'ed tar-file\"),\n",
       " ('zip', 'ZIP file')]"
      ]
     },
     "execution_count": 5,
     "metadata": {},
     "output_type": "execute_result"
    }
   ],
   "source": [
    "shutil.get_archive_formats()"
   ]
  },
  {
   "cell_type": "markdown",
   "id": "convertible-mining",
   "metadata": {},
   "source": [
    "**shutil.register_archive_format(name, function[, extra_args[, description]])** - Register an archiver for the format name."
   ]
  },
  {
   "cell_type": "code",
   "execution_count": 48,
   "id": "quick-poetry",
   "metadata": {},
   "outputs": [
    {
     "data": {
      "text/plain": [
       "[('bztar', \"bzip2'ed tar-file\"),\n",
       " ('gztar', \"gzip'ed tar-file\"),\n",
       " ('myzip', 'myzip file'),\n",
       " ('tar', 'uncompressed tar file'),\n",
       " ('xztar', \"xz'ed tar-file\"),\n",
       " ('zip', 'ZIP file')]"
      ]
     },
     "execution_count": 48,
     "metadata": {},
     "output_type": "execute_result"
    }
   ],
   "source": [
    "def myzip():\n",
    "    pass\n",
    "shutil.register_archive_format('myzip', myzip, description='myzip file')\n",
    "shutil.get_archive_formats()"
   ]
  },
  {
   "cell_type": "markdown",
   "id": "aggregate-barrier",
   "metadata": {},
   "source": [
    "**shutil.unregister_archive_format(name)** - Remove the archive format name from the list of supported formats."
   ]
  },
  {
   "cell_type": "code",
   "execution_count": 49,
   "id": "lined-thursday",
   "metadata": {},
   "outputs": [
    {
     "data": {
      "text/plain": [
       "[('bztar', \"bzip2'ed tar-file\"),\n",
       " ('gztar', \"gzip'ed tar-file\"),\n",
       " ('tar', 'uncompressed tar file'),\n",
       " ('xztar', \"xz'ed tar-file\"),\n",
       " ('zip', 'ZIP file')]"
      ]
     },
     "execution_count": 49,
     "metadata": {},
     "output_type": "execute_result"
    }
   ],
   "source": [
    "shutil.unregister_archive_format('myzip')\n",
    "shutil.get_archive_formats()"
   ]
  },
  {
   "cell_type": "markdown",
   "id": "excessive-neutral",
   "metadata": {},
   "source": [
    "**shutil.unpack_archive(filename[, extract_dir[, format]])** - Unpack an archive. filename is the full path of the archive."
   ]
  },
  {
   "cell_type": "code",
   "execution_count": 40,
   "id": "southern-hacker",
   "metadata": {},
   "outputs": [],
   "source": [
    "shutil.unpack_archive(os.path.abspath('file.zip'), 'C:\\\\Users\\\\Subhadeep Banerjee\\\\Standard Library\\\\FORTESTYO', 'zip')"
   ]
  },
  {
   "cell_type": "markdown",
   "id": "arranged-singing",
   "metadata": {},
   "source": [
    "**shutil.register_unpack_format(name, extensions, function[, extra_args[, description]])** - register an un[acl format. name is the name of the format and extensions is a list of extensions corresponding to the format like `.zip` for Zip file"
   ]
  },
  {
   "cell_type": "code",
   "execution_count": 58,
   "id": "polyphonic-privacy",
   "metadata": {},
   "outputs": [
    {
     "data": {
      "text/plain": [
       "[('bztar', ['.tar.bz2', '.tbz2'], \"bzip2'ed tar-file\"),\n",
       " ('gztar', ['.tar.gz', '.tgz'], \"gzip'ed tar-file\"),\n",
       " ('tar', ['.tar'], 'uncompressed tar file'),\n",
       " ('xztar', ['.tar.xz', '.txz'], \"xz'ed tar-file\"),\n",
       " ('yoyo', '[.yoyo]', 'yoyo'),\n",
       " ('zip', ['.zip'], 'ZIP file')]"
      ]
     },
     "execution_count": 58,
     "metadata": {},
     "output_type": "execute_result"
    }
   ],
   "source": [
    "def yoyo():\n",
    "    pass\n",
    "shutil.register_unpack_format('yoyo', '[.yoyo]', yoyo, description='yoyo')\n",
    "shutil.get_unpack_formats()"
   ]
  },
  {
   "cell_type": "markdown",
   "id": "dietary-crossing",
   "metadata": {},
   "source": [
    "**shutil.unregister_unpack_format(name)** - Unregister an unpack format. name is the name of the formnat"
   ]
  },
  {
   "cell_type": "code",
   "execution_count": 59,
   "id": "scientific-bench",
   "metadata": {},
   "outputs": [
    {
     "data": {
      "text/plain": [
       "[('bztar', ['.tar.bz2', '.tbz2'], \"bzip2'ed tar-file\"),\n",
       " ('gztar', ['.tar.gz', '.tgz'], \"gzip'ed tar-file\"),\n",
       " ('tar', ['.tar'], 'uncompressed tar file'),\n",
       " ('xztar', ['.tar.xz', '.txz'], \"xz'ed tar-file\"),\n",
       " ('zip', ['.zip'], 'ZIP file')]"
      ]
     },
     "execution_count": 59,
     "metadata": {},
     "output_type": "execute_result"
    }
   ],
   "source": [
    "shutil.unregister_unpack_format('yoyo')\n",
    "shutil.get_unpack_formats()"
   ]
  },
  {
   "cell_type": "markdown",
   "id": "sorted-sierra",
   "metadata": {},
   "source": [
    "**shutil.get_unpack_formats()** - Return a list of all registered formats for unpacking. Each element of the returned sequence is a tuple (name, extensions, description)."
   ]
  },
  {
   "cell_type": "code",
   "execution_count": 24,
   "id": "affiliated-service",
   "metadata": {},
   "outputs": [
    {
     "data": {
      "text/plain": [
       "[('bztar', ['.tar.bz2', '.tbz2'], \"bzip2'ed tar-file\"),\n",
       " ('gztar', ['.tar.gz', '.tgz'], \"gzip'ed tar-file\"),\n",
       " ('tar', ['.tar'], 'uncompressed tar file'),\n",
       " ('xztar', ['.tar.xz', '.txz'], \"xz'ed tar-file\"),\n",
       " ('zip', ['.zip'], 'ZIP file')]"
      ]
     },
     "execution_count": 24,
     "metadata": {},
     "output_type": "execute_result"
    }
   ],
   "source": [
    "shutil.get_unpack_formats()"
   ]
  },
  {
   "cell_type": "markdown",
   "id": "purple-instruction",
   "metadata": {},
   "source": [
    "# Querying the size of the output terminal\n",
    "**shutil.get_terminal_size(fallback=(columns, lines))** - Get the size of the terminal window"
   ]
  },
  {
   "cell_type": "code",
   "execution_count": 42,
   "id": "funky-consciousness",
   "metadata": {},
   "outputs": [
    {
     "data": {
      "text/plain": [
       "os.terminal_size(columns=120, lines=30)"
      ]
     },
     "execution_count": 42,
     "metadata": {},
     "output_type": "execute_result"
    }
   ],
   "source": [
    "shutil.get_terminal_size()"
   ]
  }
 ],
 "metadata": {
  "kernelspec": {
   "display_name": "Python 3",
   "language": "python",
   "name": "python3"
  },
  "language_info": {
   "codemirror_mode": {
    "name": "ipython",
    "version": 3
   },
   "file_extension": ".py",
   "mimetype": "text/x-python",
   "name": "python",
   "nbconvert_exporter": "python",
   "pygments_lexer": "ipython3",
   "version": "3.8.7"
  }
 },
 "nbformat": 4,
 "nbformat_minor": 5
}
