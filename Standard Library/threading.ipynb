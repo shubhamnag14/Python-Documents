{
 "cells": [
  {
   "cell_type": "markdown",
   "metadata": {},
   "source": [
    "# Threading\n",
    "This module constructs higher-level threading interfaces on the top lower level _thread module"
   ]
  },
  {
   "cell_type": "code",
   "execution_count": 1,
   "metadata": {},
   "outputs": [],
   "source": [
    "import threading"
   ]
  },
  {
   "cell_type": "code",
   "execution_count": 3,
   "metadata": {},
   "outputs": [
    {
     "data": {
      "text/plain": [
       "7"
      ]
     },
     "execution_count": 3,
     "metadata": {},
     "output_type": "execute_result"
    }
   ],
   "source": [
    "# Return the number of Thread objects currently alive. \n",
    "# The returned count is equal to the length of the list returned by enumerate().\n",
    "threading.active_count()"
   ]
  },
  {
   "cell_type": "code",
   "execution_count": 6,
   "metadata": {},
   "outputs": [
    {
     "data": {
      "text/plain": [
       "<_MainThread(MainThread, started 7028)>"
      ]
     },
     "execution_count": 6,
     "metadata": {},
     "output_type": "execute_result"
    }
   ],
   "source": [
    "# Return the current Thread object, corresponding to the caller’s thread of control. \n",
    "# If the caller’s thread of control was not created through the threading module, \n",
    "# a dummy thread object with limited functionality is returned.\n",
    "threading.current_thread()"
   ]
  },
  {
   "cell_type": "markdown",
   "metadata": {},
   "source": [
    "Handle uncaught exception raised by Thread.run().\n",
    "\n",
    "The args argument has the following attributes:\n",
    "\n",
    "* exc_type: Exception type.\n",
    "* exc_value: Exception value, can be None.\n",
    "* exc_traceback: Exception traceback, can be None.\n",
    "* thread: Thread which raised the exception, can be None.\n",
    "    \n",
    "If exc_type is SystemExit, the exception is silently ignored. Otherwise, the exception is printed out on sys.stderr.\n",
    "\n",
    "If this function raises an exception, sys.excepthook() is called to handle it.\n",
    "\n",
    "threading.excepthook() can be overridden to control how uncaught exceptions raised by Thread.run() are handled.\n",
    "\n",
    "Storing exc_value using a custom hook can create a reference cycle. It should be cleared explicitly to break the reference cycle when the exception is no longer needed.\n",
    "\n",
    "Storing thread using a custom hook can resurrect it if it is set to an object which is being finalized. Avoid storing thread after the custom hook completes to avoid resurrecting objects."
   ]
  },
  {
   "cell_type": "code",
   "execution_count": 7,
   "metadata": {},
   "outputs": [
    {
     "data": {
      "text/plain": [
       "7028"
      ]
     },
     "execution_count": 7,
     "metadata": {},
     "output_type": "execute_result"
    }
   ],
   "source": [
    "# Return the ‘thread identifier’ of the current thread. This is a nonzero integer. \n",
    "# Its value has no direct meaning; it is intended as a magic cookie to be used e.g. \n",
    "# to index a dictionary of thread-specific data. Thread identifiers may be recycled \n",
    "# when a thread exits and another thread is created.\n",
    "threading.get_ident()"
   ]
  },
  {
   "cell_type": "code",
   "execution_count": 8,
   "metadata": {},
   "outputs": [
    {
     "data": {
      "text/plain": [
       "7028"
      ]
     },
     "execution_count": 8,
     "metadata": {},
     "output_type": "execute_result"
    }
   ],
   "source": [
    "# Return the native integral Thread ID of the current thread assigned by the kernel. \n",
    "# This is a non-negative integer. Its value may be used to uniquely identify this \n",
    "# particular thread system-wide (until the thread terminates, after which the value may be recycled by the OS).\n",
    "threading.get_native_id()"
   ]
  },
  {
   "cell_type": "code",
   "execution_count": 9,
   "metadata": {},
   "outputs": [
    {
     "data": {
      "text/plain": [
       "[<_MainThread(MainThread, started 7028)>,\n",
       " <Thread(Tornado selector, started daemon 1016)>,\n",
       " <Thread(Thread-4, started daemon 11104)>,\n",
       " <Heartbeat(Thread-5, started daemon 11164)>,\n",
       " <Thread(Tornado selector, started daemon 1816)>,\n",
       " <HistorySavingThread(IPythonHistorySavingThread, started 4620)>,\n",
       " <ParentPollerWindows(Thread-3, started daemon 10104)>]"
      ]
     },
     "execution_count": 9,
     "metadata": {},
     "output_type": "execute_result"
    }
   ],
   "source": [
    "# Return a list of all Thread objects currently alive. The list includes daemonic threads, dummy thread objects \n",
    "# created by current_thread(), and the main thread. It excludes terminated threads and threads that have not yet been started.\n",
    "threading.enumerate()"
   ]
  },
  {
   "cell_type": "code",
   "execution_count": 14,
   "metadata": {},
   "outputs": [
    {
     "name": "stdout",
     "output_type": "stream",
     "text": [
      "<_MainThread(MainThread, started 7028)>\n"
     ]
    }
   ],
   "source": [
    "# Return the main Thread object. In normal conditions, the main thread is the thread from which the Python interpreter was started.\n",
    "print(threading.main_thread())"
   ]
  },
  {
   "cell_type": "code",
   "execution_count": 19,
   "metadata": {},
   "outputs": [
    {
     "name": "stdout",
     "output_type": "stream",
     "text": [
      "None\n",
      "None\n",
      "None\n",
      "None\n",
      "None\n",
      "None\n",
      "None\n"
     ]
    }
   ],
   "source": [
    "# Set a trace function for all threads started from the threading module. \n",
    "# The func will be passed to sys.settrace() for each thread, before its run() method is called.\n",
    "threading.settrace()"
   ]
  },
  {
   "cell_type": "code",
   "execution_count": 20,
   "metadata": {},
   "outputs": [
    {
     "ename": "TypeError",
     "evalue": "setprofile() missing 1 required positional argument: 'func'",
     "output_type": "error",
     "traceback": [
      "\u001b[1;31m---------------------------------------------------------------------------\u001b[0m",
      "\u001b[1;31mTypeError\u001b[0m                                 Traceback (most recent call last)",
      "\u001b[1;32m<ipython-input-20-0b68965c12f9>\u001b[0m in \u001b[0;36m<module>\u001b[1;34m\u001b[0m\n\u001b[1;32m----> 1\u001b[1;33m \u001b[0mthreading\u001b[0m\u001b[1;33m.\u001b[0m\u001b[0msetprofile\u001b[0m\u001b[1;33m(\u001b[0m\u001b[1;33m)\u001b[0m\u001b[1;33m\u001b[0m\u001b[1;33m\u001b[0m\u001b[0m\n\u001b[0m",
      "\u001b[1;31mTypeError\u001b[0m: setprofile() missing 1 required positional argument: 'func'"
     ]
    }
   ],
   "source": [
    "# Set a profile function for all threads started from the threading module. \n",
    "# The func will be passed to sys.setprofile() for each thread, before its run() method is called.\n",
    "threading.setprofile()"
   ]
  },
  {
   "cell_type": "markdown",
   "metadata": {},
   "source": [
    "Return the thread stack size used when creating new threads. The optional size argument specifies the stack size to be used for subsequently created threads, and must be 0 (use platform or configured default) or a positive integer value of at least 32,768 (32 KiB). If size is not specified, 0 is used. If changing the thread stack size is unsupported, a RuntimeError is raised. If the specified stack size is invalid, a ValueError is raised and the stack size is unmodified. 32 KiB is currently the minimum supported stack size value to guarantee sufficient stack space for the interpreter itself. Note that some platforms may have particular restrictions on values for the stack size, such as requiring a minimum stack size > 32 KiB or requiring allocation in multiples of the system memory page size - platform documentation should be referred to for more information (4 KiB pages are common; using multiples of 4096 for the stack size is the suggested approach in the absence of more specific information)."
   ]
  },
  {
   "cell_type": "code",
   "execution_count": 22,
   "metadata": {},
   "outputs": [
    {
     "ename": "TypeError",
     "evalue": "'_MainThread' object cannot be interpreted as an integer",
     "output_type": "error",
     "traceback": [
      "\u001b[1;31m---------------------------------------------------------------------------\u001b[0m",
      "\u001b[1;31mTypeError\u001b[0m                                 Traceback (most recent call last)",
      "\u001b[1;32m<ipython-input-22-1d6b9d994f17>\u001b[0m in \u001b[0;36m<module>\u001b[1;34m\u001b[0m\n\u001b[1;32m----> 1\u001b[1;33m \u001b[0mthreading\u001b[0m\u001b[1;33m.\u001b[0m\u001b[0mstack_size\u001b[0m\u001b[1;33m(\u001b[0m\u001b[0mthreading\u001b[0m\u001b[1;33m.\u001b[0m\u001b[0mmain_thread\u001b[0m\u001b[1;33m(\u001b[0m\u001b[1;33m)\u001b[0m\u001b[1;33m)\u001b[0m\u001b[1;33m\u001b[0m\u001b[1;33m\u001b[0m\u001b[0m\n\u001b[0m",
      "\u001b[1;31mTypeError\u001b[0m: '_MainThread' object cannot be interpreted as an integer"
     ]
    }
   ],
   "source": [
    "threading.stack_size(threading.main_thread())"
   ]
  },
  {
   "cell_type": "code",
   "execution_count": 26,
   "metadata": {},
   "outputs": [
    {
     "data": {
      "text/plain": [
       "4294967.0"
      ]
     },
     "execution_count": 26,
     "metadata": {},
     "output_type": "execute_result"
    }
   ],
   "source": [
    "# The maximum value allowed for the timeout parameter of blocking functions \n",
    "# (Lock.acquire(), RLock.acquire(), Condition.wait(), etc.). \n",
    "# Specifying a timeout greater than this value will raise an OverflowError.\n",
    "threading.TIMEOUT_MAX"
   ]
  },
  {
   "cell_type": "markdown",
   "metadata": {},
   "source": [
    "## Thread-Local Data"
   ]
  },
  {
   "cell_type": "code",
   "execution_count": 27,
   "metadata": {},
   "outputs": [],
   "source": [
    "# Thread-local data is data whose values are thread specific. To manage threa-local data, \n",
    "# just create an instance of local (or a subclass) and store attributes on it\n",
    "mydata = threading.local()\n",
    "mydata.x = 1"
   ]
  },
  {
   "cell_type": "markdown",
   "metadata": {},
   "source": [
    "## Thread Objects"
   ]
  },
  {
   "cell_type": "markdown",
   "metadata": {},
   "source": [
    "The Thread class represents an activity that is run in a separate thread of control. There are two ways to specify the activity: by passing a callable object to the constructor, or by overriding the run() method in a subclass. No other methods (except for the constructor) should be overridden in a subclass. In other words, only override the __init__() and run() methods of this class.\n",
    "\n",
    "Once a thread object is created, its activity must be started by calling the thread’s start() method. This invokes the run() method in a separate thread of control.\n",
    "\n",
    "Once the thread’s activity is started, the thread is considered ‘alive’. It stops being alive when its run() method terminates – either normally, or by raising an unhandled exception. The is_alive() method tests whether the thread is alive.\n",
    "\n",
    "Other threads can call a thread’s join() method. This blocks the calling thread until the thread whose join() method is called is terminated.\n",
    "\n",
    "A thread has a name. The name can be passed to the constructor, and read or changed through the name attribute.\n",
    "\n",
    "If the run() method raises an exception, threading.excepthook() is called to handle it. By default, threading.excepthook() ignores silently SystemExit.\n",
    "\n",
    "A thread can be flagged as a “daemon thread”. The significance of this flag is that the entire Python program exits when only daemon threads are left. The initial value is inherited from the creating thread. The flag can be set through the daemon property or the daemon constructor argument.\n",
    "\n",
    "Note Daemon threads are abruptly stopped at shutdown. Their resources (such as open files, database transactions, etc.) may not be released properly. If you want your threads to stop gracefully, make them non-daemonic and use a suitable signalling mechanism such as an Event.\n",
    "There is a “main thread” object; this corresponds to the initial thread of control in the Python program. It is not a daemon thread.\n",
    "\n",
    "There is the possibility that “dummy thread objects” are created. These are thread objects corresponding to “alien threads”, which are threads of control started outside the threading module, such as directly from C code. Dummy thread objects have limited functionality; they are always considered alive and daemonic, and cannot be join()ed. They are never deleted, since it is impossible to detect the termination of alien threads.\n",
    "\n",
    "*class* threading.**Thread**(group=None, target=None, name=None, args=(), kwargs={}, *, daemon=None)*\n",
    "\n",
    "This constructor should always be called with keyword arguments. Arguments are:\n",
    "\n",
    "group should be None; reserved for future extension when a ThreadGroup class is implemented.\n",
    "\n",
    "target is the callable object to be invoked by the run() method. Defaults to None, meaning nothing is called.\n",
    "\n",
    "name is the thread name. By default, a unique name is constructed of the form “Thread-N” where N is a small decimal number.\n",
    "\n",
    "args is the argument tuple for the target invocation. Defaults to ().\n",
    "\n",
    "kwargs is a dictionary of keyword arguments for the target invocation. Defaults to {}.\n",
    "\n",
    "If not None, daemon explicitly sets whether the thread is daemonic. If None (the default), the daemonic property is inherited from the current thread.\n",
    "\n",
    "If the subclass overrides the constructor, it must make sure to invoke the base class constructor (Thread.__init__()) before doing anything else to the thread.\n",
    "\n",
    "Changed in version 3.3: Added the daemon argument.\n",
    "\n",
    "* **start()**  \n",
    "Start the thread's activity\n",
    "It must be called at most once per thread object. It arranges for the object's `run()` method to be invoked in a seperate thread of control.\n",
    "This method will cause an `RunTimeError`. If called more that omce on the same thread object.\n",
    "* **run()**  \n",
    "Method representing the thread's activity.\n",
    "You may override this method in a subclass. The standard `run()` method invokes the callable object passed to the object's constructor as the target arguments, if any, with positional and keyword arguments taken from the args and kwargs arguments, respectively.\n",
    "* **join(timeout=None)**\n",
    "Wait untill the thread terminates. This blocks the calling thread untill the thread whose `join()`, method is called terminates - either normally or through an unhandled exception or untill the optional timeout occurs.  \n",
    "\n",
    "When the timeout arguments is present and not `None`. It should be a floating point number specifying a timeout for the operation in secs (or fractions thereof). As `join()` always returns None you must call `is_alive()` after `join()` to decide whether a timeoout happened - if the thread is still alive, the `join()` call timed out.\n",
    "\n",
    "When the timeout arguemtns is not present or None the operation wil block untill the thread terminates.\n",
    "\n",
    "A thread can be `join()` ed many times.\n",
    "\n",
    "`join()` raises a RuntimeError if an attempt is made to join the current thread as that would cause a deadlock. It is also an error to `join()` a thread before it has been started and attempts to do so raise the same exception.\n",
    "* **name**  \n",
    "A string used for identification purposes only. It has so semantics. Multiple threads may be given the same. The initial name is set by the constructer.\n",
    "* **getName()**\n",
    "* **setName()**\n",
    "Old getter/Setter API for name; use it directly as a property insted\n",
    "* ident\n",
    "The thread identifier of this thread or `None`if the thread has not been started. This is a nonzero integer. See the get_ident() function. Thread identifier may be recycled when a thread exits and another thread is created. The identifier is available even after the thread has exited.\n",
    "* **native_id**\n",
    "The native integral thread ID of this thread. This is a non-negative integer, or `None` if the thread has not been started. See the get_native_id() function. This represents the Thread ID (TID) as assigned to the thread by the OS(kernel). Its value may be used to uniquely identify this particular thread system-wide (untill the thread terminates, after which the value may be recycled by the OS).\n",
    "\n",
    "Note Similar to Process IDs, Thread IDs are only valid (guaranteed unique system-wide) from the time the thread is created     until the thread has been terminated.\n",
    "* **is_alive()**\n",
    "Return whether the thread is alive\n",
    "This method returns `True` just before the `run()` method starts until just after the `run()` method terminates. THe module function `enumerate()` returns a list of all alive threads.\n",
    "* **daemon**\n",
    "A boolean value indicating whether this thread is a daemon thread (True) or not (False). This must be set before `start()` is called, otherwise RuntimeError is raised its initial value is inherited from the creating thread; the main thread is not a daemon thread and therefore all threads created in the main thread default to `daemon` == `False`.\n",
    "The entire Python program exits when no aline non-daemon threads are left\n",
    "* **isDaemon()**\n",
    "* **setDaemon()**\n",
    "Old getter/setter API for daemon; use it directly as property instead\n",
    "\n",
    "## CPython Implementation Detail:\n",
    "In CPython, due to the Global Interpreter Lock, only one thread can execute Python code at once (even though certain performance-oriented libraries might overcome this limitation). If you want your application to make better use of the computational resources of multi-core machines, you are advised to use multiprocessing or concurrent.futures.ProcessPoolExecutor. However, threading is still an appropriate model if you want to run multiple I/O-bound tasks simultaneously.\n",
    "\n",
    "### Global Interpreter Lock - \n",
    "The mechanism used by the CPython interpreter to assure that only ont thread executes Python bytecode at a time. This simplifies the CPython implementation by making the Object Model (including critical built-in types such as dict) implictly safe againsy concurreny access. Locking the entire interpreter makes it easier for the interpreter to be multi-threaded at the expense of much of the parallelism afforded by multi-processor machines.\n",
    "\n",
    "However, some extension modules, either standard or third-party, are designed so as to release the GIL when doing computationally-intensive tasks such as compression or hashing. Also, the GIL is always released when doing I/O.\n",
    "\n",
    "Past efforts to create a “free-threaded” interpreter (one which locks shared data at a much finer granularity) have not been successful because performance suffered in the common single-processor case. It is believed that overcoming this performance issue would make the implementation much more complicated and therefore costlier to maintain."
   ]
  },
  {
   "cell_type": "markdown",
   "metadata": {},
   "source": [
    "## Lock Objects\n",
    "A primitive lock is a synchronization primitive that is not owned by a particular thread when locked. In Python, it is currently the lowest level synchronization primitive available, implemented directly by the _thread extension module.\n",
    "\n",
    "A primitive lock is in one of two states, “locked” or “unlocked”. It is created in the unlocked state. It has two basic methods, acquire() and release(). When the state is unlocked, acquire() changes the state to locked and returns immediately. When the state is locked, acquire() blocks until a call to release() in another thread changes it to unlocked, then the acquire() call resets it to locked and returns. The release() method should only be called in the locked state; it changes the state to unlocked and returns immediately. If an attempt is made to release an unlocked lock, a RuntimeError will be raised.\n",
    "\n",
    "*class* threading.**Lock**\n",
    "The class implementing primitive lock objects. Once a thread has acquired a lock, subsequent attempts to acquire it block, until it is released; any thread may release it.\n",
    "\n",
    "Note that Lock is actually a factory function which returns an instance of the most efficient version of the concrete Lock class that is supported by the platform.\n",
    "\n",
    "**acquire** *(blocking=True, timeout = -1)\n",
    "Acquire a lock, blocking or non-blocking.\n",
    "\n",
    "When invoked with the blocking argument set to True (the default), block until the lock is unlocked, then set it to locked and return True.\n",
    "\n",
    "When invoked with the blocking argument set to False, do not block. If a call with blocking set to True would block, return False immediately; otherwise, set the lock to locked and return True.\n",
    "\n",
    "When invoked with the floating-point timeout argument set to a positive value, block for at most the number of seconds specified by timeout and as long as the lock cannot be acquired. A timeout argument of -1 specifies an unbounded wait. It is forbidden to specify a timeout when blocking is false.\n",
    "\n",
    "The return value is True if the lock is acquired successfully, False if not (for example if the timeout expired).\n",
    "\n",
    "**release()**  \n",
    "Release a lock. This can be called from any thread not only the thread which has acquired the lock.\n",
    "\n",
    "When the lock is locked reset it to unlocked and return if any other threads are blocked waiting for the lock to become unlocked allow exactly one of them to preceed.\n",
    "\n",
    "When invoked on an unlocked lock, a RuntimeError is raised\n",
    "\n",
    "There is no return value.\n",
    "\n",
    "**locked()**  \n",
    "Return true if the lock is acquired."
   ]
  },
  {
   "cell_type": "markdown",
   "metadata": {},
   "source": [
    "## Rlock Objects\n",
    "A reentrant lock is a synchronization primitive that may be acquired multiple times by the same thread. Internally, it uses the concepts of “owning thread” and “recursion level” in addition to the locked/unlocked state used by primitive locks. In the locked state, some thread owns the lock; in the unlocked state, no thread owns it.\n",
    "\n",
    "To lock the lock, a thread calls its acquire() method; this returns once the thread owns the lock. To unlock the lock, a thread calls its release() method. acquire()/release() call pairs may be nested; only the final release() (the release() of the outermost pair) resets the lock to unlocked and allows another thread blocked in acquire() to proceed.\n",
    "\n",
    "*class* threading.**Rlock**  \n",
    "This class implements reentrant lock objects. A reentrant lock must be released by the thread that acquired it. Once a thread has acquired a reentrant lock, the same thread may acquire it again without blocking; the thread must release it once for each time it has acquired it.\n",
    "\n",
    "Note that RLock is actually a factory function which returns an instance of the most efficient version of the concrete RLock class that is supported by the platform.\n",
    "\n",
    "**acquire(blocking=True, timeout=-1)**\n",
    "Acquire a lock, blocking or non-blocking.\n",
    "\n",
    "When invoked without arguments: if this thread already owns the lock, increment the recursion level by one, and return immediately. Otherwise, if another thread owns the lock, block until the lock is unlocked. Once the lock is unlocked (not owned by any thread), then grab ownership, set the recursion level to one, and return. If more than one thread is blocked waiting until the lock is unlocked, only one at a time will be able to grab ownership of the lock. There is no return value in this case.\n",
    "\n",
    "When invoked with the blocking argument set to true, do the same thing as when called without arguments, and return True.\n",
    "\n",
    "When invoked with the blocking argument set to false, do not block. If a call without an argument would block, return False immediately; otherwise, do the same thing as when called without arguments, and return True.\n",
    "\n",
    "When invoked with the floating-point timeout argument set to a positive value, block for at most the number of seconds specified by timeout and as long as the lock cannot be acquired. Return True if the lock has been acquired, false if the timeout has elapsed.\n",
    "\n",
    "**release()**  \n",
    "Release a lock, decrementing the recursion level. If after the decrement it is zero, reset the lock to unlocked (not owned by any thread), and if any other threads are blocked waiting for the lock to become unlocked, allow exactly one of them to proceed. If after the decrement the recursion level is still nonzero, the lock remains locked and owned by the calling thread.\n",
    "\n",
    "Only call this method when the calling thread owns the lock. A RuntimeError is raised if this method is called when the lock is unlocked.\n",
    "\n",
    "There is no return value."
   ]
  },
  {
   "cell_type": "markdown",
   "metadata": {},
   "source": [
    "## Condition Objects\n",
    "\n",
    "A condition variable is always associated with some kind of lock; this can be passed in or one will be created by default. Passing one in is useful when several condition variables must share the same lock. The lock is part of the condition object: you don’t have to track it separately.\n",
    "\n",
    "A condition variable obeys the context management protocol: using the with statement acquires the associated lock for the duration of the enclosed block. The acquire() and release() methods also call the corresponding methods of the associated lock.\n",
    "\n",
    "Other methods must be called with the associated lock held. The wait() method releases the lock, and then blocks until another thread awakens it by calling notify() or notify_all(). Once awakened, wait() re-acquires the lock and returns. It is also possible to specify a timeout.\n",
    "\n",
    "The notify() method wakes up one of the threads waiting for the condition variable, if any are waiting. The notify_all() method wakes up all threads waiting for the condition variable.\n",
    "\n",
    "Note: the notify() and notify_all() methods don’t release the lock; this means that the thread or threads awakened will not return from their wait() call immediately, but only when the thread that called notify() or notify_all() finally relinquishes ownership of the lock.\n",
    "\n",
    "* class threading.**Condition** *(lock=None)*\n",
    "This class implements condition variable objects. A condition variable allows one or more threads to wait until they are notified by another thread.\n",
    "\n",
    "If the lock argument is given and not None, it must be a Lock or RLock object, and it is used as the underlying lock. Otherwise, a new RLock object is created and used as the underlying lock.\n",
    "\n",
    "Changed in version 3.3: changed from a factory function to a class.\n",
    "\n",
    "* **acquire(*args)**\n",
    "Acquire the underlying lock. This method calls the corresponding method on the underlying lock; the return value is whatever that method returns.\n",
    "\n",
    "* **release()**\n",
    "Release the underlying lock. This method calls the corresponding method on the underlying lock; there is no return value.\n",
    "\n",
    "* **wait(timeout=None)**\n",
    "Wait until notified or until a timeout occurs. If the calling thread has not acquired the lock when this method is called, a RuntimeError is raised.\n",
    "\n",
    "This method releases the underlying lock, and then blocks until it is awakened by a notify() or notify_all() call for the same condition variable in another thread, or until the optional timeout occurs. Once awakened or timed out, it re-acquires the lock and returns.\n",
    "\n",
    "When the timeout argument is present and not None, it should be a floating point number specifying a timeout for the operation in seconds (or fractions thereof).\n",
    "\n",
    "When the underlying lock is an RLock, it is not released using its release() method, since this may not actually unlock the lock when it was acquired multiple times recursively. Instead, an internal interface of the RLock class is used, which really unlocks it even when it has been recursively acquired several times. Another internal interface is then used to restore the recursion level when the lock is reacquired.\n",
    "\n",
    "The return value is True unless a given timeout expired, in which case it is False.\n",
    "\n",
    "Changed in version 3.2: Previously, the method always returned None.\n",
    "\n",
    "* **wait_for**(predicate, timeout=None)\n",
    "\n",
    "Wait until a condition evaluates to true. predicate should be a callable which result will be interpreted as a boolean value. A timeout may be provided giving the maximum time to wait.\n",
    "\n",
    "This utility method may call wait() repeatedly until the predicate is satisfied, or until a timeout occurs. The return value is the last return value of the predicate and will evaluate to False if the method timed out.\n",
    "\n",
    "Ignoring the timeout feature, calling this method is roughly equivalent to writing:\n",
    "<pre>\n",
    "while not predicate():\n",
    "    cv.wait()</pre>\n",
    "Therefore, the same rules apply as with wait(): The lock must be held when called and is re-acquired on return. The predicate is evaluated with the lock held.\n",
    "\n",
    "New in version 3.2.\n",
    "\n",
    "* **notify(n=1)**  \n",
    "By default, wake up one thread waiting on this condition, if any. If the calling thread has not acquired the lock when this method is called, a RuntimeError is raised.\n",
    "\n",
    "This method wakes up at most n of the threads waiting for the condition variable; it is a no-op if no threads are waiting.\n",
    "\n",
    "The current implementation wakes up exactly n threads, if at least n threads are waiting. However, it’s not safe to rely on this behavior. A future, optimized implementation may occasionally wake up more than n threads.\n",
    "\n",
    "Note: an awakened thread does not actually return from its wait() call until it can reacquire the lock. Since notify() does not release the lock, its caller should.\n",
    "\n",
    "* **notify_all()**  \n",
    "Wake up all threads waiting on this condition. This method acts like notify(), but wakes up all waiting threads instead of one. If the calling thread has not acquired the lock when this method is called, a RuntimeError is raised."
   ]
  },
  {
   "cell_type": "markdown",
   "metadata": {},
   "source": [
    "## Semaphore Objects\n",
    "\n",
    "This is one of the oldest synchronization primitives in the history of computer science, invented by the early Dutch computer scientist Edsger W. Dijkstra (he used the names P() and V() instead of acquire() and release()).\n",
    "\n",
    "A semaphore manages an internal counter which is decremented by each acquire() call and incremented by each release() call. The counter can never go below zero; when acquire() finds that it is zero, it blocks, waiting until some other thread calls release().\n",
    "\n",
    "*class* threading.**Semaphore**(value=1)  \n",
    "\n",
    "This class implements semaphore objects. A semaphore manages an atomic counter representing the number of release() calls minus the number of acquire() calls, plus an initial value. The acquire() method blocks if necessary until it can return without making the counter negative. If not given, value defaults to 1.\n",
    "\n",
    "The optional argument gives the initial value for the internal counter; it defaults to 1. If the value given is less than 0, ValueError is raised.\n",
    "\n",
    "**acquire**(blocking=True, timeout=None)\n",
    "\n",
    "Accquire a semaphore. \n",
    "\n",
    "When invoked without arguments:\n",
    "\n",
    "If the internal counter is larger than zero on entry, decrement it by one and return True immediately.\n",
    "\n",
    "If the internal counter is zero on entry, block until awoken by a call to release(). Once awoken (and the counter is greater than 0), decrement the counter by 1 and return True. Exactly one thread will be awoken by each call to release(). The order in which threads are awoken should not be relied on.\n",
    "\n",
    "When invoked with blocking set to false, do not block. If a call without an argument would block, return False immediately; otherwise, do the same thing as when called without arguments, and return True.\n",
    "\n",
    "When invoked with a timeout other than None, it will block for at most timeout seconds. If acquire does not complete successfully in that interval, return False. Return True otherwise.\n",
    "\n",
    "**release** *(n=1)*\n",
    "\n",
    "Release a semaphore, incrementing the internal counter by n. When it was zero on entry and other threads are waiting for it to become larger than zero again, wake up n of those threads.\n",
    "\n",
    "Changed in version 3.9: Added the n parameter to release multiple waiting threads at once.\n",
    "\n",
    "*class* threading.**BoundedSemaphore**(value=1) \n",
    "\n",
    "Class implementing bounded semaphore objects. A bounded semaphore checks to make sure its current value doesn’t exceed its initial value. If it does, ValueError is raised. In most situations semaphores are used to guard resources with limited capacity. If the semaphore is released too many times it’s a sign of a bug. If not given, value defaults to 1."
   ]
  },
  {
   "cell_type": "markdown",
   "metadata": {},
   "source": [
    "## Event Objects\n",
    "\n",
    "This is one of the simplest mechanisms for communication between threads: one thread signals an event and other threads wait for it.\n",
    "\n",
    "An event object manages an internal flag that can be set to true with the set() method and reset to false with the clear() method. The wait() method blocks until the flag is true.\n",
    "\n",
    "### class threading.Event\n",
    "Class implementing event objects. An event manages a flag that can be set to true with the set() method and reset to false with the clear() method. The wait() method blocks until the flag is true. The flag is initially false.\n",
    "\n",
    "Changed in version 3.3: changed from a factory function to a class.\n",
    "\n",
    "* **is_set()**\n",
    "Return True if and only if the internal flag is true.\n",
    "\n",
    "* **set()**\n",
    "Set the internal flag to true. All threads waiting for it to become true are awakened. Threads that call wait() once the flag is true will not block at all.\n",
    "\n",
    "* **clear()**\n",
    "Reset the internal flag to false. Subsequently, threads calling wait() will block until set() is called to set the internal flag to true again.\n",
    "\n",
    "* **wait(timeout=None)**\n",
    "Block until the internal flag is true. If the internal flag is true on entry, return immediately. Otherwise, block until another thread calls set() to set the flag to true, or until the optional timeout occurs.\n",
    "\n",
    "When the timeout argument is present and not None, it should be a floating point number specifying a timeout for the operation in seconds (or fractions thereof).\n",
    "\n",
    "This method returns True if and only if the internal flag has been set to true, either before the wait call or after the wait starts, so it will always return True except if a timeout is given and the operation times out."
   ]
  },
  {
   "cell_type": "markdown",
   "metadata": {},
   "source": [
    "## Timer Objects\n",
    "\n",
    "This class represents an action that should be run only after a certain amount of time has passed — a timer. Timer is a subclass of Thread and as such also functions as an example of creating custom threads.\n",
    "\n",
    "Timers are started, as with threads, by calling their start() method. The timer can be stopped (before its action has begun) by calling the cancel() method. The interval the timer will wait before executing its action may not be exactly the same as the interval specified by the user.\n",
    "\n",
    "*class* threading.**Timer** *(interval, function, args=None, kwargs=None)*\n",
    "\n",
    "Create a timer that will run function with arguments args and keyword arguments kwargs, after interval seconds have passed. If args is None (the default) then an empty list will be used. If kwargs is None (the default) then an empty dict will be used.\n",
    "\n",
    "* **start()**\n",
    "To start the timer\n",
    "\n",
    "* **cancel()**\n",
    "Stop the timer, and cancel the execution of the timer’s action. This will only work if the timer is still in its waiting stage."
   ]
  },
  {
   "attachments": {
    "image-2.png": {
     "image/png": "[encoded data removed]"
    },
    "image.png": {
     "image/png": "[encoded data removed]"
    }
   },
   "cell_type": "markdown",
   "metadata": {},
   "source": [
    "## Barrier Objects\n",
    "\n",
    "This class provides a simple synchronization primitive for use by a fixed number of threads that need to wait for each other. Each of the threads tries to pass the barrier by calling the wait() method and will block until all of the threads have made their wait() calls. At this point, the threads are released simultaneously.\n",
    "\n",
    "The barrier can be reused any number of times for the same number of threads.\n",
    "![image.png](attachment:image.png)\n",
    "\n",
    "*class* threading.**Barrier**(parties, action=None, timeout=None)\n",
    "\n",
    "Create a barrier object for parties number of threads. An action, when provided, is a callable to be called by one of the threads when they are released. timeout is the default timeout value if none is specified for the wait() method.\n",
    "\n",
    "* **wait(timeout=None)**\n",
    "Pass the barrier. When all the threads party to the barrier have called this function, they are all released simultaneously. If a timeout is provided, it is used in preference to any that was supplied to the class constructor.\n",
    "\n",
    "The return value is an integer in the range 0 to parties – 1, different for each thread. This can be used to select a thread to do some special housekeeping, e.g.:\n",
    "\n",
    "![image-2.png](attachment:image-2.png)\n",
    "\n",
    "If an action was provided to the constructor, one of the threads will have called it prior to being released. Should this call raise an error, the barrier is put into the broken state.\n",
    "\n",
    "If the call times out, the barrier is put into the broken state.\n",
    "\n",
    "This method may raise a BrokenBarrierError exception if the barrier is broken or reset while a thread is waiting.\n",
    "\n",
    "* **reset()**\n",
    "Return the barrier to the default, empty state. Any threads waiting on it will receive the BrokenBarrierError exception.\n",
    "\n",
    "Note that using this function may require some external synchronization if there are other threads whose state is unknown. If a barrier is broken it may be better to just leave it and create a new one.\n",
    "\n",
    "* **abort()**\n",
    "Put the barrier into a broken state. This causes any active or future calls to wait() to fail with the BrokenBarrierError. Use this for example if one of the threads needs to abort, to avoid deadlocking the application.\n",
    "\n",
    "It may be preferable to simply create the barrier with a sensible timeout value to automatically guard against one of the threads going awry.\n",
    "\n",
    "* **parties**\n",
    "The number of threads required to pass the barrier.\n",
    "\n",
    "* **n_waiting**\n",
    "The number of threads currently waiting in the barrier.\n",
    "\n",
    "* **broken**\n",
    "A boolean that is True if the barrier is in the broken state.\n",
    "\n",
    "exception threading.BrokenBarrierError\n",
    "This exception, a subclass of RuntimeError, is raised when the Barrier object is reset or broken."
   ]
  },
  {
   "cell_type": "code",
   "execution_count": null,
   "metadata": {},
   "outputs": [],
   "source": []
  }
 ],
 "metadata": {
  "kernelspec": {
   "display_name": "Python 3",
   "language": "python",
   "name": "python3"
  },
  "language_info": {
   "codemirror_mode": {
    "name": "ipython",
    "version": 3
   },
   "file_extension": ".py",
   "mimetype": "text/x-python",
   "name": "python",
   "nbconvert_exporter": "python",
   "pygments_lexer": "ipython3",
   "version": "3.8.7"
  }
 },
 "nbformat": 4,
 "nbformat_minor": 4
}
