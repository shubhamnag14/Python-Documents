{
  "nbformat": 4,
  "nbformat_minor": 5,
  "metadata": {
    "kernelspec": {
      "display_name": "Python 3",
      "language": "python",
      "name": "python3"
    },
    "language_info": {
      "codemirror_mode": {
        "name": "ipython",
        "version": 3
      },
      "file_extension": ".py",
      "mimetype": "text/x-python",
      "name": "python",
      "nbconvert_exporter": "python",
      "pygments_lexer": "ipython3",
      "version": "3.8.7"
    },
    "colab": {
      "name": "itertools.ipynb",
      "provenance": [],
      "collapsed_sections": []
    }
  },
  "cells": [
    {
      "cell_type": "markdown",
      "metadata": {
        "id": "funded-return"
      },
      "source": [
        "This module implements a number of iteratio building blocks inspired by construct from APL, Haskell and SML, Each has been recast in a form suitable for python.\n",
        "\n",
        "The module standarzies a core set of fast, memory efficient tools that are useful by themselves or in combination. Together they form an \"iterator algebra\" making it possible to construct specialized tools succinctly and efficiently in pure python.\n",
        "\n",
        "For instance, SMl provides a tabulation tool: tabulate(f) which produces a sqeuence f(0), f(1), ... The same effect can be achieved in python by combinig map() and count() to form map(f, count()).\n",
        "\n",
        "These tools and their built-in counterparts also work well with the high speed functions in the operator module For example, the multiplication operator can be mapped across two vectors to form an efficient dot-product: `sum(map(operator.mul, vector1, vector2)).`"
      ],
      "id": "funded-return"
    },
    {
      "cell_type": "code",
      "metadata": {
        "id": "vietnamese-bride",
        "outputId": "4064bda9-9cb9-4cc0-abed-0ef111bf8d94"
      },
      "source": [
        "from itertools import *\n",
        "import operator\n",
        "data = [3,4,6,2,1,9,0,7,5,8]\n",
        "print(list(accumulate(data, operator.mul)))"
      ],
      "id": "vietnamese-bride",
      "execution_count": null,
      "outputs": [
        {
          "output_type": "stream",
          "text": [
            "[3, 12, 72, 144, 144, 1296, 0, 0, 0, 0]\n"
          ],
          "name": "stdout"
        }
      ]
    },
    {
      "cell_type": "code",
      "metadata": {
        "id": "steady-generation",
        "outputId": "d0039fbb-1d4b-42fa-d00f-8efe8ae0e8ae"
      },
      "source": [
        "print(*accumulate([1,2,3,4,5,6,7,8,9], max))\n",
        "print(*accumulate(data, max))"
      ],
      "id": "steady-generation",
      "execution_count": null,
      "outputs": [
        {
          "output_type": "stream",
          "text": [
            "1 2 3 4 5 6 7 8 9\n",
            "3 4 6 6 6 9 9 9 9 9\n"
          ],
          "name": "stdout"
        }
      ]
    },
    {
      "cell_type": "code",
      "metadata": {
        "id": "seventh-mobility",
        "outputId": "ef1f04fd-6dd8-4ef0-c017-7a2b4853bf74"
      },
      "source": [
        "print(*chain(['A','B','C','D'], ['W','X','Y','Z'], [1,2,3,4]))"
      ],
      "id": "seventh-mobility",
      "execution_count": null,
      "outputs": [
        {
          "output_type": "stream",
          "text": [
            "A B C D W X Y Z 1 2 3 4\n"
          ],
          "name": "stdout"
        }
      ]
    },
    {
      "cell_type": "code",
      "metadata": {
        "id": "proper-jonathan",
        "outputId": "e046a2b2-bb8a-49ce-97d5-cf0679618d20"
      },
      "source": [
        "print(*combinations(['A', 'B', 'C', 'D', 'W', 'X', 'Y', 'Z', 1, 2, 3, 4], 2))"
      ],
      "id": "proper-jonathan",
      "execution_count": null,
      "outputs": [
        {
          "output_type": "stream",
          "text": [
            "('A', 'B') ('A', 'C') ('A', 'D') ('A', 'W') ('A', 'X') ('A', 'Y') ('A', 'Z') ('A', 1) ('A', 2) ('A', 3) ('A', 4) ('B', 'C') ('B', 'D') ('B', 'W') ('B', 'X') ('B', 'Y') ('B', 'Z') ('B', 1) ('B', 2) ('B', 3) ('B', 4) ('C', 'D') ('C', 'W') ('C', 'X') ('C', 'Y') ('C', 'Z') ('C', 1) ('C', 2) ('C', 3) ('C', 4) ('D', 'W') ('D', 'X') ('D', 'Y') ('D', 'Z') ('D', 1) ('D', 2) ('D', 3) ('D', 4) ('W', 'X') ('W', 'Y') ('W', 'Z') ('W', 1) ('W', 2) ('W', 3) ('W', 4) ('X', 'Y') ('X', 'Z') ('X', 1) ('X', 2) ('X', 3) ('X', 4) ('Y', 'Z') ('Y', 1) ('Y', 2) ('Y', 3) ('Y', 4) ('Z', 1) ('Z', 2) ('Z', 3) ('Z', 4) (1, 2) (1, 3) (1, 4) (2, 3) (2, 4) (3, 4)\n"
          ],
          "name": "stdout"
        }
      ]
    },
    {
      "cell_type": "code",
      "metadata": {
        "id": "entertaining-circus",
        "outputId": "fa2cabae-a305-4bb6-d510-a29b995e4f44"
      },
      "source": [
        "print(*combinations('ABCDWXYZ1234', 2))"
      ],
      "id": "entertaining-circus",
      "execution_count": null,
      "outputs": [
        {
          "output_type": "stream",
          "text": [
            "('A', 'B') ('A', 'C') ('A', 'D') ('A', 'W') ('A', 'X') ('A', 'Y') ('A', 'Z') ('A', '1') ('A', '2') ('A', '3') ('A', '4') ('B', 'C') ('B', 'D') ('B', 'W') ('B', 'X') ('B', 'Y') ('B', 'Z') ('B', '1') ('B', '2') ('B', '3') ('B', '4') ('C', 'D') ('C', 'W') ('C', 'X') ('C', 'Y') ('C', 'Z') ('C', '1') ('C', '2') ('C', '3') ('C', '4') ('D', 'W') ('D', 'X') ('D', 'Y') ('D', 'Z') ('D', '1') ('D', '2') ('D', '3') ('D', '4') ('W', 'X') ('W', 'Y') ('W', 'Z') ('W', '1') ('W', '2') ('W', '3') ('W', '4') ('X', 'Y') ('X', 'Z') ('X', '1') ('X', '2') ('X', '3') ('X', '4') ('Y', 'Z') ('Y', '1') ('Y', '2') ('Y', '3') ('Y', '4') ('Z', '1') ('Z', '2') ('Z', '3') ('Z', '4') ('1', '2') ('1', '3') ('1', '4') ('2', '3') ('2', '4') ('3', '4')\n"
          ],
          "name": "stdout"
        }
      ]
    },
    {
      "cell_type": "code",
      "metadata": {
        "scrolled": true,
        "id": "excellent-hypothetical",
        "outputId": "bf2ae001-ab26-4589-fec3-a906906f4fdb"
      },
      "source": [
        "print(*combinations_with_replacement('ABCDWXYZ1234', 2))"
      ],
      "id": "excellent-hypothetical",
      "execution_count": null,
      "outputs": [
        {
          "output_type": "stream",
          "text": [
            "('A', 'A') ('A', 'B') ('A', 'C') ('A', 'D') ('A', 'W') ('A', 'X') ('A', 'Y') ('A', 'Z') ('A', '1') ('A', '2') ('A', '3') ('A', '4') ('B', 'B') ('B', 'C') ('B', 'D') ('B', 'W') ('B', 'X') ('B', 'Y') ('B', 'Z') ('B', '1') ('B', '2') ('B', '3') ('B', '4') ('C', 'C') ('C', 'D') ('C', 'W') ('C', 'X') ('C', 'Y') ('C', 'Z') ('C', '1') ('C', '2') ('C', '3') ('C', '4') ('D', 'D') ('D', 'W') ('D', 'X') ('D', 'Y') ('D', 'Z') ('D', '1') ('D', '2') ('D', '3') ('D', '4') ('W', 'W') ('W', 'X') ('W', 'Y') ('W', 'Z') ('W', '1') ('W', '2') ('W', '3') ('W', '4') ('X', 'X') ('X', 'Y') ('X', 'Z') ('X', '1') ('X', '2') ('X', '3') ('X', '4') ('Y', 'Y') ('Y', 'Z') ('Y', '1') ('Y', '2') ('Y', '3') ('Y', '4') ('Z', 'Z') ('Z', '1') ('Z', '2') ('Z', '3') ('Z', '4') ('1', '1') ('1', '2') ('1', '3') ('1', '4') ('2', '2') ('2', '3') ('2', '4') ('3', '3') ('3', '4') ('4', '4')\n"
          ],
          "name": "stdout"
        }
      ]
    },
    {
      "cell_type": "code",
      "metadata": {
        "id": "serial-transportation",
        "outputId": "acdcea47-d616-4e24-84b3-decefbe4cb5d"
      },
      "source": [
        "print(*compress('ABCDWXYZ1234', [1,0,1,0,1,1]))"
      ],
      "id": "serial-transportation",
      "execution_count": null,
      "outputs": [
        {
          "output_type": "stream",
          "text": [
            "A C W X\n"
          ],
          "name": "stdout"
        }
      ]
    },
    {
      "cell_type": "code",
      "metadata": {
        "id": "reasonable-starter"
      },
      "source": [
        "print(*count(start=0, step=1))"
      ],
      "id": "reasonable-starter",
      "execution_count": null,
      "outputs": []
    },
    {
      "cell_type": "code",
      "metadata": {
        "id": "confidential-investigation"
      },
      "source": [
        "# Program for creating a list of\n",
        "# even and odd list of integers\n",
        "# using count()\n",
        "\n",
        "\n",
        "from itertools import count\n",
        "\n",
        "# creates a count iterator object\n",
        "iterator =(count(start = 0, step = 2))\n",
        "\n",
        "# prints a odd list of integers\n",
        "print(\"Even list:\",\n",
        "\tlist(next(iterator) for _ in range(5)))\n",
        "\n",
        "# creates a count iterator object\n",
        "iterator = (count(start = 1, step = 2))\n",
        "\n",
        "# prints a odd list of integers\n",
        "print(\"Odd list:\",\n",
        "\tlist(next(iterator) for _ in range(5)))\n"
      ],
      "id": "confidential-investigation",
      "execution_count": null,
      "outputs": []
    },
    {
      "cell_type": "code",
      "metadata": {
        "id": "URJaNcjJX0Zo"
      },
      "source": [
        "from itertools import *"
      ],
      "id": "URJaNcjJX0Zo",
      "execution_count": 18,
      "outputs": []
    },
    {
      "cell_type": "code",
      "metadata": {
        "id": "x4mXJk7xX-fT"
      },
      "source": [
        "string = \"Subhadeep\"\n",
        "val = cycle(string)"
      ],
      "id": "x4mXJk7xX-fT",
      "execution_count": 3,
      "outputs": []
    },
    {
      "cell_type": "code",
      "metadata": {
        "id": "9dXnto6NYLJ9"
      },
      "source": [
        "print(*val)"
      ],
      "id": "9dXnto6NYLJ9",
      "execution_count": null,
      "outputs": []
    },
    {
      "cell_type": "code",
      "metadata": {
        "colab": {
          "base_uri": "https://localhost:8080/"
        },
        "id": "Ie9gv8mSYbNf",
        "outputId": "d8bfe357-11a8-4392-8d2d-e702d4e02406"
      },
      "source": [
        "listVals = [1,4,6,4,1,9,8,10,1,2,1]\n",
        "print(*dropwhile(lambda x: x<5, listVals))"
      ],
      "id": "Ie9gv8mSYbNf",
      "execution_count": 4,
      "outputs": [
        {
          "output_type": "stream",
          "text": [
            "6 4 1 9 8 10 1 2 1\n"
          ],
          "name": "stdout"
        }
      ]
    },
    {
      "cell_type": "code",
      "metadata": {
        "colab": {
          "base_uri": "https://localhost:8080/"
        },
        "id": "WVLf1XLQY2J2",
        "outputId": "dc7c8d60-c55a-46d7-9a07-4f9c0d486354"
      },
      "source": [
        "print(*filterfalse(lambda x: x<5, listVals))"
      ],
      "id": "WVLf1XLQY2J2",
      "execution_count": 5,
      "outputs": [
        {
          "output_type": "stream",
          "text": [
            "6 9 8 10\n"
          ],
          "name": "stdout"
        }
      ]
    },
    {
      "cell_type": "code",
      "metadata": {
        "colab": {
          "base_uri": "https://localhost:8080/"
        },
        "id": "R3pWx625ZJTl",
        "outputId": "f8cdaaf0-bc96-4c79-d884-c9d6b75dcc06"
      },
      "source": [
        "print(*permutations('ABCDEF', 2))"
      ],
      "id": "R3pWx625ZJTl",
      "execution_count": 9,
      "outputs": [
        {
          "output_type": "stream",
          "text": [
            "('A', 'B') ('A', 'C') ('A', 'D') ('A', 'E') ('A', 'F') ('B', 'A') ('B', 'C') ('B', 'D') ('B', 'E') ('B', 'F') ('C', 'A') ('C', 'B') ('C', 'D') ('C', 'E') ('C', 'F') ('D', 'A') ('D', 'B') ('D', 'C') ('D', 'E') ('D', 'F') ('E', 'A') ('E', 'B') ('E', 'C') ('E', 'D') ('E', 'F') ('F', 'A') ('F', 'B') ('F', 'C') ('F', 'D') ('F', 'E')\n"
          ],
          "name": "stdout"
        }
      ]
    },
    {
      "cell_type": "code",
      "metadata": {
        "colab": {
          "base_uri": "https://localhost:8080/"
        },
        "id": "E7cYzzM1ZRCl",
        "outputId": "dca95c63-01b6-491e-bc05-22e32045b830"
      },
      "source": [
        "print(*product('ABCD', 'xy'))"
      ],
      "id": "E7cYzzM1ZRCl",
      "execution_count": 10,
      "outputs": [
        {
          "output_type": "stream",
          "text": [
            "('A', 'x') ('A', 'y') ('B', 'x') ('B', 'y') ('C', 'x') ('C', 'y') ('D', 'x') ('D', 'y')\n"
          ],
          "name": "stdout"
        }
      ]
    },
    {
      "cell_type": "code",
      "metadata": {
        "colab": {
          "base_uri": "https://localhost:8080/"
        },
        "id": "R8RcujvCZfVo",
        "outputId": "df768642-e832-4158-9eca-f1e241e570f2"
      },
      "source": [
        "print(*starmap(pow, [(2,5), (3,2), (10,3)]))"
      ],
      "id": "R8RcujvCZfVo",
      "execution_count": 11,
      "outputs": [
        {
          "output_type": "stream",
          "text": [
            "32 9 1000\n"
          ],
          "name": "stdout"
        }
      ]
    },
    {
      "cell_type": "code",
      "metadata": {
        "colab": {
          "base_uri": "https://localhost:8080/",
          "height": 171
        },
        "id": "Za5BJA4jaCUm",
        "outputId": "008c2274-8891-4ee3-ca07-49f013ed4065"
      },
      "source": [
        "print(itertools.tee([2, 4, 6, 7, 8, 10, 20], 3))"
      ],
      "id": "Za5BJA4jaCUm",
      "execution_count": 19,
      "outputs": [
        {
          "output_type": "error",
          "ename": "NameError",
          "evalue": "ignored",
          "traceback": [
            "\u001b[0;31m---------------------------------------------------------------------------\u001b[0m",
            "\u001b[0;31mNameError\u001b[0m                                 Traceback (most recent call last)",
            "\u001b[0;32m<ipython-input-19-58b60420fe86>\u001b[0m in \u001b[0;36m<module>\u001b[0;34m()\u001b[0m\n\u001b[0;32m----> 1\u001b[0;31m \u001b[0mprint\u001b[0m\u001b[0;34m(\u001b[0m\u001b[0mitertools\u001b[0m\u001b[0;34m.\u001b[0m\u001b[0mtee\u001b[0m\u001b[0;34m(\u001b[0m\u001b[0;34m[\u001b[0m\u001b[0;36m2\u001b[0m\u001b[0;34m,\u001b[0m \u001b[0;36m4\u001b[0m\u001b[0;34m,\u001b[0m \u001b[0;36m6\u001b[0m\u001b[0;34m,\u001b[0m \u001b[0;36m7\u001b[0m\u001b[0;34m,\u001b[0m \u001b[0;36m8\u001b[0m\u001b[0;34m,\u001b[0m \u001b[0;36m10\u001b[0m\u001b[0;34m,\u001b[0m \u001b[0;36m20\u001b[0m\u001b[0;34m]\u001b[0m\u001b[0;34m,\u001b[0m \u001b[0;36m3\u001b[0m\u001b[0;34m)\u001b[0m\u001b[0;34m)\u001b[0m\u001b[0;34m\u001b[0m\u001b[0;34m\u001b[0m\u001b[0m\n\u001b[0m",
            "\u001b[0;31mNameError\u001b[0m: name 'itertools' is not defined"
          ]
        }
      ]
    },
    {
      "cell_type": "code",
      "metadata": {
        "id": "ehEKUfzWc7f6"
      },
      "source": [
        ""
      ],
      "id": "ehEKUfzWc7f6",
      "execution_count": null,
      "outputs": []
    }
  ]
}