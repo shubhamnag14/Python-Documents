{
 "cells": [
  {
   "cell_type": "code",
   "execution_count": 1,
   "metadata": {},
   "outputs": [],
   "source": [
    "import json"
   ]
  },
  {
   "cell_type": "code",
   "execution_count": 2,
   "metadata": {},
   "outputs": [
    {
     "data": {
      "text/plain": [
       "'[\"foo\", {\"bar\": [\"baz\", null, 1.0, 2]}]'"
      ]
     },
     "execution_count": 2,
     "metadata": {},
     "output_type": "execute_result"
    }
   ],
   "source": [
    "json.dumps(['foo', {'bar': ('baz', None, 1.0, 2)}])"
   ]
  },
  {
   "cell_type": "code",
   "execution_count": 3,
   "metadata": {},
   "outputs": [
    {
     "name": "stdout",
     "output_type": "stream",
     "text": [
      "\"\\\"foo\\bar\"\n"
     ]
    }
   ],
   "source": [
    "print(json.dumps(\"\\\"foo\\bar\"))"
   ]
  },
  {
   "cell_type": "code",
   "execution_count": 4,
   "metadata": {},
   "outputs": [
    {
     "name": "stdout",
     "output_type": "stream",
     "text": [
      "\"\\u1234\"\n"
     ]
    }
   ],
   "source": [
    "print(json.dumps('\\u1234'))"
   ]
  },
  {
   "cell_type": "code",
   "execution_count": 5,
   "metadata": {},
   "outputs": [
    {
     "name": "stdout",
     "output_type": "stream",
     "text": [
      "\"\\\\\"\n"
     ]
    }
   ],
   "source": [
    "print(json.dumps('\\\\'))"
   ]
  },
  {
   "cell_type": "code",
   "execution_count": 6,
   "metadata": {},
   "outputs": [
    {
     "name": "stdout",
     "output_type": "stream",
     "text": [
      "{\"a\": 0, \"b\": 0, \"c\": 0}\n",
      "<class 'str'>\n"
     ]
    }
   ],
   "source": [
    "print(json.dumps({\"c\":0, \"b\":0, \"a\":0}, sort_keys=True))\n",
    "print(type(json.dumps({\"c\":0, \"b\":0, \"a\":0}, sort_keys=True)))"
   ]
  },
  {
   "cell_type": "code",
   "execution_count": 7,
   "metadata": {},
   "outputs": [
    {
     "data": {
      "text/plain": [
       "'[\"streaming API\"]'"
      ]
     },
     "execution_count": 7,
     "metadata": {},
     "output_type": "execute_result"
    }
   ],
   "source": [
    "from io import StringIO\n",
    "io = StringIO()\n",
    "json.dump(['streaming API'], io)\n",
    "io.getvalue()"
   ]
  },
  {
   "cell_type": "code",
   "execution_count": 8,
   "metadata": {},
   "outputs": [
    {
     "data": {
      "text/plain": [
       "'[1,2,3,{\"4\":5,\"6\":7}]'"
      ]
     },
     "execution_count": 8,
     "metadata": {},
     "output_type": "execute_result"
    }
   ],
   "source": [
    "json.dumps([1,2,3, {'4':5, '6':7}], separators = (',', ':'))"
   ]
  },
  {
   "cell_type": "code",
   "execution_count": 9,
   "metadata": {},
   "outputs": [
    {
     "name": "stdout",
     "output_type": "stream",
     "text": [
      "{\n",
      "    \"4\": 5,\n",
      "    \"6\": 7\n",
      "}\n",
      "<class 'str'>\n"
     ]
    }
   ],
   "source": [
    "data = json.dumps({'4':5, '6':7}, sort_keys=True, indent=4)\n",
    "print(data)\n",
    "print(type(data))"
   ]
  },
  {
   "cell_type": "code",
   "execution_count": 10,
   "metadata": {},
   "outputs": [
    {
     "name": "stdout",
     "output_type": "stream",
     "text": [
      "['foo', {'bar': ['baz', None, 1.0, 2]}]\n",
      "<class 'list'>\n"
     ]
    }
   ],
   "source": [
    "data = json.loads('[\"foo\", {\"bar\":[\"baz\", null, 1.0, 2]}]')\n",
    "print(data)\n",
    "print(type(data))"
   ]
  },
  {
   "cell_type": "markdown",
   "metadata": {},
   "source": [
    "# Basic Usage\n",
    "\n",
    "## json.dump\n",
    "json.**dump** *(obj, fp, *, skipkeys=False, ensure_ascii=True, check_circular=True, allow_nan=True, cls=None, indent=None, separators=None, default=None, sort_keys=False, ***kw)*\n",
    "\n",
    "Serialize obj as a JSON formatted stream to fp (a .write()-supporting file-like object) using this conversion table.\n",
    "\n",
    "If skipkeys is true (default: False), then dict keys that are not of a basic type (str, int, float, bool, None) will be skipped instead of raising a TypeError.\n",
    "\n",
    "The json module always produces str objects, not bytes objects. Therefore, fp.write() must support str input.\n",
    "\n",
    "If allow_nan is false (default: True), then it will be a ValueError to serialize out of range float values (nan, inf, -inf) in strict compliance of the JSON specification. If allow_nan is true, their JavaScript equivalents (NaN, Infinity, -Infinity) will be used.\n",
    "\n",
    "If specified, separators should be an (item_separator, key_separator) tuple. The default is (', ', ': ') if indent is None and (',', ': ') otherwise. To get the most compact JSON representation, you should specify (',', ':') to eliminate whitespace.\n",
    "\n",
    "If specified, default should be a function that gets called for objects that can’t otherwise be serialized. It should return a JSON encodable version of the object or raise a TypeError. If not specified, TypeError is raised.\n",
    "\n",
    "\n",
    "## json.dumps\n",
    "json.**dumps** *(obj, *, skipkeys=False, ensure_ascii=True, check_circular=True, allow_nan=True, cls=None, indent=None, separators=None, default=None, sort_keys=False, ***kw)*\n",
    "\n",
    "Serialize obj to a JSON formatted str using this conversion table. The arguments have the same meaning as in dump().\n",
    "\n",
    "## json.load\n",
    "json.**load** *(fp, *, cls=None, object_hook=None, parse_float=None, parse_int=None, parse_constant=None, object_pairs_hook=None, ***kw)*\n",
    "\n",
    "Deserialize fp (a .read()-supporting text file or binary file containing a JSON document) to a Python object using this conversion table.\n",
    "\n",
    "Deserialize fp (a .read()-supporting text file or binary file containing a JSON document) to a Python object using this conversion table.\n",
    "\n",
    "object_hook is an optional function that will be called with the result of any object literal decoded (a dict). The return value of object_hook will be used instead of the dict. This feature can be used to implement custom decoders (e.g. JSON-RPC class hinting).\n",
    "\n",
    "object_pairs_hook is an optional function that will be called with the result of any object literal decoded with an ordered list of pairs. The return value of object_pairs_hook will be used instead of the dict. This feature can be used to implement custom decoders. If object_hook is also defined, the object_pairs_hook takes priority.\n",
    "\n",
    "## json.loads\n",
    "json.**loads** *(s, *, cls=None, object_hook=None, parse_float=None, parse_int=None, parse_constant=None, object_pairs_hook=None, ***kw)*\n",
    "\n",
    "Deserialize s (a str, bytes or bytearray instance containing a JSON document) to a Python object using this conversion table.\n",
    "\n",
    "The other arguments have the same meaning as in load().\n",
    "\n",
    "If the data being deserialized is not a valid JSON document, a JSONDecodeError will be raised."
   ]
  },
  {
   "attachments": {
    "image.png": {
     "image/png": "[encoded data removed]"
    }
   },
   "cell_type": "markdown",
   "metadata": {},
   "source": [
    "# Encoders and Decoders\n",
    "\n",
    "## JSONDecoder\n",
    "\n",
    "json.**JSONDecoder** **(***, object_hook=None, parse_float=None, parse_int=None, parse_constant=None, strict=True, object_pairs_hook=None)*\n",
    "\n",
    "Simple JSON decoder\n",
    "\n",
    "Performs the following translation in decoding by default\n",
    "![image.png](attachment:image.png)\n",
    "\n",
    "It also understands NaN, Infinity, and -Infinity as their corresponding float values, which is outside the JSON spec.\n",
    "\n",
    "`object_hook`, if specified, will be called with the result of every JSON object decoded and its return value will be used in place of the given dict. This can be used to provide custom deserializations (e.g. to support JSON-RPC class hinting).\n",
    "\n",
    "`object_pairs_hook`, if specified will be called with the result of every JSON object decoded with an ordered list of pairs. The return value of object_pairs_hook will be used instead of the dict. This feature can be used to implement custom decoders. If object_hook is also defined, the object_pairs_hook takes priority.\n",
    "\n",
    "Changed in version 3.1: Added support for object_pairs_hook.\n",
    "\n",
    "`parse_float`, if specified, will be called with the string of every JSON float to be decoded. By default, this is equivalent to float(num_str). This can be used to use another datatype or parser for JSON floats (e.g. decimal.Decimal).\n",
    "\n",
    "`parse_int`, if specified, will be called with the string of every JSON int to be decoded. By default, this is equivalent to int(num_str). This can be used to use another datatype or parser for JSON integers (e.g. float).\n",
    "\n",
    "`parse_constant`, if specified, will be called with one of the following strings: '-Infinity', 'Infinity', 'NaN'. This can be used to raise an exception if invalid JSON numbers are encountered.\n",
    "\n",
    "If strict is false (True is the default), then control characters will be allowed inside strings. Control characters in this context are those with character codes in the 0–31 range, including '\\t' (tab), '\\n', '\\r' and '\\0'.\n",
    "\n",
    "If the data being deserialized is not a valid JSON document, a JSONDecodeError will be raised.\n",
    "\n",
    "**decode**(s)\n",
    "- Return the Python representation of s (a str instance containing a JSON document).\n",
    "- JSONDecodeError will be raised if the given JSON document is not valid.  \n",
    "\n",
    "**raw_decode**(s)\n",
    "- Decode a JSON document from s (a str beginning with a JSON document) and return a 2-tuple of the Python representation and the index in s where the document ended.\n",
    "- This can be used to decode a JSON document from a string that may have extraneous data at the end."
   ]
  },
  {
   "attachments": {
    "image.png": {
     "image/png": "[encoded data removed]"
    }
   },
   "cell_type": "markdown",
   "metadata": {},
   "source": [
    "## JSONEncoder\n",
    "\n",
    "class json.**JSONEncoder** **(***, skipkeys=False, ensure_ascii=True, check_circular=True, allow_nan=True, sort_keys=False, indent=None, separators=None, default=None)*\n",
    "\n",
    "Extensible JSON encoder for Python data structures.\n",
    "\n",
    "Supports the following objects and types by default.\n",
    "![image.png](attachment:image.png)\n",
    "\n",
    "To extend this to recognize other objects, subclass and implement a default() method with another method that returns a serializable object for o if possible, otherwise it should call the superclass implementation (to raise TypeError).\n",
    "\n",
    "If `skipkeys` is false (the default), then it is a TypeError to attempt encoding of keys that are not str, int, float or None. If skipkeys is true, such items are simply skipped.\n",
    "\n",
    "If `ensure_ascii` is true (the default), the output is guaranteed to have all incoming non-ASCII characters escaped. If ensure_ascii is false, these characters will be output as-is.\n",
    "\n",
    "If `check_circular` is true (the default), then lists, dicts, and custom encoded objects will be checked for circular references during encoding to prevent an infinite recursion (which would cause an OverflowError). Otherwise, no such check takes place.\n",
    "\n",
    "If `allow_nan` is true (the default), then NaN, Infinity, and -Infinity will be encoded as such. This behavior is not JSON specification compliant, but is consistent with most JavaScript based encoders and decoders. Otherwise, it will be a ValueError to encode such floats.\n",
    "\n",
    "If `sort_keys` is true (default: False), then the output of dictionaries will be sorted by key; this is useful for regression tests to ensure that JSON serializations can be compared on a day-to-day basis.\n",
    "\n",
    "If `indent` is a non-negative integer or string, then JSON array elements and object members will be pretty-printed with that indent level. An indent level of 0, negative, or \"\" will only insert newlines. None (the default) selects the most compact representation. Using a positive integer indent indents that many spaces per level. If indent is a string (such as \"\\t\"), that string is used to indent each level.\n",
    "\n",
    "Changed in version 3.2: Allow strings for indent in addition to integers.\n",
    "\n",
    "If specified, `separators` should be an (item_separator, key_separator) tuple. The default is (', ', ': ') if indent is None and (',', ': ') otherwise. To get the most compact JSON representation, you should specify (',', ':') to eliminate whitespace.\n",
    "\n",
    "Changed in version 3.4: Use (',', ': ') as default if indent is not None.\n",
    "\n",
    "If specified, `default` should be a function that gets called for objects that can’t otherwise be serialized. It should return a JSON encodable version of the object or raise a TypeError. If not specified, TypeError is raised.\n",
    "\n",
    "**decode**(o)\n",
    "- Implement this method in a subclass such that it returns a serializable object for o, or calls the base implementation (to raise a TypeError).\n",
    "```\n",
    "def default(self, o):\n",
    "   try:\n",
    "       iterable = iter(o)\n",
    "   except TypeError:\n",
    "       pass\n",
    "   else:\n",
    "       return list(iterable)\n",
    "   # Let the base class default method raise the TypeError\n",
    "   return json.JSONEncoder.default(self, o)\n",
    "```\n",
    "\n",
    "**encode**(o)\n",
    "- Return a JSON string representation of a Python data structure, o. For example:\n",
    "```\n",
    ">>> json.JSONEncoder().encode({\"foo\": [\"bar\", \"baz\"]})\n",
    "'{\"foo\": [\"bar\", \"baz\"]}'\n",
    "```\n",
    "\n",
    "**iterencode**(o)\n",
    "- Encode the given object, o, and yield each string representation as available. For example:\n",
    "```\n",
    "for chunk in json.JSONEncoder().iterencode(bigobject):\n",
    "    mysocket.write(chunk)\n",
    "```"
   ]
  },
  {
   "cell_type": "code",
   "execution_count": null,
   "metadata": {},
   "outputs": [],
   "source": []
  }
 ],
 "metadata": {
  "kernelspec": {
   "display_name": "Python 3",
   "language": "python",
   "name": "python3"
  },
  "language_info": {
   "codemirror_mode": {
    "name": "ipython",
    "version": 3
   },
   "file_extension": ".py",
   "mimetype": "text/x-python",
   "name": "python",
   "nbconvert_exporter": "python",
   "pygments_lexer": "ipython3",
   "version": "3.8.7"
  }
 },
 "nbformat": 4,
 "nbformat_minor": 4
}
