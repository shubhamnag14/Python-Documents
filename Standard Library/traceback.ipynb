{
 "cells": [
  {
   "cell_type": "code",
   "execution_count": 1,
   "id": "played-international",
   "metadata": {},
   "outputs": [],
   "source": [
    "import traceback"
   ]
  },
  {
   "cell_type": "markdown",
   "id": "metric-rogers",
   "metadata": {},
   "source": [
    "This module providdes a standard interface to extract, format and print stack traces of Python programs. It exactly mimics the behavious of the Python Interpreter when it prints a stack trace. This is useful when you want to print stack traces under programs control, such as in a \"wrapper\" around the interpreter\n",
    "\n",
    "The module uses traceback objects  this is the object type that is stored in the `sys.last_traceback` variable and returned as the third item form `sys.exc_info`"
   ]
  },
  {
   "cell_type": "code",
   "execution_count": 7,
   "id": "center-toddler",
   "metadata": {},
   "outputs": [
    {
     "ename": "NameError",
     "evalue": "name 'a5' is not defined",
     "output_type": "error",
     "traceback": [
      "\u001b[1;31m---------------------------------------------------------------------------\u001b[0m",
      "\u001b[1;31mNameError\u001b[0m                                 Traceback (most recent call last)",
      "\u001b[1;32m<ipython-input-7-b6b109fd91fd>\u001b[0m in \u001b[0;36m<module>\u001b[1;34m\u001b[0m\n\u001b[0;32m      1\u001b[0m \u001b[0ma\u001b[0m \u001b[1;33m=\u001b[0m \u001b[1;34m'9549as'\u001b[0m\u001b[1;33m\u001b[0m\u001b[1;33m\u001b[0m\u001b[0m\n\u001b[0;32m      2\u001b[0m \u001b[1;33m\u001b[0m\u001b[0m\n\u001b[1;32m----> 3\u001b[1;33m \u001b[0mtraceback\u001b[0m\u001b[1;33m.\u001b[0m\u001b[0mprint_tb\u001b[0m\u001b[1;33m(\u001b[0m\u001b[0mprint\u001b[0m\u001b[1;33m(\u001b[0m\u001b[0ma5\u001b[0m\u001b[1;33m)\u001b[0m\u001b[1;33m)\u001b[0m\u001b[1;33m\u001b[0m\u001b[1;33m\u001b[0m\u001b[0m\n\u001b[0m",
      "\u001b[1;31mNameError\u001b[0m: name 'a5' is not defined"
     ]
    }
   ],
   "source": []
  },
  {
   "cell_type": "code",
   "execution_count": 8,
   "id": "extended-scratch",
   "metadata": {},
   "outputs": [
    {
     "ename": "IndexError",
     "evalue": "list index out of range",
     "output_type": "error",
     "traceback": [
      "\u001b[1;31m---------------------------------------------------------------------------\u001b[0m",
      "\u001b[1;31mIndexError\u001b[0m                                Traceback (most recent call last)",
      "\u001b[1;32m<ipython-input-8-4541eeccf4c4>\u001b[0m in \u001b[0;36m<module>\u001b[1;34m\u001b[0m\n\u001b[0;32m      1\u001b[0m \u001b[0ma\u001b[0m \u001b[1;33m=\u001b[0m \u001b[1;33m[\u001b[0m\u001b[1;36m1\u001b[0m\u001b[1;33m,\u001b[0m\u001b[1;36m2\u001b[0m\u001b[1;33m,\u001b[0m\u001b[1;36m3\u001b[0m\u001b[1;33m]\u001b[0m\u001b[1;33m\u001b[0m\u001b[1;33m\u001b[0m\u001b[0m\n\u001b[1;32m----> 2\u001b[1;33m \u001b[0mprint\u001b[0m\u001b[1;33m(\u001b[0m\u001b[0ma\u001b[0m\u001b[1;33m[\u001b[0m\u001b[1;36m10\u001b[0m\u001b[1;33m]\u001b[0m\u001b[1;33m)\u001b[0m\u001b[1;33m\u001b[0m\u001b[1;33m\u001b[0m\u001b[0m\n\u001b[0m",
      "\u001b[1;31mIndexError\u001b[0m: list index out of range"
     ]
    }
   ],
   "source": [
    "a = [1,2,3]\n",
    "print(a[10])"
   ]
  },
  {
   "cell_type": "markdown",
   "id": "finite-petite",
   "metadata": {},
   "source": [
    "## Traceback Examples "
   ]
  },
  {
   "cell_type": "code",
   "execution_count": 6,
   "id": "chief-hierarchy",
   "metadata": {},
   "outputs": [
    {
     "name": "stdout",
     "output_type": "stream",
     "text": [
      ">>>asf\n",
      "Exception in user code:\n",
      "------------------------------------------------------------\n",
      "Traceback (most recent call last):\n",
      "  File \"<ipython-input-6-9a74b8a83e31>\", line 5, in run\n",
      "    exec(source, envdir)\n",
      "  File \"<string>\", line 1, in <module>\n",
      "NameError: name 'asf' is not defined\n",
      "------------------------------------------------------------\n",
      ">>>exit\n",
      "Exception in user code:\n",
      "------------------------------------------------------------\n",
      "Traceback (most recent call last):\n",
      "  File \"<ipython-input-6-9a74b8a83e31>\", line 5, in run\n",
      "    exec(source, envdir)\n",
      "  File \"<string>\", line 1, in <module>\n",
      "NameError: name 'exit' is not defined\n",
      "------------------------------------------------------------\n"
     ]
    },
    {
     "ename": "KeyboardInterrupt",
     "evalue": "Interrupted by user",
     "output_type": "error",
     "traceback": [
      "\u001b[1;31m---------------------------------------------------------------------------\u001b[0m",
      "\u001b[1;31mKeyboardInterrupt\u001b[0m                         Traceback (most recent call last)",
      "\u001b[1;32m<ipython-input-6-9a74b8a83e31>\u001b[0m in \u001b[0;36m<module>\u001b[1;34m\u001b[0m\n\u001b[0;32m     11\u001b[0m \u001b[0menvdir\u001b[0m \u001b[1;33m=\u001b[0m \u001b[1;33m{\u001b[0m\u001b[1;33m}\u001b[0m\u001b[1;33m\u001b[0m\u001b[1;33m\u001b[0m\u001b[0m\n\u001b[0;32m     12\u001b[0m \u001b[1;32mwhile\u001b[0m \u001b[1;32mTrue\u001b[0m\u001b[1;33m:\u001b[0m\u001b[1;33m\u001b[0m\u001b[1;33m\u001b[0m\u001b[0m\n\u001b[1;32m---> 13\u001b[1;33m     \u001b[0mrun\u001b[0m\u001b[1;33m(\u001b[0m\u001b[0menvdir\u001b[0m\u001b[1;33m)\u001b[0m\u001b[1;33m\u001b[0m\u001b[1;33m\u001b[0m\u001b[0m\n\u001b[0m",
      "\u001b[1;32m<ipython-input-6-9a74b8a83e31>\u001b[0m in \u001b[0;36mrun\u001b[1;34m(envdir)\u001b[0m\n\u001b[0;32m      1\u001b[0m \u001b[1;32mimport\u001b[0m \u001b[0msys\u001b[0m\u001b[1;33m,\u001b[0m \u001b[0mtraceback\u001b[0m\u001b[1;33m\u001b[0m\u001b[1;33m\u001b[0m\u001b[0m\n\u001b[0;32m      2\u001b[0m \u001b[1;32mdef\u001b[0m \u001b[0mrun\u001b[0m\u001b[1;33m(\u001b[0m\u001b[0menvdir\u001b[0m\u001b[1;33m)\u001b[0m\u001b[1;33m:\u001b[0m\u001b[1;33m\u001b[0m\u001b[1;33m\u001b[0m\u001b[0m\n\u001b[1;32m----> 3\u001b[1;33m     \u001b[0msource\u001b[0m \u001b[1;33m=\u001b[0m \u001b[0minput\u001b[0m\u001b[1;33m(\u001b[0m\u001b[1;34m\">>>\"\u001b[0m\u001b[1;33m)\u001b[0m\u001b[1;33m\u001b[0m\u001b[1;33m\u001b[0m\u001b[0m\n\u001b[0m\u001b[0;32m      4\u001b[0m     \u001b[1;32mtry\u001b[0m\u001b[1;33m:\u001b[0m\u001b[1;33m\u001b[0m\u001b[1;33m\u001b[0m\u001b[0m\n\u001b[0;32m      5\u001b[0m         \u001b[0mexec\u001b[0m\u001b[1;33m(\u001b[0m\u001b[0msource\u001b[0m\u001b[1;33m,\u001b[0m \u001b[0menvdir\u001b[0m\u001b[1;33m)\u001b[0m\u001b[1;33m\u001b[0m\u001b[1;33m\u001b[0m\u001b[0m\n",
      "\u001b[1;32mc:\\users\\subhadeep banerjee\\appdata\\local\\programs\\python\\python38\\lib\\site-packages\\ipykernel\\kernelbase.py\u001b[0m in \u001b[0;36mraw_input\u001b[1;34m(self, prompt)\u001b[0m\n\u001b[0;32m    855\u001b[0m                 \u001b[1;34m\"raw_input was called, but this frontend does not support input requests.\"\u001b[0m\u001b[1;33m\u001b[0m\u001b[1;33m\u001b[0m\u001b[0m\n\u001b[0;32m    856\u001b[0m             )\n\u001b[1;32m--> 857\u001b[1;33m         return self._input_request(str(prompt),\n\u001b[0m\u001b[0;32m    858\u001b[0m             \u001b[0mself\u001b[0m\u001b[1;33m.\u001b[0m\u001b[0m_parent_ident\u001b[0m\u001b[1;33m,\u001b[0m\u001b[1;33m\u001b[0m\u001b[1;33m\u001b[0m\u001b[0m\n\u001b[0;32m    859\u001b[0m             \u001b[0mself\u001b[0m\u001b[1;33m.\u001b[0m\u001b[0m_parent_header\u001b[0m\u001b[1;33m,\u001b[0m\u001b[1;33m\u001b[0m\u001b[1;33m\u001b[0m\u001b[0m\n",
      "\u001b[1;32mc:\\users\\subhadeep banerjee\\appdata\\local\\programs\\python\\python38\\lib\\site-packages\\ipykernel\\kernelbase.py\u001b[0m in \u001b[0;36m_input_request\u001b[1;34m(self, prompt, ident, parent, password)\u001b[0m\n\u001b[0;32m    899\u001b[0m             \u001b[1;32mexcept\u001b[0m \u001b[0mKeyboardInterrupt\u001b[0m\u001b[1;33m:\u001b[0m\u001b[1;33m\u001b[0m\u001b[1;33m\u001b[0m\u001b[0m\n\u001b[0;32m    900\u001b[0m                 \u001b[1;31m# re-raise KeyboardInterrupt, to truncate traceback\u001b[0m\u001b[1;33m\u001b[0m\u001b[1;33m\u001b[0m\u001b[1;33m\u001b[0m\u001b[0m\n\u001b[1;32m--> 901\u001b[1;33m                 \u001b[1;32mraise\u001b[0m \u001b[0mKeyboardInterrupt\u001b[0m\u001b[1;33m(\u001b[0m\u001b[1;34m\"Interrupted by user\"\u001b[0m\u001b[1;33m)\u001b[0m \u001b[1;32mfrom\u001b[0m \u001b[1;32mNone\u001b[0m\u001b[1;33m\u001b[0m\u001b[1;33m\u001b[0m\u001b[0m\n\u001b[0m\u001b[0;32m    902\u001b[0m             \u001b[1;32mexcept\u001b[0m \u001b[0mException\u001b[0m \u001b[1;32mas\u001b[0m \u001b[0me\u001b[0m\u001b[1;33m:\u001b[0m\u001b[1;33m\u001b[0m\u001b[1;33m\u001b[0m\u001b[0m\n\u001b[0;32m    903\u001b[0m                 \u001b[0mself\u001b[0m\u001b[1;33m.\u001b[0m\u001b[0mlog\u001b[0m\u001b[1;33m.\u001b[0m\u001b[0mwarning\u001b[0m\u001b[1;33m(\u001b[0m\u001b[1;34m\"Invalid Message:\"\u001b[0m\u001b[1;33m,\u001b[0m \u001b[0mexc_info\u001b[0m\u001b[1;33m=\u001b[0m\u001b[1;32mTrue\u001b[0m\u001b[1;33m)\u001b[0m\u001b[1;33m\u001b[0m\u001b[1;33m\u001b[0m\u001b[0m\n",
      "\u001b[1;31mKeyboardInterrupt\u001b[0m: Interrupted by user"
     ]
    }
   ],
   "source": [
    "import sys, traceback\n",
    "def run(envdir):\n",
    "    source = input(\">>>\")\n",
    "    try:\n",
    "        exec(source, envdir)\n",
    "    except Exception:\n",
    "        print(\"Exception in user code:\")\n",
    "        print(\"-\"*60)\n",
    "        traceback.print_exc(file=sys.stdout)\n",
    "        print(\"-\"*60)\n",
    "envdir = {}\n",
    "while True:\n",
    "    run(envdir)"
   ]
  },
  {
   "cell_type": "code",
   "execution_count": 7,
   "id": "considerable-ticket",
   "metadata": {},
   "outputs": [
    {
     "ename": "TypeError",
     "evalue": "can't multiply sequence by non-int of type 'str'",
     "output_type": "error",
     "traceback": [
      "\u001b[1;31m---------------------------------------------------------------------------\u001b[0m",
      "\u001b[1;31mTypeError\u001b[0m                                 Traceback (most recent call last)",
      "\u001b[1;32m<ipython-input-7-ecc8496cd1af>\u001b[0m in \u001b[0;36m<module>\u001b[1;34m\u001b[0m\n\u001b[1;32m----> 1\u001b[1;33m \u001b[0mprint\u001b[0m\u001b[1;33m(\u001b[0m\u001b[1;34m'a'\u001b[0m \u001b[1;33m*\u001b[0m \u001b[1;34m'b'\u001b[0m\u001b[1;33m)\u001b[0m\u001b[1;33m\u001b[0m\u001b[1;33m\u001b[0m\u001b[0m\n\u001b[0m",
      "\u001b[1;31mTypeError\u001b[0m: can't multiply sequence by non-int of type 'str'"
     ]
    }
   ],
   "source": [
    "print('a' * 'b')"
   ]
  },
  {
   "cell_type": "code",
   "execution_count": 11,
   "id": "under-intent",
   "metadata": {},
   "outputs": [
    {
     "ename": "TypeError",
     "evalue": "print_tb() missing 1 required positional argument: 'tb'",
     "output_type": "error",
     "traceback": [
      "\u001b[1;31m---------------------------------------------------------------------------\u001b[0m",
      "\u001b[1;31mTypeError\u001b[0m                                 Traceback (most recent call last)",
      "\u001b[1;32m<ipython-input-11-bdc33f8f5ca1>\u001b[0m in \u001b[0;36m<module>\u001b[1;34m\u001b[0m\n\u001b[0;32m      2\u001b[0m \u001b[1;32mtry\u001b[0m\u001b[1;33m:\u001b[0m\u001b[1;33m\u001b[0m\u001b[1;33m\u001b[0m\u001b[0m\n\u001b[1;32m----> 3\u001b[1;33m     \u001b[0mprint\u001b[0m\u001b[1;33m(\u001b[0m\u001b[1;34m'a'\u001b[0m \u001b[1;33m*\u001b[0m \u001b[1;34m'b'\u001b[0m\u001b[1;33m)\u001b[0m\u001b[1;33m\u001b[0m\u001b[1;33m\u001b[0m\u001b[0m\n\u001b[0m\u001b[0;32m      4\u001b[0m \u001b[1;32mexcept\u001b[0m \u001b[0mException\u001b[0m\u001b[1;33m:\u001b[0m\u001b[1;33m\u001b[0m\u001b[1;33m\u001b[0m\u001b[0m\n",
      "\u001b[1;31mTypeError\u001b[0m: can't multiply sequence by non-int of type 'str'",
      "\nDuring handling of the above exception, another exception occurred:\n",
      "\u001b[1;31mTypeError\u001b[0m                                 Traceback (most recent call last)",
      "\u001b[1;32m<ipython-input-11-bdc33f8f5ca1>\u001b[0m in \u001b[0;36m<module>\u001b[1;34m\u001b[0m\n\u001b[0;32m      3\u001b[0m     \u001b[0mprint\u001b[0m\u001b[1;33m(\u001b[0m\u001b[1;34m'a'\u001b[0m \u001b[1;33m*\u001b[0m \u001b[1;34m'b'\u001b[0m\u001b[1;33m)\u001b[0m\u001b[1;33m\u001b[0m\u001b[1;33m\u001b[0m\u001b[0m\n\u001b[0;32m      4\u001b[0m \u001b[1;32mexcept\u001b[0m \u001b[0mException\u001b[0m\u001b[1;33m:\u001b[0m\u001b[1;33m\u001b[0m\u001b[1;33m\u001b[0m\u001b[0m\n\u001b[1;32m----> 5\u001b[1;33m     \u001b[0mtraceback\u001b[0m\u001b[1;33m.\u001b[0m\u001b[0mprint_tb\u001b[0m\u001b[1;33m(\u001b[0m\u001b[0mfile\u001b[0m\u001b[1;33m=\u001b[0m\u001b[0msys\u001b[0m\u001b[1;33m.\u001b[0m\u001b[0mstdout\u001b[0m\u001b[1;33m)\u001b[0m\u001b[1;33m\u001b[0m\u001b[1;33m\u001b[0m\u001b[0m\n\u001b[0m",
      "\u001b[1;31mTypeError\u001b[0m: print_tb() missing 1 required positional argument: 'tb'"
     ]
    }
   ],
   "source": [
    "import traceback\n",
    "try:\n",
    "    print('a' * 'b')\n",
    "except Exception:\n",
    "    traceback.print_tb(file=sys.stdout)"
   ]
  },
  {
   "cell_type": "code",
   "execution_count": 5,
   "id": "dressed-champion",
   "metadata": {},
   "outputs": [
    {
     "name": "stdout",
     "output_type": "stream",
     "text": [
      "Traceback (most recent call last):\n",
      "  File \"<ipython-input-5-a9d32c7ff128>\", line 3, in <module>\n",
      "    print('a' * 'b')\n",
      "TypeError: can't multiply sequence by non-int of type 'str'\n"
     ]
    }
   ],
   "source": [
    "import traceback\n",
    "try:\n",
    "    print('a' * 'b')\n",
    "except Exception:\n",
    "    traceback.print_exc(file=sys.stdout)"
   ]
  },
  {
   "cell_type": "code",
   "execution_count": 39,
   "id": "cleared-photography",
   "metadata": {},
   "outputs": [
    {
     "name": "stdout",
     "output_type": "stream",
     "text": [
      "**** print_tb: ****\n",
      "\n",
      "  File \"<ipython-input-39-00f72cd67c60>\", line 10, in <module>\n",
      "    lumberjack()\n",
      "\n",
      "\n",
      "**** print_exception: ****\n",
      "\n",
      "Traceback (most recent call last):\n",
      "  File \"<ipython-input-39-00f72cd67c60>\", line 10, in <module>\n",
      "    lumberjack()\n",
      "  File \"<ipython-input-39-00f72cd67c60>\", line 5, in lumberjack\n",
      "    bright_side_of_death()\n",
      "IndexError: tuple index out of range\n",
      "\n",
      "\n",
      "**** print_exc: ****\n",
      "\n",
      "Traceback (most recent call last):\n",
      "  File \"<ipython-input-39-00f72cd67c60>\", line 10, in <module>\n",
      "    lumberjack()\n",
      "  File \"<ipython-input-39-00f72cd67c60>\", line 5, in lumberjack\n",
      "    bright_side_of_death()\n",
      "IndexError: tuple index out of range\n",
      "\n",
      "\n",
      "*** format_exc, first and last line:\n",
      "\n",
      "Traceback (most recent call last):\n",
      "IndexError: tuple index out of range\n",
      "\n",
      "\n",
      "**** format_exception: ****\n",
      "\n",
      "['Traceback (most recent call last):\\n', '  File \"<ipython-input-39-00f72cd67c60>\", line 10, in <module>\\n    lumberjack()\\n', '  File \"<ipython-input-39-00f72cd67c60>\", line 5, in lumberjack\\n    bright_side_of_death()\\n', '  File \"<ipython-input-39-00f72cd67c60>\", line 7, in bright_side_of_death\\n    return tuple()[0]\\n', 'IndexError: tuple index out of range\\n']\n",
      "\n",
      "\n",
      "**** format_tb: ****\n",
      "\n",
      "[<FrameSummary file <ipython-input-39-00f72cd67c60>, line 10 in <module>>, <FrameSummary file <ipython-input-39-00f72cd67c60>, line 5 in lumberjack>, <FrameSummary file <ipython-input-39-00f72cd67c60>, line 7 in bright_side_of_death>]\n",
      "\n",
      "\n",
      "**** extract_tb: ****\n",
      "\n",
      "['  File \"<ipython-input-39-00f72cd67c60>\", line 10, in <module>\\n    lumberjack()\\n', '  File \"<ipython-input-39-00f72cd67c60>\", line 5, in lumberjack\\n    bright_side_of_death()\\n', '  File \"<ipython-input-39-00f72cd67c60>\", line 7, in bright_side_of_death\\n    return tuple()[0]\\n']\n",
      "\n",
      "\n",
      "**** tb_lineno: 10\n"
     ]
    }
   ],
   "source": [
    "import sys\n",
    "import traceback\n",
    "\n",
    "def lumberjack():\n",
    "    bright_side_of_death()\n",
    "def bright_side_of_death():\n",
    "    return tuple()[0]\n",
    "\n",
    "try:\n",
    "    lumberjack()\n",
    "except IndexError:\n",
    "    exc_type, exc_value, exc_traceback = sys.exc_info()\n",
    "    print(\"**** print_tb: ****\\n\")\n",
    "    traceback.print_tb(exc_traceback, limit=1, file=sys.stdout)\n",
    "    print(\"\\n\\n**** print_exception: ****\\n\")\n",
    "    # exc_type below is ignored on 3.5 and later\n",
    "    traceback.print_exception(exc_type, exc_value, exc_traceback, limit=2, file=sys.stdout)\n",
    "    print(\"\\n\\n**** print_exc: ****\\n\")\n",
    "    traceback.print_exc(limit=2, file=sys.stdout)\n",
    "    print(\"\\n\\n*** format_exc, first and last line:\\n\")\n",
    "    formatted_lines = traceback.format_exc().splitlines()\n",
    "    print(formatted_lines[0])\n",
    "    print(formatted_lines[-1])\n",
    "    print(\"\\n\\n**** format_exception: ****\\n\")\n",
    "    # exc_type below is ignored on 3.5 and later\n",
    "    print(repr(traceback.format_exception(exc_type, exc_value, exc_traceback)))\n",
    "    print(\"\\n\\n**** format_tb: ****\\n\")\n",
    "    print(repr(traceback.extract_tb(exc_traceback)))\n",
    "    print(\"\\n\\n**** extract_tb: ****\\n\")\n",
    "    print(repr(traceback.format_tb(exc_traceback)))\n",
    "    print(\"\\n\\n**** tb_lineno:\", exc_traceback.tb_lineno)"
   ]
  },
  {
   "cell_type": "code",
   "execution_count": 14,
   "id": "systematic-composite",
   "metadata": {},
   "outputs": [
    {
     "name": "stdout",
     "output_type": "stream",
     "text": [
      "<class 'IndexError'>\n"
     ]
    }
   ],
   "source": [
    "print(exc_type)"
   ]
  },
  {
   "cell_type": "code",
   "execution_count": 15,
   "id": "typical-princeton",
   "metadata": {},
   "outputs": [
    {
     "name": "stdout",
     "output_type": "stream",
     "text": [
      "tuple index out of range\n"
     ]
    }
   ],
   "source": [
    "print(exc_value)"
   ]
  },
  {
   "cell_type": "code",
   "execution_count": 16,
   "id": "sensitive-capitol",
   "metadata": {},
   "outputs": [
    {
     "name": "stdout",
     "output_type": "stream",
     "text": [
      "<traceback object at 0x000002706CD99C80>\n"
     ]
    }
   ],
   "source": [
    "print(exc_traceback)"
   ]
  },
  {
   "cell_type": "code",
   "execution_count": 19,
   "id": "micro-humor",
   "metadata": {},
   "outputs": [
    {
     "ename": "IndexError",
     "evalue": "tuple index out of range",
     "output_type": "error",
     "traceback": [
      "\u001b[1;31m---------------------------------------------------------------------------\u001b[0m",
      "\u001b[1;31mIndexError\u001b[0m                                Traceback (most recent call last)",
      "\u001b[1;32m<ipython-input-19-3a2b231b4f1e>\u001b[0m in \u001b[0;36m<module>\u001b[1;34m\u001b[0m\n\u001b[1;32m----> 1\u001b[1;33m \u001b[0mlumberjack\u001b[0m\u001b[1;33m(\u001b[0m\u001b[1;33m)\u001b[0m\u001b[1;33m\u001b[0m\u001b[1;33m\u001b[0m\u001b[0m\n\u001b[0m",
      "\u001b[1;32m<ipython-input-18-7810b4d92ea1>\u001b[0m in \u001b[0;36mlumberjack\u001b[1;34m()\u001b[0m\n\u001b[0;32m      3\u001b[0m \u001b[1;33m\u001b[0m\u001b[0m\n\u001b[0;32m      4\u001b[0m \u001b[1;32mdef\u001b[0m \u001b[0mlumberjack\u001b[0m\u001b[1;33m(\u001b[0m\u001b[1;33m)\u001b[0m\u001b[1;33m:\u001b[0m\u001b[1;33m\u001b[0m\u001b[1;33m\u001b[0m\u001b[0m\n\u001b[1;32m----> 5\u001b[1;33m     \u001b[0mbright_side_of_death\u001b[0m\u001b[1;33m(\u001b[0m\u001b[1;33m)\u001b[0m\u001b[1;33m\u001b[0m\u001b[1;33m\u001b[0m\u001b[0m\n\u001b[0m\u001b[0;32m      6\u001b[0m \u001b[1;32mdef\u001b[0m \u001b[0mbright_side_of_death\u001b[0m\u001b[1;33m(\u001b[0m\u001b[1;33m)\u001b[0m\u001b[1;33m:\u001b[0m\u001b[1;33m\u001b[0m\u001b[1;33m\u001b[0m\u001b[0m\n\u001b[0;32m      7\u001b[0m     \u001b[1;32mreturn\u001b[0m \u001b[0mtuple\u001b[0m\u001b[1;33m(\u001b[0m\u001b[1;33m)\u001b[0m\u001b[1;33m[\u001b[0m\u001b[1;36m0\u001b[0m\u001b[1;33m]\u001b[0m\u001b[1;33m\u001b[0m\u001b[1;33m\u001b[0m\u001b[0m\n",
      "\u001b[1;32m<ipython-input-18-7810b4d92ea1>\u001b[0m in \u001b[0;36mbright_side_of_death\u001b[1;34m()\u001b[0m\n\u001b[0;32m      5\u001b[0m     \u001b[0mbright_side_of_death\u001b[0m\u001b[1;33m(\u001b[0m\u001b[1;33m)\u001b[0m\u001b[1;33m\u001b[0m\u001b[1;33m\u001b[0m\u001b[0m\n\u001b[0;32m      6\u001b[0m \u001b[1;32mdef\u001b[0m \u001b[0mbright_side_of_death\u001b[0m\u001b[1;33m(\u001b[0m\u001b[1;33m)\u001b[0m\u001b[1;33m:\u001b[0m\u001b[1;33m\u001b[0m\u001b[1;33m\u001b[0m\u001b[0m\n\u001b[1;32m----> 7\u001b[1;33m     \u001b[1;32mreturn\u001b[0m \u001b[0mtuple\u001b[0m\u001b[1;33m(\u001b[0m\u001b[1;33m)\u001b[0m\u001b[1;33m[\u001b[0m\u001b[1;36m0\u001b[0m\u001b[1;33m]\u001b[0m\u001b[1;33m\u001b[0m\u001b[1;33m\u001b[0m\u001b[0m\n\u001b[0m\u001b[0;32m      8\u001b[0m \u001b[1;33m\u001b[0m\u001b[0m\n\u001b[0;32m      9\u001b[0m \u001b[1;32mtry\u001b[0m\u001b[1;33m:\u001b[0m\u001b[1;33m\u001b[0m\u001b[1;33m\u001b[0m\u001b[0m\n",
      "\u001b[1;31mIndexError\u001b[0m: tuple index out of range"
     ]
    }
   ],
   "source": [
    "lumberjack()"
   ]
  },
  {
   "cell_type": "code",
   "execution_count": 45,
   "id": "romantic-miami",
   "metadata": {},
   "outputs": [
    {
     "name": "stdout",
     "output_type": "stream",
     "text": [
      "[<FrameSummary file c:\\users\\subhadeep banerjee\\appdata\\local\\programs\\python\\python38\\lib\\runpy.py, line 194 in _run_module_as_main>, <FrameSummary file c:\\users\\subhadeep banerjee\\appdata\\local\\programs\\python\\python38\\lib\\runpy.py, line 87 in _run_code>, <FrameSummary file c:\\users\\subhadeep banerjee\\appdata\\local\\programs\\python\\python38\\lib\\site-packages\\ipykernel_launcher.py, line 16 in <module>>, <FrameSummary file c:\\users\\subhadeep banerjee\\appdata\\local\\programs\\python\\python38\\lib\\site-packages\\traitlets\\config\\application.py, line 845 in launch_instance>, <FrameSummary file c:\\users\\subhadeep banerjee\\appdata\\local\\programs\\python\\python38\\lib\\site-packages\\ipykernel\\kernelapp.py, line 612 in start>, <FrameSummary file c:\\users\\subhadeep banerjee\\appdata\\local\\programs\\python\\python38\\lib\\site-packages\\tornado\\platform\\asyncio.py, line 199 in start>, <FrameSummary file c:\\users\\subhadeep banerjee\\appdata\\local\\programs\\python\\python38\\lib\\asyncio\\windows_events.py, line 316 in run_forever>, <FrameSummary file c:\\users\\subhadeep banerjee\\appdata\\local\\programs\\python\\python38\\lib\\asyncio\\base_events.py, line 570 in run_forever>, <FrameSummary file c:\\users\\subhadeep banerjee\\appdata\\local\\programs\\python\\python38\\lib\\asyncio\\base_events.py, line 1859 in _run_once>, <FrameSummary file c:\\users\\subhadeep banerjee\\appdata\\local\\programs\\python\\python38\\lib\\asyncio\\events.py, line 81 in _run>, <FrameSummary file c:\\users\\subhadeep banerjee\\appdata\\local\\programs\\python\\python38\\lib\\site-packages\\tornado\\ioloop.py, line 688 in <lambda>>, <FrameSummary file c:\\users\\subhadeep banerjee\\appdata\\local\\programs\\python\\python38\\lib\\site-packages\\tornado\\ioloop.py, line 741 in _run_callback>, <FrameSummary file c:\\users\\subhadeep banerjee\\appdata\\local\\programs\\python\\python38\\lib\\site-packages\\tornado\\gen.py, line 814 in inner>, <FrameSummary file c:\\users\\subhadeep banerjee\\appdata\\local\\programs\\python\\python38\\lib\\site-packages\\tornado\\gen.py, line 775 in run>, <FrameSummary file c:\\users\\subhadeep banerjee\\appdata\\local\\programs\\python\\python38\\lib\\site-packages\\ipykernel\\kernelbase.py, line 362 in process_one>, <FrameSummary file c:\\users\\subhadeep banerjee\\appdata\\local\\programs\\python\\python38\\lib\\site-packages\\tornado\\gen.py, line 234 in wrapper>, <FrameSummary file c:\\users\\subhadeep banerjee\\appdata\\local\\programs\\python\\python38\\lib\\site-packages\\ipykernel\\kernelbase.py, line 265 in dispatch_shell>, <FrameSummary file c:\\users\\subhadeep banerjee\\appdata\\local\\programs\\python\\python38\\lib\\site-packages\\tornado\\gen.py, line 234 in wrapper>, <FrameSummary file c:\\users\\subhadeep banerjee\\appdata\\local\\programs\\python\\python38\\lib\\site-packages\\ipykernel\\kernelbase.py, line 540 in execute_request>, <FrameSummary file c:\\users\\subhadeep banerjee\\appdata\\local\\programs\\python\\python38\\lib\\site-packages\\tornado\\gen.py, line 234 in wrapper>, <FrameSummary file c:\\users\\subhadeep banerjee\\appdata\\local\\programs\\python\\python38\\lib\\site-packages\\ipykernel\\ipkernel.py, line 302 in do_execute>, <FrameSummary file c:\\users\\subhadeep banerjee\\appdata\\local\\programs\\python\\python38\\lib\\site-packages\\ipykernel\\zmqshell.py, line 539 in run_cell>, <FrameSummary file c:\\users\\subhadeep banerjee\\appdata\\local\\programs\\python\\python38\\lib\\site-packages\\IPython\\core\\interactiveshell.py, line 2877 in run_cell>, <FrameSummary file c:\\users\\subhadeep banerjee\\appdata\\local\\programs\\python\\python38\\lib\\site-packages\\IPython\\core\\interactiveshell.py, line 2923 in _run_cell>, <FrameSummary file c:\\users\\subhadeep banerjee\\appdata\\local\\programs\\python\\python38\\lib\\site-packages\\IPython\\core\\async_helpers.py, line 68 in _pseudo_sync_runner>, <FrameSummary file c:\\users\\subhadeep banerjee\\appdata\\local\\programs\\python\\python38\\lib\\site-packages\\IPython\\core\\interactiveshell.py, line 3146 in run_cell_async>, <FrameSummary file c:\\users\\subhadeep banerjee\\appdata\\local\\programs\\python\\python38\\lib\\site-packages\\IPython\\core\\interactiveshell.py, line 3338 in run_ast_nodes>, <FrameSummary file c:\\users\\subhadeep banerjee\\appdata\\local\\programs\\python\\python38\\lib\\site-packages\\IPython\\core\\interactiveshell.py, line 3418 in run_code>, <FrameSummary file <ipython-input-45-fe6446594897>, line 12 in <module>>, <FrameSummary file <ipython-input-45-fe6446594897>, line 4 in another_function>, <FrameSummary file <ipython-input-45-fe6446594897>, line 7 in lumberstack>]\n",
      "['  File \"c:\\\\users\\\\subhadeep banerjee\\\\appdata\\\\local\\\\programs\\\\python\\\\python38\\\\lib\\\\runpy.py\", line 194, in _run_module_as_main\\n    return _run_code(code, main_globals, None,\\n', '  File \"c:\\\\users\\\\subhadeep banerjee\\\\appdata\\\\local\\\\programs\\\\python\\\\python38\\\\lib\\\\runpy.py\", line 87, in _run_code\\n    exec(code, run_globals)\\n', '  File \"c:\\\\users\\\\subhadeep banerjee\\\\appdata\\\\local\\\\programs\\\\python\\\\python38\\\\lib\\\\site-packages\\\\ipykernel_launcher.py\", line 16, in <module>\\n    app.launch_new_instance()\\n', '  File \"c:\\\\users\\\\subhadeep banerjee\\\\appdata\\\\local\\\\programs\\\\python\\\\python38\\\\lib\\\\site-packages\\\\traitlets\\\\config\\\\application.py\", line 845, in launch_instance\\n    app.start()\\n', '  File \"c:\\\\users\\\\subhadeep banerjee\\\\appdata\\\\local\\\\programs\\\\python\\\\python38\\\\lib\\\\site-packages\\\\ipykernel\\\\kernelapp.py\", line 612, in start\\n    self.io_loop.start()\\n', '  File \"c:\\\\users\\\\subhadeep banerjee\\\\appdata\\\\local\\\\programs\\\\python\\\\python38\\\\lib\\\\site-packages\\\\tornado\\\\platform\\\\asyncio.py\", line 199, in start\\n    self.asyncio_loop.run_forever()\\n', '  File \"c:\\\\users\\\\subhadeep banerjee\\\\appdata\\\\local\\\\programs\\\\python\\\\python38\\\\lib\\\\asyncio\\\\windows_events.py\", line 316, in run_forever\\n    super().run_forever()\\n', '  File \"c:\\\\users\\\\subhadeep banerjee\\\\appdata\\\\local\\\\programs\\\\python\\\\python38\\\\lib\\\\asyncio\\\\base_events.py\", line 570, in run_forever\\n    self._run_once()\\n', '  File \"c:\\\\users\\\\subhadeep banerjee\\\\appdata\\\\local\\\\programs\\\\python\\\\python38\\\\lib\\\\asyncio\\\\base_events.py\", line 1859, in _run_once\\n    handle._run()\\n', '  File \"c:\\\\users\\\\subhadeep banerjee\\\\appdata\\\\local\\\\programs\\\\python\\\\python38\\\\lib\\\\asyncio\\\\events.py\", line 81, in _run\\n    self._context.run(self._callback, *self._args)\\n', '  File \"c:\\\\users\\\\subhadeep banerjee\\\\appdata\\\\local\\\\programs\\\\python\\\\python38\\\\lib\\\\site-packages\\\\tornado\\\\ioloop.py\", line 688, in <lambda>\\n    lambda f: self._run_callback(functools.partial(callback, future))\\n', '  File \"c:\\\\users\\\\subhadeep banerjee\\\\appdata\\\\local\\\\programs\\\\python\\\\python38\\\\lib\\\\site-packages\\\\tornado\\\\ioloop.py\", line 741, in _run_callback\\n    ret = callback()\\n', '  File \"c:\\\\users\\\\subhadeep banerjee\\\\appdata\\\\local\\\\programs\\\\python\\\\python38\\\\lib\\\\site-packages\\\\tornado\\\\gen.py\", line 814, in inner\\n    self.ctx_run(self.run)\\n', '  File \"c:\\\\users\\\\subhadeep banerjee\\\\appdata\\\\local\\\\programs\\\\python\\\\python38\\\\lib\\\\site-packages\\\\tornado\\\\gen.py\", line 775, in run\\n    yielded = self.gen.send(value)\\n', '  File \"c:\\\\users\\\\subhadeep banerjee\\\\appdata\\\\local\\\\programs\\\\python\\\\python38\\\\lib\\\\site-packages\\\\ipykernel\\\\kernelbase.py\", line 362, in process_one\\n    yield gen.maybe_future(dispatch(*args))\\n', '  File \"c:\\\\users\\\\subhadeep banerjee\\\\appdata\\\\local\\\\programs\\\\python\\\\python38\\\\lib\\\\site-packages\\\\tornado\\\\gen.py\", line 234, in wrapper\\n    yielded = ctx_run(next, result)\\n', '  File \"c:\\\\users\\\\subhadeep banerjee\\\\appdata\\\\local\\\\programs\\\\python\\\\python38\\\\lib\\\\site-packages\\\\ipykernel\\\\kernelbase.py\", line 265, in dispatch_shell\\n    yield gen.maybe_future(handler(stream, idents, msg))\\n', '  File \"c:\\\\users\\\\subhadeep banerjee\\\\appdata\\\\local\\\\programs\\\\python\\\\python38\\\\lib\\\\site-packages\\\\tornado\\\\gen.py\", line 234, in wrapper\\n    yielded = ctx_run(next, result)\\n', '  File \"c:\\\\users\\\\subhadeep banerjee\\\\appdata\\\\local\\\\programs\\\\python\\\\python38\\\\lib\\\\site-packages\\\\ipykernel\\\\kernelbase.py\", line 540, in execute_request\\n    self.do_execute(\\n', '  File \"c:\\\\users\\\\subhadeep banerjee\\\\appdata\\\\local\\\\programs\\\\python\\\\python38\\\\lib\\\\site-packages\\\\tornado\\\\gen.py\", line 234, in wrapper\\n    yielded = ctx_run(next, result)\\n', '  File \"c:\\\\users\\\\subhadeep banerjee\\\\appdata\\\\local\\\\programs\\\\python\\\\python38\\\\lib\\\\site-packages\\\\ipykernel\\\\ipkernel.py\", line 302, in do_execute\\n    res = shell.run_cell(code, store_history=store_history, silent=silent)\\n', '  File \"c:\\\\users\\\\subhadeep banerjee\\\\appdata\\\\local\\\\programs\\\\python\\\\python38\\\\lib\\\\site-packages\\\\ipykernel\\\\zmqshell.py\", line 539, in run_cell\\n    return super(ZMQInteractiveShell, self).run_cell(*args, **kwargs)\\n', '  File \"c:\\\\users\\\\subhadeep banerjee\\\\appdata\\\\local\\\\programs\\\\python\\\\python38\\\\lib\\\\site-packages\\\\IPython\\\\core\\\\interactiveshell.py\", line 2877, in run_cell\\n    result = self._run_cell(\\n', '  File \"c:\\\\users\\\\subhadeep banerjee\\\\appdata\\\\local\\\\programs\\\\python\\\\python38\\\\lib\\\\site-packages\\\\IPython\\\\core\\\\interactiveshell.py\", line 2923, in _run_cell\\n    return runner(coro)\\n', '  File \"c:\\\\users\\\\subhadeep banerjee\\\\appdata\\\\local\\\\programs\\\\python\\\\python38\\\\lib\\\\site-packages\\\\IPython\\\\core\\\\async_helpers.py\", line 68, in _pseudo_sync_runner\\n    coro.send(None)\\n', '  File \"c:\\\\users\\\\subhadeep banerjee\\\\appdata\\\\local\\\\programs\\\\python\\\\python38\\\\lib\\\\site-packages\\\\IPython\\\\core\\\\interactiveshell.py\", line 3146, in run_cell_async\\n    has_raised = await self.run_ast_nodes(code_ast.body, cell_name,\\n', '  File \"c:\\\\users\\\\subhadeep banerjee\\\\appdata\\\\local\\\\programs\\\\python\\\\python38\\\\lib\\\\site-packages\\\\IPython\\\\core\\\\interactiveshell.py\", line 3338, in run_ast_nodes\\n    if (await self.run_code(code, result,  async_=asy)):\\n', '  File \"c:\\\\users\\\\subhadeep banerjee\\\\appdata\\\\local\\\\programs\\\\python\\\\python38\\\\lib\\\\site-packages\\\\IPython\\\\core\\\\interactiveshell.py\", line 3418, in run_code\\n    exec(code_obj, self.user_global_ns, self.user_ns)\\n', '  File \"<ipython-input-45-fe6446594897>\", line 12, in <module>\\n    another_function()\\n', '  File \"<ipython-input-45-fe6446594897>\", line 4, in another_function\\n    lumberstack()\\n', '  File \"<ipython-input-45-fe6446594897>\", line 8, in lumberstack\\n    print(repr(traceback.format_stack()))\\n']\n"
     ]
    },
    {
     "name": "stderr",
     "output_type": "stream",
     "text": [
      "  File \"c:\\users\\subhadeep banerjee\\appdata\\local\\programs\\python\\python38\\lib\\runpy.py\", line 194, in _run_module_as_main\n",
      "    return _run_code(code, main_globals, None,\n",
      "  File \"c:\\users\\subhadeep banerjee\\appdata\\local\\programs\\python\\python38\\lib\\runpy.py\", line 87, in _run_code\n",
      "    exec(code, run_globals)\n",
      "  File \"c:\\users\\subhadeep banerjee\\appdata\\local\\programs\\python\\python38\\lib\\site-packages\\ipykernel_launcher.py\", line 16, in <module>\n",
      "    app.launch_new_instance()\n",
      "  File \"c:\\users\\subhadeep banerjee\\appdata\\local\\programs\\python\\python38\\lib\\site-packages\\traitlets\\config\\application.py\", line 845, in launch_instance\n",
      "    app.start()\n",
      "  File \"c:\\users\\subhadeep banerjee\\appdata\\local\\programs\\python\\python38\\lib\\site-packages\\ipykernel\\kernelapp.py\", line 612, in start\n",
      "    self.io_loop.start()\n",
      "  File \"c:\\users\\subhadeep banerjee\\appdata\\local\\programs\\python\\python38\\lib\\site-packages\\tornado\\platform\\asyncio.py\", line 199, in start\n",
      "    self.asyncio_loop.run_forever()\n",
      "  File \"c:\\users\\subhadeep banerjee\\appdata\\local\\programs\\python\\python38\\lib\\asyncio\\windows_events.py\", line 316, in run_forever\n",
      "    super().run_forever()\n",
      "  File \"c:\\users\\subhadeep banerjee\\appdata\\local\\programs\\python\\python38\\lib\\asyncio\\base_events.py\", line 570, in run_forever\n",
      "    self._run_once()\n",
      "  File \"c:\\users\\subhadeep banerjee\\appdata\\local\\programs\\python\\python38\\lib\\asyncio\\base_events.py\", line 1859, in _run_once\n",
      "    handle._run()\n",
      "  File \"c:\\users\\subhadeep banerjee\\appdata\\local\\programs\\python\\python38\\lib\\asyncio\\events.py\", line 81, in _run\n",
      "    self._context.run(self._callback, *self._args)\n",
      "  File \"c:\\users\\subhadeep banerjee\\appdata\\local\\programs\\python\\python38\\lib\\site-packages\\tornado\\ioloop.py\", line 688, in <lambda>\n",
      "    lambda f: self._run_callback(functools.partial(callback, future))\n",
      "  File \"c:\\users\\subhadeep banerjee\\appdata\\local\\programs\\python\\python38\\lib\\site-packages\\tornado\\ioloop.py\", line 741, in _run_callback\n",
      "    ret = callback()\n",
      "  File \"c:\\users\\subhadeep banerjee\\appdata\\local\\programs\\python\\python38\\lib\\site-packages\\tornado\\gen.py\", line 814, in inner\n",
      "    self.ctx_run(self.run)\n",
      "  File \"c:\\users\\subhadeep banerjee\\appdata\\local\\programs\\python\\python38\\lib\\site-packages\\tornado\\gen.py\", line 775, in run\n",
      "    yielded = self.gen.send(value)\n",
      "  File \"c:\\users\\subhadeep banerjee\\appdata\\local\\programs\\python\\python38\\lib\\site-packages\\ipykernel\\kernelbase.py\", line 362, in process_one\n",
      "    yield gen.maybe_future(dispatch(*args))\n",
      "  File \"c:\\users\\subhadeep banerjee\\appdata\\local\\programs\\python\\python38\\lib\\site-packages\\tornado\\gen.py\", line 234, in wrapper\n",
      "    yielded = ctx_run(next, result)\n",
      "  File \"c:\\users\\subhadeep banerjee\\appdata\\local\\programs\\python\\python38\\lib\\site-packages\\ipykernel\\kernelbase.py\", line 265, in dispatch_shell\n",
      "    yield gen.maybe_future(handler(stream, idents, msg))\n",
      "  File \"c:\\users\\subhadeep banerjee\\appdata\\local\\programs\\python\\python38\\lib\\site-packages\\tornado\\gen.py\", line 234, in wrapper\n",
      "    yielded = ctx_run(next, result)\n",
      "  File \"c:\\users\\subhadeep banerjee\\appdata\\local\\programs\\python\\python38\\lib\\site-packages\\ipykernel\\kernelbase.py\", line 540, in execute_request\n",
      "    self.do_execute(\n",
      "  File \"c:\\users\\subhadeep banerjee\\appdata\\local\\programs\\python\\python38\\lib\\site-packages\\tornado\\gen.py\", line 234, in wrapper\n",
      "    yielded = ctx_run(next, result)\n",
      "  File \"c:\\users\\subhadeep banerjee\\appdata\\local\\programs\\python\\python38\\lib\\site-packages\\ipykernel\\ipkernel.py\", line 302, in do_execute\n",
      "    res = shell.run_cell(code, store_history=store_history, silent=silent)\n",
      "  File \"c:\\users\\subhadeep banerjee\\appdata\\local\\programs\\python\\python38\\lib\\site-packages\\ipykernel\\zmqshell.py\", line 539, in run_cell\n",
      "    return super(ZMQInteractiveShell, self).run_cell(*args, **kwargs)\n",
      "  File \"c:\\users\\subhadeep banerjee\\appdata\\local\\programs\\python\\python38\\lib\\site-packages\\IPython\\core\\interactiveshell.py\", line 2877, in run_cell\n",
      "    result = self._run_cell(\n",
      "  File \"c:\\users\\subhadeep banerjee\\appdata\\local\\programs\\python\\python38\\lib\\site-packages\\IPython\\core\\interactiveshell.py\", line 2923, in _run_cell\n",
      "    return runner(coro)\n",
      "  File \"c:\\users\\subhadeep banerjee\\appdata\\local\\programs\\python\\python38\\lib\\site-packages\\IPython\\core\\async_helpers.py\", line 68, in _pseudo_sync_runner\n",
      "    coro.send(None)\n",
      "  File \"c:\\users\\subhadeep banerjee\\appdata\\local\\programs\\python\\python38\\lib\\site-packages\\IPython\\core\\interactiveshell.py\", line 3146, in run_cell_async\n",
      "    has_raised = await self.run_ast_nodes(code_ast.body, cell_name,\n",
      "  File \"c:\\users\\subhadeep banerjee\\appdata\\local\\programs\\python\\python38\\lib\\site-packages\\IPython\\core\\interactiveshell.py\", line 3338, in run_ast_nodes\n",
      "    if (await self.run_code(code, result,  async_=asy)):\n",
      "  File \"c:\\users\\subhadeep banerjee\\appdata\\local\\programs\\python\\python38\\lib\\site-packages\\IPython\\core\\interactiveshell.py\", line 3418, in run_code\n",
      "    exec(code_obj, self.user_global_ns, self.user_ns)\n",
      "  File \"<ipython-input-45-fe6446594897>\", line 12, in <module>\n",
      "    another_function()\n",
      "  File \"<ipython-input-45-fe6446594897>\", line 4, in another_function\n",
      "    lumberstack()\n",
      "  File \"<ipython-input-45-fe6446594897>\", line 6, in lumberstack\n",
      "    traceback.print_stack()\n"
     ]
    }
   ],
   "source": [
    "import traceback\n",
    "\n",
    "def another_function():\n",
    "    lumberstack()\n",
    "def lumberstack():\n",
    "    traceback.print_stack()\n",
    "    print(repr(traceback.extract_stack()))\n",
    "    print(repr(traceback.format_stack()))\n",
    "\n",
    "\n",
    "if __name__ == '__main__':\n",
    "    another_function()"
   ]
  },
  {
   "cell_type": "code",
   "execution_count": 49,
   "id": "efficient-tactics",
   "metadata": {},
   "outputs": [
    {
     "data": {
      "text/plain": [
       "['IndexError: tuple index out of range\\n']"
      ]
     },
     "execution_count": 49,
     "metadata": {},
     "output_type": "execute_result"
    }
   ],
   "source": [
    "import traceback\n",
    "traceback.format_list([('spam.py', 3, '<module>', 'spam.eggs()'),\n",
    "                       ('eggs.py', 42, 'eggs', 'return' \"bacon\"'')])\n",
    "an_error = IndexError('tuple index out of range')\n",
    "traceback.format_exception_only(type(an_error), an_error)"
   ]
  },
  {
   "cell_type": "markdown",
   "id": "impressive-gateway",
   "metadata": {},
   "source": [
    "## Program that prints the exception stack trace"
   ]
  },
  {
   "cell_type": "code",
   "execution_count": 52,
   "id": "velvet-forum",
   "metadata": {},
   "outputs": [
    {
     "name": "stdout",
     "output_type": "stream",
     "text": [
      "Traceback (most recent call last):\n",
      "  File \"<ipython-input-52-5d91fab3e7ce>\", line 5, in <module>\n",
      "    value = A[6]\n",
      "IndexError: list index out of range\n"
     ]
    }
   ],
   "source": [
    "import traceback\n",
    "import sys\n",
    "A = [1,2,3,4,5]\n",
    "try:\n",
    "    value = A[6]\n",
    "except:\n",
    "    traceback.print_exc(file=sys.stdout)"
   ]
  },
  {
   "cell_type": "markdown",
   "id": "bearing-theology",
   "metadata": {},
   "source": [
    "## Traceback Exception Class\n",
    "https://www.geeksforgeeks.org/traceback-in-python/?ref=rp\n",
    "\n",
    "Classes in the Module\n",
    "TracebackeException Class : TracebackException objects are created from actual exceptions to capture data for later printing.\n",
    "\n",
    "class traceback.TracebackException(exc_type, exc_value, exc_traceback, *, limit = None, lookup_lines = True, capture_locals = False)\n",
    "\n",
    "The class TracebackException contains the following objects:\n",
    "\n",
    "__cause__ : A TracebackException of the original __cause__.\n",
    "__context__ : A TracebackException of the original __context__.\n",
    "__suppress_context__ : The __suppress_context__ value from the original exception.\n",
    "stack : A StackSummary representing the traceback\n",
    "exc_type : The class of the original traceback.\n",
    "filename : For syntax errors – the file name where the error occurred.\n",
    "lineno : For syntax errors – the line number where the error occurred.\n",
    "text : For syntax errors – the text where the error occurred.\n",
    "offset : For syntax errors – the offset into the text where the error occurred.\n",
    "msg : For syntax errors – the compiler error message.\n",
    "classmethod from_exception(exc, *, limit = None, lookup_lines = True, capture_locals = False) : Captures an exception for later rendering.\n",
    "format(*, chain=True) : formats the exception. If chain is not True, __cause__ and __context__ will not be formatted. It returns strings each ending in newline and few have internal newlines as well. The message indicating which exception occurred is always the last string in the output.\n",
    "format_exception_only() : Formats the exception part of the traceback. It also returns strings ending newlines. Normally, the generator emits a single string; however, for SyntaxError exceptions, it emits several lines that (when printed) display detailed information about where the syntax error occurred. The message indicating which exception occurred is always the last string in the output."
   ]
  },
  {
   "cell_type": "code",
   "execution_count": 59,
   "id": "dress-tours",
   "metadata": {},
   "outputs": [
    {
     "name": "stdout",
     "output_type": "stream",
     "text": [
      "ZeroDivisionError: division by zero\n",
      "\n"
     ]
    }
   ],
   "source": [
    "import traceback\n",
    "import sys\n",
    "\n",
    "a=3\n",
    "b=0\n",
    "try:\n",
    "    a/b\n",
    "except Exception as e:\n",
    "    exc_type, exc_value, exc_tb = sys.exc_info()\n",
    "    tb = traceback.TracebackException(exc_type, exc_value, exc_tb)\n",
    "    print(''.join(tb.format_exception_only()))"
   ]
  },
  {
   "cell_type": "markdown",
   "id": "marine-situation",
   "metadata": {},
   "source": [
    "## StackSummary Class\n",
    "\n",
    "StackSummary Class : The objects of this class represent a call stack ready for formatting.\n",
    "\n",
    "class traceback.StackSummary\n",
    "classmethod extract(frame_gen, *, limit = None, lookup_lines = True, capture_locals = False) : Constructs a StackSummary object from a frame generator.If limit is supplied, only this many frames are taken. If lookup_lines is False, the returned FrameSummary objects will not have read their lines in yet, making the cost of creating the StackSummary cheaper. If capture_locals is True the local variables in each FrameSummary are captured as object representations.\n",
    "classmethod from_list(a_list) : Constructs a StackSummary object from a supplied list of FrameSummary objects or old-style list of tuples.\n",
    "format() : Returns a list of strings ready for printing. Each string in the resulting list corresponds to a single frame from the stack. Each string ends in a newline; the strings may contain internal newlines as well. For long sequences of the same frame and line, the first few repetitions are shown, followed by a summary line stating the exact number of further repetitions. In the newer versions however, long sequences of repeated frames are abbreviated."
   ]
  },
  {
   "cell_type": "code",
   "execution_count": 61,
   "id": "military-premises",
   "metadata": {},
   "outputs": [
    {
     "name": "stdout",
     "output_type": "stream",
     "text": [
      "  File \"<ipython-input-61-fdbdd4298951>\", line 16, in f\n",
      "    summary = traceback.StackSummary.extract(\n",
      "  File \"<ipython-input-61-fdbdd4298951>\", line 12, in call2\n",
      "    f()\n",
      "  File \"<ipython-input-61-fdbdd4298951>\", line 7, in call1\n",
      "    call2(f)\n",
      "  File \"<ipython-input-61-fdbdd4298951>\", line 22, in <module>\n",
      "    call1(f)\n",
      "  File \"c:\\users\\subhadeep banerjee\\appdata\\local\\programs\\python\\python38\\lib\\site-packages\\IPython\\core\\interactiveshell.py\", line 3418, in run_code\n",
      "    exec(code_obj, self.user_global_ns, self.user_ns)\n",
      "  File \"c:\\users\\subhadeep banerjee\\appdata\\local\\programs\\python\\python38\\lib\\site-packages\\IPython\\core\\interactiveshell.py\", line 3338, in run_ast_nodes\n",
      "    if (await self.run_code(code, result,  async_=asy)):\n",
      "  File \"c:\\users\\subhadeep banerjee\\appdata\\local\\programs\\python\\python38\\lib\\site-packages\\IPython\\core\\interactiveshell.py\", line 3146, in run_cell_async\n",
      "    has_raised = await self.run_ast_nodes(code_ast.body, cell_name,\n",
      "  File \"c:\\users\\subhadeep banerjee\\appdata\\local\\programs\\python\\python38\\lib\\site-packages\\IPython\\core\\async_helpers.py\", line 68, in _pseudo_sync_runner\n",
      "    coro.send(None)\n",
      "  File \"c:\\users\\subhadeep banerjee\\appdata\\local\\programs\\python\\python38\\lib\\site-packages\\IPython\\core\\interactiveshell.py\", line 2923, in _run_cell\n",
      "    return runner(coro)\n",
      "  File \"c:\\users\\subhadeep banerjee\\appdata\\local\\programs\\python\\python38\\lib\\site-packages\\IPython\\core\\interactiveshell.py\", line 2877, in run_cell\n",
      "    result = self._run_cell(\n",
      "  File \"c:\\users\\subhadeep banerjee\\appdata\\local\\programs\\python\\python38\\lib\\site-packages\\ipykernel\\zmqshell.py\", line 539, in run_cell\n",
      "    return super(ZMQInteractiveShell, self).run_cell(*args, **kwargs)\n",
      "  File \"c:\\users\\subhadeep banerjee\\appdata\\local\\programs\\python\\python38\\lib\\site-packages\\ipykernel\\ipkernel.py\", line 302, in do_execute\n",
      "    res = shell.run_cell(code, store_history=store_history, silent=silent)\n",
      "  File \"c:\\users\\subhadeep banerjee\\appdata\\local\\programs\\python\\python38\\lib\\site-packages\\tornado\\gen.py\", line 234, in wrapper\n",
      "    yielded = ctx_run(next, result)\n",
      "  File \"c:\\users\\subhadeep banerjee\\appdata\\local\\programs\\python\\python38\\lib\\site-packages\\ipykernel\\kernelbase.py\", line 540, in execute_request\n",
      "    self.do_execute(\n",
      "  File \"c:\\users\\subhadeep banerjee\\appdata\\local\\programs\\python\\python38\\lib\\site-packages\\tornado\\gen.py\", line 234, in wrapper\n",
      "    yielded = ctx_run(next, result)\n",
      "  File \"c:\\users\\subhadeep banerjee\\appdata\\local\\programs\\python\\python38\\lib\\site-packages\\ipykernel\\kernelbase.py\", line 265, in dispatch_shell\n",
      "    yield gen.maybe_future(handler(stream, idents, msg))\n",
      "  File \"c:\\users\\subhadeep banerjee\\appdata\\local\\programs\\python\\python38\\lib\\site-packages\\tornado\\gen.py\", line 234, in wrapper\n",
      "    yielded = ctx_run(next, result)\n",
      "  File \"c:\\users\\subhadeep banerjee\\appdata\\local\\programs\\python\\python38\\lib\\site-packages\\ipykernel\\kernelbase.py\", line 362, in process_one\n",
      "    yield gen.maybe_future(dispatch(*args))\n",
      "  File \"c:\\users\\subhadeep banerjee\\appdata\\local\\programs\\python\\python38\\lib\\site-packages\\tornado\\gen.py\", line 775, in run\n",
      "    yielded = self.gen.send(value)\n",
      "  File \"c:\\users\\subhadeep banerjee\\appdata\\local\\programs\\python\\python38\\lib\\site-packages\\tornado\\gen.py\", line 814, in inner\n",
      "    self.ctx_run(self.run)\n",
      "  File \"c:\\users\\subhadeep banerjee\\appdata\\local\\programs\\python\\python38\\lib\\site-packages\\tornado\\ioloop.py\", line 741, in _run_callback\n",
      "    ret = callback()\n",
      "  File \"c:\\users\\subhadeep banerjee\\appdata\\local\\programs\\python\\python38\\lib\\site-packages\\tornado\\ioloop.py\", line 688, in <lambda>\n",
      "    lambda f: self._run_callback(functools.partial(callback, future))\n",
      "  File \"c:\\users\\subhadeep banerjee\\appdata\\local\\programs\\python\\python38\\lib\\asyncio\\events.py\", line 81, in _run\n",
      "    self._context.run(self._callback, *self._args)\n",
      "  File \"c:\\users\\subhadeep banerjee\\appdata\\local\\programs\\python\\python38\\lib\\asyncio\\base_events.py\", line 1859, in _run_once\n",
      "    handle._run()\n",
      "  File \"c:\\users\\subhadeep banerjee\\appdata\\local\\programs\\python\\python38\\lib\\asyncio\\base_events.py\", line 570, in run_forever\n",
      "    self._run_once()\n",
      "  File \"c:\\users\\subhadeep banerjee\\appdata\\local\\programs\\python\\python38\\lib\\asyncio\\windows_events.py\", line 316, in run_forever\n",
      "    super().run_forever()\n",
      "  File \"c:\\users\\subhadeep banerjee\\appdata\\local\\programs\\python\\python38\\lib\\site-packages\\tornado\\platform\\asyncio.py\", line 199, in start\n",
      "    self.asyncio_loop.run_forever()\n",
      "  File \"c:\\users\\subhadeep banerjee\\appdata\\local\\programs\\python\\python38\\lib\\site-packages\\ipykernel\\kernelapp.py\", line 612, in start\n",
      "    self.io_loop.start()\n",
      "  File \"c:\\users\\subhadeep banerjee\\appdata\\local\\programs\\python\\python38\\lib\\site-packages\\traitlets\\config\\application.py\", line 845, in launch_instance\n",
      "    app.start()\n",
      "  File \"c:\\users\\subhadeep banerjee\\appdata\\local\\programs\\python\\python38\\lib\\site-packages\\ipykernel_launcher.py\", line 16, in <module>\n",
      "    app.launch_new_instance()\n",
      "  File \"c:\\users\\subhadeep banerjee\\appdata\\local\\programs\\python\\python38\\lib\\runpy.py\", line 87, in _run_code\n",
      "    exec(code, run_globals)\n",
      "  File \"c:\\users\\subhadeep banerjee\\appdata\\local\\programs\\python\\python38\\lib\\runpy.py\", line 194, in _run_module_as_main\n",
      "    return _run_code(code, main_globals, None,\n",
      "\n"
     ]
    }
   ],
   "source": [
    "import traceback\n",
    "import sys\n",
    "\n",
    "def call1(f):\n",
    "    #inside call1()\n",
    "    #call1() calling call2()\n",
    "    call2(f)\n",
    "    \n",
    "def call2(f):\n",
    "    #inside call2()\n",
    "    #calling f()\n",
    "    f()\n",
    "    \n",
    "def f():\n",
    "    #inside f()\n",
    "    summary = traceback.StackSummary.extract(\n",
    "        traceback.walk_stack(None)\n",
    "    )\n",
    "    print(''.join(summary.format()))\n",
    "    \n",
    "if __name__ == '__main__':\n",
    "    call1(f)"
   ]
  },
  {
   "cell_type": "markdown",
   "id": "roman-latino",
   "metadata": {},
   "source": [
    "## FrameSummary Class\n",
    "\n",
    "FrameSummary objects represent a single frame in a traceback. \n",
    "\n",
    "```\n",
    "class traceback.FrameSummary(filename, lineno, name, lookup_line = True, locals = None, line = None)\n",
    "```\n",
    "It represents a single frame in the traceback or stack that being formatted or printed. It optionally may have stringified versions of the frame in it. If lookup_line is False, the source code is not looked up until the FrameSummary has the line attribute accessed. The line may be directly provided and will prevent line lookups from happening at all. Locals is an optional local variable dictionary, and if supplied the variable representations are stored in the summary for later display."
   ]
  },
  {
   "cell_type": "code",
   "execution_count": 67,
   "id": "therapeutic-radical",
   "metadata": {},
   "outputs": [
    {
     "name": "stdout",
     "output_type": "stream",
     "text": [
      "<ipython-input-67-cd8d2caa1f05>:21:f:\n",
      "    summary = traceback.StackSummary.extract(\n",
      "<ipython-input-67-cd8d2caa1f05>:13:call2:\n",
      "    f()\n",
      "<ipython-input-67-cd8d2caa1f05>:9:call1:\n",
      "    call2(f)\n",
      "<ipython-input-67-cd8d2caa1f05>:28:<module>:\n",
      "    call1(f)\n",
      "c:\\users\\subhadeep banerjee\\appdata\\local\\programs\\python\\python38\\lib\\site-packages\\IPython\\core\\interactiveshell.py:3418:run_code:\n",
      "    exec(code_obj, self.user_global_ns, self.user_ns)\n",
      "c:\\users\\subhadeep banerjee\\appdata\\local\\programs\\python\\python38\\lib\\site-packages\\IPython\\core\\interactiveshell.py:3338:run_ast_nodes:\n",
      "    if (await self.run_code(code, result,  async_=asy)):\n",
      "c:\\users\\subhadeep banerjee\\appdata\\local\\programs\\python\\python38\\lib\\site-packages\\IPython\\core\\interactiveshell.py:3146:run_cell_async:\n",
      "    has_raised = await self.run_ast_nodes(code_ast.body, cell_name,\n",
      "c:\\users\\subhadeep banerjee\\appdata\\local\\programs\\python\\python38\\lib\\site-packages\\IPython\\core\\async_helpers.py:68:_pseudo_sync_runner:\n",
      "    coro.send(None)\n",
      "c:\\users\\subhadeep banerjee\\appdata\\local\\programs\\python\\python38\\lib\\site-packages\\IPython\\core\\interactiveshell.py:2923:_run_cell:\n",
      "    return runner(coro)\n",
      "c:\\users\\subhadeep banerjee\\appdata\\local\\programs\\python\\python38\\lib\\site-packages\\IPython\\core\\interactiveshell.py:2877:run_cell:\n",
      "    result = self._run_cell(\n",
      "c:\\users\\subhadeep banerjee\\appdata\\local\\programs\\python\\python38\\lib\\site-packages\\ipykernel\\zmqshell.py:539:run_cell:\n",
      "    return super(ZMQInteractiveShell, self).run_cell(*args, **kwargs)\n",
      "c:\\users\\subhadeep banerjee\\appdata\\local\\programs\\python\\python38\\lib\\site-packages\\ipykernel\\ipkernel.py:302:do_execute:\n",
      "    res = shell.run_cell(code, store_history=store_history, silent=silent)\n",
      "c:\\users\\subhadeep banerjee\\appdata\\local\\programs\\python\\python38\\lib\\site-packages\\tornado\\gen.py:234:wrapper:\n",
      "    yielded = ctx_run(next, result)\n",
      "c:\\users\\subhadeep banerjee\\appdata\\local\\programs\\python\\python38\\lib\\site-packages\\ipykernel\\kernelbase.py:540:execute_request:\n",
      "    self.do_execute(\n",
      "c:\\users\\subhadeep banerjee\\appdata\\local\\programs\\python\\python38\\lib\\site-packages\\tornado\\gen.py:234:wrapper:\n",
      "    yielded = ctx_run(next, result)\n",
      "c:\\users\\subhadeep banerjee\\appdata\\local\\programs\\python\\python38\\lib\\site-packages\\ipykernel\\kernelbase.py:265:dispatch_shell:\n",
      "    yield gen.maybe_future(handler(stream, idents, msg))\n",
      "c:\\users\\subhadeep banerjee\\appdata\\local\\programs\\python\\python38\\lib\\site-packages\\tornado\\gen.py:234:wrapper:\n",
      "    yielded = ctx_run(next, result)\n",
      "c:\\users\\subhadeep banerjee\\appdata\\local\\programs\\python\\python38\\lib\\site-packages\\ipykernel\\kernelbase.py:362:process_one:\n",
      "    yield gen.maybe_future(dispatch(*args))\n",
      "c:\\users\\subhadeep banerjee\\appdata\\local\\programs\\python\\python38\\lib\\site-packages\\tornado\\gen.py:775:run:\n",
      "    yielded = self.gen.send(value)\n",
      "c:\\users\\subhadeep banerjee\\appdata\\local\\programs\\python\\python38\\lib\\site-packages\\tornado\\gen.py:814:inner:\n",
      "    self.ctx_run(self.run)\n",
      "c:\\users\\subhadeep banerjee\\appdata\\local\\programs\\python\\python38\\lib\\site-packages\\tornado\\ioloop.py:741:_run_callback:\n",
      "    ret = callback()\n",
      "c:\\users\\subhadeep banerjee\\appdata\\local\\programs\\python\\python38\\lib\\site-packages\\tornado\\ioloop.py:688:<lambda>:\n",
      "    lambda f: self._run_callback(functools.partial(callback, future))\n",
      "c:\\users\\subhadeep banerjee\\appdata\\local\\programs\\python\\python38\\lib\\asyncio\\events.py:81:_run:\n",
      "    self._context.run(self._callback, *self._args)\n",
      "c:\\users\\subhadeep banerjee\\appdata\\local\\programs\\python\\python38\\lib\\asyncio\\base_events.py:1859:_run_once:\n",
      "    handle._run()\n",
      "c:\\users\\subhadeep banerjee\\appdata\\local\\programs\\python\\python38\\lib\\asyncio\\base_events.py:570:run_forever:\n",
      "    self._run_once()\n",
      "c:\\users\\subhadeep banerjee\\appdata\\local\\programs\\python\\python38\\lib\\asyncio\\windows_events.py:316:run_forever:\n",
      "    super().run_forever()\n",
      "c:\\users\\subhadeep banerjee\\appdata\\local\\programs\\python\\python38\\lib\\site-packages\\tornado\\platform\\asyncio.py:199:start:\n",
      "    self.asyncio_loop.run_forever()\n",
      "c:\\users\\subhadeep banerjee\\appdata\\local\\programs\\python\\python38\\lib\\site-packages\\ipykernel\\kernelapp.py:612:start:\n",
      "    self.io_loop.start()\n",
      "c:\\users\\subhadeep banerjee\\appdata\\local\\programs\\python\\python38\\lib\\site-packages\\traitlets\\config\\application.py:845:launch_instance:\n",
      "    app.start()\n",
      "c:\\users\\subhadeep banerjee\\appdata\\local\\programs\\python\\python38\\lib\\site-packages\\ipykernel_launcher.py:16:<module>:\n",
      "    app.launch_new_instance()\n",
      "c:\\users\\subhadeep banerjee\\appdata\\local\\programs\\python\\python38\\lib\\runpy.py:87:_run_code:\n",
      "    exec(code, run_globals)\n",
      "c:\\users\\subhadeep banerjee\\appdata\\local\\programs\\python\\python38\\lib\\runpy.py:194:_run_module_as_main:\n",
      "    return _run_code(code, main_globals, None,\n"
     ]
    }
   ],
   "source": [
    "# importing the modules \n",
    "import traceback \n",
    "import sys \n",
    "  \n",
    "def call1(f): \n",
    "  \n",
    "    # inside call1() \n",
    "    # call1() calling call2() \n",
    "    call2(f) \n",
    "def call2(f): \n",
    "    # inside call2() \n",
    "    # calling f() \n",
    "    f() \n",
    "      \n",
    "template = ( \n",
    "    '{frame.filename}:{frame.lineno}:{frame.name}:\\n'\n",
    "    '    {frame.line}'\n",
    ") \n",
    "  \n",
    "def f(): \n",
    "    summary = traceback.StackSummary.extract( \n",
    "        traceback.walk_stack(None) \n",
    "    ) \n",
    "    for frame in summary: \n",
    "        print(template.format(frame=frame)) \n",
    "\n",
    "# calling f() through call1() \n",
    "call1(f) \n",
    "# if __name__ == '__main__':\n",
    "#     call1(f)"
   ]
  },
  {
   "cell_type": "markdown",
   "id": "indoor-superintendent",
   "metadata": {},
   "source": [
    "## PyMOTW"
   ]
  },
  {
   "cell_type": "code",
   "execution_count": 69,
   "id": "declared-canberra",
   "metadata": {},
   "outputs": [],
   "source": [
    "import traceback\n",
    "import sys\n",
    "\n",
    "def produce_exception(recursion_level=2):\n",
    "    sys.stdout.flush()\n",
    "    if recursion_level:\n",
    "        produce_exception(recursion_level-1)\n",
    "    else:\n",
    "        raise RuntimeError()\n",
    "\n",
    "def call_function(f, recursion_level=2):\n",
    "    if recursion_level:\n",
    "        return call_function(f, recursion_level-1)\n",
    "    else:\n",
    "        return f()"
   ]
  },
  {
   "cell_type": "markdown",
   "id": "alike-blood",
   "metadata": {},
   "source": [
    "## Working with Exception\n",
    "The simplest way to handle exception reporting is with print_exc(). It uses sys.exc_info() to obtain the exception information for the current thread, formats the results, and prints the text to a file handle (sys.stderr, by default)."
   ]
  },
  {
   "cell_type": "markdown",
   "id": "extensive-mozambique",
   "metadata": {},
   "source": [
    "# RealPython"
   ]
  },
  {
   "cell_type": "code",
   "execution_count": null,
   "id": "handmade-franklin",
   "metadata": {},
   "outputs": [],
   "source": []
  }
 ],
 "metadata": {
  "kernelspec": {
   "display_name": "Python 3",
   "language": "python",
   "name": "python3"
  },
  "language_info": {
   "codemirror_mode": {
    "name": "ipython",
    "version": 3
   },
   "file_extension": ".py",
   "mimetype": "text/x-python",
   "name": "python",
   "nbconvert_exporter": "python",
   "pygments_lexer": "ipython3",
   "version": "3.8.7"
  }
 },
 "nbformat": 4,
 "nbformat_minor": 5
}
