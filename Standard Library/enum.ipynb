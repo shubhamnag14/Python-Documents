{
 "cells": [
  {
   "cell_type": "markdown",
   "id": "weighted-genealogy",
   "metadata": {},
   "source": [
    "An enumeration is a set of sumboli names (members) bound to unique constants values. Within an enumeration the members can be compared by identity, and the enumeration itself can be iterated over."
   ]
  },
  {
   "cell_type": "markdown",
   "id": "electrical-smooth",
   "metadata": {},
   "source": [
    "The module define four enumeration classes that can be used to define unique sets of names and values: `Enum`, `IntEnum`, `Flag` and `IntFlag` It also defines one decorator `unique()`, and one helper `auto`."
   ]
  },
  {
   "cell_type": "code",
   "execution_count": 1,
   "id": "conscious-dressing",
   "metadata": {},
   "outputs": [],
   "source": [
    "from enum import *"
   ]
  },
  {
   "cell_type": "code",
   "execution_count": 2,
   "id": "informed-machine",
   "metadata": {},
   "outputs": [
    {
     "name": "stdout",
     "output_type": "stream",
     "text": [
      "<class 'int'>\n"
     ]
    },
    {
     "data": {
      "text/plain": [
       "<enum 'Color'>"
      ]
     },
     "execution_count": 2,
     "metadata": {},
     "output_type": "execute_result"
    }
   ],
   "source": [
    "class Color(Enum):\n",
    "    RED = 1\n",
    "    GREEN = 2.3\n",
    "    BLUE = '3'\n",
    "    print(type(RED))\n",
    "    \n",
    "Color"
   ]
  },
  {
   "cell_type": "code",
   "execution_count": 3,
   "id": "julian-acquisition",
   "metadata": {},
   "outputs": [
    {
     "data": {
      "text/plain": [
       "<Color.RED: 1>"
      ]
     },
     "execution_count": 3,
     "metadata": {},
     "output_type": "execute_result"
    }
   ],
   "source": [
    "Color.RED"
   ]
  },
  {
   "cell_type": "code",
   "execution_count": 4,
   "id": "proper-plastic",
   "metadata": {},
   "outputs": [
    {
     "data": {
      "text/plain": [
       "<Color.GREEN: 2.3>"
      ]
     },
     "execution_count": 4,
     "metadata": {},
     "output_type": "execute_result"
    }
   ],
   "source": [
    "Color.GREEN"
   ]
  },
  {
   "cell_type": "code",
   "execution_count": 5,
   "id": "thousand-antarctica",
   "metadata": {},
   "outputs": [
    {
     "data": {
      "text/plain": [
       "<Color.BLUE: '3'>"
      ]
     },
     "execution_count": 5,
     "metadata": {},
     "output_type": "execute_result"
    }
   ],
   "source": [
    "Color.BLUE"
   ]
  },
  {
   "cell_type": "code",
   "execution_count": 6,
   "id": "improving-personality",
   "metadata": {},
   "outputs": [
    {
     "data": {
      "text/plain": [
       "1"
      ]
     },
     "execution_count": 6,
     "metadata": {},
     "output_type": "execute_result"
    }
   ],
   "source": [
    "class Demo(object):\n",
    "    R = 1\n",
    "    G = 2\n",
    "    B = 3\n",
    "    \n",
    "Demo.R"
   ]
  },
  {
   "cell_type": "code",
   "execution_count": 7,
   "id": "closed-crash",
   "metadata": {},
   "outputs": [
    {
     "data": {
      "text/plain": [
       "2"
      ]
     },
     "execution_count": 7,
     "metadata": {},
     "output_type": "execute_result"
    }
   ],
   "source": [
    "Demo.G"
   ]
  },
  {
   "cell_type": "code",
   "execution_count": 8,
   "id": "robust-bouquet",
   "metadata": {},
   "outputs": [
    {
     "data": {
      "text/plain": [
       "3"
      ]
     },
     "execution_count": 8,
     "metadata": {},
     "output_type": "execute_result"
    }
   ],
   "source": [
    "Demo.B"
   ]
  },
  {
   "cell_type": "code",
   "execution_count": 9,
   "id": "million-tobago",
   "metadata": {},
   "outputs": [
    {
     "data": {
      "text/plain": [
       "6"
      ]
     },
     "execution_count": 9,
     "metadata": {},
     "output_type": "execute_result"
    }
   ],
   "source": [
    "Demo.B *= 2\n",
    "Demo.B"
   ]
  },
  {
   "cell_type": "code",
   "execution_count": 10,
   "id": "revolutionary-profit",
   "metadata": {},
   "outputs": [
    {
     "ename": "TypeError",
     "evalue": "unsupported operand type(s) for +: 'Color' and 'int'",
     "output_type": "error",
     "traceback": [
      "\u001b[1;31m---------------------------------------------------------------------------\u001b[0m",
      "\u001b[1;31mTypeError\u001b[0m                                 Traceback (most recent call last)",
      "\u001b[1;32m<ipython-input-10-b9c80e896eb0>\u001b[0m in \u001b[0;36m<module>\u001b[1;34m\u001b[0m\n\u001b[1;32m----> 1\u001b[1;33m \u001b[0mColor\u001b[0m\u001b[1;33m.\u001b[0m\u001b[0mRED\u001b[0m \u001b[1;33m+\u001b[0m \u001b[1;36m2\u001b[0m\u001b[1;33m\u001b[0m\u001b[1;33m\u001b[0m\u001b[0m\n\u001b[0m",
      "\u001b[1;31mTypeError\u001b[0m: unsupported operand type(s) for +: 'Color' and 'int'"
     ]
    }
   ],
   "source": [
    "Color.RED + 2"
   ]
  },
  {
   "cell_type": "code",
   "execution_count": 11,
   "id": "impressive-hollow",
   "metadata": {},
   "outputs": [
    {
     "name": "stdout",
     "output_type": "stream",
     "text": [
      "Color.RED\n",
      "<Color.RED: 1>\n",
      "<enum 'Color'>\n"
     ]
    }
   ],
   "source": [
    "print(Color.RED)\n",
    "print(repr(Color.RED))\n",
    "print(type(Color.RED))"
   ]
  },
  {
   "cell_type": "code",
   "execution_count": 12,
   "id": "focused-bunch",
   "metadata": {},
   "outputs": [
    {
     "data": {
      "text/plain": [
       "True"
      ]
     },
     "execution_count": 12,
     "metadata": {},
     "output_type": "execute_result"
    }
   ],
   "source": [
    "isinstance(Color.RED, Color)"
   ]
  },
  {
   "cell_type": "code",
   "execution_count": 13,
   "id": "heavy-eligibility",
   "metadata": {},
   "outputs": [
    {
     "name": "stdout",
     "output_type": "stream",
     "text": [
      "RED\n"
     ]
    }
   ],
   "source": [
    "print(Color.RED.name)"
   ]
  },
  {
   "cell_type": "code",
   "execution_count": 14,
   "id": "exterior-canadian",
   "metadata": {},
   "outputs": [
    {
     "name": "stdout",
     "output_type": "stream",
     "text": [
      "Shake.VANILLA\n",
      "Shake.CHOCLATE\n",
      "Shake.COOKIES\n",
      "Shake.MINT\n"
     ]
    }
   ],
   "source": [
    "class Shake(Enum):\n",
    "    VANILLA = 7\n",
    "    CHOCLATE = 4\n",
    "    COOKIES = 9\n",
    "    MINT = 3\n",
    "\n",
    "for s in Shake:\n",
    "    print(s)"
   ]
  },
  {
   "cell_type": "code",
   "execution_count": 15,
   "id": "speaking-failing",
   "metadata": {},
   "outputs": [
    {
     "data": {
      "text/plain": [
       "True"
      ]
     },
     "execution_count": 15,
     "metadata": {},
     "output_type": "execute_result"
    }
   ],
   "source": [
    "apples = {}\n",
    "apples[Color.RED] = 'red delicious'\n",
    "apples[Color.GREEN] = 'granny smith'\n",
    "apples == {Color.RED: 'red delicious', Color.GREEN: 'granny smith'}"
   ]
  },
  {
   "cell_type": "code",
   "execution_count": 16,
   "id": "according-worry",
   "metadata": {},
   "outputs": [
    {
     "data": {
      "text/plain": [
       "<Color.RED: 1>"
      ]
     },
     "execution_count": 16,
     "metadata": {},
     "output_type": "execute_result"
    }
   ],
   "source": [
    "Color(1)"
   ]
  },
  {
   "cell_type": "code",
   "execution_count": 17,
   "id": "promising-analysis",
   "metadata": {},
   "outputs": [
    {
     "data": {
      "text/plain": [
       "<Color.RED: 1>"
      ]
     },
     "execution_count": 17,
     "metadata": {},
     "output_type": "execute_result"
    }
   ],
   "source": [
    "Color['RED']"
   ]
  },
  {
   "cell_type": "code",
   "execution_count": 18,
   "id": "alpha-shirt",
   "metadata": {},
   "outputs": [
    {
     "name": "stdout",
     "output_type": "stream",
     "text": [
      "RED\n",
      "1\n"
     ]
    }
   ],
   "source": [
    "member = Color.RED\n",
    "print(member.name)\n",
    "print(member.value)"
   ]
  },
  {
   "cell_type": "code",
   "execution_count": 19,
   "id": "harmful-charger",
   "metadata": {},
   "outputs": [],
   "source": [
    "class Shape(Enum):\n",
    "    SQUARE = 2\n",
    "    DIAMOND = 1\n",
    "    CIRCLE = 3\n",
    "    ALIAS_FOR_SQUARE = 2"
   ]
  },
  {
   "cell_type": "code",
   "execution_count": 20,
   "id": "alien-samuel",
   "metadata": {},
   "outputs": [
    {
     "data": {
      "text/plain": [
       "<Shape.SQUARE: 2>"
      ]
     },
     "execution_count": 20,
     "metadata": {},
     "output_type": "execute_result"
    }
   ],
   "source": [
    "Shape.SQUARE"
   ]
  },
  {
   "cell_type": "code",
   "execution_count": 21,
   "id": "improving-carpet",
   "metadata": {},
   "outputs": [
    {
     "data": {
      "text/plain": [
       "<Shape.SQUARE: 2>"
      ]
     },
     "execution_count": 21,
     "metadata": {},
     "output_type": "execute_result"
    }
   ],
   "source": [
    "Shape.ALIAS_FOR_SQUARE"
   ]
  },
  {
   "cell_type": "markdown",
   "id": "macro-ocean",
   "metadata": {},
   "source": [
    "## Ensuring unique enumeration values"
   ]
  },
  {
   "cell_type": "code",
   "execution_count": 22,
   "id": "pregnant-portugal",
   "metadata": {},
   "outputs": [
    {
     "ename": "ValueError",
     "evalue": "duplicate values found in <enum 'Mistake'>: C -> B",
     "output_type": "error",
     "traceback": [
      "\u001b[1;31m---------------------------------------------------------------------------\u001b[0m",
      "\u001b[1;31mValueError\u001b[0m                                Traceback (most recent call last)",
      "\u001b[1;32m<ipython-input-22-86363c5959e3>\u001b[0m in \u001b[0;36m<module>\u001b[1;34m\u001b[0m\n\u001b[0;32m      1\u001b[0m \u001b[1;33m@\u001b[0m\u001b[0munique\u001b[0m\u001b[1;33m\u001b[0m\u001b[1;33m\u001b[0m\u001b[0m\n\u001b[1;32m----> 2\u001b[1;33m \u001b[1;32mclass\u001b[0m \u001b[0mMistake\u001b[0m\u001b[1;33m(\u001b[0m\u001b[0mEnum\u001b[0m\u001b[1;33m)\u001b[0m\u001b[1;33m:\u001b[0m\u001b[1;33m\u001b[0m\u001b[1;33m\u001b[0m\u001b[0m\n\u001b[0m\u001b[0;32m      3\u001b[0m     \u001b[0mA\u001b[0m \u001b[1;33m=\u001b[0m \u001b[1;36m1\u001b[0m\u001b[1;33m\u001b[0m\u001b[1;33m\u001b[0m\u001b[0m\n\u001b[0;32m      4\u001b[0m     \u001b[0mB\u001b[0m \u001b[1;33m=\u001b[0m \u001b[1;36m2\u001b[0m\u001b[1;33m\u001b[0m\u001b[1;33m\u001b[0m\u001b[0m\n\u001b[0;32m      5\u001b[0m     \u001b[0mC\u001b[0m \u001b[1;33m=\u001b[0m \u001b[1;36m2\u001b[0m\u001b[1;33m\u001b[0m\u001b[1;33m\u001b[0m\u001b[0m\n",
      "\u001b[1;32mc:\\users\\subhadeep banerjee\\appdata\\local\\programs\\python\\python38\\lib\\enum.py\u001b[0m in \u001b[0;36munique\u001b[1;34m(enumeration)\u001b[0m\n\u001b[0;32m    967\u001b[0m         alias_details = ', '.join(\n\u001b[0;32m    968\u001b[0m                 [\"%s -> %s\" % (alias, name) for (alias, name) in duplicates])\n\u001b[1;32m--> 969\u001b[1;33m         raise ValueError('duplicate values found in %r: %s' %\n\u001b[0m\u001b[0;32m    970\u001b[0m                 (enumeration, alias_details))\n\u001b[0;32m    971\u001b[0m     \u001b[1;32mreturn\u001b[0m \u001b[0menumeration\u001b[0m\u001b[1;33m\u001b[0m\u001b[1;33m\u001b[0m\u001b[0m\n",
      "\u001b[1;31mValueError\u001b[0m: duplicate values found in <enum 'Mistake'>: C -> B"
     ]
    }
   ],
   "source": [
    "@unique\n",
    "class Mistake(Enum):\n",
    "    A = 1\n",
    "    B = 2\n",
    "    C = 2\n",
    "    D = 4"
   ]
  },
  {
   "cell_type": "code",
   "execution_count": null,
   "id": "frank-integration",
   "metadata": {},
   "outputs": [],
   "source": [
    "# Without unique\n",
    "class Mistake(Enum):\n",
    "    A = 1\n",
    "    B = 2\n",
    "    C = 2\n",
    "    D = 4"
   ]
  },
  {
   "cell_type": "markdown",
   "id": "another-waters",
   "metadata": {},
   "source": [
    "## Using automatic values"
   ]
  },
  {
   "cell_type": "code",
   "execution_count": 23,
   "id": "digital-christian",
   "metadata": {},
   "outputs": [],
   "source": [
    "class Color(Enum):\n",
    "    R = auto()\n",
    "    G = auto()\n",
    "    B = auto()"
   ]
  },
  {
   "cell_type": "code",
   "execution_count": 24,
   "id": "packed-nudist",
   "metadata": {},
   "outputs": [
    {
     "name": "stdout",
     "output_type": "stream",
     "text": [
      "1\n",
      "2\n",
      "3\n"
     ]
    }
   ],
   "source": [
    "for c in Color:\n",
    "    print(c.value)"
   ]
  },
  {
   "cell_type": "markdown",
   "id": "civil-regular",
   "metadata": {},
   "source": [
    "## Iteration"
   ]
  },
  {
   "cell_type": "code",
   "execution_count": 25,
   "id": "dried-pizza",
   "metadata": {},
   "outputs": [
    {
     "name": "stdout",
     "output_type": "stream",
     "text": [
      "SQUARE \t\t Shape.SQUARE \t\t 2\n",
      "DIAMOND \t\t Shape.DIAMOND \t\t 1\n",
      "CIRCLE \t\t Shape.CIRCLE \t\t 3\n",
      "ALIAS_FOR_SQUARE \t\t Shape.SQUARE \t\t 2\n"
     ]
    }
   ],
   "source": [
    "for name, member in Shape.__members__.items():\n",
    "    print(name,\"\\t\\t\", member, \"\\t\\t\", member.value)"
   ]
  },
  {
   "cell_type": "markdown",
   "id": "wound-possession",
   "metadata": {},
   "source": [
    "## Comparisons"
   ]
  },
  {
   "cell_type": "code",
   "execution_count": 26,
   "id": "affiliated-county",
   "metadata": {},
   "outputs": [
    {
     "data": {
      "text/plain": [
       "True"
      ]
     },
     "execution_count": 26,
     "metadata": {},
     "output_type": "execute_result"
    }
   ],
   "source": [
    "Color.R in Color"
   ]
  },
  {
   "cell_type": "code",
   "execution_count": 27,
   "id": "passing-boring",
   "metadata": {},
   "outputs": [
    {
     "data": {
      "text/plain": [
       "False"
      ]
     },
     "execution_count": 27,
     "metadata": {},
     "output_type": "execute_result"
    }
   ],
   "source": [
    "Color.R is Color.B"
   ]
  },
  {
   "cell_type": "code",
   "execution_count": 28,
   "id": "requested-slovenia",
   "metadata": {},
   "outputs": [
    {
     "data": {
      "text/plain": [
       "True"
      ]
     },
     "execution_count": 28,
     "metadata": {},
     "output_type": "execute_result"
    }
   ],
   "source": [
    "Color.R == Color.R"
   ]
  },
  {
   "cell_type": "markdown",
   "id": "prescribed-sherman",
   "metadata": {},
   "source": [
    "## Allowed members and attributes of enumeration"
   ]
  },
  {
   "cell_type": "code",
   "execution_count": 29,
   "id": "standing-world",
   "metadata": {},
   "outputs": [],
   "source": [
    "class Mood(Enum):\n",
    "    FUNKY = 1\n",
    "    HAPPY = 3\n",
    "    \n",
    "    def describe(self):\n",
    "        #self is the member here\n",
    "        return self.name, self.value\n",
    "    \n",
    "    def __str__(self):\n",
    "        return f'my custom str! {self.value}'\n",
    "    \n",
    "    @classmethod\n",
    "    def favorite_mood(cls):\n",
    "        #cls here is the enumeration\n",
    "        return cls.HAPPY"
   ]
  },
  {
   "cell_type": "code",
   "execution_count": 30,
   "id": "motivated-equivalent",
   "metadata": {},
   "outputs": [
    {
     "data": {
      "text/plain": [
       "<Mood.HAPPY: 3>"
      ]
     },
     "execution_count": 30,
     "metadata": {},
     "output_type": "execute_result"
    }
   ],
   "source": [
    "Mood.favorite_mood()"
   ]
  },
  {
   "cell_type": "code",
   "execution_count": 31,
   "id": "related-projection",
   "metadata": {},
   "outputs": [
    {
     "data": {
      "text/plain": [
       "('HAPPY', 3)"
      ]
     },
     "execution_count": 31,
     "metadata": {},
     "output_type": "execute_result"
    }
   ],
   "source": [
    "Mood.HAPPY.describe()"
   ]
  },
  {
   "cell_type": "code",
   "execution_count": 32,
   "id": "closed-waters",
   "metadata": {},
   "outputs": [
    {
     "name": "stdout",
     "output_type": "stream",
     "text": [
      "my custom str! 3\n"
     ]
    }
   ],
   "source": [
    "print(Mood.HAPPY)"
   ]
  },
  {
   "cell_type": "markdown",
   "id": "micro-complexity",
   "metadata": {},
   "source": [
    "## Restricted Enum subclassing"
   ]
  },
  {
   "cell_type": "code",
   "execution_count": 33,
   "id": "finished-luther",
   "metadata": {},
   "outputs": [
    {
     "ename": "SyntaxError",
     "evalue": "invalid syntax (<ipython-input-33-2a42aa650a22>, line 1)",
     "output_type": "error",
     "traceback": [
      "\u001b[1;36m  File \u001b[1;32m\"<ipython-input-33-2a42aa650a22>\"\u001b[1;36m, line \u001b[1;32m1\u001b[0m\n\u001b[1;33m    class EnumName([mix-in, ...,] [data-type,] base-enum):\u001b[0m\n\u001b[1;37m                        ^\u001b[0m\n\u001b[1;31mSyntaxError\u001b[0m\u001b[1;31m:\u001b[0m invalid syntax\n"
     ]
    }
   ],
   "source": [
    "class EnumName([mix-in, ...,] [data-type,] base-enum):\n",
    "    pass"
   ]
  },
  {
   "cell_type": "code",
   "execution_count": 34,
   "id": "addressed-attention",
   "metadata": {},
   "outputs": [
    {
     "ename": "TypeError",
     "evalue": "MoreColor: cannot extend enumeration 'Color'",
     "output_type": "error",
     "traceback": [
      "\u001b[1;31m---------------------------------------------------------------------------\u001b[0m",
      "\u001b[1;31mTypeError\u001b[0m                                 Traceback (most recent call last)",
      "\u001b[1;32m<ipython-input-34-49cb61a6caf7>\u001b[0m in \u001b[0;36m<module>\u001b[1;34m\u001b[0m\n\u001b[1;32m----> 1\u001b[1;33m \u001b[1;32mclass\u001b[0m \u001b[0mMoreColor\u001b[0m\u001b[1;33m(\u001b[0m\u001b[0mColor\u001b[0m\u001b[1;33m)\u001b[0m\u001b[1;33m:\u001b[0m\u001b[1;33m\u001b[0m\u001b[1;33m\u001b[0m\u001b[0m\n\u001b[0m\u001b[0;32m      2\u001b[0m     \u001b[0mP\u001b[0m \u001b[1;33m=\u001b[0m \u001b[1;36m17\u001b[0m\u001b[1;33m\u001b[0m\u001b[1;33m\u001b[0m\u001b[0m\n",
      "\u001b[1;32mc:\\users\\subhadeep banerjee\\appdata\\local\\programs\\python\\python38\\lib\\enum.py\u001b[0m in \u001b[0;36m__prepare__\u001b[1;34m(metacls, cls, bases)\u001b[0m\n\u001b[0;32m    144\u001b[0m     \u001b[1;32mdef\u001b[0m \u001b[0m__prepare__\u001b[0m\u001b[1;33m(\u001b[0m\u001b[0mmetacls\u001b[0m\u001b[1;33m,\u001b[0m \u001b[0mcls\u001b[0m\u001b[1;33m,\u001b[0m \u001b[0mbases\u001b[0m\u001b[1;33m)\u001b[0m\u001b[1;33m:\u001b[0m\u001b[1;33m\u001b[0m\u001b[1;33m\u001b[0m\u001b[0m\n\u001b[0;32m    145\u001b[0m         \u001b[1;31m# check that previous enum members do not exist\u001b[0m\u001b[1;33m\u001b[0m\u001b[1;33m\u001b[0m\u001b[1;33m\u001b[0m\u001b[0m\n\u001b[1;32m--> 146\u001b[1;33m         \u001b[0mmetacls\u001b[0m\u001b[1;33m.\u001b[0m\u001b[0m_check_for_existing_members\u001b[0m\u001b[1;33m(\u001b[0m\u001b[0mcls\u001b[0m\u001b[1;33m,\u001b[0m \u001b[0mbases\u001b[0m\u001b[1;33m)\u001b[0m\u001b[1;33m\u001b[0m\u001b[1;33m\u001b[0m\u001b[0m\n\u001b[0m\u001b[0;32m    147\u001b[0m         \u001b[1;31m# create the namespace dict\u001b[0m\u001b[1;33m\u001b[0m\u001b[1;33m\u001b[0m\u001b[1;33m\u001b[0m\u001b[0m\n\u001b[0;32m    148\u001b[0m         \u001b[0menum_dict\u001b[0m \u001b[1;33m=\u001b[0m \u001b[0m_EnumDict\u001b[0m\u001b[1;33m(\u001b[0m\u001b[1;33m)\u001b[0m\u001b[1;33m\u001b[0m\u001b[1;33m\u001b[0m\u001b[0m\n",
      "\u001b[1;32mc:\\users\\subhadeep banerjee\\appdata\\local\\programs\\python\\python38\\lib\\enum.py\u001b[0m in \u001b[0;36m_check_for_existing_members\u001b[1;34m(class_name, bases)\u001b[0m\n\u001b[0;32m    525\u001b[0m             \u001b[1;32mfor\u001b[0m \u001b[0mbase\u001b[0m \u001b[1;32min\u001b[0m \u001b[0mchain\u001b[0m\u001b[1;33m.\u001b[0m\u001b[0m__mro__\u001b[0m\u001b[1;33m:\u001b[0m\u001b[1;33m\u001b[0m\u001b[1;33m\u001b[0m\u001b[0m\n\u001b[0;32m    526\u001b[0m                 \u001b[1;32mif\u001b[0m \u001b[0missubclass\u001b[0m\u001b[1;33m(\u001b[0m\u001b[0mbase\u001b[0m\u001b[1;33m,\u001b[0m \u001b[0mEnum\u001b[0m\u001b[1;33m)\u001b[0m \u001b[1;32mand\u001b[0m \u001b[0mbase\u001b[0m\u001b[1;33m.\u001b[0m\u001b[0m_member_names_\u001b[0m\u001b[1;33m:\u001b[0m\u001b[1;33m\u001b[0m\u001b[1;33m\u001b[0m\u001b[0m\n\u001b[1;32m--> 527\u001b[1;33m                     raise TypeError(\n\u001b[0m\u001b[0;32m    528\u001b[0m                             \u001b[1;34m\"%s: cannot extend enumeration %r\"\u001b[0m\u001b[1;33m\u001b[0m\u001b[1;33m\u001b[0m\u001b[0m\n\u001b[0;32m    529\u001b[0m                             \u001b[1;33m%\u001b[0m \u001b[1;33m(\u001b[0m\u001b[0mclass_name\u001b[0m\u001b[1;33m,\u001b[0m \u001b[0mbase\u001b[0m\u001b[1;33m.\u001b[0m\u001b[0m__name__\u001b[0m\u001b[1;33m)\u001b[0m\u001b[1;33m\u001b[0m\u001b[1;33m\u001b[0m\u001b[0m\n",
      "\u001b[1;31mTypeError\u001b[0m: MoreColor: cannot extend enumeration 'Color'"
     ]
    }
   ],
   "source": [
    "class MoreColor(Color):\n",
    "    P = 17"
   ]
  },
  {
   "cell_type": "code",
   "execution_count": 35,
   "id": "portable-tuesday",
   "metadata": {},
   "outputs": [
    {
     "data": {
      "text/plain": [
       "'3.8.7 (tags/v3.8.7:6503f05, Dec 21 2020, 17:59:51) [MSC v.1928 64 bit (AMD64)]'"
      ]
     },
     "execution_count": 35,
     "metadata": {},
     "output_type": "execute_result"
    }
   ],
   "source": [
    "import sys\n",
    "str(sys.version)"
   ]
  },
  {
   "cell_type": "code",
   "execution_count": 36,
   "id": "higher-nowhere",
   "metadata": {},
   "outputs": [
    {
     "data": {
      "text/plain": [
       "True"
      ]
     },
     "execution_count": 36,
     "metadata": {},
     "output_type": "execute_result"
    }
   ],
   "source": [
    "## Pickling\n",
    "from pickle import dumps, loads\n",
    "Color.R is loads(dumps(Color.R))"
   ]
  },
  {
   "cell_type": "markdown",
   "id": "laughing-rebate",
   "metadata": {},
   "source": [
    "## Functional API"
   ]
  },
  {
   "cell_type": "code",
   "execution_count": 37,
   "id": "blessed-shark",
   "metadata": {},
   "outputs": [
    {
     "data": {
      "text/plain": [
       "<enum 'Animal'>"
      ]
     },
     "execution_count": 37,
     "metadata": {},
     "output_type": "execute_result"
    }
   ],
   "source": [
    "# The Enum class is also callable\n",
    "Animal = Enum('Animal', 'ANT, BEE, CAT, DOG')\n",
    "Animal"
   ]
  },
  {
   "cell_type": "code",
   "execution_count": 38,
   "id": "successful-garage",
   "metadata": {},
   "outputs": [
    {
     "name": "stdout",
     "output_type": "stream",
     "text": [
      "Animal.ANT\n",
      "Animal.BEE\n",
      "Animal.CAT\n",
      "Animal.DOG\n"
     ]
    }
   ],
   "source": [
    "for a in Animal:\n",
    "    print(a)"
   ]
  },
  {
   "cell_type": "code",
   "execution_count": 39,
   "id": "played-confirmation",
   "metadata": {},
   "outputs": [
    {
     "name": "stdout",
     "output_type": "stream",
     "text": [
      "ANT \t Animal.ANT \t 1\n",
      "BEE \t Animal.BEE \t 2\n",
      "CAT \t Animal.CAT \t 3\n",
      "DOG \t Animal.DOG \t 4\n"
     ]
    }
   ],
   "source": [
    "for name, member in Animal.__members__.items():\n",
    "    print(name,\"\\t\", member,\"\\t\", member.value)"
   ]
  },
  {
   "cell_type": "code",
   "execution_count": 40,
   "id": "vertical-evans",
   "metadata": {},
   "outputs": [
    {
     "data": {
      "text/plain": [
       "[<Animal.ANT: 1>, <Animal.BEE: 2>, <Animal.CAT: 3>, <Animal.DOG: 4>]"
      ]
     },
     "execution_count": 40,
     "metadata": {},
     "output_type": "execute_result"
    }
   ],
   "source": [
    "list(Animal)"
   ]
  },
  {
   "cell_type": "markdown",
   "id": "posted-dictionary",
   "metadata": {},
   "source": [
    "## Derived Enumerations\n",
    "### IntEnum"
   ]
  },
  {
   "cell_type": "code",
   "execution_count": 41,
   "id": "brief-howard",
   "metadata": {},
   "outputs": [
    {
     "data": {
      "text/plain": [
       "False"
      ]
     },
     "execution_count": 41,
     "metadata": {},
     "output_type": "execute_result"
    }
   ],
   "source": [
    "class Shape(IntEnum):\n",
    "    CIRCLE = 1\n",
    "    SQUARE = 2\n",
    "    \n",
    "class Request(IntEnum):\n",
    "    POST = 1\n",
    "    GET = 2\n",
    "    \n",
    "Shape == 1"
   ]
  },
  {
   "cell_type": "code",
   "execution_count": 42,
   "id": "diverse-reaction",
   "metadata": {},
   "outputs": [
    {
     "data": {
      "text/plain": [
       "<enum 'Shape'>"
      ]
     },
     "execution_count": 42,
     "metadata": {},
     "output_type": "execute_result"
    }
   ],
   "source": [
    "Shape"
   ]
  },
  {
   "cell_type": "code",
   "execution_count": 43,
   "id": "greenhouse-integrity",
   "metadata": {},
   "outputs": [
    {
     "data": {
      "text/plain": [
       "<Shape.CIRCLE: 1>"
      ]
     },
     "execution_count": 43,
     "metadata": {},
     "output_type": "execute_result"
    }
   ],
   "source": [
    "Shape.CIRCLE"
   ]
  },
  {
   "cell_type": "code",
   "execution_count": 44,
   "id": "directed-white",
   "metadata": {},
   "outputs": [
    {
     "data": {
      "text/plain": [
       "True"
      ]
     },
     "execution_count": 44,
     "metadata": {},
     "output_type": "execute_result"
    }
   ],
   "source": [
    "Shape.CIRCLE == Request(1)"
   ]
  },
  {
   "cell_type": "code",
   "execution_count": 45,
   "id": "rolled-ireland",
   "metadata": {},
   "outputs": [
    {
     "data": {
      "text/plain": [
       "<Request.POST: 1>"
      ]
     },
     "execution_count": 45,
     "metadata": {},
     "output_type": "execute_result"
    }
   ],
   "source": [
    "Request(1)"
   ]
  },
  {
   "cell_type": "code",
   "execution_count": 46,
   "id": "double-phoenix",
   "metadata": {},
   "outputs": [],
   "source": [
    "class Shape(Enum):\n",
    "    CIRCLE = 1\n",
    "    SQUARE = 2\n",
    "    \n",
    "class Request(Enum):\n",
    "    POST = 1\n",
    "    GET = 2"
   ]
  },
  {
   "cell_type": "code",
   "execution_count": 47,
   "id": "intermediate-rental",
   "metadata": {},
   "outputs": [
    {
     "data": {
      "text/plain": [
       "<Shape.CIRCLE: 1>"
      ]
     },
     "execution_count": 47,
     "metadata": {},
     "output_type": "execute_result"
    }
   ],
   "source": [
    "Shape.CIRCLE"
   ]
  },
  {
   "cell_type": "code",
   "execution_count": 48,
   "id": "entire-capture",
   "metadata": {},
   "outputs": [
    {
     "data": {
      "text/plain": [
       "<Request.POST: 1>"
      ]
     },
     "execution_count": 48,
     "metadata": {},
     "output_type": "execute_result"
    }
   ],
   "source": [
    " Request(1)"
   ]
  },
  {
   "cell_type": "code",
   "execution_count": 49,
   "id": "insured-journal",
   "metadata": {},
   "outputs": [
    {
     "data": {
      "text/plain": [
       "False"
      ]
     },
     "execution_count": 49,
     "metadata": {},
     "output_type": "execute_result"
    }
   ],
   "source": [
    "Shape.CIRCLE == Request(1)"
   ]
  },
  {
   "cell_type": "markdown",
   "id": "buried-restaurant",
   "metadata": {},
   "source": [
    "## IntFlag"
   ]
  },
  {
   "cell_type": "code",
   "execution_count": 50,
   "id": "irish-anatomy",
   "metadata": {},
   "outputs": [
    {
     "data": {
      "text/plain": [
       "<Perm.R|W|X: 7>"
      ]
     },
     "execution_count": 50,
     "metadata": {},
     "output_type": "execute_result"
    }
   ],
   "source": [
    "class Perm(IntFlag):\n",
    "    R = 4\n",
    "    W = 3\n",
    "    X = 1\n",
    "Perm.R | Perm.W"
   ]
  },
  {
   "cell_type": "code",
   "execution_count": 51,
   "id": "breeding-heater",
   "metadata": {},
   "outputs": [
    {
     "data": {
      "text/plain": [
       "7"
      ]
     },
     "execution_count": 51,
     "metadata": {},
     "output_type": "execute_result"
    }
   ],
   "source": [
    "Perm.R + Perm.W"
   ]
  },
  {
   "cell_type": "code",
   "execution_count": 52,
   "id": "adverse-tourist",
   "metadata": {},
   "outputs": [
    {
     "data": {
      "text/plain": [
       "True"
      ]
     },
     "execution_count": 52,
     "metadata": {},
     "output_type": "execute_result"
    }
   ],
   "source": [
    "RW = Perm.R | Perm.W\n",
    "Perm.R in RW"
   ]
  },
  {
   "cell_type": "code",
   "execution_count": 73,
   "id": "proof-nelson",
   "metadata": {},
   "outputs": [
    {
     "data": {
      "text/plain": [
       "<Perm.RWX: 7>"
      ]
     },
     "execution_count": 73,
     "metadata": {},
     "output_type": "execute_result"
    }
   ],
   "source": [
    "## Testing out combinations\n",
    "class Perm(IntFlag):\n",
    "    R = 4\n",
    "    W = 2\n",
    "    X = 0\n",
    "    RWX = 7\n",
    "Perm.RWX"
   ]
  },
  {
   "cell_type": "code",
   "execution_count": 75,
   "id": "otherwise-festival",
   "metadata": {},
   "outputs": [
    {
     "data": {
      "text/plain": [
       "False"
      ]
     },
     "execution_count": 75,
     "metadata": {},
     "output_type": "execute_result"
    }
   ],
   "source": [
    "bool(Perm.X)"
   ]
  },
  {
   "cell_type": "code",
   "execution_count": 72,
   "id": "external-block",
   "metadata": {},
   "outputs": [
    {
     "data": {
      "text/plain": [
       "True"
      ]
     },
     "execution_count": 72,
     "metadata": {},
     "output_type": "execute_result"
    }
   ],
   "source": [
    "bool(~Perm.RWX)"
   ]
  },
  {
   "cell_type": "markdown",
   "id": "numeric-chinese",
   "metadata": {},
   "source": [
    "## Flag"
   ]
  },
  {
   "cell_type": "code",
   "execution_count": 55,
   "id": "angry-account",
   "metadata": {},
   "outputs": [],
   "source": [
    "class Color(Flag):\n",
    "    RED = auto()\n",
    "    BLUE = auto()\n",
    "    GREEN = auto()"
   ]
  },
  {
   "cell_type": "code",
   "execution_count": 56,
   "id": "dying-wholesale",
   "metadata": {},
   "outputs": [
    {
     "name": "stdout",
     "output_type": "stream",
     "text": [
      "Color.RED\n",
      "Color.BLUE\n",
      "Color.GREEN\n"
     ]
    }
   ],
   "source": [
    "for c in Color:\n",
    "    print(c)"
   ]
  },
  {
   "cell_type": "code",
   "execution_count": 59,
   "id": "baking-sunglasses",
   "metadata": {},
   "outputs": [
    {
     "name": "stdout",
     "output_type": "stream",
     "text": [
      "Color.0\n",
      "False\n"
     ]
    }
   ],
   "source": [
    "print(Color.RED & Color.GREEN)\n",
    "print(bool(Color.RED & Color.GREEN))"
   ]
  },
  {
   "cell_type": "code",
   "execution_count": 60,
   "id": "wanted-amateur",
   "metadata": {},
   "outputs": [
    {
     "name": "stdout",
     "output_type": "stream",
     "text": [
      "Color.GREEN|RED\n",
      "True\n"
     ]
    }
   ],
   "source": [
    "print(Color.RED | Color.GREEN)\n",
    "print(bool(Color.RED | Color.GREEN))"
   ]
  },
  {
   "cell_type": "code",
   "execution_count": 68,
   "id": "determined-brand",
   "metadata": {},
   "outputs": [
    {
     "name": "stdout",
     "output_type": "stream",
     "text": [
      "7\n"
     ]
    }
   ],
   "source": [
    "class Color(Flag):\n",
    "    RED = auto()\n",
    "    BLUE = auto()\n",
    "    GREEN = auto()\n",
    "    WHITE = RED | BLUE | GREEN\n",
    "print(Color.WHITE.value)"
   ]
  },
  {
   "cell_type": "code",
   "execution_count": 71,
   "id": "future-circumstances",
   "metadata": {},
   "outputs": [
    {
     "data": {
      "text/plain": [
       "(<Color.RED: 1>, <Color.BLUE: 2>, <Color.GREEN: 4>)"
      ]
     },
     "execution_count": 71,
     "metadata": {},
     "output_type": "execute_result"
    }
   ],
   "source": [
    "Color.RED, Color.BLUE, Color.GREEN"
   ]
  },
  {
   "cell_type": "code",
   "execution_count": 77,
   "id": "residential-workstation",
   "metadata": {},
   "outputs": [],
   "source": [
    "class Color(Flag):\n",
    "    BLACK = 0\n",
    "    RED = auto()\n",
    "    BLUE = auto()\n",
    "    GREEN = auto()"
   ]
  },
  {
   "cell_type": "code",
   "execution_count": 78,
   "id": "premium-think",
   "metadata": {},
   "outputs": [
    {
     "data": {
      "text/plain": [
       "<Color.BLACK: 0>"
      ]
     },
     "execution_count": 78,
     "metadata": {},
     "output_type": "execute_result"
    }
   ],
   "source": [
    "Color.BLACK"
   ]
  },
  {
   "cell_type": "code",
   "execution_count": 79,
   "id": "controlling-irrigation",
   "metadata": {},
   "outputs": [
    {
     "data": {
      "text/plain": [
       "False"
      ]
     },
     "execution_count": 79,
     "metadata": {},
     "output_type": "execute_result"
    }
   ],
   "source": [
    "bool(Color.BLACK)"
   ]
  },
  {
   "cell_type": "markdown",
   "id": "current-ceiling",
   "metadata": {},
   "source": [
    "## others"
   ]
  },
  {
   "cell_type": "code",
   "execution_count": 80,
   "id": "metallic-garbage",
   "metadata": {},
   "outputs": [],
   "source": [
    "class IntEnum(int, Enum):\n",
    "    pass"
   ]
  },
  {
   "cell_type": "markdown",
   "id": "marked-paint",
   "metadata": {},
   "source": [
    "## When to use __new__() vs. __init__()"
   ]
  },
  {
   "cell_type": "code",
   "execution_count": 82,
   "id": "unlimited-nancy",
   "metadata": {},
   "outputs": [],
   "source": [
    "class Coordinate(bytes, Enum):\n",
    "    \"\"\"\n",
    "    Coordinate with binary codes that can be indexed by the int code.\n",
    "    \"\"\"\n",
    "    def __new__(cls, value, label, unit):\n",
    "        obj = bytes.__new__(cls, [value])\n",
    "        obj._value_ = value\n",
    "        obj.label = label\n",
    "        obj.unit = unit\n",
    "        return obj\n",
    "    PX = (0, 'P.X', 'km')\n",
    "    PY = (1, 'P.Y', 'km')\n",
    "    VX = (2, 'V.X', 'km/s')\n",
    "    VY = (3, 'V.Y', 'km/s')"
   ]
  },
  {
   "cell_type": "code",
   "execution_count": 83,
   "id": "acting-fourth",
   "metadata": {},
   "outputs": [
    {
     "name": "stdout",
     "output_type": "stream",
     "text": [
      "Coordinate.PY\n"
     ]
    },
    {
     "data": {
      "text/plain": [
       "<Coordinate.PY: 1>"
      ]
     },
     "execution_count": 83,
     "metadata": {},
     "output_type": "execute_result"
    }
   ],
   "source": [
    "print(Coordinate['PY'])\n",
    "Coordinate.PY"
   ]
  },
  {
   "cell_type": "code",
   "execution_count": 85,
   "id": "narrow-probability",
   "metadata": {},
   "outputs": [
    {
     "name": "stdout",
     "output_type": "stream",
     "text": [
      "Coordinate.PX 0\n",
      "Coordinate.PY 1\n",
      "Coordinate.VX 2\n",
      "Coordinate.VY 3\n"
     ]
    }
   ],
   "source": [
    "for c in Coordinate:\n",
    "    print(c, c.value)"
   ]
  },
  {
   "cell_type": "markdown",
   "id": "tropical-jewel",
   "metadata": {},
   "source": [
    "## Interesting Example"
   ]
  },
  {
   "cell_type": "code",
   "execution_count": 96,
   "id": "precise-lounge",
   "metadata": {},
   "outputs": [],
   "source": [
    "class NoValue(Enum):\n",
    "    def __str__(self):\n",
    "        return '<%s.%s>' % (self.__class__.__name__, self.name)"
   ]
  },
  {
   "cell_type": "markdown",
   "id": "anonymous-compact",
   "metadata": {},
   "source": [
    "In many use-cases one doesn’t care what the actual value of an enumeration is. There are several ways to define this type of simple enumeration:\n",
    "\n",
    "* use instances of auto for the value\n",
    "* use instances of object as the value\n",
    "* use a descriptive string as the value\n",
    "* use a tuple as the value and a custom `__new__()` to replace the tuple with an int value\n",
    "\n",
    "Using any of these methods signifies to the user that these values are not important, and also enables one to add, remove, or reorder members without having to renumber the remaining members."
   ]
  },
  {
   "cell_type": "code",
   "execution_count": 102,
   "id": "charitable-multiple",
   "metadata": {},
   "outputs": [],
   "source": [
    "class NoValue(Enum):\n",
    "    def __str__(self):\n",
    "        return '<%s.%s>' % (self.__class__.__name__, self.name)"
   ]
  },
  {
   "cell_type": "markdown",
   "id": "informal-edition",
   "metadata": {},
   "source": [
    "## Using auto\n",
    "### Using auto would look like:"
   ]
  },
  {
   "cell_type": "code",
   "execution_count": 101,
   "id": "needed-complaint",
   "metadata": {},
   "outputs": [
    {
     "name": "stdout",
     "output_type": "stream",
     "text": [
      "<Color.RED> , 1\n"
     ]
    }
   ],
   "source": [
    "class Color(NoValue):\n",
    "    RED = auto()\n",
    "    BLUE = auto()\n",
    "    GREEN = auto()\n",
    "print(Color.RED,\",\", Color.RED.value)"
   ]
  },
  {
   "cell_type": "markdown",
   "id": "possible-centre",
   "metadata": {},
   "source": [
    "## Using object\n",
    "### Using object would look like:"
   ]
  },
  {
   "cell_type": "code",
   "execution_count": 104,
   "id": "junior-teens",
   "metadata": {},
   "outputs": [
    {
     "name": "stdout",
     "output_type": "stream",
     "text": [
      "<Color.GREEN> ,  <object object at 0x0000023B8539F1C0>\n"
     ]
    }
   ],
   "source": [
    "class Color(NoValue):\n",
    "    RED = object()\n",
    "    GREEN = object()\n",
    "    BLUE = object()\n",
    "print(Color.GREEN, \", \", Color.GREEN.value)"
   ]
  },
  {
   "cell_type": "markdown",
   "id": "different-manitoba",
   "metadata": {},
   "source": [
    "## Using descriptive string\n",
    "### Using descriptive string would look like:"
   ]
  },
  {
   "cell_type": "code",
   "execution_count": 105,
   "id": "loved-assembly",
   "metadata": {},
   "outputs": [
    {
     "data": {
      "text/plain": [
       "<Color.GREEN: 'go'>"
      ]
     },
     "execution_count": 105,
     "metadata": {},
     "output_type": "execute_result"
    }
   ],
   "source": [
    "class Color(NoValue):\n",
    "    RED = 'stop'\n",
    "    GREEN = 'go'\n",
    "    BLUE = 'too fast'\n",
    "Color.GREEN"
   ]
  },
  {
   "cell_type": "code",
   "execution_count": 106,
   "id": "referenced-governor",
   "metadata": {},
   "outputs": [
    {
     "data": {
      "text/plain": [
       "'go'"
      ]
     },
     "execution_count": 106,
     "metadata": {},
     "output_type": "execute_result"
    }
   ],
   "source": [
    "Color.GREEN.value"
   ]
  },
  {
   "cell_type": "code",
   "execution_count": 108,
   "id": "historic-straight",
   "metadata": {},
   "outputs": [
    {
     "data": {
      "text/plain": [
       "True"
      ]
     },
     "execution_count": 108,
     "metadata": {},
     "output_type": "execute_result"
    }
   ],
   "source": [
    "bool(Color.GREEN)"
   ]
  },
  {
   "cell_type": "markdown",
   "id": "phantom-costs",
   "metadata": {},
   "source": [
    "## Using a custom __new__()\n",
    "### Using an auto-numbering __new__() would look like:"
   ]
  },
  {
   "cell_type": "code",
   "execution_count": 112,
   "id": "rising-graduate",
   "metadata": {},
   "outputs": [
    {
     "name": "stdout",
     "output_type": "stream",
     "text": [
      "<Color.GREEN> ,  2\n"
     ]
    }
   ],
   "source": [
    "class AutoNumber(NoValue):\n",
    "    def __new__(cls):\n",
    "        value = len(cls.__members__) + 1\n",
    "        obj = object.__new__(cls)\n",
    "        obj._value_ = value\n",
    "        return obj\n",
    "class Color(AutoNumber):\n",
    "    RED = ()\n",
    "    GREEN = ()\n",
    "    BLUE = ()\n",
    "    \n",
    "print(Color.GREEN, \", \", Color.GREEN.value)"
   ]
  },
  {
   "cell_type": "code",
   "execution_count": 113,
   "id": "remarkable-journey",
   "metadata": {},
   "outputs": [],
   "source": [
    "class AutoNumber(NoValue):\n",
    "    def __new__(cls, *args):      # this is the only change from above\n",
    "        value = len(cls.__members__) + 1\n",
    "        obj = object.__new__(cls)\n",
    "        obj._value_ = value\n",
    "        return obj\n",
    "    \n",
    "class Swatch(AutoNumber):\n",
    "    def __init__(self, pantone='unknown'):\n",
    "        self.pantone = pantone\n",
    "    AUBURN = '3497'\n",
    "    SEA_GREEN = '1246'\n",
    "    BLEACHED_CORAL = () # New color, no Pantone code yet!"
   ]
  },
  {
   "cell_type": "code",
   "execution_count": 114,
   "id": "expressed-divide",
   "metadata": {},
   "outputs": [
    {
     "name": "stdout",
     "output_type": "stream",
     "text": [
      "<Swatch.SEA_GREEN> 1246 unknown\n"
     ]
    }
   ],
   "source": [
    "print(Swatch.SEA_GREEN, Swatch.SEA_GREEN.pantone, Swatch.BLEACHED_CORAL.pantone)"
   ]
  },
  {
   "cell_type": "markdown",
   "id": "solar-router",
   "metadata": {},
   "source": [
    "## OrderedEnum"
   ]
  },
  {
   "cell_type": "code",
   "execution_count": 115,
   "id": "realistic-given",
   "metadata": {},
   "outputs": [
    {
     "data": {
      "text/plain": [
       "True"
      ]
     },
     "execution_count": 115,
     "metadata": {},
     "output_type": "execute_result"
    }
   ],
   "source": [
    "class OrderedEnum(Enum):\n",
    "    def __ge__(self, other):\n",
    "        if self.__class__ is other.__class__:\n",
    "            return self.value >= other.value\n",
    "        return NotImplemented\n",
    "    def __gt__(self, other):\n",
    "        if self.__class__ is other.__class__:\n",
    "            return self.value > other.value\n",
    "        return NotImplemented\n",
    "    def __le__(self, other):\n",
    "        if self.__class__ is other.__class__:\n",
    "            return self.value <= other.value\n",
    "        return NotImplemented\n",
    "    def __lt__(self, other):\n",
    "        if self.__class__ is other.__class__:\n",
    "            return self.value < other.value\n",
    "        return NotImplemented\n",
    "\n",
    "class Grade(OrderedEnum):\n",
    "    A = 5\n",
    "    B = 4\n",
    "    C = 3\n",
    "    D = 2\n",
    "    F = 1\n",
    "\n",
    "Grade.C < Grade.A"
   ]
  },
  {
   "cell_type": "markdown",
   "id": "fuzzy-tissue",
   "metadata": {},
   "source": [
    "## DuplicateFreeEnum"
   ]
  },
  {
   "cell_type": "code",
   "execution_count": 116,
   "id": "polished-survival",
   "metadata": {},
   "outputs": [
    {
     "ename": "ValueError",
     "evalue": "aliases not allowed in DuplicateFreeEnum:  'GRENE' --> 'GREEN'",
     "output_type": "error",
     "traceback": [
      "\u001b[1;31m---------------------------------------------------------------------------\u001b[0m",
      "\u001b[1;31mValueError\u001b[0m                                Traceback (most recent call last)",
      "\u001b[1;32m<ipython-input-116-253831912870>\u001b[0m in \u001b[0;36m<module>\u001b[1;34m\u001b[0m\n\u001b[0;32m      9\u001b[0m                 % (a, e))\n\u001b[0;32m     10\u001b[0m \u001b[1;33m\u001b[0m\u001b[0m\n\u001b[1;32m---> 11\u001b[1;33m \u001b[1;32mclass\u001b[0m \u001b[0mColor\u001b[0m\u001b[1;33m(\u001b[0m\u001b[0mDuplicateFreeEnum\u001b[0m\u001b[1;33m)\u001b[0m\u001b[1;33m:\u001b[0m\u001b[1;33m\u001b[0m\u001b[1;33m\u001b[0m\u001b[0m\n\u001b[0m\u001b[0;32m     12\u001b[0m     \u001b[0mRED\u001b[0m \u001b[1;33m=\u001b[0m \u001b[1;36m1\u001b[0m\u001b[1;33m\u001b[0m\u001b[1;33m\u001b[0m\u001b[0m\n\u001b[0;32m     13\u001b[0m     \u001b[0mGREEN\u001b[0m \u001b[1;33m=\u001b[0m \u001b[1;36m2\u001b[0m\u001b[1;33m\u001b[0m\u001b[1;33m\u001b[0m\u001b[0m\n",
      "\u001b[1;32mc:\\users\\subhadeep banerjee\\appdata\\local\\programs\\python\\python38\\lib\\enum.py\u001b[0m in \u001b[0;36m__new__\u001b[1;34m(metacls, cls, bases, classdict)\u001b[0m\n\u001b[0;32m    250\u001b[0m             \u001b[0menum_member\u001b[0m\u001b[1;33m.\u001b[0m\u001b[0m_name_\u001b[0m \u001b[1;33m=\u001b[0m \u001b[0mmember_name\u001b[0m\u001b[1;33m\u001b[0m\u001b[1;33m\u001b[0m\u001b[0m\n\u001b[0;32m    251\u001b[0m             \u001b[0menum_member\u001b[0m\u001b[1;33m.\u001b[0m\u001b[0m__objclass__\u001b[0m \u001b[1;33m=\u001b[0m \u001b[0menum_class\u001b[0m\u001b[1;33m\u001b[0m\u001b[1;33m\u001b[0m\u001b[0m\n\u001b[1;32m--> 252\u001b[1;33m             \u001b[0menum_member\u001b[0m\u001b[1;33m.\u001b[0m\u001b[0m__init__\u001b[0m\u001b[1;33m(\u001b[0m\u001b[1;33m*\u001b[0m\u001b[0margs\u001b[0m\u001b[1;33m)\u001b[0m\u001b[1;33m\u001b[0m\u001b[1;33m\u001b[0m\u001b[0m\n\u001b[0m\u001b[0;32m    253\u001b[0m             \u001b[1;31m# If another member with the same value was already defined, the\u001b[0m\u001b[1;33m\u001b[0m\u001b[1;33m\u001b[0m\u001b[1;33m\u001b[0m\u001b[0m\n\u001b[0;32m    254\u001b[0m             \u001b[1;31m# new member becomes an alias to the existing one.\u001b[0m\u001b[1;33m\u001b[0m\u001b[1;33m\u001b[0m\u001b[1;33m\u001b[0m\u001b[0m\n",
      "\u001b[1;32m<ipython-input-116-253831912870>\u001b[0m in \u001b[0;36m__init__\u001b[1;34m(self, *args)\u001b[0m\n\u001b[0;32m      5\u001b[0m             \u001b[0ma\u001b[0m \u001b[1;33m=\u001b[0m \u001b[0mself\u001b[0m\u001b[1;33m.\u001b[0m\u001b[0mname\u001b[0m\u001b[1;33m\u001b[0m\u001b[1;33m\u001b[0m\u001b[0m\n\u001b[0;32m      6\u001b[0m             \u001b[0me\u001b[0m \u001b[1;33m=\u001b[0m \u001b[0mcls\u001b[0m\u001b[1;33m(\u001b[0m\u001b[0mself\u001b[0m\u001b[1;33m.\u001b[0m\u001b[0mvalue\u001b[0m\u001b[1;33m)\u001b[0m\u001b[1;33m.\u001b[0m\u001b[0mname\u001b[0m\u001b[1;33m\u001b[0m\u001b[1;33m\u001b[0m\u001b[0m\n\u001b[1;32m----> 7\u001b[1;33m             raise ValueError(\n\u001b[0m\u001b[0;32m      8\u001b[0m                 \u001b[1;34m\"aliases not allowed in DuplicateFreeEnum:  %r --> %r\"\u001b[0m\u001b[1;33m\u001b[0m\u001b[1;33m\u001b[0m\u001b[0m\n\u001b[0;32m      9\u001b[0m                 % (a, e))\n",
      "\u001b[1;31mValueError\u001b[0m: aliases not allowed in DuplicateFreeEnum:  'GRENE' --> 'GREEN'"
     ]
    }
   ],
   "source": [
    "class DuplicateFreeEnum(Enum):\n",
    "    def __init__(self, *args):\n",
    "        cls = self.__class__\n",
    "        if any(self.value == e.value for e in cls):\n",
    "            a = self.name\n",
    "            e = cls(self.value).name\n",
    "            raise ValueError(\n",
    "                \"aliases not allowed in DuplicateFreeEnum:  %r --> %r\"\n",
    "                % (a, e))\n",
    "\n",
    "class Color(DuplicateFreeEnum):\n",
    "    RED = 1\n",
    "    GREEN = 2\n",
    "    BLUE = 3\n",
    "    GRENE = 2"
   ]
  },
  {
   "cell_type": "markdown",
   "id": "diagnostic-toner",
   "metadata": {},
   "source": [
    "## Planet"
   ]
  },
  {
   "cell_type": "code",
   "execution_count": 117,
   "id": "acute-logging",
   "metadata": {},
   "outputs": [
    {
     "name": "stdout",
     "output_type": "stream",
     "text": [
      "(5.976e+24, 6378140.0) ,  9.802652743337129\n"
     ]
    }
   ],
   "source": [
    "class Planet(Enum):\n",
    "    MERCURY = (3.303e+23, 2.4397e6)\n",
    "    VENUS   = (4.869e+24, 6.0518e6)\n",
    "    EARTH   = (5.976e+24, 6.37814e6)\n",
    "    MARS    = (6.421e+23, 3.3972e6)\n",
    "    JUPITER = (1.9e+27,   7.1492e7)\n",
    "    SATURN  = (5.688e+26, 6.0268e7)\n",
    "    URANUS  = (8.686e+25, 2.5559e7)\n",
    "    NEPTUNE = (1.024e+26, 2.4746e7)\n",
    "    def __init__(self, mass, radius):\n",
    "        self.mass = mass       # in kilograms\n",
    "        self.radius = radius   # in meters\n",
    "    @property\n",
    "    def surface_gravity(self):\n",
    "        # universal gravitational constant  (m3 kg-1 s-2)\n",
    "        G = 6.67300E-11\n",
    "        return G * self.mass / (self.radius * self.radius)\n",
    "\n",
    "print(Planet.EARTH.value, \", \", Planet.EARTH.surface_gravity)"
   ]
  },
  {
   "cell_type": "markdown",
   "id": "waiting-builder",
   "metadata": {},
   "source": [
    "## TimePeriod"
   ]
  },
  {
   "cell_type": "code",
   "execution_count": 118,
   "id": "placed-happiness",
   "metadata": {},
   "outputs": [
    {
     "data": {
      "text/plain": [
       "[<Period.day_365: datetime.timedelta(days=365)>,\n",
       " <Period.day_366: datetime.timedelta(days=366)>]"
      ]
     },
     "execution_count": 118,
     "metadata": {},
     "output_type": "execute_result"
    }
   ],
   "source": [
    "from datetime import timedelta\n",
    "class Period(timedelta, Enum):\n",
    "    \"different lengths of time\"\n",
    "    _ignore_ = 'Period i'\n",
    "    Period = vars()\n",
    "    for i in range(367):\n",
    "        Period['day_%d' % i] = i\n",
    "list(Period)[:2]\n",
    "list(Period)[-2:]"
   ]
  },
  {
   "cell_type": "code",
   "execution_count": null,
   "id": "civil-forty",
   "metadata": {},
   "outputs": [],
   "source": []
  }
 ],
 "metadata": {
  "kernelspec": {
   "display_name": "Python 3",
   "language": "python",
   "name": "python3"
  },
  "language_info": {
   "codemirror_mode": {
    "name": "ipython",
    "version": 3
   },
   "file_extension": ".py",
   "mimetype": "text/x-python",
   "name": "python",
   "nbconvert_exporter": "python",
   "pygments_lexer": "ipython3",
   "version": "3.8.7"
  }
 },
 "nbformat": 4,
 "nbformat_minor": 5
}
