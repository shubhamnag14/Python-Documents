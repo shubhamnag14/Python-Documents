{
 "cells": [
  {
   "cell_type": "markdown",
   "id": "tested-selling",
   "metadata": {},
   "source": [
    "The functools module if for higher-order functions: functions that act on or return other function. In general any callable object can be treated as a function for the puroses of this module"
   ]
  },
  {
   "cell_type": "code",
   "execution_count": 1,
   "id": "peripheral-browser",
   "metadata": {},
   "outputs": [
    {
     "name": "stdout",
     "output_type": "stream",
     "text": [
      "1220136825991110068701238785423046926253574342803192842192413588385845373153881997605496447502203281863013616477148203584163378722078177200480785205159329285477907571939330603772960859086270429174547882424912726344305670173270769461062802310452644218878789465754777149863494367781037644274033827365397471386477878495438489595537537990423241061271326984327745715546309977202781014561081188373709531016356324432987029563896628911658974769572087926928871281780070265174507768410719624390394322536422605234945850129918571501248706961568141625359056693423813008856249246891564126775654481886506593847951775360894005745238940335798476363944905313062323749066445048824665075946735862074637925184200459369692981022263971952597190945217823331756934581508552332820762820023402626907898342451712006207714640979456116127629145951237229913340169552363850942885592018727433795173014586357570828355780158735432768888680120399882384702151467605445407663535984174430480128938313896881639487469658817504506926365338175055478128640000000000000000000000000000000000000000000000000000000000000000000000000000000000000000000000000000000000000000000000000000\n",
      "0.0\n"
     ]
    }
   ],
   "source": [
    "import time\n",
    "def factorial(n):\n",
    "    return n * factorial(n-1) if n else 1\n",
    "\n",
    "\n",
    "s = time.time()\n",
    "print(factorial(500), end = '\\n')\n",
    "e = time.time()\n",
    "print(e - s)"
   ]
  },
  {
   "cell_type": "code",
   "execution_count": 1,
   "id": "dutch-exchange",
   "metadata": {},
   "outputs": [
    {
     "name": "stdout",
     "output_type": "stream",
     "text": [
      "139423224561697880139724382870407283950070256587697307264108962948325571622863290691557658876222521294125\n"
     ]
    }
   ],
   "source": [
    "# from functools import cache\n",
    "import functools\n",
    "\n",
    "@functools.lru_cache(maxsize=None)\n",
    "def fibo(n):\n",
    "    if n == 1 or n == 2:\n",
    "        return 1\n",
    "    else:\n",
    "        return fibo(n - 1) + fibo(n - 2)\n",
    "print(fibo(500))"
   ]
  },
  {
   "cell_type": "markdown",
   "id": "fresh-member",
   "metadata": {},
   "source": [
    "When we have the calc for one num then we do not need to calc it again"
   ]
  },
  {
   "cell_type": "code",
   "execution_count": 2,
   "id": "ahead-bulgaria",
   "metadata": {},
   "outputs": [
    {
     "name": "stdout",
     "output_type": "stream",
     "text": [
      "False\n",
      "False\n",
      "True\n",
      "True\n",
      "False\n",
      "True\n"
     ]
    }
   ],
   "source": [
    "from functools import total_ordering\n",
    "\n",
    "\n",
    "@total_ordering\n",
    "class Students:\n",
    "\tdef __init__(self, cgpa):\n",
    "\t\tself.cgpa = cgpa\n",
    "\n",
    "\tdef __lt__(self, other):\n",
    "\t\treturn self.cgpa<other.cgpa\n",
    "\n",
    "\tdef __eq__(self, other):\n",
    "\t\treturn self.cgpa == other.cgpa\n",
    "\n",
    "\tdef __le__(self, other):\n",
    "\t\treturn self.cgpa<= other.cgpa\n",
    "\t\n",
    "\tdef __ge__(self, other):\n",
    "\t\treturn self.cgpa>= other.cgpa\n",
    "\t\t\n",
    "\tdef __ne__(self, other):\n",
    "\t\treturn self.cgpa != other.cgpa\n",
    "\n",
    "Arjun = Students(8.6)\n",
    "\n",
    "Ram = Students(7.5)\n",
    "\n",
    "print(Arjun.__lt__(Ram))\n",
    "print(Arjun.__le__(Ram))\n",
    "print(Arjun.__gt__(Ram))\n",
    "print(Arjun.__ge__(Ram))\n",
    "print(Arjun.__eq__(Ram))\n",
    "print(Arjun.__ne__(Ram))\n"
   ]
  },
  {
   "cell_type": "code",
   "execution_count": 3,
   "id": "sought-principle",
   "metadata": {},
   "outputs": [
    {
     "name": "stdout",
     "output_type": "stream",
     "text": [
      "False\n",
      "False\n",
      "True\n",
      "True\n",
      "False\n",
      "True\n"
     ]
    }
   ],
   "source": [
    "from functools import total_ordering\n",
    "\n",
    "\n",
    "@total_ordering\n",
    "class Students:\n",
    "\tdef __init__(self, cgpa):\n",
    "\t\tself.cgpa = cgpa\n",
    "\n",
    "\tdef __lt__(self, other):\n",
    "\t\treturn self.cgpa<other.cgpa\n",
    "\n",
    "\tdef __eq__(self, other):\n",
    "\t\treturn self.cgpa == other.cgpa\n",
    "\n",
    "\tdef __le__(self, other):\n",
    "\t\treturn self.cgpa<= other.cgpa\n",
    "\t\n",
    "\tdef __ge__(self, other):\n",
    "\t\treturn self.cgpa>= other.cgpa\n",
    "\t\t\n",
    "\tdef __ne__(self, other):\n",
    "\t\treturn self.cgpa != other.cgpa\n",
    "\n",
    "Arjun = Students(8.6)\n",
    "\n",
    "Ram = Students(7.5)\n",
    "\n",
    "print(Arjun.__lt__(Ram))\n",
    "print(Arjun.__le__(Ram))\n",
    "print(Arjun.__gt__(Ram))\n",
    "print(Arjun.__ge__(Ram))\n",
    "print(Arjun.__eq__(Ram))\n",
    "print(Arjun.__ne__(Ram))\n"
   ]
  },
  {
   "cell_type": "code",
   "execution_count": 5,
   "id": "developed-roller",
   "metadata": {},
   "outputs": [
    {
     "name": "stdout",
     "output_type": "stream",
     "text": [
      "1111\n",
      "3145\n"
     ]
    }
   ],
   "source": [
    "from functools import partial\n",
    "\n",
    "def f(a,b,c,x):\n",
    "    return 1000*a + 100*b + 10*c + x\n",
    "\n",
    "print(f(1,1,1,1))\n",
    "\n",
    "g = partial(f, 3, 1, 4)\n",
    "print(g(5))"
   ]
  },
  {
   "cell_type": "code",
   "execution_count": 9,
   "id": "virgin-genetics",
   "metadata": {},
   "outputs": [
    {
     "name": "stdout",
     "output_type": "stream",
     "text": [
      "Calling decorated function\n",
      "Called example function\n",
      "wrapper\n",
      "\n",
      "        Wrapper docstring\n",
      "        \n"
     ]
    }
   ],
   "source": [
    "from functools import wraps\n",
    "def my_decorator(f):\n",
    "#     @wraps(f)\n",
    "    def wrapper(*args, **kwds):\n",
    "        \"\"\"\n",
    "        Wrapper docstring\n",
    "        \"\"\"\n",
    "        print('Calling decorated function')\n",
    "        return f(*args, **kwds)\n",
    "    return wrapper\n",
    "\n",
    "\n",
    "@my_decorator\n",
    "def example():\n",
    "    \"\"\"\n",
    "    Doc String\n",
    "    \"\"\"\n",
    "    print('Called example function')\n",
    "    \n",
    "example()\n",
    "print(example.__name__)\n",
    "print(example.__doc__)"
   ]
  },
  {
   "cell_type": "code",
   "execution_count": 10,
   "id": "associate-beatles",
   "metadata": {},
   "outputs": [
    {
     "name": "stdout",
     "output_type": "stream",
     "text": [
      "Calling decorated function\n",
      "Called example function\n",
      "example\n",
      "\n",
      "    Doc String\n",
      "    \n"
     ]
    }
   ],
   "source": [
    "from functools import wraps\n",
    "def my_decorator(f):\n",
    "    @wraps(f)\n",
    "    def wrapper(*args, **kwds):\n",
    "        print('Calling decorated function')\n",
    "        return f(*args, **kwds)\n",
    "    return wrapper\n",
    "\n",
    "\n",
    "@my_decorator\n",
    "def example():\n",
    "    \"\"\"\n",
    "    Doc String\n",
    "    \"\"\"\n",
    "    print('Called example function')\n",
    "    \n",
    "example()\n",
    "print(example.__name__)\n",
    "print(example.__doc__)"
   ]
  },
  {
   "cell_type": "code",
   "execution_count": null,
   "id": "scientific-symposium",
   "metadata": {},
   "outputs": [],
   "source": []
  }
 ],
 "metadata": {
  "kernelspec": {
   "display_name": "Python 3",
   "language": "python",
   "name": "python3"
  },
  "language_info": {
   "codemirror_mode": {
    "name": "ipython",
    "version": 3
   },
   "file_extension": ".py",
   "mimetype": "text/x-python",
   "name": "python",
   "nbconvert_exporter": "python",
   "pygments_lexer": "ipython3",
   "version": "3.8.7"
  }
 },
 "nbformat": 4,
 "nbformat_minor": 5
}
