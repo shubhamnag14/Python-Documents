{
 "cells": [
  {
   "cell_type": "markdown",
   "metadata": {},
   "source": [
    "The linecache module allows one to get any line from python source file, while attempting to optimize internally, using a cache the common case where many lines are read from a single file. This is used by the traeback module to retrieve source lines for inclusion in the formatted tracback"
   ]
  },
  {
   "cell_type": "code",
   "execution_count": 1,
   "metadata": {},
   "outputs": [],
   "source": [
    "import os\n",
    "import glob\n",
    "import linecache"
   ]
  },
  {
   "cell_type": "code",
   "execution_count": 20,
   "metadata": {
    "scrolled": true
   },
   "outputs": [
    {
     "name": "stdout",
     "output_type": "stream",
     "text": [
      "['file.txt']\n",
      "Which File you wanna open :- file.txt\n",
      "I love Python\n",
      "\n",
      "Geeks For Geeks\n",
      "\n"
     ]
    }
   ],
   "source": [
    "# Get line from the file named filename. The function will never raise an exception - itwill return '' on errors\n",
    "if len(glob.glob('*.txt')) == 0:\n",
    "    with open ('file.txt', 'w') as f:\n",
    "        lines = int(input(\"How Many Line You wanna enter: \"))\n",
    "        for i in range(lines):\n",
    "            text = input(\"Enter some text!!\")\n",
    "            f.write(text)\n",
    "else:\n",
    "    print(glob.glob('*.txt'))\n",
    "    name = input(\"Which File you wanna open :- \")\n",
    "    count = len(open(name, 'r').readlines())\n",
    "    for i in range(1, count+1):\n",
    "        print(linecache.getline(name, i))\n",
    "    # Clear the cache. Use this function if you no longer need lines from files previously\n",
    "    linecache.clearcache()"
   ]
  },
  {
   "cell_type": "code",
   "execution_count": 28,
   "metadata": {},
   "outputs": [
    {
     "name": "stdout",
     "output_type": "stream",
     "text": [
      "I Love Deep Learning too.\n",
      "\n"
     ]
    }
   ],
   "source": [
    "print(linecache.getline('file.txt', 3))"
   ]
  },
  {
   "cell_type": "code",
   "execution_count": 30,
   "metadata": {},
   "outputs": [],
   "source": [
    "# Check the cache for validity. Use this function in files in the cache may have changed on disk, and you require the updated version.\n",
    "# If filename is omitted, it will check all the entries in the cache.\n",
    "linecache.checkcache('file.txt')"
   ]
  },
  {
   "cell_type": "code",
   "execution_count": 33,
   "metadata": {},
   "outputs": [
    {
     "ename": "NameError",
     "evalue": "name 'module_globals' is not defined",
     "output_type": "error",
     "traceback": [
      "\u001b[1;31m---------------------------------------------------------------------------\u001b[0m",
      "\u001b[1;31mNameError\u001b[0m                                 Traceback (most recent call last)",
      "\u001b[1;32m<ipython-input-33-3597d66ca970>\u001b[0m in \u001b[0;36m<module>\u001b[1;34m\u001b[0m\n\u001b[1;32m----> 1\u001b[1;33m \u001b[0mlinecache\u001b[0m\u001b[1;33m.\u001b[0m\u001b[0mlazycache\u001b[0m\u001b[1;33m(\u001b[0m\u001b[1;34m'file.txt'\u001b[0m\u001b[1;33m,\u001b[0m \u001b[0mmodule_globals\u001b[0m\u001b[1;33m)\u001b[0m\u001b[1;33m\u001b[0m\u001b[1;33m\u001b[0m\u001b[0m\n\u001b[0m",
      "\u001b[1;31mNameError\u001b[0m: name 'module_globals' is not defined"
     ]
    }
   ],
   "source": [
    "linecache.lazycache('file.txt', module_globals)"
   ]
  },
  {
   "cell_type": "code",
   "execution_count": 36,
   "metadata": {},
   "outputs": [
    {
     "name": "stdout",
     "output_type": "stream",
     "text": [
      "I love Python\n",
      "\n",
      "Geeks For Geeks\n",
      "\n",
      "I Love Deep Learning too.\n",
      "\n"
     ]
    }
   ],
   "source": [
    "for i in linecache.getlines('file.txt'):\n",
    "    print(i)"
   ]
  },
  {
   "cell_type": "code",
   "execution_count": null,
   "metadata": {},
   "outputs": [],
   "source": []
  }
 ],
 "metadata": {
  "kernelspec": {
   "display_name": "Python 3",
   "language": "python",
   "name": "python3"
  },
  "language_info": {
   "codemirror_mode": {
    "name": "ipython",
    "version": 3
   },
   "file_extension": ".py",
   "mimetype": "text/x-python",
   "name": "python",
   "nbconvert_exporter": "python",
   "pygments_lexer": "ipython3",
   "version": "3.9.0"
  }
 },
 "nbformat": 4,
 "nbformat_minor": 4
}
