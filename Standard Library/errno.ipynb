{
 "cells": [
  {
   "cell_type": "markdown",
   "id": "assured-fashion",
   "metadata": {},
   "source": [
    "This module makes available standard errno system symbols. The Value of the each symbol is the corresponding integer value. The names and descriptions are borrowed from linux/include/errno.h"
   ]
  },
  {
   "cell_type": "code",
   "execution_count": 41,
   "id": "secondary-compromise",
   "metadata": {},
   "outputs": [
    {
     "name": "stdout",
     "output_type": "stream",
     "text": [
      "No such file or directory\n"
     ]
    }
   ],
   "source": [
    "import errno\n",
    "try:\n",
    "    with open('FILE.txt', 'r') as f:\n",
    "        print(f.read())\n",
    "except FileNotFoundError as e:\n",
    "    if e.errno == errno.ENOENT:\n",
    "        print(os.strerror(2))"
   ]
  },
  {
   "cell_type": "code",
   "execution_count": 35,
   "id": "tropical-notebook",
   "metadata": {},
   "outputs": [
    {
     "data": {
      "text/plain": [
       "'ENOENT'"
      ]
     },
     "execution_count": 35,
     "metadata": {},
     "output_type": "execute_result"
    }
   ],
   "source": [
    "errno.errorcode.get(2)"
   ]
  },
  {
   "cell_type": "code",
   "execution_count": 14,
   "id": "senior-library",
   "metadata": {},
   "outputs": [
    {
     "name": "stdout",
     "output_type": "stream",
     "text": [
      " Volume in drive C has no label.\n",
      " Volume Serial Number is 2E14-9502\n",
      "\n",
      " Directory of C:\\Users\\Subhadeep Banerjee\\Standard Library\n",
      "\n",
      "23-02-2021  03:25    <DIR>          .\n",
      "23-02-2021  03:25    <DIR>          ..\n",
      "23-02-2021  01:30    <DIR>          .ipynb_checkpoints\n",
      "18-01-2021  16:32            63,117 asyncio.ipynb\n",
      "23-02-2021  03:25             5,844 errno.ipynb\n",
      "22-02-2021  00:16             2,010 typing.ipynb\n",
      "               3 File(s)         70,971 bytes\n",
      "               3 Dir(s)  252,285,526,016 bytes free\n"
     ]
    }
   ],
   "source": [
    "ls"
   ]
  },
  {
   "cell_type": "code",
   "execution_count": 15,
   "id": "changing-personal",
   "metadata": {},
   "outputs": [],
   "source": [
    "import os\n",
    "os.mkdir('Test')"
   ]
  },
  {
   "cell_type": "code",
   "execution_count": 16,
   "id": "occupational-theta",
   "metadata": {},
   "outputs": [
    {
     "name": "stdout",
     "output_type": "stream",
     "text": [
      " Volume in drive C has no label.\n",
      " Volume Serial Number is 2E14-9502\n",
      "\n",
      " Directory of C:\\Users\\Subhadeep Banerjee\\Standard Library\n",
      "\n",
      "23-02-2021  03:26    <DIR>          .\n",
      "23-02-2021  03:26    <DIR>          ..\n",
      "23-02-2021  01:30    <DIR>          .ipynb_checkpoints\n",
      "18-01-2021  16:32            63,117 asyncio.ipynb\n",
      "23-02-2021  03:25             5,844 errno.ipynb\n",
      "23-02-2021  03:26    <DIR>          Test\n",
      "22-02-2021  00:16             2,010 typing.ipynb\n",
      "               3 File(s)         70,971 bytes\n",
      "               4 Dir(s)  252,285,530,112 bytes free\n"
     ]
    }
   ],
   "source": [
    "ls"
   ]
  },
  {
   "cell_type": "code",
   "execution_count": 30,
   "id": "coordinated-reset",
   "metadata": {},
   "outputs": [
    {
     "name": "stdout",
     "output_type": "stream",
     "text": [
      "Permission denied\n"
     ]
    },
    {
     "data": {
      "text/plain": [
       "'EACCES'"
      ]
     },
     "execution_count": 30,
     "metadata": {},
     "output_type": "execute_result"
    }
   ],
   "source": [
    "# try:\n",
    "print(os.strerror(13))\n",
    "# with open('Test', 'r') as f:\n",
    "#     f.read()\n",
    "# except PermissionError as p:\n",
    "#     assert p.errno == errno.EISDIR\n",
    "errno.errorcode.get(13)"
   ]
  },
  {
   "cell_type": "code",
   "execution_count": 3,
   "id": "mobile-motorcycle",
   "metadata": {},
   "outputs": [
    {
     "name": "stdout",
     "output_type": "stream",
     "text": [
      "Operation not permitted\n",
      "No such file or directory\n",
      "No such process\n",
      "Interrupted function call\n",
      "Input/output error\n",
      "No such device or address\n",
      "Arg list too long\n",
      "Exec format error\n",
      "Bad file descriptor\n",
      "No child processes\n",
      "Resource temporarily unavailable\n",
      "Not enough space\n",
      "Permission denied\n",
      "Bad address\n",
      "Resource device\n",
      "File exists\n",
      "Improper link\n",
      "No such device\n",
      "Not a directory\n",
      "Is a directory\n",
      "Invalid argument\n",
      "Too many open files in system\n",
      "Too many open files\n",
      "Inappropriate I/O control operation\n",
      "File too large\n",
      "No space left on device\n",
      "Invalid seek\n",
      "Read-only file system\n",
      "Too many links\n",
      "Broken pipe\n",
      "Domain error\n",
      "Result too large\n",
      "Resource deadlock avoided\n",
      "Filename too long\n",
      "No locks available\n",
      "Function not implemented\n",
      "Directory not empty\n",
      "Illegal byte sequence\n",
      "bad message\n",
      "operation canceled\n",
      "identifier removed\n",
      "no message available\n",
      "no link\n",
      "no message\n",
      "no stream resources\n",
      "not a stream\n",
      "state not recoverable\n",
      "not supported\n",
      "value too large\n",
      "owner dead\n",
      "protocol error\n",
      "stream timeout\n",
      "text file busy\n",
      "Unknown error\n",
      "Unknown error\n",
      "Unknown error\n",
      "Unknown error\n",
      "Unknown error\n",
      "Unknown error\n",
      "Unknown error\n",
      "Unknown error\n",
      "Unknown error\n",
      "Unknown error\n",
      "Unknown error\n",
      "Unknown error\n",
      "Unknown error\n",
      "Unknown error\n",
      "Unknown error\n",
      "Unknown error\n",
      "Unknown error\n",
      "Unknown error\n",
      "Unknown error\n",
      "Unknown error\n",
      "Unknown error\n",
      "Unknown error\n",
      "Unknown error\n",
      "Unknown error\n",
      "Unknown error\n",
      "Unknown error\n",
      "Unknown error\n",
      "Unknown error\n",
      "Unknown error\n",
      "Unknown error\n",
      "Unknown error\n",
      "Unknown error\n",
      "Unknown error\n",
      "Unknown error\n",
      "Unknown error\n",
      "Unknown error\n",
      "Unknown error\n",
      "Unknown error\n",
      "Unknown error\n",
      "Unknown error\n",
      "Unknown error\n",
      "Unknown error\n",
      "Unknown error\n",
      "Unknown error\n",
      "Unknown error\n",
      "Unknown error\n",
      "Unknown error\n",
      "Unknown error\n"
     ]
    }
   ],
   "source": [
    "import errno\n",
    "import os\n",
    "for i in sorted(errno.errorcode):\n",
    "    print(os.strerror(i))"
   ]
  },
  {
   "cell_type": "code",
   "execution_count": 6,
   "id": "based-emphasis",
   "metadata": {},
   "outputs": [
    {
     "name": "stdout",
     "output_type": "stream",
     "text": [
      "2\n",
      "No such file or directory\n",
      "ENOENT\n"
     ]
    }
   ],
   "source": [
    "import os\n",
    "import errno\n",
    "try:\n",
    "    with open('File.txt', 'r') as fp:\n",
    "        fp.read()\n",
    "except FileNotFoundError as err:\n",
    "    print(err.errno)\n",
    "    print(os.strerror(err.errno))\n",
    "    print(errno.errorcode.get(err.errno))"
   ]
  },
  {
   "cell_type": "code",
   "execution_count": 7,
   "id": "cellular-franklin",
   "metadata": {},
   "outputs": [
    {
     "data": {
      "text/plain": [
       "1"
      ]
     },
     "execution_count": 7,
     "metadata": {},
     "output_type": "execute_result"
    }
   ],
   "source": [
    "errno.EPERM"
   ]
  },
  {
   "cell_type": "code",
   "execution_count": 8,
   "id": "wrong-button",
   "metadata": {},
   "outputs": [
    {
     "data": {
      "text/plain": [
       "2"
      ]
     },
     "execution_count": 8,
     "metadata": {},
     "output_type": "execute_result"
    }
   ],
   "source": [
    "errno.ENOENT"
   ]
  },
  {
   "cell_type": "code",
   "execution_count": 19,
   "id": "amended-momentum",
   "metadata": {},
   "outputs": [
    {
     "name": "stdout",
     "output_type": "stream",
     "text": [
      "No such file or directory\n"
     ]
    }
   ],
   "source": [
    "import errno\n",
    "import os\n",
    "\n",
    "try:\n",
    "    with open('FILE.txt', 'r') as fp:\n",
    "        fp.read()\n",
    "except Exception as err:\n",
    "    if err.errno == errno.ENOENT:\n",
    "        print(os.strerror(err.errno))"
   ]
  },
  {
   "cell_type": "code",
   "execution_count": null,
   "id": "tired-corrections",
   "metadata": {},
   "outputs": [],
   "source": []
  }
 ],
 "metadata": {
  "kernelspec": {
   "display_name": "Python 3",
   "language": "python",
   "name": "python3"
  },
  "language_info": {
   "codemirror_mode": {
    "name": "ipython",
    "version": 3
   },
   "file_extension": ".py",
   "mimetype": "text/x-python",
   "name": "python",
   "nbconvert_exporter": "python",
   "pygments_lexer": "ipython3",
   "version": "3.8.7"
  }
 },
 "nbformat": 4,
 "nbformat_minor": 5
}
