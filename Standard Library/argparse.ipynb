{
 "cells": [
  {
   "cell_type": "markdown",
   "metadata": {},
   "source": [
    "The argparse module makes it easy to write user-friendy command-line inerface. The porgram defines what arguments it requires and argparse will figure out how to parse those out of sys.argv. The argparse module also automatically generates help and usuage message and issues error when users give the program invalid arguments"
   ]
  },
  {
   "cell_type": "markdown",
   "metadata": {},
   "source": [
    "## Argparse Tutorial"
   ]
  },
  {
   "cell_type": "code",
   "execution_count": 2,
   "metadata": {},
   "outputs": [
    {
     "name": "stderr",
     "output_type": "stream",
     "text": [
      "usage: ipykernel_launcher.py [-h]\n",
      "ipykernel_launcher.py: error: unrecognized arguments: -f C:\\Users\\Subhadeep Banerjee\\AppData\\Roaming\\jupyter\\runtime\\kernel-155d6cc5-4ba9-4bb4-ae9b-aa58a469e597.json\n"
     ]
    },
    {
     "ename": "SystemExit",
     "evalue": "2",
     "output_type": "error",
     "traceback": [
      "An exception has occurred, use %tb to see the full traceback.\n",
      "\u001b[1;31mSystemExit\u001b[0m\u001b[1;31m:\u001b[0m 2\n"
     ]
    }
   ],
   "source": [
    "import argparse\n",
    "parser = argparse.ArgumentParser()\n",
    "parser.parse_args()"
   ]
  },
  {
   "cell_type": "raw",
   "metadata": {},
   "source": [
    "--------------OutPut--------------\n",
    "```\n",
    "$ python3 prog.py\n",
    "$ python3 prog.py --help\n",
    "usage: prog.py [-h]\n",
    "\n",
    "optional arguments:\n",
    "  -h, --help  show this help message and exit\n",
    "$ python3 prog.py --verbose\n",
    "usage: prog.py [-h]\n",
    "prog.py: error: unrecognized arguments: --verbose\n",
    "$ python3 prog.py foo\n",
    "usage: prog.py [-h]\n",
    "prog.py: error: unrecognized arguments: foo```"
   ]
  },
  {
   "cell_type": "markdown",
   "metadata": {},
   "source": [
    "# ArgumentParser objects\n",
    "\n",
    "*class* argparse.**ArgumentParser** *(prog=None, usage=None, description=None, epilog=None, parents=[], formatter_class=argparse.HelpFormatter, prefix_chars='-', fromfile_prefix_chars=None, argument_default=None, conflict_handler='error', add_help=True, allow_abbrev=True, exit_on_error=True)*  \n",
    "  \n",
    "  \n",
    "Create a new `ArgumentParser` object. All parameters should be passed as keyword arguments. Each parameter has its own more detailed description below, but in short they are:\n",
    "\n",
    "* `prog` - The name of the program (default: sys.argv[0])\n",
    "\n",
    "* `usage` - The string describing the program usage (default: generated from arguments added to parser)\n",
    "\n",
    "* `description` - Text to display before the argument help (default: none)\n",
    "\n",
    "* `epilog` - Text to display after the argument help (default: none)\n",
    "\n",
    "* `parents` - A list of ArgumentParser objects whose arguments should also be included\n",
    "\n",
    "* `formatter_class` - A class for customizing the help output\n",
    "\n",
    "* `prefix_chars` - The set of characters that prefix optional arguments (default: ‘-‘)\n",
    "\n",
    "* `fromfile_prefix_chars` - The set of characters that prefix files from which additional arguments should be read (default: None)\n",
    "\n",
    "* `argument_default` - The global default value for arguments (default: None)\n",
    "\n",
    "* `conflict_handler` - The strategy for resolving conflicting optionals (usually unnecessary)\n",
    "\n",
    "* `add_help` - Add a -h/--help option to the parser (default: True)\n",
    "\n",
    "* `allow_abbrev` - Allows long options to be abbreviated if the abbreviation is unambiguous. (default: True)\n",
    "\n",
    "* `exit_on_error` - Determines whether or not ArgumentParser exits with error info when an error occurs. (default: True)"
   ]
  },
  {
   "cell_type": "markdown",
   "metadata": {},
   "source": [
    "# The add_argument() method\n",
    "\n",
    "ArgumentParser.**add_argument** *(name or flags...[, action][, nargs][, const][, default][, type][, choices][, required][, help][, metavar][, dest])* \n",
    "  \n",
    "  \n",
    "Define how a single command-line argument should be parsed. Each parameter has its own more detailed description below, but in short they are:\n",
    "\n",
    "* `name or flags` - Either a name or a list of option strings, e.g. foo or -f, --foo.\n",
    "\n",
    "* `action` - The basic type of action to be taken when this argument is encountered at the command line.\n",
    "\n",
    "* `nargs` - The number of command-line arguments that should be consumed.\n",
    "\n",
    "* `const` - A constant value required by some action and nargs selections.\n",
    "\n",
    "* `default` - The value produced if the argument is absent from the command line and if it is absent from the namespace object.\n",
    "\n",
    "* `type` - The type to which the command-line argument should be converted.\n",
    "\n",
    "* `choices` - A container of the allowable values for the argument.\n",
    "\n",
    "* `required` - Whether or not the command-line option may be omitted (optionals only).\n",
    "\n",
    "* `help` - A brief description of what the argument does.\n",
    "\n",
    "* `metavar` - A name for the argument in usage messages.\n",
    "\n",
    "* `dest` - The name of the attribute to be added to the object returned by `parse_args()`."
   ]
  },
  {
   "cell_type": "code",
   "execution_count": 4,
   "metadata": {},
   "outputs": [
    {
     "name": "stdout",
     "output_type": "stream",
     "text": [
      "Namespace(foo=None, bar='BAR')\n",
      "Namespace(foo='FOO', bar='BAR')\n"
     ]
    },
    {
     "name": "stderr",
     "output_type": "stream",
     "text": [
      "usage: ipykernel_launcher.py [-h] [-f FOO] bar\n",
      "ipykernel_launcher.py: error: the following arguments are required: bar\n"
     ]
    },
    {
     "ename": "SystemExit",
     "evalue": "2",
     "output_type": "error",
     "traceback": [
      "An exception has occurred, use %tb to see the full traceback.\n",
      "\u001b[1;31mSystemExit\u001b[0m\u001b[1;31m:\u001b[0m 2\n"
     ]
    },
    {
     "name": "stderr",
     "output_type": "stream",
     "text": [
      "c:\\users\\subhadeep banerjee\\appdata\\local\\programs\\python\\python39\\lib\\site-packages\\IPython\\core\\interactiveshell.py:3426: UserWarning: To exit: use 'exit', 'quit', or Ctrl-D.\n",
      "  warn(\"To exit: use 'exit', 'quit', or Ctrl-D.\", stacklevel=1)\n"
     ]
    }
   ],
   "source": [
    "import argparse\n",
    "\n",
    "parser = argparse.ArgumentParser()\n",
    "\n",
    "parser.add_argument('-f',\n",
    "                    '--foo')\n",
    "parser.add_argument('bar')\n",
    "print(parser.parse_args(['BAR']))\n",
    "print(parser.parse_args(['BAR', '--foo', 'FOO']))\n",
    "print(parser.parse_args(['--foo', 'FOO']))"
   ]
  },
  {
   "cell_type": "markdown",
   "metadata": {},
   "source": [
    "# Action Classes\n",
    "Action classes implement the Action API, a callable which returns a callable which processes arguments from the command-line. Any object which follows this API may be passed as the action parameter to add_argument()\n",
    "\n",
    "*class* argparse.**Action** *(option_strings, dest, nargs=None, const=None, default=None, type=None, choices=None, required=False, help=None, metavar=None)*\n",
    "\n",
    "Action objects are used by an ArgumentParser to represent the information needed to parse a single argument from one or more strings from the command line. The Action class must accept the two positional arguments plus any keyword arguments passed to ArgumentParser.add_argument() except for the action itself.\n",
    "\n",
    "Instances of Action (or return value of any callable to the action parameter) should have attributes “dest”, “option_strings”, “default”, “type”, “required”, “help”, etc. defined. The easiest way to ensure these attributes are defined is to call Action.__init__.\n",
    "\n",
    "Action instances should be callable, so subclasses must override the __call__ method, which should accept four parameters:\n",
    "\n",
    "* `parser` - The ArgumentParser object which contains this action.\n",
    "\n",
    "* `namespace` - The Namespace object that will be returned by parse_args(). Most actions add an attribute to this object using setattr().\n",
    "\n",
    "* `values` - The associated command-line arguments, with any type conversions applied. Type conversions are specified with the type keyword argument to add_argument().\n",
    "\n",
    "* `option_string` - The option string that was used to invoke this action. The `option_string` argument is optional, and will be absent if the action is associated with a positional argument."
   ]
  },
  {
   "cell_type": "markdown",
   "metadata": {},
   "source": [
    "# The parse_args() method¶\n",
    "ArgumentParser.**parse_args** *(args=None, namespace=None)*\n",
    "  \n",
    "  \n",
    "Convert argument strings to objects and assign them as attributes of the namespace. Return the populated namespace.\n",
    "\n",
    "Previouse calls to `add_argument` determine exactly what objects are created and how they are assigned. See the documentation for `add_argument()` for details.\n",
    "\n",
    "* `args` - List of strings to parse. The default is taken from sys.argv\n",
    "* `namespace` - An object to take the attributes. The default is a new empty `Namespace` object"
   ]
  },
  {
   "cell_type": "code",
   "execution_count": 4,
   "metadata": {},
   "outputs": [
    {
     "name": "stdout",
     "output_type": "stream",
     "text": [
      "Namespace(x='X', foo=None)\n",
      "Namespace(x=None, foo='FOO')\n",
      "Namespace(x=None, foo='FOO')\n",
      "Namespace(x='X', foo=None)\n"
     ]
    }
   ],
   "source": [
    "import argparse\n",
    "parser = argparse.ArgumentParser(prog='PROG')\n",
    "parser.add_argument('-x')\n",
    "parser.add_argument('--foo')\n",
    "print(parser.parse_args(['-x', 'X']))\n",
    "print(parser.parse_args(['--foo', 'FOO']))\n",
    "print(parser.parse_args(['--foo=FOO']))\n",
    "print(parser.parse_args(['-xX']))"
   ]
  },
  {
   "cell_type": "code",
   "execution_count": 2,
   "metadata": {},
   "outputs": [
    {
     "data": {
      "text/plain": [
       "Namespace(x=True, y=True, z='Z')"
      ]
     },
     "execution_count": 2,
     "metadata": {},
     "output_type": "execute_result"
    }
   ],
   "source": [
    "import argparse\n",
    "parser = argparse.ArgumentParser(prog='PROG')\n",
    "parser.add_argument('-x', action='store_true')\n",
    "parser.add_argument('-y', action='store_true')\n",
    "parser.add_argument('-z')\n",
    "parser.parse_args(['-xyzZ'])"
   ]
  },
  {
   "cell_type": "markdown",
   "metadata": {},
   "source": [
    "# The Namespace object\n",
    "*class* argparse. **Namespace** \n",
    "  \n",
    "Simple class used by default by `parse_args()` to create an object holding attribute and return it.\n",
    "\n",
    "The class is deliberately simple, just an `object` subclass with a readable string representation. If you prefer to have dcit-like view of the attributes, you can use the standard Python idiom, `vars()`:"
   ]
  },
  {
   "cell_type": "code",
   "execution_count": 5,
   "metadata": {},
   "outputs": [
    {
     "name": "stdout",
     "output_type": "stream",
     "text": [
      "Namespace(foo='BAR')\n",
      "{'foo': 'BAR'}\n"
     ]
    }
   ],
   "source": [
    "import argparse\n",
    "parser = argparse.ArgumentParser()\n",
    "parser.add_argument('--foo')\n",
    "args = parser.parse_args(['--foo','BAR'])\n",
    "print(args)\n",
    "print(vars(args))"
   ]
  },
  {
   "cell_type": "markdown",
   "metadata": {},
   "source": [
    "# Other utilities\n",
    "## sub-commands\n",
    "\n",
    "ArgumentParser. **add_subparsers** *([title][, description][, prog][, parser_class][, action][, option_string][, dest][, required][, help][, metavar])*\n",
    "\n",
    "Many programs split up their functionality into a number of sub-commands, for example, the svn program can invoke sub-commands like svn checkout, svn update, and svn commit. Splitting up functionality this way can be a particularly good idea when a program performs several different functions which require different kinds of command-line arguments. ArgumentParser supports the creation of such sub-commands with the add_subparsers() method. The add_subparsers() method is normally called with no arguments and returns a special action object. This object has a single method, add_parser(), which takes a command name and any ArgumentParser constructor arguments, and returns an ArgumentParser object that can be modified as usual.\n",
    "\n",
    "Description of parameters:\n",
    "\n",
    "* `title` - title for the sub-parser group in help output; by default “subcommands” if description is provided, otherwise uses title for positional arguments\n",
    "\n",
    "* `description` - description for the sub-parser group in help output, by default None\n",
    "\n",
    "* `prog` - usage information that will be displayed with sub-command help, by default the name of the program and any positional arguments before the subparser argument\n",
    "\n",
    "* `parser_class` - class which will be used to create sub-parser instances, by default the class of the current parser (e.g. ArgumentParser)\n",
    "\n",
    "* `action` - the basic type of action to be taken when this argument is encountered at the command line\n",
    "\n",
    "* `dest` - name of the attribute under which sub-command name will be stored; by default None and no value is stored\n",
    "\n",
    "* `required` - Whether or not a subcommand must be provided, by default False (added in 3.7)\n",
    "\n",
    "* `help` - help for sub-parser group in help output, by default None\n",
    "\n",
    "* `metavar` - string presenting available sub-commands in help; by default it is None and presents sub-commands in form {cmd1, cmd2, ..}"
   ]
  },
  {
   "cell_type": "markdown",
   "metadata": {},
   "source": [
    "## Printing Help\n",
    "In most typical applications, parse_args() will take cate of formatting and printing any usage on error messages. However, several formatting methods are available.\n",
    "\n",
    "ArgumentParser.**print_usage**(file=None)\n",
    "print a brief desctiption of how `ArgumentParser` should be invoked on the command line. If file is `None`, `sys.stdout` is assumend\n",
    "\n",
    "ArgumentParser.**print_help**(file=None)\n",
    "Print a help message, including the program usage and information about the arguments registered with the `ArgumentParser`. If file is `None`, `sys.stdout` is assumed.\n",
    "\n",
    "There are also variants of these methods that simply return a string instead of printing it:\n",
    "\n",
    "ArgumentParser.**format_usage**()\n",
    "Return a string containing a brief description of how the `ArgumentParser` should be invoked on the command line.\n",
    "\n",
    "ArgumentParser.**format_help**()\n",
    "Return a string containing a help message, including the program usage and information about the arguments registered with the `ArgumentParser`.\n",
    "\n",
    "## Partial Parsing\n",
    "ArgumentParser.**parse_known_args**(args=None, namespace=None)\n",
    "\n",
    "Sometimes a script may only parse a few of the command-line arguments, passing the remaining arguments on to another script or program. In these cases, the parse_known_args() method can be useful. It works much like parse_args() except that it does not produce an error when extra arguments are present. Instead, it returns a two item tuple containing the populated namespace and the list of remaining argument strings."
   ]
  },
  {
   "cell_type": "code",
   "execution_count": 1,
   "metadata": {},
   "outputs": [
    {
     "data": {
      "text/plain": [
       "(Namespace(foo=True, bar='BAR'), ['--badger', 'spam'])"
      ]
     },
     "execution_count": 1,
     "metadata": {},
     "output_type": "execute_result"
    }
   ],
   "source": [
    "import argparse\n",
    "parser = argparse.ArgumentParser()\n",
    "parser.add_argument('--foo', action='store_true')\n",
    "parser.add_argument('bar')\n",
    "parser.parse_known_args(['--foo', '--badger', 'BAR', 'spam'])"
   ]
  },
  {
   "cell_type": "markdown",
   "metadata": {},
   "source": [
    "# Customizing flile parsing\n",
    "\n",
    "ArgumentParser.**convert_arg_line_to_args** *(arg_line)*\n",
    "\n",
    "Arguments that are read from a file (see the fromfile_prefix_chars keyword argument to the ArgumentParser constructor) are read one argument per line. convert_arg_line_to_args() can be overridden for fancier reading.\n",
    "\n",
    "This method takes a single argument arg_line which is a string read from the argument file. It returns a list of arguments parsed from this string. The method is called once per line read from the argument file, in order.\n",
    "\n",
    "A useful override of this method is one that treats each space-separated word as an argument. The following example demonstrates how to do this:"
   ]
  },
  {
   "cell_type": "code",
   "execution_count": 2,
   "metadata": {},
   "outputs": [],
   "source": [
    "class MyArgumentParser(argparse.ArgumentParser):\n",
    "    def convert_arg_line_to_args(self, arg_line):\n",
    "        return arg_line.split()"
   ]
  },
  {
   "cell_type": "markdown",
   "metadata": {},
   "source": [
    "# Exiting methods\n",
    "\n",
    "ArgumentParser.**exit** *(status=0, message=None)*  \n",
    "\n",
    "The method terminates the program, exiting with the specified status and if given, it prints a message before that. The user can override this method to handle these steps defferently"
   ]
  },
  {
   "cell_type": "code",
   "execution_count": 3,
   "metadata": {},
   "outputs": [],
   "source": [
    "class ErrorCatchingArgumentParser(argparse.ArgumentParser):\n",
    "    def exit(self, status=0, message=None):\n",
    "        if status:\n",
    "            raise Exception(f'Exiting because of an error: {message}')\n",
    "        exit(status)"
   ]
  },
  {
   "cell_type": "markdown",
   "metadata": {},
   "source": [
    "ArgumentParser.**error** *(message)*\n",
    "\n",
    "This method prints a usage message including the message to the standard error and terminates the program with a status code of 2."
   ]
  },
  {
   "cell_type": "markdown",
   "metadata": {},
   "source": [
    "# Intermized parsing\n",
    "\n",
    "ArgumentParser.**parse_intermixed_args** *(args=None, namespace=None)*   \n",
    "\n",
    "ArgumentParser.**parse_known_intermixed_args** *(args=None, namespace=None)*  \n",
    "\n",
    "A number of Unix commands allow the user to intermix optional arguments with positional arguments. The parse_intermixed_args() and parse_known_intermixed_args() methods support this parsing style.\n",
    "\n",
    "These parsers do not support all the argparse features, and will raise exceptions if unsupported features are used. In particular, subparsers, argparse.REMAINDER, and mutually exclusive groups that include both optionals and positionals are not supported.\n",
    "\n",
    "The following example shows the difference between parse_known_args() and parse_intermixed_args(): the former returns ['2', '3'] as unparsed arguments, while the latter collects all the positionals into rest."
   ]
  },
  {
   "cell_type": "code",
   "execution_count": 4,
   "metadata": {},
   "outputs": [
    {
     "name": "stdout",
     "output_type": "stream",
     "text": [
      "(Namespace(foo='bar', cmd='doit', rest=[1]), ['2', '3'])\n",
      "Namespace(foo='bar', cmd='doit', rest=[1, 2, 3])\n"
     ]
    }
   ],
   "source": [
    "parser = argparse.ArgumentParser()\n",
    "parser.add_argument('--foo')\n",
    "parser.add_argument('cmd')\n",
    "parser.add_argument('rest', nargs='*', type=int)\n",
    "print(parser.parse_known_args('doit 1 --foo bar 2 3'.split()))\n",
    "print(parser.parse_intermixed_args('doit 1 --foo bar 2 3'.split()))"
   ]
  },
  {
   "cell_type": "markdown",
   "metadata": {},
   "source": [
    "parse_known_intermixed_args() returns a two item tuple containing the populated namespace and the list of remaining argument strings. parse_intermixed_args() raises an error if there are any remaining unparsed argument strings."
   ]
  },
  {
   "cell_type": "markdown",
   "metadata": {},
   "source": [
    "# Upgrading optparse code\n",
    "\n",
    "Originally, the argparse module had attempted to maintain compatibility with optparse. However, optparse was difficult to extend transparently, particularly with the changes required to support the new nargs= specifiers and better usage messages. When most everything in optparse had either been copy-pasted over or monkey-patched, it no longer seemed practical to try to maintain the backwards compatibility.\n",
    "\n",
    "The argparse module improves on the standard library optparse module in a number of ways including:\n",
    "\n",
    "* Handling positional arguments.\n",
    "* Supporting sub-commands.\n",
    "* Allowing alternnative option prefixes like `+` and `/`.\n",
    "* Handling zero-or-more and one-or-more style arguments.\n",
    "* Producing more informative usage messages.\n",
    "* Providing a much simples interface for custom `type` and `action`"
   ]
  },
  {
   "cell_type": "code",
   "execution_count": null,
   "metadata": {},
   "outputs": [],
   "source": []
  }
 ],
 "metadata": {
  "kernelspec": {
   "display_name": "Python 3",
   "language": "python",
   "name": "python3"
  },
  "language_info": {
   "codemirror_mode": {
    "name": "ipython",
    "version": 3
   },
   "file_extension": ".py",
   "mimetype": "text/x-python",
   "name": "python",
   "nbconvert_exporter": "python",
   "pygments_lexer": "ipython3",
   "version": "3.9.0"
  }
 },
 "nbformat": 4,
 "nbformat_minor": 4
}
