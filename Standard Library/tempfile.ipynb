{
 "cells": [
  {
   "cell_type": "code",
   "execution_count": 1,
   "id": "subtle-deployment",
   "metadata": {},
   "outputs": [],
   "source": [
    "import tempfile"
   ]
  },
  {
   "cell_type": "code",
   "execution_count": 10,
   "id": "wireless-skill",
   "metadata": {},
   "outputs": [
    {
     "name": "stdout",
     "output_type": "stream",
     "text": [
      "b'Hello World'\n"
     ]
    }
   ],
   "source": [
    "fp = tempfile.TemporaryFile()\n",
    "fp.write(b'Hello World')\n",
    "fp.seek(0)\n",
    "print(fp.read())\n",
    "fp.close()"
   ]
  },
  {
   "cell_type": "code",
   "execution_count": 16,
   "id": "bronze-oakland",
   "metadata": {},
   "outputs": [
    {
     "data": {
      "text/plain": [
       "'Hey This is matrix this is to test the file!!'"
      ]
     },
     "execution_count": 16,
     "metadata": {},
     "output_type": "execute_result"
    }
   ],
   "source": [
    "fn = tempfile.NamedTemporaryFile(mode = 'w+')\n",
    "fn.write(\"Hey This is matrix this is to test the file!!\")\n",
    "fn.seek(0)\n",
    "fn.read()\n",
    "fn.seek(0)\n",
    "fn.read()"
   ]
  },
  {
   "cell_type": "code",
   "execution_count": 17,
   "id": "forbidden-istanbul",
   "metadata": {},
   "outputs": [],
   "source": [
    "fn.close()"
   ]
  },
  {
   "cell_type": "code",
   "execution_count": 19,
   "id": "deluxe-harrison",
   "metadata": {},
   "outputs": [
    {
     "ename": "ValueError",
     "evalue": "I/O operation on closed file.",
     "output_type": "error",
     "traceback": [
      "\u001b[1;31m---------------------------------------------------------------------------\u001b[0m",
      "\u001b[1;31mValueError\u001b[0m                                Traceback (most recent call last)",
      "\u001b[1;32m<ipython-input-19-1602f8be0d07>\u001b[0m in \u001b[0;36m<module>\u001b[1;34m\u001b[0m\n\u001b[1;32m----> 1\u001b[1;33m \u001b[0mfn\u001b[0m\u001b[1;33m.\u001b[0m\u001b[0mseek\u001b[0m\u001b[1;33m(\u001b[0m\u001b[1;36m0\u001b[0m\u001b[1;33m)\u001b[0m\u001b[1;33m\u001b[0m\u001b[1;33m\u001b[0m\u001b[0m\n\u001b[0m\u001b[0;32m      2\u001b[0m \u001b[0mfn\u001b[0m\u001b[1;33m.\u001b[0m\u001b[0mread\u001b[0m\u001b[1;33m(\u001b[0m\u001b[1;33m)\u001b[0m\u001b[1;33m\u001b[0m\u001b[1;33m\u001b[0m\u001b[0m\n",
      "\u001b[1;32mc:\\users\\subhadeep banerjee\\appdata\\local\\programs\\python\\python38\\lib\\tempfile.py\u001b[0m in \u001b[0;36mfunc_wrapper\u001b[1;34m(*args, **kwargs)\u001b[0m\n\u001b[0;32m    471\u001b[0m             \u001b[1;33m@\u001b[0m\u001b[0m_functools\u001b[0m\u001b[1;33m.\u001b[0m\u001b[0mwraps\u001b[0m\u001b[1;33m(\u001b[0m\u001b[0mfunc\u001b[0m\u001b[1;33m)\u001b[0m\u001b[1;33m\u001b[0m\u001b[1;33m\u001b[0m\u001b[0m\n\u001b[0;32m    472\u001b[0m             \u001b[1;32mdef\u001b[0m \u001b[0mfunc_wrapper\u001b[0m\u001b[1;33m(\u001b[0m\u001b[1;33m*\u001b[0m\u001b[0margs\u001b[0m\u001b[1;33m,\u001b[0m \u001b[1;33m**\u001b[0m\u001b[0mkwargs\u001b[0m\u001b[1;33m)\u001b[0m\u001b[1;33m:\u001b[0m\u001b[1;33m\u001b[0m\u001b[1;33m\u001b[0m\u001b[0m\n\u001b[1;32m--> 473\u001b[1;33m                 \u001b[1;32mreturn\u001b[0m \u001b[0mfunc\u001b[0m\u001b[1;33m(\u001b[0m\u001b[1;33m*\u001b[0m\u001b[0margs\u001b[0m\u001b[1;33m,\u001b[0m \u001b[1;33m**\u001b[0m\u001b[0mkwargs\u001b[0m\u001b[1;33m)\u001b[0m\u001b[1;33m\u001b[0m\u001b[1;33m\u001b[0m\u001b[0m\n\u001b[0m\u001b[0;32m    474\u001b[0m             \u001b[1;31m# Avoid closing the file as long as the wrapper is alive,\u001b[0m\u001b[1;33m\u001b[0m\u001b[1;33m\u001b[0m\u001b[1;33m\u001b[0m\u001b[0m\n\u001b[0;32m    475\u001b[0m             \u001b[1;31m# see issue #18879.\u001b[0m\u001b[1;33m\u001b[0m\u001b[1;33m\u001b[0m\u001b[1;33m\u001b[0m\u001b[0m\n",
      "\u001b[1;31mValueError\u001b[0m: I/O operation on closed file."
     ]
    }
   ],
   "source": [
    "fn.seek(0)\n",
    "fn.read()"
   ]
  },
  {
   "cell_type": "code",
   "execution_count": 43,
   "id": "accurate-hypothesis",
   "metadata": {},
   "outputs": [
    {
     "data": {
      "text/plain": [
       "'\\nasnfasnd oiaa siod asj dp iasj dpas jps afds \\nndsfhnsafasnf   sd fds ds gsg sd as fas  asf asfas as dasd asd as das d as fas as\\n'"
      ]
     },
     "execution_count": 43,
     "metadata": {},
     "output_type": "execute_result"
    }
   ],
   "source": [
    "fs = tempfile.SpooledTemporaryFile(max_size=0, mode='w+')\n",
    "fs.write(\"\"\"\n",
    "asnfasnd oiaa siod asj dp iasj dpas jps afds \n",
    "ndsfhnsafasnf   sd fds ds gsg sd as fas  asf asfas as dasd asd as das d as fas as\n",
    "\"\"\"\n",
    ")\n",
    "fs.seek(0)\n",
    "fs.read()"
   ]
  },
  {
   "cell_type": "code",
   "execution_count": null,
   "id": "supreme-editing",
   "metadata": {},
   "outputs": [
    {
     "name": "stdout",
     "output_type": "stream",
     "text": [
      "Created temp directory C:\\Users\\SUBHAD~1\\AppData\\Local\\Temp\\tmp1cmm8gxk\n"
     ]
    }
   ],
   "source": [
    "import os\n",
    "with tempfile.TemporaryDirectory() as tmpdir:\n",
    "    os.chdir(tmpdir)\n",
    "    os.mkdir(\"test\")\n",
    "    print(\"Created temp directory\", tmpdir)"
   ]
  },
  {
   "cell_type": "code",
   "execution_count": null,
   "id": "approximate-wiring",
   "metadata": {},
   "outputs": [],
   "source": []
  }
 ],
 "metadata": {
  "kernelspec": {
   "display_name": "Python 3",
   "language": "python",
   "name": "python3"
  },
  "language_info": {
   "codemirror_mode": {
    "name": "ipython",
    "version": 3
   },
   "file_extension": ".py",
   "mimetype": "text/x-python",
   "name": "python",
   "nbconvert_exporter": "python",
   "pygments_lexer": "ipython3",
   "version": "3.8.7"
  }
 },
 "nbformat": 4,
 "nbformat_minor": 5
}
