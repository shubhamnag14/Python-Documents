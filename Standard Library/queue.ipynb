{
 "cells": [
  {
   "cell_type": "markdown",
   "id": "single-sandwich",
   "metadata": {},
   "source": [
    "The queue module implements multi-procedure, multi-consumer queues. It is especially useful in threaded programming when information must be exchanges safely between multiple thread. The queue class in this module implements all the required locking semantics\n",
    "\n",
    "The module implements three types of queue which differ only in the order in which the entries are retrieved. In a FIFO queue the first task added are the first retrieved. In a LIFO queue the most recently added entry is the first retrieved (Operating like a stack). With a priority queue te entries are kept sorted (using the heapq module) and the lowest values entry is retrieved first.\n",
    "\n",
    "Internally those three types of queues use locks to temporarily block competing threads; however they are not designed to handle reentrancy within a thread.\n",
    "\n",
    "In addition the module implements a \"simple\" FIFO queue type, SimpleQueue whose specific implementation provided additional guarantees in exchange for the smaller functionality."
   ]
  },
  {
   "cell_type": "markdown",
   "id": "earlier-general",
   "metadata": {},
   "source": [
    "## class queue.Queue(maxsize=0)"
   ]
  },
  {
   "cell_type": "code",
   "execution_count": null,
   "id": "sapphire-output",
   "metadata": {},
   "outputs": [],
   "source": [
    "import queue\n",
    "q = queue.Queue(maxsize=5)\n",
    "for i in range(11):\n",
    "    q.put(i)"
   ]
  },
  {
   "cell_type": "code",
   "execution_count": null,
   "id": "equal-increase",
   "metadata": {},
   "outputs": [],
   "source": []
  }
 ],
 "metadata": {
  "kernelspec": {
   "display_name": "Python 3",
   "language": "python",
   "name": "python3"
  },
  "language_info": {
   "codemirror_mode": {
    "name": "ipython",
    "version": 3
   },
   "file_extension": ".py",
   "mimetype": "text/x-python",
   "name": "python",
   "nbconvert_exporter": "python",
   "pygments_lexer": "ipython3",
   "version": "3.8.7"
  }
 },
 "nbformat": 4,
 "nbformat_minor": 5
}
