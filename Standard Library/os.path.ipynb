{
 "cells": [
  {
   "cell_type": "markdown",
   "metadata": {},
   "source": [
    "# os.path\n",
    "This module implements some useful functions on pathnames. To read or write see `open()`, and for accessing the filesystem see the os module. The path paramenters can be passed as either strings or bytes. Applications are encouraged to represent file names as (unicode) character strings. Unfortunetly some file names may not be representable as strings on unix. so applications that nees to support arbitary file names on UNIX should ise bytes objects to represent path names."
   ]
  },
  {
   "cell_type": "code",
   "execution_count": 1,
   "metadata": {},
   "outputs": [],
   "source": [
    "import os.path"
   ]
  },
  {
   "cell_type": "code",
   "execution_count": 2,
   "metadata": {},
   "outputs": [
    {
     "name": "stdout",
     "output_type": "stream",
     "text": [
      " Volume in drive C has no label.\n",
      " Volume Serial Number is 2E14-9502\n",
      "\n",
      " Directory of C:\\Users\\Subhadeep Banerjee\n",
      "\n",
      "22-12-2020  00:22    <DIR>          .\n",
      "22-12-2020  00:22    <DIR>          ..\n",
      "11-12-2020  19:05               793 .bash_history\n",
      "25-11-2020  16:51    <DIR>          .conda\n",
      "06-12-2020  01:13               345 .gitconfig\n",
      "22-12-2020  00:12    <DIR>          .ipynb_checkpoints\n",
      "23-11-2020  21:52    <DIR>          .ipython\n",
      "23-11-2020  21:53    <DIR>          .jupyter\n",
      "01-12-2020  16:53    <DIR>          .keras\n",
      "23-11-2020  21:52    <DIR>          .matplotlib\n",
      "21-12-2020  17:56    <DIR>          .pylint.d\n",
      "01-12-2020  16:56                70 .python_history\n",
      "28-11-2020  01:01    <DIR>          .ssh\n",
      "25-11-2020  00:29             7,411 .viminfo\n",
      "21-12-2020  22:17    <DIR>          .VirtualBox\n",
      "21-12-2020  18:12    <DIR>          .vscode-insiders\n",
      "24-11-2020  19:53    <DIR>          3D Objects\n",
      "24-11-2020  19:53    <DIR>          Contacts\n",
      "17-12-2020  03:12               696 debug.log\n",
      "21-12-2020  23:34    <DIR>          Desktop\n",
      "09-12-2020  14:05    <DIR>          Documents\n",
      "21-12-2020  18:11    <DIR>          Downloads\n",
      "24-11-2020  19:53    <DIR>          Favorites\n",
      "25-11-2020  19:32             5,688 jsonpy.ipynb\n",
      "24-11-2020  19:53    <DIR>          Links\n",
      "13-11-2020  20:51            54,966 logging.ipynb\n",
      "06-12-2020  01:13                55 mercurial.ini\n",
      "20-11-2020  20:08         7,492,106 MQTT.ipynb\n",
      "24-11-2020  19:53    <DIR>          Music\n",
      "21-12-2020  20:25    <DIR>          OneDrive\n",
      "22-12-2020  00:21             5,093 os.path.ipynb\n",
      "25-11-2020  02:51    <DIR>          Pictures\n",
      "05-09-2020  00:42            10,066 Python - Class 2 03-09-2020.ipynb\n",
      "11-09-2020  03:18             7,096 Python Class 3 10-09-2020.ipynb\n",
      "04-12-2020  23:52    <DIR>          Python Classes\n",
      "01-12-2020  22:13           146,862 Python Practice - Again.ipynb\n",
      "21-12-2020  01:50    <DIR>          Saanvi\n",
      "24-11-2020  19:53    <DIR>          Saved Games\n",
      "24-11-2020  19:53    <DIR>          Searches\n",
      "22-12-2020  00:22                19 test_file.txt\n",
      "21-12-2020  01:50    <DIR>          Ubuntu-Shared\n",
      "24-11-2020  19:53    <DIR>          Videos\n",
      "04-12-2020  12:47    <DIR>          VirtualBox VMs\n",
      "              14 File(s)      7,731,266 bytes\n",
      "              29 Dir(s)  328,364,625,920 bytes free\n"
     ]
    }
   ],
   "source": [
    "ls"
   ]
  },
  {
   "cell_type": "code",
   "execution_count": 5,
   "metadata": {},
   "outputs": [
    {
     "data": {
      "text/plain": [
       "'C:\\\\Users\\\\Subhadeep Banerjee\\\\test_file.txt'"
      ]
     },
     "execution_count": 5,
     "metadata": {},
     "output_type": "execute_result"
    }
   ],
   "source": [
    "# returns a normalized absolutized version of the pathname\n",
    "os.path.abspath('test_file.txt')"
   ]
  },
  {
   "cell_type": "code",
   "execution_count": 10,
   "metadata": {},
   "outputs": [
    {
     "name": "stdout",
     "output_type": "stream",
     "text": [
      "test_file.txt\n",
      "test_file.txt\n"
     ]
    }
   ],
   "source": [
    "# Returns the basename of the file\n",
    "print(os.path.basename('test_file.txt'))\n",
    "print(os.path.basename('C:\\\\Users\\\\Subhadeep Banerjee\\\\test_file.txt'))"
   ]
  },
  {
   "cell_type": "code",
   "execution_count": 11,
   "metadata": {},
   "outputs": [
    {
     "name": "stdout",
     "output_type": "stream",
     "text": [
      "Longest common sub-path: \\home\\User\n"
     ]
    }
   ],
   "source": [
    "# Returns the longest common sub-path of each pathname in the sequence\n",
    "paths = ['/home/User/Desktop', '/home/User/Documents',  \n",
    "         '/home/User/Downloads']\n",
    "prefix = os.path.commonpath(paths)\n",
    "print(f\"Longest common sub-path: {prefix}\")"
   ]
  },
  {
   "cell_type": "code",
   "execution_count": 13,
   "metadata": {},
   "outputs": [
    {
     "data": {
      "text/plain": [
       "'/home/User/D'"
      ]
     },
     "execution_count": 13,
     "metadata": {},
     "output_type": "execute_result"
    }
   ],
   "source": [
    "# Return the longest path prefix (taken character-by-character) that is the prefix of all paths in list\n",
    "os.path.commonprefix(paths)"
   ]
  },
  {
   "cell_type": "code",
   "execution_count": 15,
   "metadata": {},
   "outputs": [
    {
     "data": {
      "text/plain": [
       "'C:\\\\Users\\\\Subhadeep Banerjee'"
      ]
     },
     "execution_count": 15,
     "metadata": {},
     "output_type": "execute_result"
    }
   ],
   "source": [
    "# Returns the directory name of pathname path.\n",
    "os.path.dirname('C:\\\\Users\\\\Subhadeep Banerjee\\\\test_file.txt')"
   ]
  },
  {
   "cell_type": "code",
   "execution_count": 22,
   "metadata": {},
   "outputs": [
    {
     "data": {
      "text/plain": [
       "False"
      ]
     },
     "execution_count": 22,
     "metadata": {},
     "output_type": "execute_result"
    }
   ],
   "source": [
    "# Returns true is the file exists\n",
    "# But it returns false for broken symbolick link\n",
    "print(os.path.exists('test_file.txt'))\n",
    "print(os.path.exists('C:\\\\Users\\\\Subhadeep Banerjee\\\\asd'))"
   ]
  },
  {
   "cell_type": "code",
   "execution_count": 24,
   "metadata": {},
   "outputs": [
    {
     "name": "stdout",
     "output_type": "stream",
     "text": [
      "True\n",
      "True\n"
     ]
    }
   ],
   "source": [
    "# Returns True if the path exists and also True for broken symbolic link\n",
    "os.path\n",
    "path = 'C:\\\\Users\\\\Subhadeep Banerjee\\\\'\n",
    "pathExists = os.path.lexists(path)\n",
    "print(pathExists)\n",
    "\n",
    "\n",
    "print(os.path.lexists('C:\\\\Users\\\\Subhadeep Banerjee\\\\test_file.txt'))"
   ]
  },
  {
   "cell_type": "code",
   "execution_count": 27,
   "metadata": {},
   "outputs": [
    {
     "name": "stdout",
     "output_type": "stream",
     "text": [
      "/home/GeeksForGeeks/file.txt\n",
      "/home/GeeksForGeeks/Documents/file.txt\n"
     ]
    }
   ],
   "source": [
    "\"\"\"\n",
    "Return the argument with environment variables expanded. Substrings of the form $name or ${name} are replaced by the value of environment variable name. Malformed variable names and references to non-existing variables are left unchanged.\n",
    "\n",
    "On Windows, %name% expansions are supported in addition to $name and ${name}.\n",
    "\"\"\"\n",
    "path = \"$HOME/file.txt\"\n",
    "\n",
    "# Expand the environment variables \n",
    "# with their corresponding  \n",
    "# value in the given path  \n",
    "exp_var = os.path.expandvars(path)\n",
    "\n",
    "print(exp_var)\n",
    "\n",
    "os.environ[\"HOME\"] = \"/home/GeeksForGeeks\"\n",
    "\n",
    "path = \"$HOME/Documents/file.txt\"\n",
    "\n",
    "exp_var = os.path.expandvars(path)\n",
    "\n",
    "print(exp_var)"
   ]
  },
  {
   "cell_type": "code",
   "execution_count": 32,
   "metadata": {},
   "outputs": [
    {
     "name": "stdout",
     "output_type": "stream",
     "text": [
      "Last access time (Local Time): Tue Dec 22 00:22:35 2020\n"
     ]
    }
   ],
   "source": [
    "# Return the time of last access of path. The return value is a floating point number giving the number of seconds since the epoch\n",
    "import time\n",
    "access_time = os.path.getatime('test_file.txt')\n",
    "local_time = time.ctime(access_time)\n",
    "print(f\"Last access time (Local Time): {local_time}\")"
   ]
  },
  {
   "cell_type": "code",
   "execution_count": 34,
   "metadata": {},
   "outputs": [
    {
     "data": {
      "text/plain": [
       "'Tue Dec 22 00:22:35 2020'"
      ]
     },
     "execution_count": 34,
     "metadata": {},
     "output_type": "execute_result"
    }
   ],
   "source": [
    "# Return the time of last modification of path. Return is same as the above one\n",
    "time.ctime(os.path.getmtime('test_file.txt'))"
   ]
  },
  {
   "cell_type": "code",
   "execution_count": 36,
   "metadata": {},
   "outputs": [
    {
     "data": {
      "text/plain": [
       "'Tue Dec 22 00:22:23 2020'"
      ]
     },
     "execution_count": 36,
     "metadata": {},
     "output_type": "execute_result"
    }
   ],
   "source": [
    "# Return the system's ctime which, on some systems is the time of the last metadata change, and, on others (like windows), is the creation time of path.\n",
    "# The return value is a number giving the number of seconds since the epoch.\n",
    "time.ctime(os.path.getctime('test_file.txt'))"
   ]
  },
  {
   "cell_type": "code",
   "execution_count": 37,
   "metadata": {},
   "outputs": [
    {
     "data": {
      "text/plain": [
       "19"
      ]
     },
     "execution_count": 37,
     "metadata": {},
     "output_type": "execute_result"
    }
   ],
   "source": [
    "# Returns the size in bytes pf path\n",
    "os.path.getsize('test_file.txt')"
   ]
  },
  {
   "cell_type": "code",
   "execution_count": 42,
   "metadata": {},
   "outputs": [
    {
     "name": "stdout",
     "output_type": "stream",
     "text": [
      "False\n",
      "True\n"
     ]
    }
   ],
   "source": [
    "# Returns true is it is the absolute path\n",
    "print(os.path.isabs('test_file.txt'))\n",
    "print(os.path.isabs('C:\\\\Users\\\\Subhadeep Banerjee\\\\test_file.txt'))"
   ]
  },
  {
   "cell_type": "code",
   "execution_count": 44,
   "metadata": {},
   "outputs": [
    {
     "data": {
      "text/plain": [
       "True"
      ]
     },
     "execution_count": 44,
     "metadata": {},
     "output_type": "execute_result"
    }
   ],
   "source": [
    "# Returns true if the path is an existing file\n",
    "os.path.isfile('C:\\\\Users\\\\Subhadeep Banerjee\\\\test_file.txt')"
   ]
  },
  {
   "cell_type": "code",
   "execution_count": 47,
   "metadata": {},
   "outputs": [
    {
     "name": "stdout",
     "output_type": "stream",
     "text": [
      "False\n",
      "True\n"
     ]
    }
   ],
   "source": [
    "# Returns true if the path is an existing directory\n",
    "print(os.path.isdir('C:\\\\Users\\\\Subhadeep Banerjee\\\\test_file.txt'))\n",
    "print(os.path.isdir('C:\\\\Users\\\\Subhadeep Banerjee'))"
   ]
  },
  {
   "cell_type": "code",
   "execution_count": 52,
   "metadata": {},
   "outputs": [
    {
     "name": "stdout",
     "output_type": "stream",
     "text": [
      "False\n",
      "False\n"
     ]
    }
   ],
   "source": [
    "# Return True if path refers to an existing directory entry that is a symbolic link.\n",
    "print(os.path.islink('C:\\\\Users\\\\Subhadeep Banerjee\\\\test_file.txt'))\n",
    "print(os.path.islink('C:\\\\Users\\\\Subhadeep Banerjee\\\\test_file - Shortcut.txt'))"
   ]
  },
  {
   "cell_type": "code",
   "execution_count": 53,
   "metadata": {},
   "outputs": [
    {
     "data": {
      "text/plain": [
       "False"
      ]
     },
     "execution_count": 53,
     "metadata": {},
     "output_type": "execute_result"
    }
   ],
   "source": [
    "path = 'C:\\\\Users\\\\Subhadeep Banerjee\\\\'\n",
    "os.path.ismount(path)"
   ]
  },
  {
   "cell_type": "code",
   "execution_count": 61,
   "metadata": {},
   "outputs": [
    {
     "name": "stdout",
     "output_type": "stream",
     "text": [
      "C:\\Users\\Subhadeep Banerjee\\test_file.txt\n",
      "This is a test file\n"
     ]
    }
   ],
   "source": [
    "drive = \"C:\\\\Users\\\\\"\n",
    "folder = \"Subhadeep Banerjee\\\\\"\n",
    "file = \"test_file.txt\"\n",
    "\n",
    "if (os.path.exists(os.path.join(drive, folder, file))):\n",
    "    print(os.path.join(drive, folder, file))\n",
    "    if os.path.isfile(os.path.join(drive, folder, file)):\n",
    "        with open (file, 'r') as fp:\n",
    "            print(fp.readline())"
   ]
  },
  {
   "cell_type": "code",
   "execution_count": 66,
   "metadata": {},
   "outputs": [
    {
     "name": "stdout",
     "output_type": "stream",
     "text": [
      "c:\\user\\admin\\documents\n",
      "\\home\\user\\\n"
     ]
    }
   ],
   "source": [
    "# Normalize the case of a pathname \n",
    "path = r\"C:\\User\\admin\\Documents\"\n",
    "norm_path = os.path.normcase(path)\n",
    "print(norm_path)\n",
    "\n",
    "path = '/hoMe/UseR/'\n",
    "print(os.path.normcase(path))"
   ]
  },
  {
   "cell_type": "code",
   "execution_count": 69,
   "metadata": {},
   "outputs": [
    {
     "name": "stdout",
     "output_type": "stream",
     "text": [
      "\\home\\user\\alabal\\Documnets\n",
      "\\home\\Documents\n"
     ]
    }
   ],
   "source": [
    "# Normalize a pathname by collapsing reduntant seperators and up-level reference so that A//B, A/B, A/.B and A/foo/../B all become A/B\n",
    "path = '/home//user/alabal\\\\/Documnets'\n",
    "# Normalize the specified path \n",
    "# using os.path.normpath() method \n",
    "norm_path = os.path.normpath(path) \n",
    "  \n",
    "# Print the normalized path   \n",
    "print(norm_path) \n",
    "  \n",
    "# Path \n",
    "path = '/home/./Documents'\n",
    "  \n",
    "  \n",
    "# Normalize the specified path \n",
    "# using os.path.normpath() method \n",
    "norm_path = os.path.normpath(path) \n",
    "  \n",
    "# Print the normalized path   \n",
    "print(norm_path) \n",
    "  \n",
    "# Path \n",
    "path = '/home/user/temp/../Documents'"
   ]
  },
  {
   "cell_type": "code",
   "execution_count": 70,
   "metadata": {},
   "outputs": [
    {
     "name": "stdout",
     "output_type": "stream",
     "text": [
      "C:\\home \\ ihritik \\ Desktop \\ file(shortcut).txt\n",
      "C:\\GeeksForGeeks \\ sample.py\n",
      "C:\\Users\\Subhadeep Banerjee\\file.txt\n"
     ]
    }
   ],
   "source": [
    "# Return the canonical path of the specified filename, eliminating any symbolic links encountered in the path (if they are supported by the operating system).\n",
    "path = \"/home / ihritik / Desktop / file(shortcut).txt\"  \n",
    "# Get the canonical path \n",
    "# of the specified path \n",
    "# by eliminating any symbolic links \n",
    "# encountered in the path \n",
    "\n",
    "print(os.path.realpath(path))\n",
    "\n",
    "path = \"/../../GeeksForGeeks / sample.py\"\n",
    "  \n",
    "print(os.path.realpath(path)) \n",
    "  \n",
    "# Path \n",
    "path = \"file.txt\"\n",
    "  \n",
    "print(os.path.realpath(path))"
   ]
  },
  {
   "cell_type": "code",
   "execution_count": 73,
   "metadata": {},
   "outputs": [
    {
     "name": "stdout",
     "output_type": "stream",
     "text": [
      "..\\ User \\ Desktop \\ file.txt\n"
     ]
    }
   ],
   "source": [
    "# relpath returns a revative filepath to a path eother from the current directory or from an optional start\n",
    "path = \"/home / User / Desktop / file.txt\"\n",
    "  \n",
    "# Path of Start directory \n",
    "start = \"/home / User\"\n",
    "  \n",
    "# Compute the relative file path \n",
    "# to the given path from the  \n",
    "# the given start directory. \n",
    "relative_path = os.path.relpath(path, start) \n",
    "  \n",
    "# Print the relative file path \n",
    "# to the given path from the  \n",
    "# the given start directory. \n",
    "print(relative_path) "
   ]
  },
  {
   "cell_type": "code",
   "execution_count": 81,
   "metadata": {},
   "outputs": [
    {
     "ename": "SyntaxError",
     "evalue": "(unicode error) 'unicodeescape' codec can't decode bytes in position 2-3: truncated \\UXXXXXXXX escape (<ipython-input-81-7e1831092a96>, line 17)",
     "output_type": "error",
     "traceback": [
      "\u001b[1;36m  File \u001b[1;32m\"<ipython-input-81-7e1831092a96>\"\u001b[1;36m, line \u001b[1;32m17\u001b[0m\n\u001b[1;33m    doc = 'C:\\Users\\Subhadeep Banerjee\\test_file - Shortcut.txt'\u001b[0m\n\u001b[1;37m                                                                ^\u001b[0m\n\u001b[1;31mSyntaxError\u001b[0m\u001b[1;31m:\u001b[0m (unicode error) 'unicodeescape' codec can't decode bytes in position 2-3: truncated \\UXXXXXXXX escape\n"
     ]
    }
   ],
   "source": [
    "# Return True if both pathname arguments refers to the same file or directory\n",
    "\n",
    "path1 = \"/home / ihritik / Documents / file(original).txt\"\n",
    "  \n",
    "# Create a symbolic link  \n",
    "sym_link = \"/home / ihritik / Desktop / file(shortcut).txt\"\n",
    "  \n",
    "# Check whether the given \n",
    "# paths refer to the same \n",
    "# file or directory or not \n",
    "areSame = os.path.samefile(path1, sym_link) \n",
    "  \n",
    "# Print the result \n",
    "print(areSame)\n",
    "\n",
    "\n",
    "doc = 'C:\\Users\\Subhadeep Banerjee\\test_file - Shortcut.txt'\n",
    "desk = 'C:\\Users\\Subhadeep Banerjee\\Desktop\\test_file - Shortcut.txt'\n",
    "os.path.isfile('C:\\Users\\Subhadeep Banerjee\\Desktop\\test_file - Shortcut.txt')"
   ]
  },
  {
   "cell_type": "code",
   "execution_count": 83,
   "metadata": {},
   "outputs": [
    {
     "name": "stdout",
     "output_type": "stream",
     "text": [
      "True\n"
     ]
    }
   ],
   "source": [
    "# Returns True is the file descriptors fp1 and fp2 refer to the same file\n",
    "path = 'C:\\\\Users\\\\Subhadeep Banerjee\\\\test_file.txt'\n",
    "fd1 = os.open(path, os.O_RDONLY)\n",
    "File = open(path, mode = 'r')\n",
    "fd2 = File.fileno()\n",
    "sameFile = os.path.sameopenfile(fd1, fd2) \n",
    "print(sameFile)"
   ]
  },
  {
   "cell_type": "code",
   "execution_count": 84,
   "metadata": {},
   "outputs": [
    {
     "ename": "FileNotFoundError",
     "evalue": "[WinError 3] The system cannot find the path specified: '/home / ihritik / Desktop / file.txt'",
     "output_type": "error",
     "traceback": [
      "\u001b[1;31m---------------------------------------------------------------------------\u001b[0m",
      "\u001b[1;31mFileNotFoundError\u001b[0m                         Traceback (most recent call last)",
      "\u001b[1;32m<ipython-input-84-40571574662d>\u001b[0m in \u001b[0;36m<module>\u001b[1;34m\u001b[0m\n\u001b[0;32m      4\u001b[0m \u001b[1;31m# the given path\u001b[0m\u001b[1;33m\u001b[0m\u001b[1;33m\u001b[0m\u001b[1;33m\u001b[0m\u001b[0m\n\u001b[0;32m      5\u001b[0m \u001b[1;31m# using os.stat() method\u001b[0m\u001b[1;33m\u001b[0m\u001b[1;33m\u001b[0m\u001b[1;33m\u001b[0m\u001b[0m\n\u001b[1;32m----> 6\u001b[1;33m \u001b[0mstat1\u001b[0m \u001b[1;33m=\u001b[0m \u001b[0mos\u001b[0m\u001b[1;33m.\u001b[0m\u001b[0mstat\u001b[0m\u001b[1;33m(\u001b[0m\u001b[0mpath1\u001b[0m\u001b[1;33m)\u001b[0m\u001b[1;33m\u001b[0m\u001b[1;33m\u001b[0m\u001b[0m\n\u001b[0m\u001b[0;32m      7\u001b[0m \u001b[1;33m\u001b[0m\u001b[0m\n\u001b[0;32m      8\u001b[0m \u001b[1;31m# Path\u001b[0m\u001b[1;33m\u001b[0m\u001b[1;33m\u001b[0m\u001b[1;33m\u001b[0m\u001b[0m\n",
      "\u001b[1;31mFileNotFoundError\u001b[0m: [WinError 3] The system cannot find the path specified: '/home / ihritik / Desktop / file.txt'"
     ]
    }
   ],
   "source": [
    "path1 = \"/home / ihritik / Desktop / file.txt\"\n",
    "  \n",
    "# Get the status of \n",
    "# the given path \n",
    "# using os.stat() method \n",
    "stat1 = os.stat(path1) \n",
    "  \n",
    "# Path \n",
    "path1 = \"/home / ihritik / Desktop / file.txt\"\n",
    "  \n",
    "# open the file and get \n",
    "# the file descriptor associated \n",
    "# with it  \n",
    "fd = os.open(path1, os.O_RDONLY) \n",
    "   \n",
    "# Get the status of the \n",
    "# file assciated with the \n",
    "# file descriptor fd \n",
    "# using os.fstat() method \n",
    "stat2 = os.fstat(fd) \n",
    "  \n",
    "# Check whether the \n",
    "# stat1 and stat2 refer \n",
    "# to the same file \n",
    "sameFile = os.path.samestat(stat1, stat2) \n",
    "  \n",
    "# Print the result \n",
    "print(sameFile)"
   ]
  },
  {
   "cell_type": "code",
   "execution_count": 89,
   "metadata": {},
   "outputs": [
    {
     "name": "stdout",
     "output_type": "stream",
     "text": [
      "C:\\Users\\Subhadeep Banerjee\n",
      "test_file.txt\n"
     ]
    }
   ],
   "source": [
    "# Split the pathname into a pair (head, tail) where tail is the lat\n",
    "path = 'C:\\\\Users\\\\Subhadeep Banerjee\\\\test_file.txt'\n",
    "head_tail = os.path.split(path)\n",
    "print(head_tail[0]) \n",
    "print(head_tail[1]) "
   ]
  },
  {
   "cell_type": "code",
   "execution_count": 93,
   "metadata": {},
   "outputs": [
    {
     "name": "stdout",
     "output_type": "stream",
     "text": [
      "C:\n",
      "\\Users\\Subhadeep Banerjee\\test_file.txt\n"
     ]
    }
   ],
   "source": [
    "# Split the pathname into a pair (drive, tail) where drive is either a mount point or the empty string\n",
    "path = 'C:\\\\Users\\\\Subhadeep Banerjee\\\\test_file.txt'\n",
    "head_tail = os.path.splitdrive(path)\n",
    "print(head_tail[0]) \n",
    "print(head_tail[1]) "
   ]
  },
  {
   "cell_type": "code",
   "execution_count": 94,
   "metadata": {},
   "outputs": [
    {
     "name": "stdout",
     "output_type": "stream",
     "text": [
      "C:\\Users\\Subhadeep Banerjee\\test_file\n",
      ".txt\n"
     ]
    }
   ],
   "source": [
    "# Split the pathname path into a pair (root, ext) such that root + ext == path, and ext is empty or begins with a period and contains at most one period. Leading periods on the basename are ignored; splitext('.cshrc') returns ('.cshrc', '')\n",
    "path = 'C:\\\\Users\\\\Subhadeep Banerjee\\\\test_file.txt'\n",
    "head_tail = os.path.splitext(path)\n",
    "print(head_tail[0]) \n",
    "print(head_tail[1]) "
   ]
  },
  {
   "cell_type": "code",
   "execution_count": 96,
   "metadata": {},
   "outputs": [
    {
     "data": {
      "text/plain": [
       "True"
      ]
     },
     "execution_count": 96,
     "metadata": {},
     "output_type": "execute_result"
    }
   ],
   "source": [
    "# True if arbitrary Unicode strings can be used as file names (within limitations imposed by the file system).\n",
    "os.path.supports_unicode_filenames"
   ]
  },
  {
   "cell_type": "code",
   "execution_count": 97,
   "metadata": {},
   "outputs": [
    {
     "data": {
      "text/plain": [
       "'C:\\\\Users\\\\Subhadeep Banerjee\\\\Desktop'"
      ]
     },
     "execution_count": 97,
     "metadata": {},
     "output_type": "execute_result"
    }
   ],
   "source": [
    "os.path.abspath('Desktop')"
   ]
  },
  {
   "cell_type": "code",
   "execution_count": 6,
   "metadata": {},
   "outputs": [],
   "source": [
    "def dataEntry():\n",
    "    data_dir = {\n",
    "            \"First Name\": 'self.first',\n",
    "            \"Last Name\": 'self.last',\n",
    "            \"Age\": 'self.age'\n",
    "        }\n",
    "    return str(data_dir)"
   ]
  },
  {
   "cell_type": "code",
   "execution_count": 8,
   "metadata": {},
   "outputs": [
    {
     "data": {
      "text/plain": [
       "str"
      ]
     },
     "execution_count": 8,
     "metadata": {},
     "output_type": "execute_result"
    }
   ],
   "source": [
    "type(dataEntry())"
   ]
  },
  {
   "cell_type": "code",
   "execution_count": null,
   "metadata": {},
   "outputs": [],
   "source": []
  }
 ],
 "metadata": {
  "kernelspec": {
   "display_name": "Python 3",
   "language": "python",
   "name": "python3"
  },
  "language_info": {
   "codemirror_mode": {
    "name": "ipython",
    "version": 3
   },
   "file_extension": ".py",
   "mimetype": "text/x-python",
   "name": "python",
   "nbconvert_exporter": "python",
   "pygments_lexer": "ipython3",
   "version": "3.9.0"
  }
 },
 "nbformat": 4,
 "nbformat_minor": 4
}
