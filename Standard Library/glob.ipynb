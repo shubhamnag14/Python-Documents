{
 "cells": [
  {
   "cell_type": "markdown",
   "metadata": {},
   "source": [
    "The `glob` module finds all the pathnames matching a specified pattern accodring to the rules used by the Unix shell, although results are returned in arbitary order. No tilde expansion is done, but `*`, `?`, and character ranges expressed with `[]` will be correctly matched"
   ]
  },
  {
   "cell_type": "code",
   "execution_count": 10,
   "metadata": {},
   "outputs": [],
   "source": [
    "import glob\n",
    "import os\n",
    "path = f\"C:\\\\Users\\\\{os.getlogin()}\\\\\""
   ]
  },
  {
   "cell_type": "code",
   "execution_count": 5,
   "metadata": {},
   "outputs": [
    {
     "data": {
      "text/plain": [
       "['glob.ipynb',\n",
       " 'jsonpy.ipynb',\n",
       " 'logging.ipynb',\n",
       " 'MQTT.ipynb',\n",
       " 'os.path.ipynb',\n",
       " 'Python - Class 2 03-09-2020.ipynb',\n",
       " 'Python Class 3 10-09-2020.ipynb',\n",
       " 'Python Practice - Again.ipynb']"
      ]
     },
     "execution_count": 5,
     "metadata": {},
     "output_type": "execute_result"
    }
   ],
   "source": [
    "glob.glob('*.ipynb')"
   ]
  },
  {
   "cell_type": "code",
   "execution_count": 23,
   "metadata": {},
   "outputs": [
    {
     "name": "stdout",
     "output_type": "stream",
     "text": [
      "Enter the folder nameDesktop\\\\Python-Documents\n"
     ]
    },
    {
     "data": {
      "text/plain": [
       "['1 - Python Built-In Function.ipynb',\n",
       " '2 - Python Built-in Constants.ipynb',\n",
       " '3 - Python Built-in Types.ipynb',\n",
       " '4 Built-in Exceptions.ipynb',\n",
       " 'Advanced Python Concepts.ipynb',\n",
       " 'Contextmanager.ipynb',\n",
       " 'Decorators, HOF, FCF, Closures.ipynb',\n",
       " 'File IO.ipynb',\n",
       " 'Generators.ipynb',\n",
       " 'Iterators.ipynb',\n",
       " 'Map - Lambda - Reduce - Filter - Accumulate.ipynb']"
      ]
     },
     "execution_count": 23,
     "metadata": {},
     "output_type": "execute_result"
    }
   ],
   "source": [
    "# Return a possibly-empty list of path names that match pathname, which must be a string containing a path specification\n",
    "folder = input(\"Enter the folder name\")\n",
    "fullpath = path+folder\n",
    "os.chdir(fullpath)\n",
    "glob.glob('*.ipynb')"
   ]
  },
  {
   "cell_type": "code",
   "execution_count": 22,
   "metadata": {},
   "outputs": [
    {
     "name": "stdout",
     "output_type": "stream",
     "text": [
      "Enter the folder name\n",
      "glob.ipynb\n",
      "jsonpy.ipynb\n",
      "logging.ipynb\n",
      "MQTT.ipynb\n",
      "os.path.ipynb\n",
      "Python - Class 2 03-09-2020.ipynb\n",
      "Python Class 3 10-09-2020.ipynb\n",
      "Python Practice - Again.ipynb\n"
     ]
    }
   ],
   "source": [
    "# Return an iterator which yields the same values as glob() without actually storing them all simultaneously.\n",
    "folder = input(\"Enter the folder name\")\n",
    "fullpath = path+folder\n",
    "os.chdir(fullpath)\n",
    "for i in glob.iglob('*.ipynb'):\n",
    "    print(i)"
   ]
  },
  {
   "cell_type": "code",
   "execution_count": 28,
   "metadata": {},
   "outputs": [
    {
     "data": {
      "text/plain": [
       "['1 - Python Built-In Function.ipynb',\n",
       " '2 - Python Built-in Constants.ipynb',\n",
       " '3 - Python Built-in Types.ipynb',\n",
       " '4 Built-in Exceptions.ipynb']"
      ]
     },
     "execution_count": 28,
     "metadata": {},
     "output_type": "execute_result"
    }
   ],
   "source": [
    "glob.glob('[0-9]*.ipynb')"
   ]
  },
  {
   "cell_type": "code",
   "execution_count": 29,
   "metadata": {},
   "outputs": [
    {
     "data": {
      "text/plain": [
       "'C:\\\\Users\\\\Subhadeep Banerjee\\\\Desktop\\\\Python-Documents'"
      ]
     },
     "execution_count": 29,
     "metadata": {},
     "output_type": "execute_result"
    }
   ],
   "source": [
    "pwd"
   ]
  },
  {
   "cell_type": "code",
   "execution_count": 30,
   "metadata": {},
   "outputs": [
    {
     "data": {
      "text/plain": [
       "['TODO.txt']"
      ]
     },
     "execution_count": 30,
     "metadata": {},
     "output_type": "execute_result"
    }
   ],
   "source": [
    "glob.glob('*.txt')"
   ]
  },
  {
   "cell_type": "code",
   "execution_count": null,
   "metadata": {},
   "outputs": [],
   "source": []
  },
  {
   "cell_type": "code",
   "execution_count": 32,
   "metadata": {},
   "outputs": [
    {
     "name": "stdout",
     "output_type": "stream",
     "text": [
      "https://docs.python.org/3/library/glob.html\n",
      "https://docs.python.org/3/library/linecache.html\n"
     ]
    }
   ],
   "source": [
    "with open ('TODO.txt', 'r') as f:\n",
    "    print(f.read())"
   ]
  },
  {
   "cell_type": "code",
   "execution_count": 34,
   "metadata": {},
   "outputs": [
    {
     "data": {
      "text/plain": [
       "['1 - Python Built-In Function.ipynb',\n",
       " '2 - Python Built-in Constants.ipynb',\n",
       " '3 - Python Built-in Types.ipynb',\n",
       " '4 Built-in Exceptions.ipynb',\n",
       " 'Advanced Python Concepts.ipynb',\n",
       " 'Contextmanager.ipynb',\n",
       " 'Decorators, HOF, FCF, Closures.ipynb',\n",
       " 'File IO.ipynb',\n",
       " 'Generators.ipynb',\n",
       " 'Iterators.ipynb',\n",
       " 'Map - Lambda - Reduce - Filter - Accumulate.ipynb']"
      ]
     },
     "execution_count": 34,
     "metadata": {},
     "output_type": "execute_result"
    }
   ],
   "source": [
    "glob.glob('*.ipynb')"
   ]
  },
  {
   "cell_type": "code",
   "execution_count": 35,
   "metadata": {},
   "outputs": [
    {
     "data": {
      "text/plain": [
       "[]"
      ]
     },
     "execution_count": 35,
     "metadata": {},
     "output_type": "execute_result"
    }
   ],
   "source": [
    "glob.glob('?.ipynb')"
   ]
  },
  {
   "cell_type": "code",
   "execution_count": 41,
   "metadata": {},
   "outputs": [
    {
     "data": {
      "text/plain": [
       "['1 - Python Built-In Function.ipynb',\n",
       " '2 - Python Built-in Constants.ipynb',\n",
       " '3 - Python Built-in Types.ipynb',\n",
       " '4 Built-in Exceptions.ipynb',\n",
       " 'Advanced Python Concepts.ipynb',\n",
       " 'Contextmanager.ipynb',\n",
       " 'Decorators, HOF, FCF, Closures.ipynb',\n",
       " 'File IO.ipynb',\n",
       " 'Generators.ipynb',\n",
       " 'Iterators.ipynb',\n",
       " 'Map - Lambda - Reduce - Filter - Accumulate.ipynb']"
      ]
     },
     "execution_count": 41,
     "metadata": {},
     "output_type": "execute_result"
    }
   ],
   "source": [
    "glob.glob('?*.ipynb')"
   ]
  },
  {
   "cell_type": "code",
   "execution_count": 42,
   "metadata": {},
   "outputs": [
    {
     "data": {
      "text/plain": [
       "['TODO.txt', 'testpkg\\\\LICENSE.txt']"
      ]
     },
     "execution_count": 42,
     "metadata": {},
     "output_type": "execute_result"
    }
   ],
   "source": [
    "glob.glob('**/*.txt', recursive=True)"
   ]
  },
  {
   "cell_type": "code",
   "execution_count": 43,
   "metadata": {},
   "outputs": [
    {
     "data": {
      "text/plain": [
       "['.\\\\',\n",
       " '.\\\\Demo-Pratice\\\\',\n",
       " '.\\\\SQLite - Pratice\\\\',\n",
       " '.\\\\SQLite - Pratice\\\\codemy\\\\',\n",
       " '.\\\\SQLite - Pratice\\\\corey schafer\\\\',\n",
       " '.\\\\SQLite - Pratice\\\\__pycache__\\\\',\n",
       " '.\\\\testpkg\\\\',\n",
       " '.\\\\testpkg\\\\dist\\\\',\n",
       " '.\\\\testpkg\\\\testpkg\\\\']"
      ]
     },
     "execution_count": 43,
     "metadata": {},
     "output_type": "execute_result"
    }
   ],
   "source": [
    "glob.glob('./**/', recursive=True)"
   ]
  },
  {
   "cell_type": "code",
   "execution_count": null,
   "metadata": {},
   "outputs": [],
   "source": []
  }
 ],
 "metadata": {
  "kernelspec": {
   "display_name": "Python 3",
   "language": "python",
   "name": "python3"
  },
  "language_info": {
   "codemirror_mode": {
    "name": "ipython",
    "version": 3
   },
   "file_extension": ".py",
   "mimetype": "text/x-python",
   "name": "python",
   "nbconvert_exporter": "python",
   "pygments_lexer": "ipython3",
   "version": "3.9.0"
  }
 },
 "nbformat": 4,
 "nbformat_minor": 4
}
