{
 "cells": [
  {
   "cell_type": "code",
   "execution_count": 1,
   "id": "upper-jamaica",
   "metadata": {},
   "outputs": [],
   "source": [
    "import getpass"
   ]
  },
  {
   "cell_type": "code",
   "execution_count": 5,
   "id": "hourly-orlando",
   "metadata": {},
   "outputs": [
    {
     "name": "stdout",
     "output_type": "stream",
     "text": [
      "Enter Your Password: ········\n",
      "iammatrix\n"
     ]
    }
   ],
   "source": [
    "a = getpass.getpass(prompt = 'Enter Your Password: ', stream = None)\n",
    "print(a)"
   ]
  },
  {
   "cell_type": "code",
   "execution_count": 7,
   "id": "aerial-blame",
   "metadata": {},
   "outputs": [
    {
     "name": "stdout",
     "output_type": "stream",
     "text": [
      "Subhadeep Banerjee\n"
     ]
    }
   ],
   "source": [
    "username = getpass.getuser()\n",
    "print(username)"
   ]
  },
  {
   "cell_type": "code",
   "execution_count": 8,
   "id": "introductory-norfolk",
   "metadata": {},
   "outputs": [
    {
     "name": "stdout",
     "output_type": "stream",
     "text": [
      "Subhadeep Banerjee\n"
     ]
    }
   ],
   "source": [
    "import os\n",
    "print(os.getlogin())"
   ]
  },
  {
   "cell_type": "code",
   "execution_count": 9,
   "id": "labeled-cathedral",
   "metadata": {},
   "outputs": [
    {
     "data": {
      "text/plain": [
       "'Subhadeep Banerjee'"
      ]
     },
     "execution_count": 9,
     "metadata": {},
     "output_type": "execute_result"
    }
   ],
   "source": [
    "os.environ.get('USERNAME')"
   ]
  },
  {
   "cell_type": "code",
   "execution_count": 10,
   "id": "textile-governor",
   "metadata": {},
   "outputs": [
    {
     "data": {
      "text/plain": [
       "'Subhadeep Banerjee'"
      ]
     },
     "execution_count": 10,
     "metadata": {},
     "output_type": "execute_result"
    }
   ],
   "source": [
    "os.getenv('USERNAME')"
   ]
  },
  {
   "cell_type": "code",
   "execution_count": null,
   "id": "nominated-value",
   "metadata": {},
   "outputs": [],
   "source": []
  }
 ],
 "metadata": {
  "kernelspec": {
   "display_name": "Python 3",
   "language": "python",
   "name": "python3"
  },
  "language_info": {
   "codemirror_mode": {
    "name": "ipython",
    "version": 3
   },
   "file_extension": ".py",
   "mimetype": "text/x-python",
   "name": "python",
   "nbconvert_exporter": "python",
   "pygments_lexer": "ipython3",
   "version": "3.8.7"
  }
 },
 "nbformat": 4,
 "nbformat_minor": 5
}
