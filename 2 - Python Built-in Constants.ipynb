{
 "cells": [
  {
   "cell_type": "markdown",
   "metadata": {},
   "source": [
    "## False"
   ]
  },
  {
   "cell_type": "markdown",
   "metadata": {},
   "source": [
    "The false value of the bool type. Assignments to False are illegal and raise a SyntaxError."
   ]
  },
  {
   "cell_type": "markdown",
   "metadata": {},
   "source": [
    "## True\n",
    "The true value of the bool type. Assignments to True are illegal and raise a SyntaxError."
   ]
  },
  {
   "cell_type": "markdown",
   "metadata": {},
   "source": [
    "## None\n",
    "The sole value of the type NoneType. None is frequently used to represent the absence of a value, as when default arguments are not passed to a function. Assignments to None are illegal and raise a SyntaxError."
   ]
  },
  {
   "cell_type": "markdown",
   "metadata": {},
   "source": [
    "## NotImplemented\n",
    "Special value which should be returned by the binary special methods (e.g. __eq__(), __lt__(), __add__(), __rsub__(), etc.) to indicate that the operation is not implemented with respect to the other type; may be returned by the in-place binary special methods (e.g. __imul__(), __iand__(), etc.) for the same purpose. It should not be evaluated in a boolean context."
   ]
  },
  {
   "cell_type": "markdown",
   "metadata": {},
   "source": [
    "## Ellipsis\n",
    "The same as the ellipsis literal “...”. Special value used mostly in conjunction with extended slicing syntax for user-defined container data types."
   ]
  },
  {
   "cell_type": "markdown",
   "metadata": {},
   "source": [
    "## __debug__\n",
    "This constant is true if Python was not started with an -O option. See also the assert statement."
   ]
  },
  {
   "cell_type": "code",
   "execution_count": null,
   "metadata": {},
   "outputs": [],
   "source": []
  }
 ],
 "metadata": {
  "kernelspec": {
   "display_name": "Python 3",
   "language": "python",
   "name": "python3"
  },
  "language_info": {
   "codemirror_mode": {
    "name": "ipython",
    "version": 3
   },
   "file_extension": ".py",
   "mimetype": "text/x-python",
   "name": "python",
   "nbconvert_exporter": "python",
   "pygments_lexer": "ipython3",
   "version": "3.8.5"
  }
 },
 "nbformat": 4,
 "nbformat_minor": 4
}
