{
 "cells": [
  {
   "cell_type": "code",
   "execution_count": 2,
   "metadata": {},
   "outputs": [
    {
     "ename": "UnsupportedOperation",
     "evalue": "not writable",
     "output_type": "error",
     "traceback": [
      "\u001b[1;31m---------------------------------------------------------------------------\u001b[0m",
      "\u001b[1;31mUnsupportedOperation\u001b[0m                      Traceback (most recent call last)",
      "\u001b[1;32m<ipython-input-2-e364745985b5>\u001b[0m in \u001b[0;36m<module>\u001b[1;34m\u001b[0m\n\u001b[0;32m      1\u001b[0m \u001b[0mfile\u001b[0m \u001b[1;33m=\u001b[0m \u001b[0mopen\u001b[0m\u001b[1;33m(\u001b[0m\u001b[1;34m\"TODO.txt\"\u001b[0m\u001b[1;33m,\u001b[0m \u001b[1;34m'r'\u001b[0m\u001b[1;33m)\u001b[0m\u001b[1;33m\u001b[0m\u001b[1;33m\u001b[0m\u001b[0m\n\u001b[0;32m      2\u001b[0m \u001b[1;32mtry\u001b[0m\u001b[1;33m:\u001b[0m\u001b[1;33m\u001b[0m\u001b[1;33m\u001b[0m\u001b[0m\n\u001b[1;32m----> 3\u001b[1;33m    \u001b[0mfile\u001b[0m\u001b[1;33m.\u001b[0m\u001b[0mwrite\u001b[0m\u001b[1;33m(\u001b[0m\u001b[1;34m\"Hello\"\u001b[0m\u001b[1;33m)\u001b[0m\u001b[1;33m\u001b[0m\u001b[1;33m\u001b[0m\u001b[0m\n\u001b[0m\u001b[0;32m      4\u001b[0m \u001b[1;32mfinally\u001b[0m\u001b[1;33m:\u001b[0m\u001b[1;33m\u001b[0m\u001b[1;33m\u001b[0m\u001b[0m\n\u001b[0;32m      5\u001b[0m    \u001b[0mfile\u001b[0m\u001b[1;33m.\u001b[0m\u001b[0mclose\u001b[0m\u001b[1;33m(\u001b[0m\u001b[1;33m)\u001b[0m\u001b[1;33m\u001b[0m\u001b[1;33m\u001b[0m\u001b[0m\n",
      "\u001b[1;31mUnsupportedOperation\u001b[0m: not writable"
     ]
    }
   ],
   "source": [
    " file = open(\"TODO.txt\", 'r')\n",
    "try:\n",
    "    file.write(\"Hello\")\n",
    "finally:\n",
    "    file.close()\n",
    "with open(\"TODO.txt\", 'r') as file:\n",
    "    file.write(\"Hello\")"
   ]
  },
  {
   "cell_type": "code",
   "execution_count": 12,
   "metadata": {},
   "outputs": [
    {
     "name": "stdout",
     "output_type": "stream",
     "text": [
      "Enter\n",
      "Middle\n",
      "<class 'Exception'>, , <traceback object at 0x0000019B5530AFC0>\n",
      "Exit\n"
     ]
    }
   ],
   "source": [
    "# Writing our own context manager\n",
    "\n",
    "class File:\n",
    "    def __init__(self, filename, method):\n",
    "        self.file = open(filename, method)\n",
    "        \n",
    "    # this fuc return some value that we use in the contextmanager\n",
    "    # in this case it is self.file\n",
    "    def __enter__(self):\n",
    "        print(\"Enter\")\n",
    "        return self.file\n",
    "    \n",
    "    def __exit__(self, type, value, traceback):\n",
    "        print(f\"{type}, {value}, {traceback}\")\n",
    "        print(\"Exit\")\n",
    "        self.file.close()\n",
    "        #By this we tell python that the exception has been handled properely\n",
    "        #we are good to go and we do not need to crash\n",
    "        return True \n",
    "\n",
    "with File(\"TODO.txt\", 'w') as f:\n",
    "    print(\"Middle\")\n",
    "    f.write(\"Hello\")\n",
    "    raise Exception()"
   ]
  },
  {
   "cell_type": "code",
   "execution_count": 23,
   "metadata": {},
   "outputs": [
    {
     "name": "stdout",
     "output_type": "stream",
     "text": [
      "Enter\n",
      "middle \n",
      "Exit\n"
     ]
    }
   ],
   "source": [
    "# Context manager with generators\n",
    "\n",
    "import contextlib\n",
    "\n",
    "@contextlib.contextmanager\n",
    "def file(filename, method):\n",
    "    print(\"Enter\")\n",
    "    file = open(filename, method)\n",
    "    yield file\n",
    "    file.close()\n",
    "    print(\"Exit\")\n",
    "    \n",
    "    \n",
    "with file('aaa.txt', 'r+') as f:\n",
    "    print(\"middle \")"
   ]
  },
  {
   "cell_type": "markdown",
   "metadata": {},
   "source": [
    "With context manager we can have shared memory, lock in threading or memory locks"
   ]
  },
  {
   "cell_type": "code",
   "execution_count": null,
   "metadata": {},
   "outputs": [],
   "source": []
  }
 ],
 "metadata": {
  "kernelspec": {
   "display_name": "Python 3",
   "language": "python",
   "name": "python3"
  },
  "language_info": {
   "codemirror_mode": {
    "name": "ipython",
    "version": 3
   },
   "file_extension": ".py",
   "mimetype": "text/x-python",
   "name": "python",
   "nbconvert_exporter": "python",
   "pygments_lexer": "ipython3",
   "version": "3.8.5"
  }
 },
 "nbformat": 4,
 "nbformat_minor": 4
}
